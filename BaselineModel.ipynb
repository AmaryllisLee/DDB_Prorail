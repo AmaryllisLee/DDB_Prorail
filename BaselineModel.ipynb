{
 "cells": [
  {
   "cell_type": "code",
   "execution_count": 15,
   "metadata": {},
   "outputs": [],
   "source": [
    "import pandas as pd\n",
    "import numpy as np\n",
    "from sklearn.metrics import mean_squared_error\n",
    "import matplotlib.pyplot as plt\n",
    "%matplotlib inline"
   ]
  },
  {
   "cell_type": "code",
   "execution_count": 2,
   "metadata": {},
   "outputs": [],
   "source": [
    "# de targetvariabele is de echte tijd tegenover de voorspelde tijd\n",
    "df = pd.read_csv('sap_storing_data_hu_project.csv', low_memory=False)"
   ]
  },
  {
   "cell_type": "code",
   "execution_count": 3,
   "metadata": {},
   "outputs": [],
   "source": [
    "df = df.drop(['stm_sap_mon_meld_ddt', 'stm_mon_begin_ddt', 'stm_mon_toelichting_trdl', 'stm_oh_pg_mld', \n",
    "         'stm_scenario_mon', 'stm_mon_nr_status_omschr', 'stm_mon_nr__statuscode', 'stm_mon_nr_status_wijzdd', \n",
    "         'stm_aanntpl_ddt', 'stm_objectdl_code_gst', 'stm_objectdl_groep_gst', 'stm_progfh_in_ddt', \n",
    "         'stm_progfh_in_invoer_ddt', 'stm_progfh_gw_ddt', 'stm_progfh_gw_lwd_ddt', 'stm_progfh_hz', \n",
    "         'stm_veroorz_groep', 'stm_veroorz_code', 'stm_veroorz_tekst_kort', 'stm_effect', 'stm_afspr_aanvangddt', \n",
    "         'stm_mon_eind_ddt', 'stm_mon_vhdsincident', 'stm_dir_betrok_tr', 'stm_aangelegd_dd', 'stm_aangelegd_tijd',\n",
    "         'stm_mon_begindatum', 'stm_mon_begintijd', 'stm_progfh_gw_datum', 'stm_mon_eind_datum',\n",
    "         'stm_mon_eind_tijd', 'stm_controle_dd', 'stm_akkoord_mon_toewijz', 'stm_status_sapnaarmon',\n",
    "         'stm_fact_jn', 'stm_akkoord_melding_jn', 'stm_afsluit_ddt', 'stm_afsluit_dd', 'stm_afsluit_tijd',\n",
    "         'stm_rec_toegev_ddt', 'stm_hinderwaarde', 'stm_actie', 'stm_standplaats', 'stm_status_gebr',\n",
    "         'stm_wbi_nummer', 'stm_projnr', 'stm_historie_toelichting', 'stm_schade_verhaalb_jn', 'stm_schadenr',\n",
    "         'stm_schade_status_ga', 'stm_schade_statusdatum', 'stm_relatiervo_vorig', 'stm_relatiervo_volgend',\n",
    "         'stm_relatiervo', 'stm_afspr_func_hersteldd', 'stm_afspr_func_hersteltijd', 'stm_sorteerveld',\n",
    "         'stm_rapportage_maand', 'stm_rapportage_jaar', 'stm_x_bron_publ_dt', 'stm_x_bron_bestandsnaam',\n",
    "         'stm_x_bron_arch_dt', 'stm_x_actueel_ind', 'stm_x_run_id', 'stm_x_bk', 'stm_x_start_sessie_dt',\n",
    "         'stm_x_vervallen_ind'], axis='columns')"
   ]
  },
  {
   "cell_type": "code",
   "execution_count": 4,
   "metadata": {},
   "outputs": [
    {
     "data": {
      "text/html": [
       "<div>\n",
       "<style scoped>\n",
       "    .dataframe tbody tr th:only-of-type {\n",
       "        vertical-align: middle;\n",
       "    }\n",
       "\n",
       "    .dataframe tbody tr th {\n",
       "        vertical-align: top;\n",
       "    }\n",
       "\n",
       "    .dataframe thead th {\n",
       "        text-align: right;\n",
       "    }\n",
       "</style>\n",
       "<table border=\"1\" class=\"dataframe\">\n",
       "  <thead>\n",
       "    <tr style=\"text-align: right;\">\n",
       "      <th></th>\n",
       "      <th>Unnamed: 0</th>\n",
       "      <th>#stm_sap_meldnr</th>\n",
       "      <th>stm_mon_nr</th>\n",
       "      <th>stm_vl_post</th>\n",
       "      <th>stm_sap_meld_ddt</th>\n",
       "      <th>stm_sap_meldtekst_lang</th>\n",
       "      <th>stm_sap_meldtekst</th>\n",
       "      <th>stm_geo_mld</th>\n",
       "      <th>stm_geo_mld_uit_functiepl</th>\n",
       "      <th>stm_equipm_nr_mld</th>\n",
       "      <th>...</th>\n",
       "      <th>stm_fh_tijd</th>\n",
       "      <th>stm_fh_duur</th>\n",
       "      <th>stm_reactie_duur</th>\n",
       "      <th>stm_sap_storeinddatum</th>\n",
       "      <th>stm_sap_storeindtijd</th>\n",
       "      <th>stm_oorz_tekst_kort</th>\n",
       "      <th>stm_pplg_van</th>\n",
       "      <th>stm_pplg_naar</th>\n",
       "      <th>stm_dstrglp_van</th>\n",
       "      <th>stm_dstrglp_naar</th>\n",
       "    </tr>\n",
       "  </thead>\n",
       "  <tbody>\n",
       "    <tr>\n",
       "      <th>0</th>\n",
       "      <td>0</td>\n",
       "      <td>0</td>\n",
       "      <td>NaN</td>\n",
       "      <td>NaN</td>\n",
       "      <td>NaN</td>\n",
       "      <td>NaN</td>\n",
       "      <td>NaN</td>\n",
       "      <td>NaN</td>\n",
       "      <td>NaN</td>\n",
       "      <td>NaN</td>\n",
       "      <td>...</td>\n",
       "      <td>NaN</td>\n",
       "      <td>NaN</td>\n",
       "      <td>NaN</td>\n",
       "      <td>NaN</td>\n",
       "      <td>NaN</td>\n",
       "      <td>NaN</td>\n",
       "      <td>NaN</td>\n",
       "      <td>NaN</td>\n",
       "      <td>NaN</td>\n",
       "      <td>NaN</td>\n",
       "    </tr>\n",
       "    <tr>\n",
       "      <th>1</th>\n",
       "      <td>1</td>\n",
       "      <td>50053211</td>\n",
       "      <td>0.0</td>\n",
       "      <td>NaN</td>\n",
       "      <td>02/01/2006 09:00:00</td>\n",
       "      <td>Logboeknr  Geeltje  :   49 Tijd: 0900   VL-Po...</td>\n",
       "      <td>Logboeknr  Geeltje  :   49 Tijd: 0900</td>\n",
       "      <td>624.0</td>\n",
       "      <td>624.0</td>\n",
       "      <td>NaN</td>\n",
       "      <td>...</td>\n",
       "      <td>09:00:00</td>\n",
       "      <td>0.0</td>\n",
       "      <td>1.000000e+08</td>\n",
       "      <td>02/01/2006</td>\n",
       "      <td>09:00:00</td>\n",
       "      <td>NaN</td>\n",
       "      <td>NaN</td>\n",
       "      <td>NaN</td>\n",
       "      <td>NaN</td>\n",
       "      <td>NaN</td>\n",
       "    </tr>\n",
       "    <tr>\n",
       "      <th>2</th>\n",
       "      <td>2</td>\n",
       "      <td>50053213</td>\n",
       "      <td>48.0</td>\n",
       "      <td>GN</td>\n",
       "      <td>02/01/2006 12:35:00</td>\n",
       "      <td>Logboeknr  RBV  :   48 Tijd: 1235   VL-Post: ...</td>\n",
       "      <td>Logboeknr  RBV  :   48 Tijd: 1235   VL-P</td>\n",
       "      <td>201.0</td>\n",
       "      <td>201.0</td>\n",
       "      <td>NaN</td>\n",
       "      <td>...</td>\n",
       "      <td>13:26:00</td>\n",
       "      <td>51.0</td>\n",
       "      <td>1.000000e+08</td>\n",
       "      <td>02/01/2006</td>\n",
       "      <td>13:26:00</td>\n",
       "      <td>schapen op de spoorbaan!</td>\n",
       "      <td>NaN</td>\n",
       "      <td>NaN</td>\n",
       "      <td>Lp</td>\n",
       "      <td>Apg</td>\n",
       "    </tr>\n",
       "    <tr>\n",
       "      <th>3</th>\n",
       "      <td>3</td>\n",
       "      <td>50053214</td>\n",
       "      <td>72.0</td>\n",
       "      <td>ZL</td>\n",
       "      <td>02/01/2006 16:40:00</td>\n",
       "      <td>Logboeknr  RBV  :   72 Tijd: 1640   VL-Post: ...</td>\n",
       "      <td>Logboeknr  RBV  :   72 Tijd: 1640   VL-P</td>\n",
       "      <td>25.0</td>\n",
       "      <td>25.0</td>\n",
       "      <td>NaN</td>\n",
       "      <td>...</td>\n",
       "      <td>17:20:00</td>\n",
       "      <td>40.0</td>\n",
       "      <td>1.000000e+08</td>\n",
       "      <td>02/01/2006</td>\n",
       "      <td>17:20:00</td>\n",
       "      <td>Persoon langs de baan</td>\n",
       "      <td>NaN</td>\n",
       "      <td>NaN</td>\n",
       "      <td>Hgl</td>\n",
       "      <td>NaN</td>\n",
       "    </tr>\n",
       "    <tr>\n",
       "      <th>4</th>\n",
       "      <td>4</td>\n",
       "      <td>50053215</td>\n",
       "      <td>96.0</td>\n",
       "      <td>ZL</td>\n",
       "      <td>02/01/2006 22:30:00</td>\n",
       "      <td>Logboeknr  RBV  :   96 Tijd: 2230   VL-Post: ...</td>\n",
       "      <td>Logboeknr  RBV  :   96 Tijd: 2230   VL-P</td>\n",
       "      <td>12.0</td>\n",
       "      <td>12.0</td>\n",
       "      <td>NaN</td>\n",
       "      <td>...</td>\n",
       "      <td>22:36:00</td>\n",
       "      <td>6.0</td>\n",
       "      <td>1.000000e+08</td>\n",
       "      <td>02/01/2006</td>\n",
       "      <td>22:36:00</td>\n",
       "      <td>Bijna aanrijding met persoon</td>\n",
       "      <td>NaN</td>\n",
       "      <td>NaN</td>\n",
       "      <td>Hgv</td>\n",
       "      <td>NaN</td>\n",
       "    </tr>\n",
       "    <tr>\n",
       "      <th>...</th>\n",
       "      <td>...</td>\n",
       "      <td>...</td>\n",
       "      <td>...</td>\n",
       "      <td>...</td>\n",
       "      <td>...</td>\n",
       "      <td>...</td>\n",
       "      <td>...</td>\n",
       "      <td>...</td>\n",
       "      <td>...</td>\n",
       "      <td>...</td>\n",
       "      <td>...</td>\n",
       "      <td>...</td>\n",
       "      <td>...</td>\n",
       "      <td>...</td>\n",
       "      <td>...</td>\n",
       "      <td>...</td>\n",
       "      <td>...</td>\n",
       "      <td>...</td>\n",
       "      <td>...</td>\n",
       "      <td>...</td>\n",
       "      <td>...</td>\n",
       "    </tr>\n",
       "    <tr>\n",
       "      <th>898521</th>\n",
       "      <td>908625</td>\n",
       "      <td>99003505</td>\n",
       "      <td>0.0</td>\n",
       "      <td>NaN</td>\n",
       "      <td>11/05/2013 08:06:00</td>\n",
       "      <td>GVC : sp-2 en 3  stop lampen op de stootjukke...</td>\n",
       "      <td>GVC : sp-2 en 3  stop lampen op de stoot</td>\n",
       "      <td>560.0</td>\n",
       "      <td>560.0</td>\n",
       "      <td>NaN</td>\n",
       "      <td>...</td>\n",
       "      <td>09:29:00</td>\n",
       "      <td>83.0</td>\n",
       "      <td>5.900000e+01</td>\n",
       "      <td>11/05/2013</td>\n",
       "      <td>09:30:00</td>\n",
       "      <td>NaN</td>\n",
       "      <td>NaN</td>\n",
       "      <td>NaN</td>\n",
       "      <td>NaN</td>\n",
       "      <td>11/05/2013</td>\n",
       "    </tr>\n",
       "    <tr>\n",
       "      <th>898522</th>\n",
       "      <td>908626</td>\n",
       "      <td>99003506</td>\n",
       "      <td>0.0</td>\n",
       "      <td>NaN</td>\n",
       "      <td>11/05/2013 09:21:00</td>\n",
       "      <td>Whz : Ovw 100.1 albert Plesmanweg blijft  dic...</td>\n",
       "      <td>Whz : Ovw 100.1 albert Plesmanweg blijft</td>\n",
       "      <td>468.0</td>\n",
       "      <td>468.0</td>\n",
       "      <td>10021085.0</td>\n",
       "      <td>...</td>\n",
       "      <td>10:44:00</td>\n",
       "      <td>83.0</td>\n",
       "      <td>4.700000e+01</td>\n",
       "      <td>11/05/2013</td>\n",
       "      <td>10:44:00</td>\n",
       "      <td>NaN</td>\n",
       "      <td>NaN</td>\n",
       "      <td>NaN</td>\n",
       "      <td>NaN</td>\n",
       "      <td>NaN</td>\n",
       "    </tr>\n",
       "    <tr>\n",
       "      <th>898523</th>\n",
       "      <td>908627</td>\n",
       "      <td>99003506</td>\n",
       "      <td>0.0</td>\n",
       "      <td>NaN</td>\n",
       "      <td>11/05/2013 09:21:00</td>\n",
       "      <td>Whz : Ovw 100.1 albert Plesmanweg blijft  dic...</td>\n",
       "      <td>Whz : Ovw 100.1 albert Plesmanweg blijft</td>\n",
       "      <td>468.0</td>\n",
       "      <td>468.0</td>\n",
       "      <td>10021085.0</td>\n",
       "      <td>...</td>\n",
       "      <td>10:44:00</td>\n",
       "      <td>83.0</td>\n",
       "      <td>4.700000e+01</td>\n",
       "      <td>11/05/2013</td>\n",
       "      <td>10:44:00</td>\n",
       "      <td>NaN</td>\n",
       "      <td>NaN</td>\n",
       "      <td>NaN</td>\n",
       "      <td>NaN</td>\n",
       "      <td>00/00/0000</td>\n",
       "    </tr>\n",
       "    <tr>\n",
       "      <th>898524</th>\n",
       "      <td>908628</td>\n",
       "      <td>99999999</td>\n",
       "      <td>0.0</td>\n",
       "      <td>NaN</td>\n",
       "      <td>20/08/2016 14:15:17</td>\n",
       "      <td>Bdg-Apn : Km 12.7 twee gedode zwanen langs het...</td>\n",
       "      <td>Bdg-Apn : Km 12.7 twee gedode zwanen lan</td>\n",
       "      <td>102.0</td>\n",
       "      <td>102.0</td>\n",
       "      <td>NaN</td>\n",
       "      <td>...</td>\n",
       "      <td>15:14:00</td>\n",
       "      <td>19.0</td>\n",
       "      <td>1.060125e+09</td>\n",
       "      <td>20/08/2016</td>\n",
       "      <td>15:15:00</td>\n",
       "      <td>Gestoord object: SPOOR LA. Gestoord onde</td>\n",
       "      <td>NaN</td>\n",
       "      <td>NaN</td>\n",
       "      <td>NaN</td>\n",
       "      <td>NaN</td>\n",
       "    </tr>\n",
       "    <tr>\n",
       "      <th>898525</th>\n",
       "      <td>908629</td>\n",
       "      <td>99999999</td>\n",
       "      <td>0.0</td>\n",
       "      <td>NaN</td>\n",
       "      <td>20/08/2016 14:15:17</td>\n",
       "      <td>Bdg-Apn : Km 12.7 twee gedode zwanen langs het...</td>\n",
       "      <td>Bdg-Apn : Km 12.7 twee gedode zwanen lan</td>\n",
       "      <td>102.0</td>\n",
       "      <td>102.0</td>\n",
       "      <td>NaN</td>\n",
       "      <td>...</td>\n",
       "      <td>15:14:00</td>\n",
       "      <td>19.0</td>\n",
       "      <td>1.060125e+09</td>\n",
       "      <td>20/08/2016</td>\n",
       "      <td>15:15:00</td>\n",
       "      <td>Gestoord object: SPOOR LA. Gestoord onde</td>\n",
       "      <td>NaN</td>\n",
       "      <td>NaN</td>\n",
       "      <td>NaN</td>\n",
       "      <td>NaN</td>\n",
       "    </tr>\n",
       "  </tbody>\n",
       "</table>\n",
       "<p>898526 rows × 73 columns</p>\n",
       "</div>"
      ],
      "text/plain": [
       "       Unnamed: 0  #stm_sap_meldnr  stm_mon_nr stm_vl_post  \\\n",
       "0               0                0         NaN         NaN   \n",
       "1               1         50053211         0.0         NaN   \n",
       "2               2         50053213        48.0          GN   \n",
       "3               3         50053214        72.0          ZL   \n",
       "4               4         50053215        96.0          ZL   \n",
       "...           ...              ...         ...         ...   \n",
       "898521     908625         99003505         0.0         NaN   \n",
       "898522     908626         99003506         0.0         NaN   \n",
       "898523     908627         99003506         0.0         NaN   \n",
       "898524     908628         99999999         0.0         NaN   \n",
       "898525     908629         99999999         0.0         NaN   \n",
       "\n",
       "           stm_sap_meld_ddt  \\\n",
       "0                       NaN   \n",
       "1       02/01/2006 09:00:00   \n",
       "2       02/01/2006 12:35:00   \n",
       "3       02/01/2006 16:40:00   \n",
       "4       02/01/2006 22:30:00   \n",
       "...                     ...   \n",
       "898521  11/05/2013 08:06:00   \n",
       "898522  11/05/2013 09:21:00   \n",
       "898523  11/05/2013 09:21:00   \n",
       "898524  20/08/2016 14:15:17   \n",
       "898525  20/08/2016 14:15:17   \n",
       "\n",
       "                                   stm_sap_meldtekst_lang  \\\n",
       "0                                                     NaN   \n",
       "1        Logboeknr  Geeltje  :   49 Tijd: 0900   VL-Po...   \n",
       "2        Logboeknr  RBV  :   48 Tijd: 1235   VL-Post: ...   \n",
       "3        Logboeknr  RBV  :   72 Tijd: 1640   VL-Post: ...   \n",
       "4        Logboeknr  RBV  :   96 Tijd: 2230   VL-Post: ...   \n",
       "...                                                   ...   \n",
       "898521   GVC : sp-2 en 3  stop lampen op de stootjukke...   \n",
       "898522   Whz : Ovw 100.1 albert Plesmanweg blijft  dic...   \n",
       "898523   Whz : Ovw 100.1 albert Plesmanweg blijft  dic...   \n",
       "898524  Bdg-Apn : Km 12.7 twee gedode zwanen langs het...   \n",
       "898525  Bdg-Apn : Km 12.7 twee gedode zwanen langs het...   \n",
       "\n",
       "                               stm_sap_meldtekst stm_geo_mld  \\\n",
       "0                                            NaN         NaN   \n",
       "1          Logboeknr  Geeltje  :   49 Tijd: 0900       624.0   \n",
       "2       Logboeknr  RBV  :   48 Tijd: 1235   VL-P       201.0   \n",
       "3       Logboeknr  RBV  :   72 Tijd: 1640   VL-P        25.0   \n",
       "4       Logboeknr  RBV  :   96 Tijd: 2230   VL-P        12.0   \n",
       "...                                          ...         ...   \n",
       "898521  GVC : sp-2 en 3  stop lampen op de stoot       560.0   \n",
       "898522  Whz : Ovw 100.1 albert Plesmanweg blijft       468.0   \n",
       "898523  Whz : Ovw 100.1 albert Plesmanweg blijft       468.0   \n",
       "898524  Bdg-Apn : Km 12.7 twee gedode zwanen lan       102.0   \n",
       "898525  Bdg-Apn : Km 12.7 twee gedode zwanen lan       102.0   \n",
       "\n",
       "        stm_geo_mld_uit_functiepl  stm_equipm_nr_mld  ... stm_fh_tijd  \\\n",
       "0                             NaN                NaN  ...         NaN   \n",
       "1                           624.0                NaN  ...    09:00:00   \n",
       "2                           201.0                NaN  ...    13:26:00   \n",
       "3                            25.0                NaN  ...    17:20:00   \n",
       "4                            12.0                NaN  ...    22:36:00   \n",
       "...                           ...                ...  ...         ...   \n",
       "898521                      560.0                NaN  ...    09:29:00   \n",
       "898522                      468.0         10021085.0  ...    10:44:00   \n",
       "898523                      468.0         10021085.0  ...    10:44:00   \n",
       "898524                      102.0                NaN  ...    15:14:00   \n",
       "898525                      102.0                NaN  ...    15:14:00   \n",
       "\n",
       "       stm_fh_duur  stm_reactie_duur  stm_sap_storeinddatum  \\\n",
       "0              NaN               NaN                    NaN   \n",
       "1              0.0      1.000000e+08             02/01/2006   \n",
       "2             51.0      1.000000e+08             02/01/2006   \n",
       "3             40.0      1.000000e+08             02/01/2006   \n",
       "4              6.0      1.000000e+08             02/01/2006   \n",
       "...            ...               ...                    ...   \n",
       "898521        83.0      5.900000e+01             11/05/2013   \n",
       "898522        83.0      4.700000e+01             11/05/2013   \n",
       "898523        83.0      4.700000e+01             11/05/2013   \n",
       "898524        19.0      1.060125e+09             20/08/2016   \n",
       "898525        19.0      1.060125e+09             20/08/2016   \n",
       "\n",
       "        stm_sap_storeindtijd                       stm_oorz_tekst_kort  \\\n",
       "0                        NaN                                       NaN   \n",
       "1                   09:00:00                                       NaN   \n",
       "2                   13:26:00                  schapen op de spoorbaan!   \n",
       "3                   17:20:00                     Persoon langs de baan   \n",
       "4                   22:36:00              Bijna aanrijding met persoon   \n",
       "...                      ...                                       ...   \n",
       "898521              09:30:00                                       NaN   \n",
       "898522              10:44:00                                       NaN   \n",
       "898523              10:44:00                                       NaN   \n",
       "898524              15:15:00  Gestoord object: SPOOR LA. Gestoord onde   \n",
       "898525              15:15:00  Gestoord object: SPOOR LA. Gestoord onde   \n",
       "\n",
       "       stm_pplg_van stm_pplg_naar stm_dstrglp_van  stm_dstrglp_naar  \n",
       "0               NaN           NaN             NaN               NaN  \n",
       "1               NaN           NaN             NaN               NaN  \n",
       "2               NaN           NaN              Lp               Apg  \n",
       "3               NaN           NaN             Hgl               NaN  \n",
       "4               NaN           NaN             Hgv               NaN  \n",
       "...             ...           ...             ...               ...  \n",
       "898521          NaN           NaN             NaN        11/05/2013  \n",
       "898522          NaN           NaN             NaN               NaN  \n",
       "898523          NaN           NaN             NaN        00/00/0000  \n",
       "898524          NaN           NaN             NaN               NaN  \n",
       "898525          NaN           NaN             NaN               NaN  \n",
       "\n",
       "[898526 rows x 73 columns]"
      ]
     },
     "execution_count": 4,
     "metadata": {},
     "output_type": "execute_result"
    }
   ],
   "source": [
    "df"
   ]
  },
  {
   "cell_type": "code",
   "execution_count": 5,
   "metadata": {},
   "outputs": [
    {
     "data": {
      "text/plain": [
       "0          NaN\n",
       "1          0.0\n",
       "2         51.0\n",
       "3         40.0\n",
       "4          6.0\n",
       "          ... \n",
       "898521    83.0\n",
       "898522    83.0\n",
       "898523    83.0\n",
       "898524    19.0\n",
       "898525    19.0\n",
       "Name: stm_fh_duur, Length: 898526, dtype: float64"
      ]
     },
     "execution_count": 5,
     "metadata": {},
     "output_type": "execute_result"
    }
   ],
   "source": [
    "data = df['stm_fh_duur']\n",
    "data"
   ]
  },
  {
   "cell_type": "code",
   "execution_count": 6,
   "metadata": {},
   "outputs": [
    {
     "data": {
      "text/plain": [
       "2         51.0\n",
       "3         40.0\n",
       "4          6.0\n",
       "5          7.0\n",
       "6         13.0\n",
       "          ... \n",
       "898521    83.0\n",
       "898522    83.0\n",
       "898523    83.0\n",
       "898524    19.0\n",
       "898525    19.0\n",
       "Name: stm_fh_duur, Length: 726775, dtype: float64"
      ]
     },
     "execution_count": 6,
     "metadata": {},
     "output_type": "execute_result"
    }
   ],
   "source": [
    "data = data.dropna()\n",
    "data = data.loc[data>0.0]\n",
    "data"
   ]
  },
  {
   "cell_type": "code",
   "execution_count": 7,
   "metadata": {},
   "outputs": [
    {
     "data": {
      "text/plain": [
       "count    726775.000000\n",
       "mean       1141.258427\n",
       "std        7103.560208\n",
       "min           1.000000\n",
       "25%          54.000000\n",
       "50%         120.000000\n",
       "75%         378.000000\n",
       "max      528297.000000\n",
       "Name: stm_fh_duur, dtype: float64"
      ]
     },
     "execution_count": 7,
     "metadata": {},
     "output_type": "execute_result"
    }
   ],
   "source": [
    "data.describe()"
   ]
  },
  {
   "cell_type": "code",
   "execution_count": 8,
   "metadata": {},
   "outputs": [
    {
     "data": {
      "text/plain": [
       "<matplotlib.axes._subplots.AxesSubplot at 0x1d53f29bc10>"
      ]
     },
     "execution_count": 8,
     "metadata": {},
     "output_type": "execute_result"
    },
    {
     "data": {
      "image/png": "[encoded data removed]",
      "text/plain": [
       "<Figure size 720x576 with 1 Axes>"
      ]
     },
     "metadata": {
      "needs_background": "light"
     },
     "output_type": "display_data"
    }
   ],
   "source": [
    "data.plot.box(figsize=(10, 8))"
   ]
  },
  {
   "cell_type": "code",
   "execution_count": 9,
   "metadata": {},
   "outputs": [
    {
     "name": "stdout",
     "output_type": "stream",
     "text": [
      "54.0 378.0 324.0\n",
      "726775\n",
      "\n",
      "73187\n",
      "43914\n",
      "0\n",
      "0\n"
     ]
    }
   ],
   "source": [
    "data = data.sort_values()\n",
    "\n",
    "q1 = data.quantile(0.25)\n",
    "q3 = data.quantile(0.75)\n",
    "iqr = q3-q1\n",
    "print(q1, q3, iqr)\n",
    "\n",
    "zwakke_lower = data[(data<=q1-1.5*iqr)&(data>q1-3*iqr)].count()\n",
    "sterke_lower = data[data<q1-3*iqr].count()\n",
    "zwakke_upper = data[(data>=q3+1.5*iqr)&(data<q3+3*iqr)].count()\n",
    "sterke_upper = data[data>q3+3*iqr].count()\n",
    "\n",
    "print(len(data))\n",
    "print()\n",
    "print(sterke_upper)\n",
    "print(zwakke_upper)\n",
    "print(zwakke_lower)\n",
    "print(sterke_lower)"
   ]
  },
  {
   "cell_type": "code",
   "execution_count": 10,
   "metadata": {},
   "outputs": [
    {
     "data": {
      "text/plain": [
       "1141.2584266107117"
      ]
     },
     "execution_count": 10,
     "metadata": {},
     "output_type": "execute_result"
    }
   ],
   "source": [
    " data.mean()"
   ]
  },
  {
   "cell_type": "code",
   "execution_count": 11,
   "metadata": {},
   "outputs": [],
   "source": [
    "#np.sqrt(mean_squared_error(data, [data.mean()]))\n",
    "\n",
    "\n",
    "#lijst = []\n",
    "#for i in data:\n",
    "#    lijst.append((i - (data.mean()))**2)\n",
    "#RMSE = np.sqrt(sum(lijst)/len(lijst))\n",
    "#RMSE"
   ]
  },
  {
   "cell_type": "code",
   "execution_count": 12,
   "metadata": {},
   "outputs": [],
   "source": [
    "#data2 = data.sample(n=20000)\n",
    "#data2 = data.copy()\n",
    "#def fun1(x):\n",
    "#    return (x - data.mean())**2\n",
    "#\n",
    "#data = data.apply(fun1)\n",
    "#data"
   ]
  },
  {
   "cell_type": "code",
   "execution_count": 13,
   "metadata": {},
   "outputs": [],
   "source": [
    "#np.sqrt(data.mean())"
   ]
  },
  {
   "cell_type": "code",
   "execution_count": 16,
   "metadata": {},
   "outputs": [
    {
     "data": {
      "image/png": "[encoded data removed]",
      "text/plain": [
       "<Figure size 432x288 with 1 Axes>"
      ]
     },
     "metadata": {
      "needs_background": "light"
     },
     "output_type": "display_data"
    }
   ],
   "source": [
    "plt.plot(data)\n",
    "plt.show()"
   ]
  },
  {
   "cell_type": "code",
   "execution_count": 22,
   "metadata": {},
   "outputs": [
    {
     "data": {
      "text/plain": [
       "638074"
      ]
     },
     "execution_count": 22,
     "metadata": {},
     "output_type": "execute_result"
    }
   ],
   "source": [
    "len(data[data < data.mean()])"
   ]
  },
  {
   "cell_type": "code",
   "execution_count": 23,
   "metadata": {},
   "outputs": [
    {
     "data": {
      "text/plain": [
       "87.79525988098105"
      ]
     },
     "execution_count": 23,
     "metadata": {},
     "output_type": "execute_result"
    }
   ],
   "source": [
    "len(data[data < data.mean()])/len(data)*100"
   ]
  },
  {
   "cell_type": "markdown",
   "metadata": {},
   "source": [
    "Baseline: Alle hersteltijden duren korter dan 1141 minuten (+- 19 uur)\n",
    "score: in 88% van de gevallen is de reparatietijd korter dan gemiddeld."
   ]
  }
 ],
 "metadata": {
  "kernelspec": {
   "display_name": "Python 3",
   "language": "python",
   "name": "python3"
  },
  "language_info": {
   "codemirror_mode": {
    "name": "ipython",
    "version": 3
   },
   "file_extension": ".py",
   "mimetype": "text/x-python",
   "name": "python",
   "nbconvert_exporter": "python",
   "pygments_lexer": "ipython3",
   "version": "3.8.3"
  }
 },
 "nbformat": 4,
 "nbformat_minor": 4
}
