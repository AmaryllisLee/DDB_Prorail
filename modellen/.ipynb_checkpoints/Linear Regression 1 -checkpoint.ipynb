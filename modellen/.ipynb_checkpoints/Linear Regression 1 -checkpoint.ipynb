{
 "cells": [
  {
   "cell_type": "markdown",
   "metadata": {},
   "source": [
    "## Lineair Regression Model "
   ]
  },
  {
   "cell_type": "markdown",
   "metadata": {},
   "source": [
    "We hebben gekozen om een Lineair Regression model eerst toe te passen.De reden hiervoor is dat onze target variabel continu waardes bevatten. Bovendien zijn bevatten de meeste features continu waardes of kunen *encoded* worden naar discrete waardes.\n",
    "\n",
    "We zullen de volgende feature variabelen in onze Linear Regression model.\n",
    "* **stm_oorz_groep** : *Aan de hand van deze feature, krijgen we en beter definitie van de bepaalde storing. Welke groep de oorzaak een bepaalde storing geven. *\n",
    "* **stm_oor_code**   : *Zelfde als hierbove. De soort oorzaak van een bepaalde storing geven*\n",
    "* **stm_prioriteit** : *De ernst van en bepaalde storing geven.* "
   ]
  },
  {
   "cell_type": "code",
   "execution_count": 1,
   "metadata": {},
   "outputs": [],
   "source": [
    "# libraries importeren \n",
    "import pandas as pd\n",
    "import numpy as np\n",
    "from sklearn.metrics import mean_squared_error as mse\n",
    "from sklearn.model_selection import train_test_split\n",
    "from sklearn.linear_model import LinearRegression\n",
    "import matplotlib.pyplot as plt\n",
    "%matplotlib inline"
   ]
  },
  {
   "cell_type": "code",
   "execution_count": 2,
   "metadata": {},
   "outputs": [],
   "source": [
    "# dataset inlezen \n",
    "df = pd.read_csv('data/sap_storing_data_hu_project.csv', low_memory=False)"
   ]
  },
  {
   "cell_type": "markdown",
   "metadata": {},
   "source": [
    "### Data Understanding"
   ]
  },
  {
   "cell_type": "markdown",
   "metadata": {},
   "source": [
    "In deze fase gaan we naar de inhoud kijken van de features variabelen en een betere inzicht te krijgen van onze data."
   ]
  },
  {
   "cell_type": "markdown",
   "metadata": {},
   "source": [
    "#### Data Collection "
   ]
  },
  {
   "cell_type": "markdown",
   "metadata": {},
   "source": [
    "Er wordt een data selectie gedaan. We gaan onze gekozen feature en target variabelen in onze dataset uithalen en in een niewe dataframe zetten. Verder zullen we naar de attributen van de  nieuwe data bekijken."
   ]
  },
  {
   "cell_type": "code",
   "execution_count": 3,
   "metadata": {},
   "outputs": [],
   "source": [
    "data = df[['stm_aanntpl_dd','stm_aanntpl_tijd','stm_fh_ddt']].dropna()\n",
    "data['stm_aanntpl_ddt']  = data['stm_aanntpl_dd']  +\" \"+ data['stm_aanntpl_tijd']\n",
    "data['stm_aanntpl_ddt']=pd.to_datetime(data['stm_aanntpl_ddt'])#https://stackoverflow.com/questions/37801321/python-pandas-convert-string-to-time-only\n",
    "data['stm_fh_ddt']=pd.to_datetime(data['stm_fh_ddt'])\n",
    "data['reparatietijd']   = data['stm_fh_ddt'] - data['stm_aanntpl_ddt']\n",
    "#https://stackoverflow.com/questions/17951820/convert-hhmmss-to-minutes-using-python-pandas\n",
    "data['reparatietijd']= data['reparatietijd'].dt.total_seconds().div(60)"
   ]
  },
  {
   "cell_type": "code",
   "execution_count": 4,
   "metadata": {},
   "outputs": [
    {
     "data": {
      "text/html": [
       "<div>\n",
       "<style scoped>\n",
       "    .dataframe tbody tr th:only-of-type {\n",
       "        vertical-align: middle;\n",
       "    }\n",
       "\n",
       "    .dataframe tbody tr th {\n",
       "        vertical-align: top;\n",
       "    }\n",
       "\n",
       "    .dataframe thead th {\n",
       "        text-align: right;\n",
       "    }\n",
       "</style>\n",
       "<table border=\"1\" class=\"dataframe\">\n",
       "  <thead>\n",
       "    <tr style=\"text-align: right;\">\n",
       "      <th></th>\n",
       "      <th>stm_oorz_groep</th>\n",
       "      <th>stm_oorz_code</th>\n",
       "      <th>stm_prioriteit</th>\n",
       "      <th>reparatietijd</th>\n",
       "    </tr>\n",
       "  </thead>\n",
       "  <tbody>\n",
       "    <tr>\n",
       "      <th>0</th>\n",
       "      <td>NaN</td>\n",
       "      <td>NaN</td>\n",
       "      <td>NaN</td>\n",
       "      <td>NaN</td>\n",
       "    </tr>\n",
       "    <tr>\n",
       "      <th>1</th>\n",
       "      <td>ONR-RIB</td>\n",
       "      <td>133.0</td>\n",
       "      <td>9.0</td>\n",
       "      <td>NaN</td>\n",
       "    </tr>\n",
       "    <tr>\n",
       "      <th>2</th>\n",
       "      <td>ONR-DERD</td>\n",
       "      <td>143.0</td>\n",
       "      <td>9.0</td>\n",
       "      <td>NaN</td>\n",
       "    </tr>\n",
       "    <tr>\n",
       "      <th>3</th>\n",
       "      <td>ONR-DERD</td>\n",
       "      <td>142.0</td>\n",
       "      <td>9.0</td>\n",
       "      <td>NaN</td>\n",
       "    </tr>\n",
       "    <tr>\n",
       "      <th>4</th>\n",
       "      <td>ONR-DERD</td>\n",
       "      <td>142.0</td>\n",
       "      <td>9.0</td>\n",
       "      <td>NaN</td>\n",
       "    </tr>\n",
       "  </tbody>\n",
       "</table>\n",
       "</div>"
      ],
      "text/plain": [
       "  stm_oorz_groep  stm_oorz_code  stm_prioriteit  reparatietijd\n",
       "0            NaN            NaN             NaN            NaN\n",
       "1        ONR-RIB          133.0             9.0            NaN\n",
       "2       ONR-DERD          143.0             9.0            NaN\n",
       "3       ONR-DERD          142.0             9.0            NaN\n",
       "4       ONR-DERD          142.0             9.0            NaN"
      ]
     },
     "execution_count": 4,
     "metadata": {},
     "output_type": "execute_result"
    }
   ],
   "source": [
    "# Data selectie maken van de dataset.\n",
    "df2  = df[['stm_oorz_groep', 'stm_oorz_code', 'stm_prioriteit']].copy()\n",
    "df2['reparatietijd'] = data['reparatietijd']\n",
    "df2.head()"
   ]
  },
  {
   "cell_type": "markdown",
   "metadata": {},
   "source": [
    "#### Data Describe \n",
    "\n",
    "In dit gedeelte gaan we naar de eigenschappen van onze data bekijken."
   ]
  },
  {
   "cell_type": "code",
   "execution_count": 5,
   "metadata": {},
   "outputs": [
    {
     "data": {
      "text/plain": [
       "(898526, 4)"
      ]
     },
     "execution_count": 5,
     "metadata": {},
     "output_type": "execute_result"
    }
   ],
   "source": [
    "# Dimensie van de df2 bekijken\n",
    "df2.shape"
   ]
  },
  {
   "cell_type": "code",
   "execution_count": 6,
   "metadata": {},
   "outputs": [
    {
     "data": {
      "text/plain": [
       "stm_oorz_groep     object\n",
       "stm_oorz_code     float64\n",
       "stm_prioriteit    float64\n",
       "reparatietijd     float64\n",
       "dtype: object"
      ]
     },
     "execution_count": 6,
     "metadata": {},
     "output_type": "execute_result"
    }
   ],
   "source": [
    "# datatypes van de dataset bekijken \n",
    "df2.dtypes"
   ]
  },
  {
   "cell_type": "markdown",
   "metadata": {},
   "source": [
    "**De meetniveaus van onze feature en target variabelen zijn de volgende:**\n",
    "* **stm_oorz_groep** : Nominale waardes. Deze kolom moeten we *encoden* naar discrrete waardes\n",
    "* **stm_oor_code**   : Continu waardes.\n",
    "* **stm_prioriteit** : Continu waardes.\n",
    "* **reparatietijd**    : Continu waardes."
   ]
  },
  {
   "cell_type": "markdown",
   "metadata": {},
   "source": [
    "#### Data Explore"
   ]
  },
  {
   "cell_type": "code",
   "execution_count": 7,
   "metadata": {},
   "outputs": [
    {
     "data": {
      "text/html": [
       "<div>\n",
       "<style scoped>\n",
       "    .dataframe tbody tr th:only-of-type {\n",
       "        vertical-align: middle;\n",
       "    }\n",
       "\n",
       "    .dataframe tbody tr th {\n",
       "        vertical-align: top;\n",
       "    }\n",
       "\n",
       "    .dataframe thead th {\n",
       "        text-align: right;\n",
       "    }\n",
       "</style>\n",
       "<table border=\"1\" class=\"dataframe\">\n",
       "  <thead>\n",
       "    <tr style=\"text-align: right;\">\n",
       "      <th></th>\n",
       "      <th>stm_oorz_code</th>\n",
       "      <th>stm_prioriteit</th>\n",
       "      <th>reparatietijd</th>\n",
       "    </tr>\n",
       "  </thead>\n",
       "  <tbody>\n",
       "    <tr>\n",
       "      <th>count</th>\n",
       "      <td>845113.000000</td>\n",
       "      <td>898365.000000</td>\n",
       "      <td>6.839850e+05</td>\n",
       "    </tr>\n",
       "    <tr>\n",
       "      <th>mean</th>\n",
       "      <td>193.577248</td>\n",
       "      <td>4.582593</td>\n",
       "      <td>4.972723e+02</td>\n",
       "    </tr>\n",
       "    <tr>\n",
       "      <th>std</th>\n",
       "      <td>48.310779</td>\n",
       "      <td>2.262522</td>\n",
       "      <td>2.669839e+04</td>\n",
       "    </tr>\n",
       "    <tr>\n",
       "      <th>min</th>\n",
       "      <td>33.000000</td>\n",
       "      <td>1.000000</td>\n",
       "      <td>-5.270005e+05</td>\n",
       "    </tr>\n",
       "    <tr>\n",
       "      <th>25%</th>\n",
       "      <td>144.000000</td>\n",
       "      <td>2.000000</td>\n",
       "      <td>1.000000e+01</td>\n",
       "    </tr>\n",
       "    <tr>\n",
       "      <th>50%</th>\n",
       "      <td>213.000000</td>\n",
       "      <td>4.000000</td>\n",
       "      <td>3.300000e+01</td>\n",
       "    </tr>\n",
       "    <tr>\n",
       "      <th>75%</th>\n",
       "      <td>221.000000</td>\n",
       "      <td>5.000000</td>\n",
       "      <td>8.113333e+01</td>\n",
       "    </tr>\n",
       "    <tr>\n",
       "      <th>max</th>\n",
       "      <td>999.000000</td>\n",
       "      <td>9.000000</td>\n",
       "      <td>4.336560e+06</td>\n",
       "    </tr>\n",
       "  </tbody>\n",
       "</table>\n",
       "</div>"
      ],
      "text/plain": [
       "       stm_oorz_code  stm_prioriteit  reparatietijd\n",
       "count  845113.000000   898365.000000   6.839850e+05\n",
       "mean      193.577248        4.582593   4.972723e+02\n",
       "std        48.310779        2.262522   2.669839e+04\n",
       "min        33.000000        1.000000  -5.270005e+05\n",
       "25%       144.000000        2.000000   1.000000e+01\n",
       "50%       213.000000        4.000000   3.300000e+01\n",
       "75%       221.000000        5.000000   8.113333e+01\n",
       "max       999.000000        9.000000   4.336560e+06"
      ]
     },
     "execution_count": 7,
     "metadata": {},
     "output_type": "execute_result"
    }
   ],
   "source": [
    "# attributen van df2 bekijken\n",
    "df2.describe()"
   ]
  },
  {
   "cell_type": "code",
   "execution_count": 8,
   "metadata": {},
   "outputs": [
    {
     "data": {
      "text/plain": [
       "stm_oorz_groep     53430\n",
       "stm_oorz_code      53413\n",
       "stm_prioriteit       161\n",
       "reparatietijd     214541\n",
       "dtype: int64"
      ]
     },
     "execution_count": 8,
     "metadata": {},
     "output_type": "execute_result"
    }
   ],
   "source": [
    "# Aantal ontbrekende waardes bekijken \n",
    "df2.isnull().sum()"
   ]
  },
  {
   "cell_type": "markdown",
   "metadata": {},
   "source": [
    "Er is te zien dat we hebben te maken met veel NaN waardes in onze data. <br>\n",
    "De aantal rijen die we zullen verloren, wordt berekend en weeregeven in percentage.Hierdoor wordt er bepaald of het het verstandig is om al deze NaN waardes te vewijderen."
   ]
  },
  {
   "cell_type": "code",
   "execution_count": 9,
   "metadata": {},
   "outputs": [
    {
     "name": "stdout",
     "output_type": "stream",
     "text": [
      "Rijen verloren door Nan oorzaakgroep : 6.322231464904693%\n",
      "Rijen verloren door Nan oorzaakcode  : 6.322231464904693%\n",
      "Rijen verloren door Nan oorzaakcode  : 25.38607263170724%\n",
      "Totaal aantal rijen verloren : 38.047574703027884 %\n"
     ]
    }
   ],
   "source": [
    "# bereken aantal rijen die wordt verloren bij Nan waardes\n",
    "print('Rijen verloren door Nan oorzaakgroep : {}%'.format((df2['stm_oorz_groep'].isnull().sum()/845113)*100))\n",
    "print('Rijen verloren door Nan oorzaakcode  : {}%'.format((df2['stm_oorz_groep'].isnull().sum()/845113)*100))\n",
    "print('Rijen verloren door Nan oorzaakcode  : {}%'.format((df2['reparatietijd'].isnull().sum()/845113)*100))\n",
    "#totaal\n",
    "print('Totaal aantal rijen verloren : {} %'.format(df2.isnull().sum().sum()/845113*100))"
   ]
  },
  {
   "cell_type": "markdown",
   "metadata": {},
   "source": [
    "We verliezen 38% van de data."
   ]
  },
  {
   "cell_type": "markdown",
   "metadata": {},
   "source": [
    "We gaan nu  kijken naar elke feature bekijken."
   ]
  },
  {
   "cell_type": "code",
   "execution_count": 10,
   "metadata": {},
   "outputs": [
    {
     "data": {
      "text/plain": [
       "array([nan, 'ONR-RIB', 'ONR-DERD', 'TECHONV', 'WEER'], dtype=object)"
      ]
     },
     "execution_count": 10,
     "metadata": {},
     "output_type": "execute_result"
    }
   ],
   "source": [
    "df2['stm_oorz_groep'].unique()"
   ]
  },
  {
   "cell_type": "markdown",
   "metadata": {},
   "source": [
    "In de kolom stm_orz_code gaan we de waarde met de csv bestand Oorzaakcodes verelijken om te zien of er wardes voorkomen die niet gelijk zijn."
   ]
  },
  {
   "cell_type": "code",
   "execution_count": 11,
   "metadata": {},
   "outputs": [
    {
     "data": {
      "text/plain": [
       "array([ 33.,  48.,  51., 130., 131., 132., 133., 134., 135., 136., 139.,\n",
       "       140., 141., 142., 143., 144., 145., 146., 147., 148., 149., 150.,\n",
       "       151., 154., 180., 181., 182., 183., 184., 185., 186., 187., 188.,\n",
       "       189., 200., 201., 202., 203., 204., 205., 206., 207., 208., 209.,\n",
       "       210., 211., 212., 213., 214., 215., 218., 219., 220., 221., 222.,\n",
       "       223., 224., 225., 226., 227., 228., 229., 230., 231., 233., 234.,\n",
       "       235., 239., 240., 241., 242., 250., 294., 298., 299., 999.])"
      ]
     },
     "execution_count": 11,
     "metadata": {},
     "output_type": "execute_result"
    }
   ],
   "source": [
    "df2['stm_oorz_code'][df2['stm_oorz_code'].notnull()].sort_values().unique()"
   ]
  },
  {
   "cell_type": "code",
   "execution_count": 12,
   "metadata": {},
   "outputs": [
    {
     "data": {
      "text/plain": [
       "array([130, 131, 132, 133, 134, 135, 136, 140, 141, 142, 143, 144, 145,\n",
       "       146, 147, 148, 149, 150, 151, 152, 153, 154, 181, 182, 183, 184,\n",
       "       185, 186, 187, 188, 189, 201, 202, 203, 204, 205, 206, 207, 208,\n",
       "       209, 210, 211, 212, 213, 214, 215, 218, 219, 220, 221, 222, 223,\n",
       "       224, 225, 226, 227, 228, 229, 230, 231, 233, 234, 235, 239, 240,\n",
       "       241, 242, 250, 294, 298, 299], dtype=int64)"
      ]
     },
     "execution_count": 12,
     "metadata": {},
     "output_type": "execute_result"
    }
   ],
   "source": [
    "oorzcodes = pd.read_csv('data/Oorzaakcodes.csv', delimiter = ';')\n",
    "oorzcodes['Code'].sort_values().unique()"
   ]
  },
  {
   "cell_type": "markdown",
   "metadata": {},
   "source": [
    "We zien dat de waardes 33,  48,51 en 999.\n",
    "Aan de hand van de bovenstaande code kunnnen we concluderen dat de we moeten df2 filteren die de rijen kiezen, waar de oorzaakcode tussen 130 en 299 zit. We zullen eerst zien hoeveel rijen bevatten deze deze oorzaak codes."
   ]
  },
  {
   "cell_type": "code",
   "execution_count": 13,
   "metadata": {},
   "outputs": [
    {
     "name": "stdout",
     "output_type": "stream",
     "text": [
      "1\n",
      "1\n",
      "1\n",
      "102\n"
     ]
    }
   ],
   "source": [
    "print(len(df2[df2['stm_oorz_code'] == 33]))\n",
    "print(len(df2[df2['stm_oorz_code'] == 48]))\n",
    "print(len(df2[df2['stm_oorz_code'] == 51]))\n",
    "print(len(df2[df2['stm_oorz_code'] == 999]))"
   ]
  },
  {
   "cell_type": "markdown",
   "metadata": {},
   "source": [
    "Er zijn in totaal  105  rijen die deze waardes bevatten.We kunnen dus deze rijen uit onze data verwijderen."
   ]
  },
  {
   "cell_type": "code",
   "execution_count": 14,
   "metadata": {},
   "outputs": [
    {
     "data": {
      "text/plain": [
       "array([nan,  9.,  5.,  4.,  2.,  1.,  8.])"
      ]
     },
     "execution_count": 14,
     "metadata": {},
     "output_type": "execute_result"
    }
   ],
   "source": [
    "df2['stm_prioriteit'].unique()"
   ]
  },
  {
   "cell_type": "markdown",
   "metadata": {},
   "source": [
    "Er is geen rij/ storing met een prioriteit van 3 en 6 of 7, maar we  kunnen ze misschien wel  voorspellen anagezien dat ze continu waardes zijn in onze Linear Regression model."
   ]
  },
  {
   "cell_type": "code",
   "execution_count": 15,
   "metadata": {},
   "outputs": [
    {
     "data": {
      "image/png": "[encoded data removed]",
      "text/plain": [
       "<Figure size 432x288 with 1 Axes>"
      ]
     },
     "metadata": {
      "needs_background": "light"
     },
     "output_type": "display_data"
    }
   ],
   "source": [
    "# De hersteltijd teggenover de prioriteit plotten om de versschilte bekijken.\n",
    "plt.scatter(df2['stm_prioriteit'],df2['reparatietijd'] )\n",
    "# Titel boven de grafiek:\n",
    "plt.title('Rreparatietijd tegenover de  prioriteit')\n",
    "# X-as label\n",
    "plt.xlabel('prioriteit')\n",
    "# Y-as label\n",
    "plt.ylabel('Reparatietijd')\n",
    "plt.show()"
   ]
  },
  {
   "cell_type": "code",
   "execution_count": 16,
   "metadata": {},
   "outputs": [
    {
     "data": {
      "text/plain": [
       "<matplotlib.axes._subplots.AxesSubplot at 0x1d2c0075b00>"
      ]
     },
     "execution_count": 16,
     "metadata": {},
     "output_type": "execute_result"
    },
    {
     "data": {
      "image/png": "[encoded data removed]",
      "text/plain": [
       "<Figure size 432x288 with 1 Axes>"
      ]
     },
     "metadata": {
      "needs_background": "light"
     },
     "output_type": "display_data"
    }
   ],
   "source": [
    "#Outliers visualiseren van de numerieke kolommen adhv boxplot.\n",
    "df2.boxplot()"
   ]
  },
  {
   "cell_type": "markdown",
   "metadata": {},
   "source": [
    "Er is te zien dat er veel uitschieters voorkomen in onze target variabelen.Om een duidelijke overzicht te krijgen van hhet aantal  uitschieters inonze data, gaan we de uitschieters per feature  uitrekenen. De aantal uitschieters van onze target variabel is al berekend in onze baseline model,  maar we doen het ook voor de andere variabelen."
   ]
  },
  {
   "cell_type": "code",
   "execution_count": 17,
   "metadata": {},
   "outputs": [
    {
     "name": "stdout",
     "output_type": "stream",
     "text": [
      "Q1 = 144.0, Q3 = 221.0\n",
      "IQR = Q3 - Q1 = 144.0 - 221.0 = 77.0\n",
      "Lengte van de data : 898526\n",
      "\n",
      "Aantal sterke outliers boven de boxplot, boven de 452.0 : 102\n",
      "Aantal zwakke outliers boven de boxplot, tussen 336.5 en 452.0 : 0\n"
     ]
    },
    {
     "data": {
      "text/plain": [
       "<matplotlib.axes._subplots.AxesSubplot at 0x1d2c0281c18>"
      ]
     },
     "execution_count": 17,
     "metadata": {},
     "output_type": "execute_result"
    },
    {
     "data": {
      "image/png": "[encoded data removed]",
      "text/plain": [
       "<Figure size 432x288 with 1 Axes>"
      ]
     },
     "metadata": {
      "needs_background": "light"
     },
     "output_type": "display_data"
    }
   ],
   "source": [
    "# Uitschieters berekenen van oorzaak code\n",
    "oorz_code = df2['stm_oorz_code'].sort_values() # sorteer de data\n",
    "\n",
    "# bereken de Q1, Q3 en de IQR \n",
    "q1 = oorz_code.quantile(0.25)\n",
    "q3 = oorz_code.quantile(0.75)\n",
    "iqr = q3-q1\n",
    "print(\"Q1 = {}, Q3 = {}\".format(q1, q3)) \n",
    "print(\"IQR = Q3 - Q1 = {} - {} = {}\".format(q1,q3,iqr))\n",
    "\n",
    "# Bereken het aantal zwakke en sterke outliers boven en onder de boxplot.\n",
    "zwakke_lower = oorz_code[(oorz_code<=q1-1.5*iqr)&(oorz_code>q1-3*iqr)].count()\n",
    "sterke_lower = oorz_code[oorz_code<q1-3*iqr].count()\n",
    "zwakke_upper = oorz_code[(oorz_code>=q3+1.5*iqr)&(oorz_code<q3+3*iqr)].count()\n",
    "sterke_upper = oorz_code[oorz_code>q3+3*iqr].count()\n",
    "\n",
    "print(\"Lengte van de data : {}\".format(len(oorz_code)))\n",
    "print()\n",
    "print(\"Aantal sterke outliers boven de boxplot, boven de {} : {}\".format(q3+3*iqr, sterke_upper))\n",
    "print(\"Aantal zwakke outliers boven de boxplot, tussen {} en {} : {}\".format(q3+1.5*iqr,q3+3*iqr, zwakke_upper))\n",
    "\n",
    "df2['stm_oorz_code'].plot.box()"
   ]
  },
  {
   "cell_type": "markdown",
   "metadata": {},
   "source": [
    "Er is namelijk 102 sterke outliers te zien die onder de 1000 voorkomt. \n",
    "Deze kan de storingen die een code hebben van 999.0. Deze rijen worden verwijdert."
   ]
  },
  {
   "cell_type": "code",
   "execution_count": 18,
   "metadata": {},
   "outputs": [
    {
     "name": "stdout",
     "output_type": "stream",
     "text": [
      "Q1 = 2.0, Q3 = 5.0\n",
      "IQR = Q3 - Q1 = 2.0 - 5.0 = 3.0\n",
      "Lengte van de data : 898526\n",
      "\n",
      "Aantal sterke outliers boven de boxplot, boven de 14.0 : 0\n",
      "Aantal zwakke outliers boven de boxplot, tussen 9.5 en 14.0 : 0\n"
     ]
    },
    {
     "data": {
      "text/plain": [
       "<matplotlib.axes._subplots.AxesSubplot at 0x1d2c02f9b70>"
      ]
     },
     "execution_count": 18,
     "metadata": {},
     "output_type": "execute_result"
    },
    {
     "data": {
      "image/png": "[encoded data removed]",
      "text/plain": [
       "<Figure size 432x288 with 1 Axes>"
      ]
     },
     "metadata": {
      "needs_background": "light"
     },
     "output_type": "display_data"
    }
   ],
   "source": [
    "# # Uitschieters berekenen van prioriteit\n",
    "oorz_code = df2['stm_prioriteit'].sort_values() # sorteer de data\n",
    "\n",
    "# bereken de Q1, Q3 en de IQR \n",
    "q1 = oorz_code.quantile(0.25)\n",
    "q3 = oorz_code.quantile(0.75)\n",
    "iqr = q3-q1\n",
    "print(\"Q1 = {}, Q3 = {}\".format(q1, q3)) \n",
    "print(\"IQR = Q3 - Q1 = {} - {} = {}\".format(q1,q3,iqr))\n",
    "\n",
    "# Bereken het aantal zwakke en sterke outliers boven en onder de boxplot.\n",
    "zwakke_lower = oorz_code[(oorz_code<=q1-1.5*iqr)&(oorz_code>q1-3*iqr)].count()\n",
    "sterke_lower = oorz_code[oorz_code<q1-3*iqr].count()\n",
    "zwakke_upper = oorz_code[(oorz_code>=q3+1.5*iqr)&(oorz_code<q3+3*iqr)].count()\n",
    "sterke_upper = oorz_code[oorz_code>q3+3*iqr].count()\n",
    "\n",
    "print(\"Lengte van de data : {}\".format(len(oorz_code)))\n",
    "print()\n",
    "print(\"Aantal sterke outliers boven de boxplot, boven de {} : {}\".format(q3+3*iqr, sterke_upper))\n",
    "print(\"Aantal zwakke outliers boven de boxplot, tussen {} en {} : {}\".format(q3+1.5*iqr,q3+3*iqr, zwakke_upper))\n",
    "\n",
    "df2['stm_prioriteit'].plot.box() \n",
    "# Uit de boxplot is er geen sprake van uitschieters en de kolom lijkt wel te kloppen."
   ]
  },
  {
   "cell_type": "markdown",
   "metadata": {},
   "source": [
    "Er  komen geen outliers voor in deze feature. Deze feature hoeven we niet te behandelen."
   ]
  },
  {
   "cell_type": "markdown",
   "metadata": {},
   "source": [
    "Bij de reparatietijd, gaan we een selectie van data nemen. Met behulp van de product owners, weten we dat we maximaal een storing met een reparatietijd van 8 uren moet voorspellen.\n",
    "\n",
    "Wij kiezen voor een indergrens van 15 minuten. We gaan er  vanuit dat er geen drastische acties worden genomen als de oplossing van een storing korter dan 15minuten duurt.Voor deze storingen gaan wij er vanuit dat de dienstregeling niet aangepast hoeft te worden."
   ]
  },
  {
   "cell_type": "markdown",
   "metadata": {},
   "source": [
    "### Data Preparation "
   ]
  },
  {
   "cell_type": "markdown",
   "metadata": {},
   "source": [
    "In deze fase gaan we de data opschonen."
   ]
  },
  {
   "cell_type": "code",
   "execution_count": 19,
   "metadata": {},
   "outputs": [],
   "source": [
    "# Alle Nan waardes verwijderen\n",
    "df2 = df2.dropna()\n",
    "df2 = df2[(df2['stm_oorz_code'].isin([33, 48,51, 999]))== False] # de rijen verwijderen waar oorzaak groep is gelijk aan 33, 48, 51 en 999"
   ]
  },
  {
   "cell_type": "markdown",
   "metadata": {},
   "source": [
    "We gaan de feature stm_oorz_groep encoden naar numerieke waardes met behulp van get_dummies()."
   ]
  },
  {
   "cell_type": "code",
   "execution_count": null,
   "metadata": {},
   "outputs": [],
   "source": [
    "df2  = pd.get_dummies(df2, columns=[\"stm_oorz_groep\"])"
   ]
  },
  {
   "cell_type": "markdown",
   "metadata": {},
   "source": [
    "Als laatst gaan we een data selectie uitvoeren op de df2 waar de reparatietijd tussen 15 inuten en 8 uren zit."
   ]
  },
  {
   "cell_type": "code",
   "execution_count": 21,
   "metadata": {},
   "outputs": [],
   "source": [
    "# Data selectie is een range is van 15 en 480.\n",
    "df2 = df2[(df2['reparatietijd'] >= 15) & (df2['reparatietijd'] <=  480)]"
   ]
  },
  {
   "cell_type": "code",
   "execution_count": 22,
   "metadata": {},
   "outputs": [
    {
     "data": {
      "text/html": [
       "<div>\n",
       "<style scoped>\n",
       "    .dataframe tbody tr th:only-of-type {\n",
       "        vertical-align: middle;\n",
       "    }\n",
       "\n",
       "    .dataframe tbody tr th {\n",
       "        vertical-align: top;\n",
       "    }\n",
       "\n",
       "    .dataframe thead th {\n",
       "        text-align: right;\n",
       "    }\n",
       "</style>\n",
       "<table border=\"1\" class=\"dataframe\">\n",
       "  <thead>\n",
       "    <tr style=\"text-align: right;\">\n",
       "      <th></th>\n",
       "      <th>stm_oorz_code</th>\n",
       "      <th>stm_prioriteit</th>\n",
       "      <th>reparatietijd</th>\n",
       "      <th>stm_oorz_groep_ONR-DERD</th>\n",
       "      <th>stm_oorz_groep_ONR-RIB</th>\n",
       "      <th>stm_oorz_groep_TECHONV</th>\n",
       "      <th>stm_oorz_groep_WEER</th>\n",
       "    </tr>\n",
       "  </thead>\n",
       "  <tbody>\n",
       "    <tr>\n",
       "      <th>count</th>\n",
       "      <td>445793.000000</td>\n",
       "      <td>445793.000000</td>\n",
       "      <td>445793.000000</td>\n",
       "      <td>445793.000000</td>\n",
       "      <td>445793.000000</td>\n",
       "      <td>445793.000000</td>\n",
       "      <td>445793.000000</td>\n",
       "    </tr>\n",
       "    <tr>\n",
       "      <th>mean</th>\n",
       "      <td>197.680085</td>\n",
       "      <td>3.763749</td>\n",
       "      <td>79.612349</td>\n",
       "      <td>0.196392</td>\n",
       "      <td>0.102339</td>\n",
       "      <td>0.655134</td>\n",
       "      <td>0.046136</td>\n",
       "    </tr>\n",
       "    <tr>\n",
       "      <th>std</th>\n",
       "      <td>41.012273</td>\n",
       "      <td>1.365725</td>\n",
       "      <td>76.743582</td>\n",
       "      <td>0.397269</td>\n",
       "      <td>0.303094</td>\n",
       "      <td>0.475325</td>\n",
       "      <td>0.209779</td>\n",
       "    </tr>\n",
       "    <tr>\n",
       "      <th>min</th>\n",
       "      <td>130.000000</td>\n",
       "      <td>1.000000</td>\n",
       "      <td>15.000000</td>\n",
       "      <td>0.000000</td>\n",
       "      <td>0.000000</td>\n",
       "      <td>0.000000</td>\n",
       "      <td>0.000000</td>\n",
       "    </tr>\n",
       "    <tr>\n",
       "      <th>25%</th>\n",
       "      <td>151.000000</td>\n",
       "      <td>2.000000</td>\n",
       "      <td>30.000000</td>\n",
       "      <td>0.000000</td>\n",
       "      <td>0.000000</td>\n",
       "      <td>0.000000</td>\n",
       "      <td>0.000000</td>\n",
       "    </tr>\n",
       "    <tr>\n",
       "      <th>50%</th>\n",
       "      <td>215.000000</td>\n",
       "      <td>4.000000</td>\n",
       "      <td>53.000000</td>\n",
       "      <td>0.000000</td>\n",
       "      <td>0.000000</td>\n",
       "      <td>1.000000</td>\n",
       "      <td>0.000000</td>\n",
       "    </tr>\n",
       "    <tr>\n",
       "      <th>75%</th>\n",
       "      <td>221.000000</td>\n",
       "      <td>5.000000</td>\n",
       "      <td>99.000000</td>\n",
       "      <td>0.000000</td>\n",
       "      <td>0.000000</td>\n",
       "      <td>1.000000</td>\n",
       "      <td>0.000000</td>\n",
       "    </tr>\n",
       "    <tr>\n",
       "      <th>max</th>\n",
       "      <td>299.000000</td>\n",
       "      <td>9.000000</td>\n",
       "      <td>480.000000</td>\n",
       "      <td>1.000000</td>\n",
       "      <td>1.000000</td>\n",
       "      <td>1.000000</td>\n",
       "      <td>1.000000</td>\n",
       "    </tr>\n",
       "  </tbody>\n",
       "</table>\n",
       "</div>"
      ],
      "text/plain": [
       "       stm_oorz_code  stm_prioriteit  reparatietijd  stm_oorz_groep_ONR-DERD  \\\n",
       "count  445793.000000   445793.000000  445793.000000            445793.000000   \n",
       "mean      197.680085        3.763749      79.612349                 0.196392   \n",
       "std        41.012273        1.365725      76.743582                 0.397269   \n",
       "min       130.000000        1.000000      15.000000                 0.000000   \n",
       "25%       151.000000        2.000000      30.000000                 0.000000   \n",
       "50%       215.000000        4.000000      53.000000                 0.000000   \n",
       "75%       221.000000        5.000000      99.000000                 0.000000   \n",
       "max       299.000000        9.000000     480.000000                 1.000000   \n",
       "\n",
       "       stm_oorz_groep_ONR-RIB  stm_oorz_groep_TECHONV  stm_oorz_groep_WEER  \n",
       "count           445793.000000           445793.000000        445793.000000  \n",
       "mean                 0.102339                0.655134             0.046136  \n",
       "std                  0.303094                0.475325             0.209779  \n",
       "min                  0.000000                0.000000             0.000000  \n",
       "25%                  0.000000                0.000000             0.000000  \n",
       "50%                  0.000000                1.000000             0.000000  \n",
       "75%                  0.000000                1.000000             0.000000  \n",
       "max                  1.000000                1.000000             1.000000  "
      ]
     },
     "execution_count": 22,
     "metadata": {},
     "output_type": "execute_result"
    }
   ],
   "source": [
    "# nieuwe attributen van de df2 bekijken\n",
    "df2.describe()"
   ]
  },
  {
   "cell_type": "markdown",
   "metadata": {},
   "source": [
    "## Nieuw Baseline Model \n",
    "\n",
    "Er zal een nieuwe baseline model opesteld worden op base van de opgeschone data en de data selectie die we hadden gedaan."
   ]
  },
  {
   "cell_type": "code",
   "execution_count": 23,
   "metadata": {},
   "outputs": [
    {
     "data": {
      "text/plain": [
       "<matplotlib.axes._subplots.AxesSubplot at 0x1d2c0107160>"
      ]
     },
     "execution_count": 23,
     "metadata": {},
     "output_type": "execute_result"
    },
    {
     "data": {
      "image/png": "[encoded data removed]",
      "text/plain": [
       "<Figure size 432x288 with 1 Axes>"
      ]
     },
     "metadata": {
      "needs_background": "light"
     },
     "output_type": "display_data"
    }
   ],
   "source": [
    "#Nieuwe baseline model maken op bas evan de opgeschone data.\n",
    "# kopie van de data voor zekerheid\n",
    "df2_baseline = df2.copy()\n",
    "df2['reparatietijd'].plot.box()"
   ]
  },
  {
   "cell_type": "code",
   "execution_count": 24,
   "metadata": {},
   "outputs": [],
   "source": [
    "# Baselinne model    maken \n",
    "def baselinemodel(data,kolom):\n",
    "    data['Median']=  data[kolom].median()\n",
    "    # De kwaliteit/score van de model bepalen mbh van RMSE\n",
    "    score =np.sqrt(mse(data.loc[:,kolom],data.loc[:,'Median']))\n",
    "    return score"
   ]
  },
  {
   "cell_type": "code",
   "execution_count": 25,
   "metadata": {},
   "outputs": [
    {
     "data": {
      "text/plain": [
       "81.22672708215703"
      ]
     },
     "execution_count": 25,
     "metadata": {},
     "output_type": "execute_result"
    }
   ],
   "source": [
    "basescore = baselinemodel(df2_baseline, 'reparatietijd')\n",
    "basescore"
   ]
  },
  {
   "cell_type": "markdown",
   "metadata": {},
   "source": [
    "## Linear regression model "
   ]
  },
  {
   "cell_type": "code",
   "execution_count": 26,
   "metadata": {},
   "outputs": [],
   "source": [
    "def linearRegression(features, target):\n",
    "    x_train, x_test, y_train, y_test = train_test_split(features, target) # splitsen in traiining en testing dataset\n",
    "    # Geeft de dimensie van de opgesplitste datasets\n",
    "    print(x_train.shape)\n",
    "    print(y_train.shape)\n",
    "    print(x_test.shape)\n",
    "    print(y_test.shape)\n",
    "    linreg = LinearRegression()\n",
    "    #fit model \n",
    "    linreg.fit(x_train, y_train)\n",
    "    # Make prediction\n",
    "    y_pred = linreg.predict(x_test)\n",
    "    #Evaluate mbh van RMSE\n",
    "    lrscore = np.sqrt(mse(y_test, y_pred))\n",
    "    return lrscore"
   ]
  },
  {
   "cell_type": "code",
   "execution_count": 27,
   "metadata": {},
   "outputs": [],
   "source": [
    "#Data opsplitsen in features en target variabelen.\n",
    "features = df2[['stm_oorz_code', 'stm_prioriteit',\n",
    "       'stm_oorz_groep_ONR-DERD', 'stm_oorz_groep_ONR-RIB',\n",
    "       'stm_oorz_groep_TECHONV', 'stm_oorz_groep_WEER']]\n",
    "target = df2['reparatietijd']"
   ]
  },
  {
   "cell_type": "code",
   "execution_count": 28,
   "metadata": {},
   "outputs": [
    {
     "name": "stdout",
     "output_type": "stream",
     "text": [
      "(334344, 6)\n",
      "(334344,)\n",
      "(111449, 6)\n",
      "(111449,)\n"
     ]
    },
    {
     "data": {
      "text/plain": [
       "76.55732060079477"
      ]
     },
     "execution_count": 28,
     "metadata": {},
     "output_type": "execute_result"
    }
   ],
   "source": [
    "lrscore = linearRegression(features, target)\n",
    "lrscore"
   ]
  },
  {
   "cell_type": "code",
   "execution_count": 29,
   "metadata": {},
   "outputs": [
    {
     "data": {
      "text/plain": [
       "5.748608431113287"
      ]
     },
     "execution_count": 29,
     "metadata": {},
     "output_type": "execute_result"
    }
   ],
   "source": [
    "# Bereken de afwijking met de baseline model  in percentage\n",
    "((basescore - lrscore )/ basescore)*100 "
   ]
  },
  {
   "cell_type": "markdown",
   "metadata": {},
   "source": [
    "##### Conclusie:\n",
    "De score van onze Linear Regressie model is lager dan de score van de baseline model. <br>\n",
    "Er is een verbetering van relatief 28 %. Dit is best een groot verschil , dus we kunnen zeggen dat deze model  een redelijke model om   toe te paseen."
   ]
  },
  {
   "cell_type": "code",
   "execution_count": null,
   "metadata": {},
   "outputs": [],
   "source": []
  }
 ],
 "metadata": {
  "kernelspec": {
   "display_name": "Python 3",
   "language": "python",
   "name": "python3"
  },
  "language_info": {
   "codemirror_mode": {
    "name": "ipython",
    "version": 3
   },
   "file_extension": ".py",
   "mimetype": "text/x-python",
   "name": "python",
   "nbconvert_exporter": "python",
   "pygments_lexer": "ipython3",
   "version": "3.7.3"
  }
 },
 "nbformat": 4,
 "nbformat_minor": 2
}
