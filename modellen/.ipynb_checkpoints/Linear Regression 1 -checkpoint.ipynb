{
 "cells": [
  {
   "cell_type": "markdown",
   "metadata": {},
   "source": [
    "## Lineair Regression Model "
   ]
  },
  {
   "cell_type": "markdown",
   "metadata": {},
   "source": [
    "We hebben gekozen om een Lineair Regression model eerst toe te passen.De reden hiervoor is dat onze target variabel continu waardes bevatten. Bovendien zijn bevatten de meeste features continu waardes of kunen *encoded* worden naar discrete waardes.\n",
    "\n",
    "We zullen de volgende feature variabelen in onze Linear Regression model.\n",
    "* **stm_oorz_groep** : *Aan de hand van deze feature, krijgen we en beter definitie van de bepaalde storing. Welke groep de oorzaak een bepaalde storing geven. *\n",
    "* **stm_oor_code**   : *Zelfde als hierbove. De soort oorzaak van een bepaalde storing geven*\n",
    "* **stm_prioriteit** : *De ernst van en bepaalde storing geven.* "
   ]
  },
  {
   "cell_type": "code",
   "execution_count": 1,
   "metadata": {},
   "outputs": [],
   "source": [
    "# libraries importeren \n",
    "import pandas as pd\n",
    "import numpy as np\n",
    "from sklearn.metrics import mean_squared_error as mse\n",
    "from sklearn.model_selection import train_test_split\n",
    "from sklearn.linear_model import LinearRegression\n",
    "import matplotlib.pyplot as plt\n",
    "%matplotlib inline"
   ]
  },
  {
   "cell_type": "code",
   "execution_count": 2,
   "metadata": {},
   "outputs": [],
   "source": [
    "# dataset inlezen \n",
    "df = pd.read_csv('C:\\Amaryllis_school_documents\\Jaar_20_21\\DDB\\ddb_prorail\\DDB_Prorail\\data\\sap_storing_data_hu_project.csv', low_memory=False)"
   ]
  },
  {
   "cell_type": "markdown",
   "metadata": {},
   "source": [
    "### Data Understanding"
   ]
  },
  {
   "cell_type": "markdown",
   "metadata": {},
   "source": [
    "In deze fase gaan we naar de inhoud kijken van de features variabelen en een betere inzicht te krijgen van onze data."
   ]
  },
  {
   "cell_type": "markdown",
   "metadata": {},
   "source": [
    "#### Data Collection "
   ]
  },
  {
   "cell_type": "markdown",
   "metadata": {},
   "source": [
    "Er wordt een data selectie gedaan. We gaan onze gekozen feature en target variabelen in onze dataset uithalen en in een niewe dataframe zetten. Verder zullen we naar de attributen van de  nieuwe data bekijken."
   ]
  },
  {
   "cell_type": "code",
   "execution_count": 3,
   "metadata": {},
   "outputs": [
    {
     "ename": "SyntaxError",
     "evalue": "invalid syntax (<ipython-input-3-ec486aa2d3ea>, line 3)",
     "output_type": "error",
     "traceback": [
      "\u001b[1;36m  File \u001b[1;32m\"<ipython-input-3-ec486aa2d3ea>\"\u001b[1;36m, line \u001b[1;32m3\u001b[0m\n\u001b[1;33m    data['stm_aanntpl_ddt']=pd.to_datetime(data['stm_aanntpl_ddt'], in)#https://stackoverflow.com/questions/37801321/python-pandas-convert-string-to-time-only\u001b[0m\n\u001b[1;37m                                                                     ^\u001b[0m\n\u001b[1;31mSyntaxError\u001b[0m\u001b[1;31m:\u001b[0m invalid syntax\n"
     ]
    }
   ],
   "source": [
    "data = df[['stm_aanntpl_dd','stm_aanntpl_tijd','stm_fh_ddt']].dropna()\n",
    "data['stm_aanntpl_ddt']  = data['stm_aanntpl_dd']  +\" \"+ data['stm_aanntpl_tijd']\n",
    "data['stm_aanntpl_ddt']=pd.to_datetime(data['stm_aanntpl_ddt'], in)#https://stackoverflow.com/questions/37801321/python-pandas-convert-string-to-time-only\n",
    "data['stm_fh_ddt']=pd.to_datetime(data['stm_fh_ddt'])\n",
    "data['reparatietijd']   = data['stm_fh_ddt'] - data['stm_aanntpl_ddt']\n",
    "#https://stackoverflow.com/questions/17951820/convert-hhmmss-to-minutes-using-python-pandas\n",
    "data['reparatietijd']= data['reparatietijd'].dt.total_seconds().div(60)"
   ]
  },
  {
   "cell_type": "code",
   "execution_count": null,
   "metadata": {},
   "outputs": [],
   "source": [
    "# Data selectie maken van de dataset.\n",
    "df2  = df[['stm_oorz_groep', 'stm_oorz_code', 'stm_prioriteit']].copy()\n",
    "df2['reparatietijd'] = data['reparatietijd']\n",
    "df2.head()"
   ]
  },
  {
   "cell_type": "markdown",
   "metadata": {},
   "source": [
    "#### Data Describe \n",
    "\n",
    "In dit gedeelte gaan we naar de eigenschappen van onze data bekijken."
   ]
  },
  {
   "cell_type": "code",
   "execution_count": null,
   "metadata": {},
   "outputs": [],
   "source": [
    "# Dimensie van de df2 bekijken\n",
    "df2.shape"
   ]
  },
  {
   "cell_type": "code",
   "execution_count": null,
   "metadata": {},
   "outputs": [],
   "source": [
    "# datatypes van de dataset bekijken \n",
    "df2.dtypes"
   ]
  },
  {
   "cell_type": "markdown",
   "metadata": {},
   "source": [
    "**De meetniveaus van onze feature en target variabelen zijn de volgende:**\n",
    "* **stm_oorz_groep** : Nominale waardes. Deze kolom moeten we *encoden* naar discrrete waardes\n",
    "* **stm_oor_code**   : Nominale waardes. Deze kolom moeten we encoden naar discrrete waardes\n",
    "* **stm_prioriteit** : Continu waardes.\n",
    "* **reparatietijd**    : Continu waardes."
   ]
  },
  {
   "cell_type": "markdown",
   "metadata": {},
   "source": [
    "#### Data Explore"
   ]
  },
  {
   "cell_type": "code",
   "execution_count": null,
   "metadata": {},
   "outputs": [],
   "source": [
    "# attributen van df2 bekijken\n",
    "df2.describe()"
   ]
  },
  {
   "cell_type": "code",
   "execution_count": null,
   "metadata": {},
   "outputs": [],
   "source": [
    "# Aantal ontbrekende waardes bekijken \n",
    "df2.isnull().sum()"
   ]
  },
  {
   "cell_type": "markdown",
   "metadata": {},
   "source": [
    "Er is te zien dat we hebben te maken met veel NaN waardes in onze data. <br>\n",
    "De aantal rijen die we zullen verloren, wordt berekend en weeregeven in percentage.Hierdoor wordt er bepaald of het het verstandig is om al deze NaN waardes te vewijderen."
   ]
  },
  {
   "cell_type": "code",
   "execution_count": null,
   "metadata": {},
   "outputs": [],
   "source": [
    "# bereken aantal rijen die wordt verloren bij Nan waardes\n",
    "print('Rijen verloren door Nan oorzaakgroep : {}%'.format((df2['stm_oorz_groep'].isnull().sum()/845113)*100))\n",
    "print('Rijen verloren door Nan oorzaakcode  : {}%'.format((df2['stm_oorz_groep'].isnull().sum()/845113)*100))\n",
    "print('Rijen verloren door Nan oorzaakcode  : {}%'.format((df2['reparatietijd'].isnull().sum()/845113)*100))\n",
    "#totaal\n",
    "print('Totaal aantal rijen verloren : {} %'.format(df2.isnull().sum().sum()/845113*100))"
   ]
  },
  {
   "cell_type": "markdown",
   "metadata": {},
   "source": [
    "We verliezen 38% van de data."
   ]
  },
  {
   "cell_type": "markdown",
   "metadata": {},
   "source": [
    "We gaan nu  kijken naar elke feature bekijken."
   ]
  },
  {
   "cell_type": "code",
   "execution_count": null,
   "metadata": {},
   "outputs": [],
   "source": [
    "df2['stm_oorz_groep'].unique()"
   ]
  },
  {
   "cell_type": "markdown",
   "metadata": {},
   "source": [
    "In de kolom stm_orz_code gaan we de waarde met de csv bestand Oorzaakcodes verelijken om te zien of er wardes voorkomen die niet gelijk zijn."
   ]
  },
  {
   "cell_type": "code",
   "execution_count": null,
   "metadata": {},
   "outputs": [],
   "source": [
    "df2['stm_oorz_code'][df2['stm_oorz_code'].notnull()].sort_values().unique()"
   ]
  },
  {
   "cell_type": "code",
   "execution_count": null,
   "metadata": {},
   "outputs": [],
   "source": [
    "oorzcodes = pd.read_csv('C:\\Amaryllis_school_documents\\Jaar_20_21\\DDB\\ddb_prorail\\DDB_Prorail\\data\\Oorzaakcodes.csv', delimiter = ';')\n"
   ]
  },
  {
   "cell_type": "markdown",
   "metadata": {},
   "source": [
    "We zien dat de waardes 33,  48,51 en 999.\n",
    "Aan de hand van de bovenstaande code kunnnen we concluderen dat de we moeten df2 filteren die de rijen kiezen, waar de oorzaakcode tussen 130 en 299 zit. We zullen eerst zien hoeveel rijen bevatten deze deze oorzaak codes."
   ]
  },
  {
   "cell_type": "code",
   "execution_count": null,
   "metadata": {},
   "outputs": [],
   "source": [
    "print(len(df2[df2['stm_oorz_code'] == 33]))\n",
    "print(len(df2[df2['stm_oorz_code'] == 48]))\n",
    "print(len(df2[df2['stm_oorz_code'] == 51]))\n",
    "print(len(df2[df2['stm_oorz_code'] == 999]))"
   ]
  },
  {
   "cell_type": "markdown",
   "metadata": {},
   "source": [
    "Er zijn in totaal  105  rijen die deze waardes bevatten.We kunnen dus deze rijen uit onze data verwijderen."
   ]
  },
  {
   "cell_type": "code",
   "execution_count": null,
   "metadata": {},
   "outputs": [],
   "source": [
    "df2['stm_prioriteit'].unique()"
   ]
  },
  {
   "cell_type": "markdown",
   "metadata": {},
   "source": [
    "Er is geen rij/ storing met een prioriteit van 3 en 6 of 7, maar we  kunnen ze misschien wel  voorspellen anagezien dat ze continu waardes zijn in onze Linear Regression model."
   ]
  },
  {
   "cell_type": "markdown",
   "metadata": {},
   "source": [
    "We gaan ook kijken in onze data of er dubbele rijen (storingen voorkomen) dmv duplicated()"
   ]
  },
  {
   "cell_type": "code",
   "execution_count": null,
   "metadata": {},
   "outputs": [],
   "source": [
    "df2.columns"
   ]
  },
  {
   "cell_type": "code",
   "execution_count": null,
   "metadata": {},
   "outputs": [],
   "source": [
    "df2['stm_oorz_groep'].unique()"
   ]
  },
  {
   "cell_type": "code",
   "execution_count": null,
   "metadata": {},
   "outputs": [],
   "source": [
    "len(df2['stm_oorz_code'].dropna().unique())"
   ]
  },
  {
   "cell_type": "code",
   "execution_count": null,
   "metadata": {},
   "outputs": [],
   "source": [
    "len(df2['stm_prioriteit'].unique())"
   ]
  },
  {
   "cell_type": "markdown",
   "metadata": {},
   "source": [
    "### Data Preparation "
   ]
  },
  {
   "cell_type": "markdown",
   "metadata": {},
   "source": [
    "In deze fase gaan we de data opschonen."
   ]
  },
  {
   "cell_type": "code",
   "execution_count": null,
   "metadata": {},
   "outputs": [],
   "source": [
    "# Alle Nan waardes verwijderen\n",
    "df2 = df2.dropna()\n",
    "df2 = df2[(df2['stm_oorz_code'].isin([33, 48,51, 999]))== False] # de rijen verwijderen waar oorzaak groep is gelijk aan 33, 48, 51 en 999"
   ]
  },
  {
   "cell_type": "markdown",
   "metadata": {},
   "source": [
    "We gaan de feature stm_oorz_groep en oorz_code encoden naar numerieke waardes met behulp van get_dummies()."
   ]
  },
  {
   "cell_type": "code",
   "execution_count": null,
   "metadata": {},
   "outputs": [],
   "source": [
    "print(len(df2[df2.duplicated(keep='last')== False])) # kijk naar de dubbele rijen behalve de laatse occurrence. \n",
    "df2 = df2[df2.duplicated()== False]"
   ]
  },
  {
   "cell_type": "code",
   "execution_count": null,
   "metadata": {},
   "outputs": [],
   "source": [
    "df2.isnull().sum()"
   ]
  },
  {
   "cell_type": "code",
   "execution_count": null,
   "metadata": {},
   "outputs": [],
   "source": [
    "df2  = pd.get_dummies(df2, columns=[\"stm_oorz_groep\"])"
   ]
  },
  {
   "cell_type": "code",
   "execution_count": null,
   "metadata": {},
   "outputs": [],
   "source": [
    "df2  = pd.get_dummies(df2, columns=[\"stm_oorz_code\"])"
   ]
  },
  {
   "cell_type": "markdown",
   "metadata": {},
   "source": [
    "Als laatst gaan we een data selectie uitvoeren op de df2 waar de reparatietijd tussen 15 minuten en 8 uren zit."
   ]
  },
  {
   "cell_type": "markdown",
   "metadata": {},
   "source": [
    "Met behulp van de product owners, weten we dat we maximaal een storing met een reparatietijd van 8 uren moet voorspellen.\n",
    "\n",
    "Wij kiezen voor een indergrens van 15 minuten. We gaan er  vanuit dat er geen drastische acties worden genomen als de oplossing van een storing korter dan 15minuten duurt.Voor deze storingen gaan wij er vanuit dat de dienstregeling niet aangepast hoeft te worden."
   ]
  },
  {
   "cell_type": "code",
   "execution_count": null,
   "metadata": {},
   "outputs": [],
   "source": [
    "# Data selectie is een range is van 15 en 480.\n",
    "df2 = df2[(df2['reparatietijd'] >= 15) & (df2['reparatietijd'] <=  480)]"
   ]
  },
  {
   "cell_type": "code",
   "execution_count": null,
   "metadata": {
    "scrolled": true
   },
   "outputs": [],
   "source": [
    "percentile = np.percentile(df2['reparatietijd'].sort_values(), [25,50,75])\n",
    "Q1 = percentile[0]\n",
    "Q3 = percentile[2]\n",
    "IQR =  Q3 - Q1\n",
    "\n",
    "gns = Q1+1.5*IQR\n",
    "print(gns)\n",
    "print(len(df2[df2['reparatietijd']>gns])) \n",
    "df2['reparatietijd'].plot.box()"
   ]
  },
  {
   "cell_type": "code",
   "execution_count": null,
   "metadata": {},
   "outputs": [],
   "source": [
    "#attributen bekijken\n",
    "df2.describe()"
   ]
  },
  {
   "cell_type": "code",
   "execution_count": null,
   "metadata": {},
   "outputs": [],
   "source": [
    "# Opgeschone data opslaan in een pickle bestand\n",
    "data2.to_pickle(\"data.pkl\")"
   ]
  },
  {
   "cell_type": "markdown",
   "metadata": {},
   "source": [
    "## Nieuw Baseline Model \n",
    "\n",
    "Er zal een nieuwe baseline model opesteld worden op base van de opgeschone data en de data selectie die we hadden gedaan."
   ]
  },
  {
   "cell_type": "code",
   "execution_count": null,
   "metadata": {},
   "outputs": [],
   "source": [
    "#Nieuwe baseline model maken op bas evan de opgeschone data.\n",
    "# kopie van de data voor zekerheid\n",
    "df2_baseline = df2.copy()"
   ]
  },
  {
   "cell_type": "code",
   "execution_count": null,
   "metadata": {},
   "outputs": [],
   "source": [
    "# Baselinne model    maken \n",
    "def baselinemodel(data,kolom):\n",
    "    data['Median']=  data[kolom].median()\n",
    "    # De kwaliteit/score van de model bepalen mbh van RMSE\n",
    "    score =np.sqrt(mse(data.loc[:,kolom],data.loc[:,'Median']))\n",
    "    return score"
   ]
  },
  {
   "cell_type": "code",
   "execution_count": null,
   "metadata": {},
   "outputs": [],
   "source": [
    "basescore = baselinemodel(df2_baseline, 'reparatietijd')\n",
    "basescore"
   ]
  },
  {
   "cell_type": "code",
   "execution_count": null,
   "metadata": {},
   "outputs": [],
   "source": [
    "df2.to_pickle('df2.pkl')"
   ]
  },
  {
   "cell_type": "markdown",
   "metadata": {},
   "source": [
    "## Linear regression model "
   ]
  },
  {
   "cell_type": "code",
   "execution_count": null,
   "metadata": {},
   "outputs": [],
   "source": [
    "def linearRegression(features, target):\n",
    "    x_train, x_test, y_train, y_test = train_test_split(features, target) # splitsen in traiining en testing dataset\n",
    "    # Geeft de dimensie van de opgesplitste datasets\n",
    "    print(x_train.shape)\n",
    "    print(y_train.shape)\n",
    "    print(x_test.shape)\n",
    "    print(y_test.shape)\n",
    "    linreg = LinearRegression()\n",
    "    #fit model \n",
    "    linreg.fit(x_train, y_train)\n",
    "    # Make prediction\n",
    "    y_pred = linreg.predict(x_test)\n",
    "    #Evaluate mbh van RMSE\n",
    "    lrscore = np.sqrt(mse(y_test, y_pred))\n",
    "    return lrscore"
   ]
  },
  {
   "cell_type": "code",
   "execution_count": null,
   "metadata": {},
   "outputs": [],
   "source": [
    "#df2"
   ]
  },
  {
   "cell_type": "code",
   "execution_count": null,
   "metadata": {},
   "outputs": [],
   "source": [
    "#Data opsplitsen in features en target variabelen.\n",
    "features = df2.drop('reparatietijd', axis = 1)\n",
    "target = df2['reparatietijd']"
   ]
  },
  {
   "cell_type": "code",
   "execution_count": null,
   "metadata": {},
   "outputs": [],
   "source": [
    "lrscore = linearRegression(features, target)\n",
    "lrscore"
   ]
  },
  {
   "cell_type": "code",
   "execution_count": null,
   "metadata": {},
   "outputs": [],
   "source": [
    "# Bereken de afwijking met de baseline model  in percentage\n",
    "((basescore - lrscore )/ basescore)*100 "
   ]
  },
  {
   "cell_type": "markdown",
   "metadata": {},
   "source": [
    "##### Conclusie:\n",
    "De score van onze Linear Regressie model is lager dan de score van de baseline model. <br>\n",
    "Er is een verbetering van relatief 7,7 %. Dit is best een groot verschil , dus we kunnen zeggen dat deze model  een redelijke model om   toe te paseen."
   ]
  },
  {
   "cell_type": "code",
   "execution_count": null,
   "metadata": {},
   "outputs": [],
   "source": []
  }
 ],
 "metadata": {
  "kernelspec": {
   "display_name": "Python 3",
   "language": "python",
   "name": "python3"
  },
  "language_info": {
   "codemirror_mode": {
    "name": "ipython",
    "version": 3
   },
   "file_extension": ".py",
   "mimetype": "text/x-python",
   "name": "python",
   "nbconvert_exporter": "python",
   "pygments_lexer": "ipython3",
   "version": "3.7.3"
  }
 },
 "nbformat": 4,
 "nbformat_minor": 2
}
