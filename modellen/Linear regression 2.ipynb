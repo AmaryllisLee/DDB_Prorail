{
 "cells": [
  {
   "cell_type": "markdown",
   "metadata": {},
   "source": [
    "# Linear Regression 2"
   ]
  },
  {
   "cell_type": "markdown",
   "metadata": {},
   "source": [
    "We zullen in deze notebook een Linear Regression model maken die de reparatietijd  voorspelt op<br> base van de uitgebreide gekozen features *oorzaak groep, oorzaak code,  prioriteit,  <br>contractgebied codes en de meldtijd * <br>\n",
    "Deze features en taret zijn al opggeschoond in de notebook Data_understanding_Preparation_Nieuwe_Features.ipynb.\n"
   ]
  },
  {
   "cell_type": "code",
   "execution_count": 1,
   "metadata": {},
   "outputs": [],
   "source": [
    "# libraries importeren \n",
    "import pandas as pd\n",
    "import numpy as np\n",
    "from sklearn.metrics import mean_squared_error as mse\n",
    "from sklearn.model_selection import train_test_split\n",
    "from sklearn.linear_model import LinearRegression\n",
    "import matplotlib.pyplot as plt\n",
    "%matplotlib inline"
   ]
  },
  {
   "cell_type": "code",
   "execution_count": 2,
   "metadata": {},
   "outputs": [
    {
     "data": {
      "text/html": [
       "<div>\n",
       "<style scoped>\n",
       "    .dataframe tbody tr th:only-of-type {\n",
       "        vertical-align: middle;\n",
       "    }\n",
       "\n",
       "    .dataframe tbody tr th {\n",
       "        vertical-align: top;\n",
       "    }\n",
       "\n",
       "    .dataframe thead th {\n",
       "        text-align: right;\n",
       "    }\n",
       "</style>\n",
       "<table border=\"1\" class=\"dataframe\">\n",
       "  <thead>\n",
       "    <tr style=\"text-align: right;\">\n",
       "      <th></th>\n",
       "      <th>stm_prioriteit</th>\n",
       "      <th>reparatietijd</th>\n",
       "      <th>stm_oorz_groep_ONR-DERD</th>\n",
       "      <th>stm_oorz_groep_ONR-RIB</th>\n",
       "      <th>stm_oorz_groep_TECHONV</th>\n",
       "      <th>stm_oorz_groep_WEER</th>\n",
       "      <th>stm_oorz_code_130.0</th>\n",
       "      <th>stm_oorz_code_131.0</th>\n",
       "      <th>stm_oorz_code_132.0</th>\n",
       "      <th>stm_oorz_code_133.0</th>\n",
       "      <th>...</th>\n",
       "      <th>stm_sap_meldtijd_uren_14</th>\n",
       "      <th>stm_sap_meldtijd_uren_15</th>\n",
       "      <th>stm_sap_meldtijd_uren_16</th>\n",
       "      <th>stm_sap_meldtijd_uren_17</th>\n",
       "      <th>stm_sap_meldtijd_uren_18</th>\n",
       "      <th>stm_sap_meldtijd_uren_19</th>\n",
       "      <th>stm_sap_meldtijd_uren_20</th>\n",
       "      <th>stm_sap_meldtijd_uren_21</th>\n",
       "      <th>stm_sap_meldtijd_uren_22</th>\n",
       "      <th>stm_sap_meldtijd_uren_23</th>\n",
       "    </tr>\n",
       "  </thead>\n",
       "  <tbody>\n",
       "    <tr>\n",
       "      <th>32099</th>\n",
       "      <td>9.0</td>\n",
       "      <td>40.000000</td>\n",
       "      <td>0</td>\n",
       "      <td>0</td>\n",
       "      <td>1</td>\n",
       "      <td>0</td>\n",
       "      <td>0</td>\n",
       "      <td>0</td>\n",
       "      <td>0</td>\n",
       "      <td>0</td>\n",
       "      <td>...</td>\n",
       "      <td>0</td>\n",
       "      <td>0</td>\n",
       "      <td>0</td>\n",
       "      <td>0</td>\n",
       "      <td>0</td>\n",
       "      <td>0</td>\n",
       "      <td>0</td>\n",
       "      <td>1</td>\n",
       "      <td>0</td>\n",
       "      <td>0</td>\n",
       "    </tr>\n",
       "    <tr>\n",
       "      <th>86473</th>\n",
       "      <td>9.0</td>\n",
       "      <td>228.650000</td>\n",
       "      <td>0</td>\n",
       "      <td>1</td>\n",
       "      <td>0</td>\n",
       "      <td>0</td>\n",
       "      <td>0</td>\n",
       "      <td>0</td>\n",
       "      <td>0</td>\n",
       "      <td>1</td>\n",
       "      <td>...</td>\n",
       "      <td>0</td>\n",
       "      <td>0</td>\n",
       "      <td>1</td>\n",
       "      <td>0</td>\n",
       "      <td>0</td>\n",
       "      <td>0</td>\n",
       "      <td>0</td>\n",
       "      <td>0</td>\n",
       "      <td>0</td>\n",
       "      <td>0</td>\n",
       "    </tr>\n",
       "    <tr>\n",
       "      <th>91875</th>\n",
       "      <td>9.0</td>\n",
       "      <td>220.316667</td>\n",
       "      <td>1</td>\n",
       "      <td>0</td>\n",
       "      <td>0</td>\n",
       "      <td>0</td>\n",
       "      <td>0</td>\n",
       "      <td>0</td>\n",
       "      <td>0</td>\n",
       "      <td>0</td>\n",
       "      <td>...</td>\n",
       "      <td>1</td>\n",
       "      <td>0</td>\n",
       "      <td>0</td>\n",
       "      <td>0</td>\n",
       "      <td>0</td>\n",
       "      <td>0</td>\n",
       "      <td>0</td>\n",
       "      <td>0</td>\n",
       "      <td>0</td>\n",
       "      <td>0</td>\n",
       "    </tr>\n",
       "    <tr>\n",
       "      <th>92852</th>\n",
       "      <td>9.0</td>\n",
       "      <td>55.000000</td>\n",
       "      <td>0</td>\n",
       "      <td>0</td>\n",
       "      <td>1</td>\n",
       "      <td>0</td>\n",
       "      <td>0</td>\n",
       "      <td>0</td>\n",
       "      <td>0</td>\n",
       "      <td>0</td>\n",
       "      <td>...</td>\n",
       "      <td>0</td>\n",
       "      <td>0</td>\n",
       "      <td>0</td>\n",
       "      <td>0</td>\n",
       "      <td>0</td>\n",
       "      <td>0</td>\n",
       "      <td>0</td>\n",
       "      <td>0</td>\n",
       "      <td>0</td>\n",
       "      <td>0</td>\n",
       "    </tr>\n",
       "    <tr>\n",
       "      <th>93767</th>\n",
       "      <td>9.0</td>\n",
       "      <td>15.233333</td>\n",
       "      <td>1</td>\n",
       "      <td>0</td>\n",
       "      <td>0</td>\n",
       "      <td>0</td>\n",
       "      <td>0</td>\n",
       "      <td>0</td>\n",
       "      <td>0</td>\n",
       "      <td>0</td>\n",
       "      <td>...</td>\n",
       "      <td>0</td>\n",
       "      <td>0</td>\n",
       "      <td>0</td>\n",
       "      <td>0</td>\n",
       "      <td>0</td>\n",
       "      <td>0</td>\n",
       "      <td>0</td>\n",
       "      <td>0</td>\n",
       "      <td>0</td>\n",
       "      <td>0</td>\n",
       "    </tr>\n",
       "  </tbody>\n",
       "</table>\n",
       "<p>5 rows × 148 columns</p>\n",
       "</div>"
      ],
      "text/plain": [
       "       stm_prioriteit  reparatietijd  stm_oorz_groep_ONR-DERD  \\\n",
       "32099             9.0      40.000000                        0   \n",
       "86473             9.0     228.650000                        0   \n",
       "91875             9.0     220.316667                        1   \n",
       "92852             9.0      55.000000                        0   \n",
       "93767             9.0      15.233333                        1   \n",
       "\n",
       "       stm_oorz_groep_ONR-RIB  stm_oorz_groep_TECHONV  stm_oorz_groep_WEER  \\\n",
       "32099                       0                       1                    0   \n",
       "86473                       1                       0                    0   \n",
       "91875                       0                       0                    0   \n",
       "92852                       0                       1                    0   \n",
       "93767                       0                       0                    0   \n",
       "\n",
       "       stm_oorz_code_130.0  stm_oorz_code_131.0  stm_oorz_code_132.0  \\\n",
       "32099                    0                    0                    0   \n",
       "86473                    0                    0                    0   \n",
       "91875                    0                    0                    0   \n",
       "92852                    0                    0                    0   \n",
       "93767                    0                    0                    0   \n",
       "\n",
       "       stm_oorz_code_133.0  ...  stm_sap_meldtijd_uren_14  \\\n",
       "32099                    0  ...                         0   \n",
       "86473                    1  ...                         0   \n",
       "91875                    0  ...                         1   \n",
       "92852                    0  ...                         0   \n",
       "93767                    0  ...                         0   \n",
       "\n",
       "       stm_sap_meldtijd_uren_15  stm_sap_meldtijd_uren_16  \\\n",
       "32099                         0                         0   \n",
       "86473                         0                         1   \n",
       "91875                         0                         0   \n",
       "92852                         0                         0   \n",
       "93767                         0                         0   \n",
       "\n",
       "       stm_sap_meldtijd_uren_17  stm_sap_meldtijd_uren_18  \\\n",
       "32099                         0                         0   \n",
       "86473                         0                         0   \n",
       "91875                         0                         0   \n",
       "92852                         0                         0   \n",
       "93767                         0                         0   \n",
       "\n",
       "       stm_sap_meldtijd_uren_19  stm_sap_meldtijd_uren_20  \\\n",
       "32099                         0                         0   \n",
       "86473                         0                         0   \n",
       "91875                         0                         0   \n",
       "92852                         0                         0   \n",
       "93767                         0                         0   \n",
       "\n",
       "       stm_sap_meldtijd_uren_21  stm_sap_meldtijd_uren_22  \\\n",
       "32099                         1                         0   \n",
       "86473                         0                         0   \n",
       "91875                         0                         0   \n",
       "92852                         0                         0   \n",
       "93767                         0                         0   \n",
       "\n",
       "       stm_sap_meldtijd_uren_23  \n",
       "32099                         0  \n",
       "86473                         0  \n",
       "91875                         0  \n",
       "92852                         0  \n",
       "93767                         0  \n",
       "\n",
       "[5 rows x 148 columns]"
      ]
     },
     "execution_count": 2,
     "metadata": {},
     "output_type": "execute_result"
    }
   ],
   "source": [
    "# De dataset die we hadden opgeschoond en opgeslaan in een pickle bestand inlezen.\n",
    "df = pd.read_pickle('data2.pkl')\n",
    "df.head()"
   ]
  },
  {
   "cell_type": "code",
   "execution_count": 29,
   "metadata": {},
   "outputs": [],
   "source": [
    "def linearRegression(features, target):\n",
    "    'Bouwt een Linear Regressioon modelen geeft terug de model en de accuracy van de gegeven features en target variabelen'\n",
    "    x_train, x_test, y_train, y_test = train_test_split(features, target) # splitsen in traiining en testing dataset\n",
    "    # Geeft de dimensie van de opgesplitste datasets\n",
    "    print(x_train.shape)\n",
    "    print(y_train.shape)\n",
    "    print(x_test.shape)\n",
    "    print(y_test.shape)\n",
    "    linreg = LinearRegression()\n",
    "    #fit model \n",
    "    linreg.fit(x_train, y_train)\n",
    "    # Make prediction\n",
    "    y_pred = linreg.predict(x_test)\n",
    "    #Evaluate mbh van RMSE\n",
    "    lrscore = np.sqrt(mse(y_test, y_pred))\n",
    "    return linreg,  lrscore"
   ]
  },
  {
   "cell_type": "code",
   "execution_count": 30,
   "metadata": {},
   "outputs": [],
   "source": [
    "#Data opsplitsenn in feature en target \n",
    "features=  df.drop('reparatietijd', axis = 1)\n",
    "target = df['reparatietijd']"
   ]
  },
  {
   "cell_type": "code",
   "execution_count": 32,
   "metadata": {},
   "outputs": [
    {
     "name": "stdout",
     "output_type": "stream",
     "text": [
      "(211890, 147)\n",
      "(211890,)\n",
      "(70631, 147)\n",
      "(70631,)\n"
     ]
    },
    {
     "data": {
      "text/plain": [
       "73.19529291559071"
      ]
     },
     "execution_count": 32,
     "metadata": {},
     "output_type": "execute_result"
    }
   ],
   "source": [
    "# Linear Regresion op features en taret toepassen en de score weergeven\n",
    "linreg, lrscore2 = linearRegression(features, target)\n",
    "lrscore2"
   ]
  },
  {
   "cell_type": "markdown",
   "metadata": {},
   "source": [
    "Uit Linear regression 1, kwamenwe  met de volgende scores:\n",
    "* Baseline model : 112.25910075267038\n",
    "* Linear Regression 1: 104.09998662517367\n",
    "    * Er is een verbeting van relatiief 7.2"
   ]
  },
  {
   "cell_type": "code",
   "execution_count": 6,
   "metadata": {},
   "outputs": [
    {
     "data": {
      "text/plain": [
       "34.866570164615574"
      ]
     },
     "execution_count": 6,
     "metadata": {},
     "output_type": "execute_result"
    }
   ],
   "source": [
    "# Bereken de afwijkinng van de baseline model \n",
    "scorebaseline= 112.25910075267038\n",
    "((scorebaseline - lrscore2 )/ scorebaseline)*100 "
   ]
  },
  {
   "cell_type": "markdown",
   "metadata": {},
   "source": [
    "Er is een verbetering van 35% met de Linear reagression 2. <br> Dit is hoger dan de verbetering van 7,2 % van Linear Regression 1. Dit is een betere model om toe te passen."
   ]
  },
  {
   "cell_type": "markdown",
   "metadata": {},
   "source": [
    "## Validatie model"
   ]
  },
  {
   "cell_type": "code",
   "execution_count": 7,
   "metadata": {},
   "outputs": [
    {
     "data": {
      "text/html": [
       "<div>\n",
       "<style scoped>\n",
       "    .dataframe tbody tr th:only-of-type {\n",
       "        vertical-align: middle;\n",
       "    }\n",
       "\n",
       "    .dataframe tbody tr th {\n",
       "        vertical-align: top;\n",
       "    }\n",
       "\n",
       "    .dataframe thead th {\n",
       "        text-align: right;\n",
       "    }\n",
       "</style>\n",
       "<table border=\"1\" class=\"dataframe\">\n",
       "  <thead>\n",
       "    <tr style=\"text-align: right;\">\n",
       "      <th></th>\n",
       "      <th>stm_oorz_groep</th>\n",
       "      <th>stm_oorz_code</th>\n",
       "      <th>stm_prioriteit</th>\n",
       "      <th>stm_contractgeb_gst</th>\n",
       "      <th>stm_sap_meldtijd</th>\n",
       "    </tr>\n",
       "  </thead>\n",
       "  <tbody>\n",
       "    <tr>\n",
       "      <th>0</th>\n",
       "      <td>ONR-DERD</td>\n",
       "      <td>148.0</td>\n",
       "      <td>2.0</td>\n",
       "      <td>33.0</td>\n",
       "      <td>17:15:14</td>\n",
       "    </tr>\n",
       "    <tr>\n",
       "      <th>1</th>\n",
       "      <td>TECHONV</td>\n",
       "      <td>218.0</td>\n",
       "      <td>2.0</td>\n",
       "      <td>33.0</td>\n",
       "      <td>13:37:55</td>\n",
       "    </tr>\n",
       "    <tr>\n",
       "      <th>2</th>\n",
       "      <td>ONR-RIB</td>\n",
       "      <td>130.0</td>\n",
       "      <td>1.0</td>\n",
       "      <td>27.0</td>\n",
       "      <td>17:10:22</td>\n",
       "    </tr>\n",
       "  </tbody>\n",
       "</table>\n",
       "</div>"
      ],
      "text/plain": [
       "  stm_oorz_groep  stm_oorz_code  stm_prioriteit  stm_contractgeb_gst  \\\n",
       "0       ONR-DERD          148.0             2.0                 33.0   \n",
       "1        TECHONV          218.0             2.0                 33.0   \n",
       "2        ONR-RIB          130.0             1.0                 27.0   \n",
       "\n",
       "  stm_sap_meldtijd  \n",
       "0         17:15:14  \n",
       "1         13:37:55  \n",
       "2         17:10:22  "
      ]
     },
     "execution_count": 7,
     "metadata": {},
     "output_type": "execute_result"
    }
   ],
   "source": [
    "vadata = pd.read_csv('C:\\Amaryllis_school_documents\\Jaar_20_21\\DDB\\ddb_prorail\\DDB_Prorail\\data\\Validatieset 2020-2021 CSV.csv', delimiter= ';')\n",
    "data2 = vadata[['stm_oorz_groep', 'stm_oorz_code', 'stm_prioriteit', 'stm_contractgeb_gst', 'stm_sap_meldtijd']].copy()\n",
    "data2"
   ]
  },
  {
   "cell_type": "code",
   "execution_count": 8,
   "metadata": {},
   "outputs": [],
   "source": [
    "data2 = pd.get_dummies(data2, columns = ['stm_oorz_groep'])\n",
    "data2 = pd.get_dummies(data2, columns = ['stm_oorz_code'])\n",
    "data2 = pd.get_dummies(data2, columns = ['stm_contractgeb_gst'])"
   ]
  },
  {
   "cell_type": "code",
   "execution_count": 9,
   "metadata": {},
   "outputs": [],
   "source": [
    "data2['stm_sap_meldtijd_uren'] = round(pd.to_timedelta(data2['stm_sap_meldtijd']).dt.total_seconds().div(3600)).astype(int)"
   ]
  },
  {
   "cell_type": "code",
   "execution_count": 10,
   "metadata": {},
   "outputs": [],
   "source": [
    "data2 = data2.drop('stm_sap_meldtijd', axis  = 1)"
   ]
  },
  {
   "cell_type": "code",
   "execution_count": 11,
   "metadata": {},
   "outputs": [],
   "source": [
    "data2 = pd.get_dummies(data2, columns = ['stm_sap_meldtijd_uren'])"
   ]
  },
  {
   "cell_type": "code",
   "execution_count": 12,
   "metadata": {},
   "outputs": [
    {
     "data": {
      "text/html": [
       "<div>\n",
       "<style scoped>\n",
       "    .dataframe tbody tr th:only-of-type {\n",
       "        vertical-align: middle;\n",
       "    }\n",
       "\n",
       "    .dataframe tbody tr th {\n",
       "        vertical-align: top;\n",
       "    }\n",
       "\n",
       "    .dataframe thead th {\n",
       "        text-align: right;\n",
       "    }\n",
       "</style>\n",
       "<table border=\"1\" class=\"dataframe\">\n",
       "  <thead>\n",
       "    <tr style=\"text-align: right;\">\n",
       "      <th></th>\n",
       "      <th>stm_prioriteit</th>\n",
       "      <th>stm_oorz_groep_ONR-DERD</th>\n",
       "      <th>stm_oorz_groep_ONR-RIB</th>\n",
       "      <th>stm_oorz_groep_TECHONV</th>\n",
       "      <th>stm_oorz_code_130.0</th>\n",
       "      <th>stm_oorz_code_148.0</th>\n",
       "      <th>stm_oorz_code_218.0</th>\n",
       "      <th>stm_contractgeb_gst_27.0</th>\n",
       "      <th>stm_contractgeb_gst_33.0</th>\n",
       "      <th>stm_sap_meldtijd_uren_14</th>\n",
       "      <th>stm_sap_meldtijd_uren_17</th>\n",
       "    </tr>\n",
       "  </thead>\n",
       "  <tbody>\n",
       "    <tr>\n",
       "      <th>0</th>\n",
       "      <td>2.0</td>\n",
       "      <td>1</td>\n",
       "      <td>0</td>\n",
       "      <td>0</td>\n",
       "      <td>0</td>\n",
       "      <td>1</td>\n",
       "      <td>0</td>\n",
       "      <td>0</td>\n",
       "      <td>1</td>\n",
       "      <td>0</td>\n",
       "      <td>1</td>\n",
       "    </tr>\n",
       "    <tr>\n",
       "      <th>1</th>\n",
       "      <td>2.0</td>\n",
       "      <td>0</td>\n",
       "      <td>0</td>\n",
       "      <td>1</td>\n",
       "      <td>0</td>\n",
       "      <td>0</td>\n",
       "      <td>1</td>\n",
       "      <td>0</td>\n",
       "      <td>1</td>\n",
       "      <td>1</td>\n",
       "      <td>0</td>\n",
       "    </tr>\n",
       "    <tr>\n",
       "      <th>2</th>\n",
       "      <td>1.0</td>\n",
       "      <td>0</td>\n",
       "      <td>1</td>\n",
       "      <td>0</td>\n",
       "      <td>1</td>\n",
       "      <td>0</td>\n",
       "      <td>0</td>\n",
       "      <td>1</td>\n",
       "      <td>0</td>\n",
       "      <td>0</td>\n",
       "      <td>1</td>\n",
       "    </tr>\n",
       "  </tbody>\n",
       "</table>\n",
       "</div>"
      ],
      "text/plain": [
       "   stm_prioriteit  stm_oorz_groep_ONR-DERD  stm_oorz_groep_ONR-RIB  \\\n",
       "0             2.0                        1                       0   \n",
       "1             2.0                        0                       0   \n",
       "2             1.0                        0                       1   \n",
       "\n",
       "   stm_oorz_groep_TECHONV  stm_oorz_code_130.0  stm_oorz_code_148.0  \\\n",
       "0                       0                    0                    1   \n",
       "1                       1                    0                    0   \n",
       "2                       0                    1                    0   \n",
       "\n",
       "   stm_oorz_code_218.0  stm_contractgeb_gst_27.0  stm_contractgeb_gst_33.0  \\\n",
       "0                    0                         0                         1   \n",
       "1                    1                         0                         1   \n",
       "2                    0                         1                         0   \n",
       "\n",
       "   stm_sap_meldtijd_uren_14  stm_sap_meldtijd_uren_17  \n",
       "0                         0                         1  \n",
       "1                         1                         0  \n",
       "2                         0                         1  "
      ]
     },
     "execution_count": 12,
     "metadata": {},
     "output_type": "execute_result"
    }
   ],
   "source": [
    "data2"
   ]
  },
  {
   "cell_type": "code",
   "execution_count": 13,
   "metadata": {},
   "outputs": [],
   "source": [
    "#model  "
   ]
  },
  {
   "cell_type": "code",
   "execution_count": 14,
   "metadata": {},
   "outputs": [],
   "source": [
    "from sklearn.preprocessing import OneHotEncoder, LabelEncoder"
   ]
  },
  {
   "cell_type": "code",
   "execution_count": 15,
   "metadata": {},
   "outputs": [
    {
     "data": {
      "text/html": [
       "<div>\n",
       "<style scoped>\n",
       "    .dataframe tbody tr th:only-of-type {\n",
       "        vertical-align: middle;\n",
       "    }\n",
       "\n",
       "    .dataframe tbody tr th {\n",
       "        vertical-align: top;\n",
       "    }\n",
       "\n",
       "    .dataframe thead th {\n",
       "        text-align: right;\n",
       "    }\n",
       "</style>\n",
       "<table border=\"1\" class=\"dataframe\">\n",
       "  <thead>\n",
       "    <tr style=\"text-align: right;\">\n",
       "      <th></th>\n",
       "      <th>stm_prioriteit</th>\n",
       "      <th>stm_oorz_groep_ONR-DERD</th>\n",
       "      <th>stm_oorz_groep_ONR-RIB</th>\n",
       "      <th>stm_oorz_groep_TECHONV</th>\n",
       "      <th>stm_oorz_groep_WEER</th>\n",
       "      <th>stm_oorz_code_130.0</th>\n",
       "      <th>stm_oorz_code_131.0</th>\n",
       "      <th>stm_oorz_code_132.0</th>\n",
       "      <th>stm_oorz_code_133.0</th>\n",
       "      <th>stm_oorz_code_134.0</th>\n",
       "      <th>...</th>\n",
       "      <th>stm_sap_meldtijd_uren_14</th>\n",
       "      <th>stm_sap_meldtijd_uren_15</th>\n",
       "      <th>stm_sap_meldtijd_uren_16</th>\n",
       "      <th>stm_sap_meldtijd_uren_17</th>\n",
       "      <th>stm_sap_meldtijd_uren_18</th>\n",
       "      <th>stm_sap_meldtijd_uren_19</th>\n",
       "      <th>stm_sap_meldtijd_uren_20</th>\n",
       "      <th>stm_sap_meldtijd_uren_21</th>\n",
       "      <th>stm_sap_meldtijd_uren_22</th>\n",
       "      <th>stm_sap_meldtijd_uren_23</th>\n",
       "    </tr>\n",
       "  </thead>\n",
       "  <tbody>\n",
       "  </tbody>\n",
       "</table>\n",
       "<p>0 rows × 147 columns</p>\n",
       "</div>"
      ],
      "text/plain": [
       "Empty DataFrame\n",
       "Columns: [stm_prioriteit, stm_oorz_groep_ONR-DERD, stm_oorz_groep_ONR-RIB, stm_oorz_groep_TECHONV, stm_oorz_groep_WEER, stm_oorz_code_130.0, stm_oorz_code_131.0, stm_oorz_code_132.0, stm_oorz_code_133.0, stm_oorz_code_134.0, stm_oorz_code_135.0, stm_oorz_code_136.0, stm_oorz_code_139.0, stm_oorz_code_140.0, stm_oorz_code_141.0, stm_oorz_code_142.0, stm_oorz_code_143.0, stm_oorz_code_144.0, stm_oorz_code_145.0, stm_oorz_code_146.0, stm_oorz_code_147.0, stm_oorz_code_148.0, stm_oorz_code_149.0, stm_oorz_code_150.0, stm_oorz_code_151.0, stm_oorz_code_154.0, stm_oorz_code_180.0, stm_oorz_code_181.0, stm_oorz_code_182.0, stm_oorz_code_183.0, stm_oorz_code_184.0, stm_oorz_code_185.0, stm_oorz_code_186.0, stm_oorz_code_187.0, stm_oorz_code_188.0, stm_oorz_code_189.0, stm_oorz_code_201.0, stm_oorz_code_202.0, stm_oorz_code_203.0, stm_oorz_code_204.0, stm_oorz_code_205.0, stm_oorz_code_206.0, stm_oorz_code_207.0, stm_oorz_code_208.0, stm_oorz_code_209.0, stm_oorz_code_210.0, stm_oorz_code_211.0, stm_oorz_code_212.0, stm_oorz_code_213.0, stm_oorz_code_214.0, stm_oorz_code_215.0, stm_oorz_code_218.0, stm_oorz_code_219.0, stm_oorz_code_220.0, stm_oorz_code_221.0, stm_oorz_code_222.0, stm_oorz_code_223.0, stm_oorz_code_224.0, stm_oorz_code_225.0, stm_oorz_code_226.0, stm_oorz_code_227.0, stm_oorz_code_228.0, stm_oorz_code_229.0, stm_oorz_code_230.0, stm_oorz_code_231.0, stm_oorz_code_233.0, stm_oorz_code_234.0, stm_oorz_code_235.0, stm_oorz_code_239.0, stm_oorz_code_240.0, stm_oorz_code_241.0, stm_oorz_code_242.0, stm_oorz_code_250.0, stm_oorz_code_294.0, stm_oorz_code_298.0, stm_oorz_code_299.0, stm_contractgeb_gst_1.0, stm_contractgeb_gst_2.0, stm_contractgeb_gst_3.0, stm_contractgeb_gst_4.0, stm_contractgeb_gst_5.0, stm_contractgeb_gst_6.0, stm_contractgeb_gst_7.0, stm_contractgeb_gst_8.0, stm_contractgeb_gst_9.0, stm_contractgeb_gst_10.0, stm_contractgeb_gst_11.0, stm_contractgeb_gst_12.0, stm_contractgeb_gst_13.0, stm_contractgeb_gst_14.0, stm_contractgeb_gst_15.0, stm_contractgeb_gst_16.0, stm_contractgeb_gst_18.0, stm_contractgeb_gst_19.0, stm_contractgeb_gst_20.0, stm_contractgeb_gst_21.0, stm_contractgeb_gst_22.0, stm_contractgeb_gst_23.0, stm_contractgeb_gst_24.0, stm_contractgeb_gst_25.0, ...]\n",
       "Index: []\n",
       "\n",
       "[0 rows x 147 columns]"
      ]
     },
     "execution_count": 15,
     "metadata": {},
     "output_type": "execute_result"
    }
   ],
   "source": [
    "data3 = pd.DataFrame(data=None, columns=features.columns)\n",
    "data3"
   ]
  },
  {
   "cell_type": "code",
   "execution_count": 16,
   "metadata": {},
   "outputs": [
    {
     "name": "stderr",
     "output_type": "stream",
     "text": [
      "C:\\ProgramData\\Anaconda3\\lib\\site-packages\\pandas\\core\\frame.py:6692: FutureWarning: Sorting because non-concatenation axis is not aligned. A future version\n",
      "of pandas will change to not sort by default.\n",
      "\n",
      "To accept the future behavior, pass 'sort=False'.\n",
      "\n",
      "To retain the current behavior and silence the warning, pass 'sort=True'.\n",
      "\n",
      "  sort=sort)\n"
     ]
    },
    {
     "data": {
      "text/html": [
       "<div>\n",
       "<style scoped>\n",
       "    .dataframe tbody tr th:only-of-type {\n",
       "        vertical-align: middle;\n",
       "    }\n",
       "\n",
       "    .dataframe tbody tr th {\n",
       "        vertical-align: top;\n",
       "    }\n",
       "\n",
       "    .dataframe thead th {\n",
       "        text-align: right;\n",
       "    }\n",
       "</style>\n",
       "<table border=\"1\" class=\"dataframe\">\n",
       "  <thead>\n",
       "    <tr style=\"text-align: right;\">\n",
       "      <th></th>\n",
       "      <th>stm_contractgeb_gst_1.0</th>\n",
       "      <th>stm_contractgeb_gst_10.0</th>\n",
       "      <th>stm_contractgeb_gst_11.0</th>\n",
       "      <th>stm_contractgeb_gst_12.0</th>\n",
       "      <th>stm_contractgeb_gst_13.0</th>\n",
       "      <th>stm_contractgeb_gst_14.0</th>\n",
       "      <th>stm_contractgeb_gst_15.0</th>\n",
       "      <th>stm_contractgeb_gst_16.0</th>\n",
       "      <th>stm_contractgeb_gst_18.0</th>\n",
       "      <th>stm_contractgeb_gst_19.0</th>\n",
       "      <th>...</th>\n",
       "      <th>stm_sap_meldtijd_uren_21</th>\n",
       "      <th>stm_sap_meldtijd_uren_22</th>\n",
       "      <th>stm_sap_meldtijd_uren_23</th>\n",
       "      <th>stm_sap_meldtijd_uren_3</th>\n",
       "      <th>stm_sap_meldtijd_uren_4</th>\n",
       "      <th>stm_sap_meldtijd_uren_5</th>\n",
       "      <th>stm_sap_meldtijd_uren_6</th>\n",
       "      <th>stm_sap_meldtijd_uren_7</th>\n",
       "      <th>stm_sap_meldtijd_uren_8</th>\n",
       "      <th>stm_sap_meldtijd_uren_9</th>\n",
       "    </tr>\n",
       "  </thead>\n",
       "  <tbody>\n",
       "    <tr>\n",
       "      <th>0</th>\n",
       "      <td>0</td>\n",
       "      <td>0</td>\n",
       "      <td>0</td>\n",
       "      <td>0</td>\n",
       "      <td>0</td>\n",
       "      <td>0</td>\n",
       "      <td>0</td>\n",
       "      <td>0</td>\n",
       "      <td>0</td>\n",
       "      <td>0</td>\n",
       "      <td>...</td>\n",
       "      <td>0</td>\n",
       "      <td>0</td>\n",
       "      <td>0</td>\n",
       "      <td>0</td>\n",
       "      <td>0</td>\n",
       "      <td>0</td>\n",
       "      <td>0</td>\n",
       "      <td>0</td>\n",
       "      <td>0</td>\n",
       "      <td>0</td>\n",
       "    </tr>\n",
       "    <tr>\n",
       "      <th>1</th>\n",
       "      <td>0</td>\n",
       "      <td>0</td>\n",
       "      <td>0</td>\n",
       "      <td>0</td>\n",
       "      <td>0</td>\n",
       "      <td>0</td>\n",
       "      <td>0</td>\n",
       "      <td>0</td>\n",
       "      <td>0</td>\n",
       "      <td>0</td>\n",
       "      <td>...</td>\n",
       "      <td>0</td>\n",
       "      <td>0</td>\n",
       "      <td>0</td>\n",
       "      <td>0</td>\n",
       "      <td>0</td>\n",
       "      <td>0</td>\n",
       "      <td>0</td>\n",
       "      <td>0</td>\n",
       "      <td>0</td>\n",
       "      <td>0</td>\n",
       "    </tr>\n",
       "    <tr>\n",
       "      <th>2</th>\n",
       "      <td>0</td>\n",
       "      <td>0</td>\n",
       "      <td>0</td>\n",
       "      <td>0</td>\n",
       "      <td>0</td>\n",
       "      <td>0</td>\n",
       "      <td>0</td>\n",
       "      <td>0</td>\n",
       "      <td>0</td>\n",
       "      <td>0</td>\n",
       "      <td>...</td>\n",
       "      <td>0</td>\n",
       "      <td>0</td>\n",
       "      <td>0</td>\n",
       "      <td>0</td>\n",
       "      <td>0</td>\n",
       "      <td>0</td>\n",
       "      <td>0</td>\n",
       "      <td>0</td>\n",
       "      <td>0</td>\n",
       "      <td>0</td>\n",
       "    </tr>\n",
       "  </tbody>\n",
       "</table>\n",
       "<p>3 rows × 147 columns</p>\n",
       "</div>"
      ],
      "text/plain": [
       "   stm_contractgeb_gst_1.0  stm_contractgeb_gst_10.0  \\\n",
       "0                        0                         0   \n",
       "1                        0                         0   \n",
       "2                        0                         0   \n",
       "\n",
       "   stm_contractgeb_gst_11.0  stm_contractgeb_gst_12.0  \\\n",
       "0                         0                         0   \n",
       "1                         0                         0   \n",
       "2                         0                         0   \n",
       "\n",
       "   stm_contractgeb_gst_13.0  stm_contractgeb_gst_14.0  \\\n",
       "0                         0                         0   \n",
       "1                         0                         0   \n",
       "2                         0                         0   \n",
       "\n",
       "   stm_contractgeb_gst_15.0  stm_contractgeb_gst_16.0  \\\n",
       "0                         0                         0   \n",
       "1                         0                         0   \n",
       "2                         0                         0   \n",
       "\n",
       "   stm_contractgeb_gst_18.0  stm_contractgeb_gst_19.0  ...  \\\n",
       "0                         0                         0  ...   \n",
       "1                         0                         0  ...   \n",
       "2                         0                         0  ...   \n",
       "\n",
       "   stm_sap_meldtijd_uren_21  stm_sap_meldtijd_uren_22  \\\n",
       "0                         0                         0   \n",
       "1                         0                         0   \n",
       "2                         0                         0   \n",
       "\n",
       "   stm_sap_meldtijd_uren_23  stm_sap_meldtijd_uren_3  stm_sap_meldtijd_uren_4  \\\n",
       "0                         0                        0                        0   \n",
       "1                         0                        0                        0   \n",
       "2                         0                        0                        0   \n",
       "\n",
       "   stm_sap_meldtijd_uren_5  stm_sap_meldtijd_uren_6  stm_sap_meldtijd_uren_7  \\\n",
       "0                        0                        0                        0   \n",
       "1                        0                        0                        0   \n",
       "2                        0                        0                        0   \n",
       "\n",
       "   stm_sap_meldtijd_uren_8  stm_sap_meldtijd_uren_9  \n",
       "0                        0                        0  \n",
       "1                        0                        0  \n",
       "2                        0                        0  \n",
       "\n",
       "[3 rows x 147 columns]"
      ]
     },
     "execution_count": 16,
     "metadata": {},
     "output_type": "execute_result"
    }
   ],
   "source": [
    "data3 = data3.append(data2)\n",
    "data3 = data3.fillna(0)\n",
    "data3"
   ]
  },
  {
   "cell_type": "code",
   "execution_count": 17,
   "metadata": {},
   "outputs": [],
   "source": [
    "y_pred = linreg.predict(data3)"
   ]
  },
  {
   "cell_type": "code",
   "execution_count": 18,
   "metadata": {},
   "outputs": [
    {
     "data": {
      "text/plain": [
       "array([-4.03874335e+12,  1.77431317e+13, -1.38078935e+13])"
      ]
     },
     "execution_count": 18,
     "metadata": {},
     "output_type": "execute_result"
    }
   ],
   "source": [
    "y_pred"
   ]
  },
  {
   "cell_type": "code",
   "execution_count": 19,
   "metadata": {},
   "outputs": [],
   "source": [
    "data4 = vadata[['stm_aanntpl_dd','stm_aanntpl_tijd','stm_fh_ddt']].copy()"
   ]
  },
  {
   "cell_type": "code",
   "execution_count": 20,
   "metadata": {},
   "outputs": [],
   "source": [
    "data4.loc[:, 'reparatietijd'] = (pd.to_datetime(data4['stm_fh_ddt']) -  pd.to_datetime(data4.loc[:,'stm_aanntpl_dd']  +\" \"+ data4['stm_aanntpl_tijd'])).dt.total_seconds().div(60)"
   ]
  },
  {
   "cell_type": "code",
   "execution_count": 21,
   "metadata": {},
   "outputs": [
    {
     "data": {
      "text/html": [
       "<div>\n",
       "<style scoped>\n",
       "    .dataframe tbody tr th:only-of-type {\n",
       "        vertical-align: middle;\n",
       "    }\n",
       "\n",
       "    .dataframe tbody tr th {\n",
       "        vertical-align: top;\n",
       "    }\n",
       "\n",
       "    .dataframe thead th {\n",
       "        text-align: right;\n",
       "    }\n",
       "</style>\n",
       "<table border=\"1\" class=\"dataframe\">\n",
       "  <thead>\n",
       "    <tr style=\"text-align: right;\">\n",
       "      <th></th>\n",
       "      <th>stm_aanntpl_dd</th>\n",
       "      <th>stm_aanntpl_tijd</th>\n",
       "      <th>stm_fh_ddt</th>\n",
       "      <th>reparatietijd</th>\n",
       "    </tr>\n",
       "  </thead>\n",
       "  <tbody>\n",
       "    <tr>\n",
       "      <th>0</th>\n",
       "      <td>25/05/2017</td>\n",
       "      <td>18:00:01</td>\n",
       "      <td>25/05/2017 18:15:00</td>\n",
       "      <td>14.983333</td>\n",
       "    </tr>\n",
       "    <tr>\n",
       "      <th>1</th>\n",
       "      <td>25/05/2018</td>\n",
       "      <td>14:40:00</td>\n",
       "      <td>25/05/2018 14:40:01</td>\n",
       "      <td>0.016667</td>\n",
       "    </tr>\n",
       "    <tr>\n",
       "      <th>2</th>\n",
       "      <td>11/01/2018</td>\n",
       "      <td>17:26:56</td>\n",
       "      <td>11/01/2018 18:36:55</td>\n",
       "      <td>69.983333</td>\n",
       "    </tr>\n",
       "  </tbody>\n",
       "</table>\n",
       "</div>"
      ],
      "text/plain": [
       "  stm_aanntpl_dd stm_aanntpl_tijd           stm_fh_ddt  reparatietijd\n",
       "0     25/05/2017         18:00:01  25/05/2017 18:15:00      14.983333\n",
       "1     25/05/2018         14:40:00  25/05/2018 14:40:01       0.016667\n",
       "2     11/01/2018         17:26:56  11/01/2018 18:36:55      69.983333"
      ]
     },
     "execution_count": 21,
     "metadata": {},
     "output_type": "execute_result"
    }
   ],
   "source": [
    "data4"
   ]
  },
  {
   "cell_type": "code",
   "execution_count": 33,
   "metadata": {},
   "outputs": [
    {
     "data": {
      "text/plain": [
       "13188228220091.521"
      ]
     },
     "execution_count": 33,
     "metadata": {},
     "output_type": "execute_result"
    }
   ],
   "source": [
    "validatiescore = np.sqrt(mse(data4['reparatietijd'], y_pred))\n",
    "validatiescore"
   ]
  }
 ],
 "metadata": {
  "kernelspec": {
   "display_name": "Python 3",
   "language": "python",
   "name": "python3"
  },
  "language_info": {
   "codemirror_mode": {
    "name": "ipython",
    "version": 3
   },
   "file_extension": ".py",
   "mimetype": "text/x-python",
   "name": "python",
   "nbconvert_exporter": "python",
   "pygments_lexer": "ipython3",
   "version": "3.7.3"
  }
 },
 "nbformat": 4,
 "nbformat_minor": 2
}
