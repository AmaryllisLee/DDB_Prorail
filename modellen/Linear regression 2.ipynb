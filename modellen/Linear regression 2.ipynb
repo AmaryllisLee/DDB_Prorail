{
 "cells": [
  {
   "cell_type": "markdown",
   "metadata": {},
   "source": [
    "# Linear Regression 2"
   ]
  },
  {
   "cell_type": "code",
   "execution_count": 8,
   "metadata": {},
   "outputs": [],
   "source": [
    "# libraries importeren \n",
    "import pandas as pd\n",
    "import numpy as np\n",
    "from sklearn.metrics import mean_squared_error as mse\n",
    "from sklearn.model_selection import train_test_split\n",
    "from sklearn.linear_model import LinearRegression\n",
    "import matplotlib.pyplot as plt\n",
    "%matplotlib inline"
   ]
  },
  {
   "cell_type": "code",
   "execution_count": 9,
   "metadata": {},
   "outputs": [
    {
     "data": {
      "text/html": [
       "<div>\n",
       "<style scoped>\n",
       "    .dataframe tbody tr th:only-of-type {\n",
       "        vertical-align: middle;\n",
       "    }\n",
       "\n",
       "    .dataframe tbody tr th {\n",
       "        vertical-align: top;\n",
       "    }\n",
       "\n",
       "    .dataframe thead th {\n",
       "        text-align: right;\n",
       "    }\n",
       "</style>\n",
       "<table border=\"1\" class=\"dataframe\">\n",
       "  <thead>\n",
       "    <tr style=\"text-align: right;\">\n",
       "      <th></th>\n",
       "      <th>stm_prioriteit</th>\n",
       "      <th>reparatietijd</th>\n",
       "      <th>stm_oorz_groep_ONR-DERD</th>\n",
       "      <th>stm_oorz_groep_ONR-RIB</th>\n",
       "      <th>stm_oorz_groep_TECHONV</th>\n",
       "      <th>stm_oorz_groep_WEER</th>\n",
       "      <th>stm_oorz_code_33.0</th>\n",
       "      <th>stm_oorz_code_51.0</th>\n",
       "      <th>stm_oorz_code_130.0</th>\n",
       "      <th>stm_oorz_code_131.0</th>\n",
       "      <th>...</th>\n",
       "      <th>stm_contractgeb_gst_58.0</th>\n",
       "      <th>stm_contractgeb_gst_59.0</th>\n",
       "      <th>stm_contractgeb_gst_60.0</th>\n",
       "      <th>stm_contractgeb_gst_61.0</th>\n",
       "      <th>stm_contractgeb_gst_63.0</th>\n",
       "      <th>stm_contractgeb_gst_70.0</th>\n",
       "      <th>stm_contractgeb_gst_71.0</th>\n",
       "      <th>stm_contractgeb_gst_81.0</th>\n",
       "      <th>stm_contractgeb_gst_99.0</th>\n",
       "      <th>stm_sap_meldtijd_uren</th>\n",
       "    </tr>\n",
       "  </thead>\n",
       "  <tbody>\n",
       "    <tr>\n",
       "      <th>32099</th>\n",
       "      <td>9.0</td>\n",
       "      <td>40.000000</td>\n",
       "      <td>0</td>\n",
       "      <td>0</td>\n",
       "      <td>1</td>\n",
       "      <td>0</td>\n",
       "      <td>0</td>\n",
       "      <td>0</td>\n",
       "      <td>0</td>\n",
       "      <td>0</td>\n",
       "      <td>...</td>\n",
       "      <td>0</td>\n",
       "      <td>0</td>\n",
       "      <td>0</td>\n",
       "      <td>0</td>\n",
       "      <td>0</td>\n",
       "      <td>0</td>\n",
       "      <td>0</td>\n",
       "      <td>0</td>\n",
       "      <td>0</td>\n",
       "      <td>21</td>\n",
       "    </tr>\n",
       "    <tr>\n",
       "      <th>86473</th>\n",
       "      <td>9.0</td>\n",
       "      <td>228.650000</td>\n",
       "      <td>0</td>\n",
       "      <td>1</td>\n",
       "      <td>0</td>\n",
       "      <td>0</td>\n",
       "      <td>0</td>\n",
       "      <td>0</td>\n",
       "      <td>0</td>\n",
       "      <td>0</td>\n",
       "      <td>...</td>\n",
       "      <td>0</td>\n",
       "      <td>0</td>\n",
       "      <td>0</td>\n",
       "      <td>0</td>\n",
       "      <td>0</td>\n",
       "      <td>0</td>\n",
       "      <td>0</td>\n",
       "      <td>0</td>\n",
       "      <td>0</td>\n",
       "      <td>16</td>\n",
       "    </tr>\n",
       "    <tr>\n",
       "      <th>91875</th>\n",
       "      <td>9.0</td>\n",
       "      <td>220.316667</td>\n",
       "      <td>1</td>\n",
       "      <td>0</td>\n",
       "      <td>0</td>\n",
       "      <td>0</td>\n",
       "      <td>0</td>\n",
       "      <td>0</td>\n",
       "      <td>0</td>\n",
       "      <td>0</td>\n",
       "      <td>...</td>\n",
       "      <td>0</td>\n",
       "      <td>0</td>\n",
       "      <td>0</td>\n",
       "      <td>0</td>\n",
       "      <td>0</td>\n",
       "      <td>0</td>\n",
       "      <td>0</td>\n",
       "      <td>0</td>\n",
       "      <td>0</td>\n",
       "      <td>14</td>\n",
       "    </tr>\n",
       "    <tr>\n",
       "      <th>92852</th>\n",
       "      <td>9.0</td>\n",
       "      <td>55.000000</td>\n",
       "      <td>0</td>\n",
       "      <td>0</td>\n",
       "      <td>1</td>\n",
       "      <td>0</td>\n",
       "      <td>0</td>\n",
       "      <td>0</td>\n",
       "      <td>0</td>\n",
       "      <td>0</td>\n",
       "      <td>...</td>\n",
       "      <td>0</td>\n",
       "      <td>0</td>\n",
       "      <td>0</td>\n",
       "      <td>0</td>\n",
       "      <td>0</td>\n",
       "      <td>0</td>\n",
       "      <td>0</td>\n",
       "      <td>0</td>\n",
       "      <td>0</td>\n",
       "      <td>8</td>\n",
       "    </tr>\n",
       "    <tr>\n",
       "      <th>93767</th>\n",
       "      <td>9.0</td>\n",
       "      <td>15.233333</td>\n",
       "      <td>1</td>\n",
       "      <td>0</td>\n",
       "      <td>0</td>\n",
       "      <td>0</td>\n",
       "      <td>0</td>\n",
       "      <td>0</td>\n",
       "      <td>0</td>\n",
       "      <td>0</td>\n",
       "      <td>...</td>\n",
       "      <td>0</td>\n",
       "      <td>0</td>\n",
       "      <td>0</td>\n",
       "      <td>0</td>\n",
       "      <td>0</td>\n",
       "      <td>0</td>\n",
       "      <td>0</td>\n",
       "      <td>0</td>\n",
       "      <td>0</td>\n",
       "      <td>12</td>\n",
       "    </tr>\n",
       "  </tbody>\n",
       "</table>\n",
       "<p>5 rows × 129 columns</p>\n",
       "</div>"
      ],
      "text/plain": [
       "       stm_prioriteit  reparatietijd  stm_oorz_groep_ONR-DERD  \\\n",
       "32099             9.0      40.000000                        0   \n",
       "86473             9.0     228.650000                        0   \n",
       "91875             9.0     220.316667                        1   \n",
       "92852             9.0      55.000000                        0   \n",
       "93767             9.0      15.233333                        1   \n",
       "\n",
       "       stm_oorz_groep_ONR-RIB  stm_oorz_groep_TECHONV  stm_oorz_groep_WEER  \\\n",
       "32099                       0                       1                    0   \n",
       "86473                       1                       0                    0   \n",
       "91875                       0                       0                    0   \n",
       "92852                       0                       1                    0   \n",
       "93767                       0                       0                    0   \n",
       "\n",
       "       stm_oorz_code_33.0  stm_oorz_code_51.0  stm_oorz_code_130.0  \\\n",
       "32099                   0                   0                    0   \n",
       "86473                   0                   0                    0   \n",
       "91875                   0                   0                    0   \n",
       "92852                   0                   0                    0   \n",
       "93767                   0                   0                    0   \n",
       "\n",
       "       stm_oorz_code_131.0  ...  stm_contractgeb_gst_58.0  \\\n",
       "32099                    0  ...                         0   \n",
       "86473                    0  ...                         0   \n",
       "91875                    0  ...                         0   \n",
       "92852                    0  ...                         0   \n",
       "93767                    0  ...                         0   \n",
       "\n",
       "       stm_contractgeb_gst_59.0  stm_contractgeb_gst_60.0  \\\n",
       "32099                         0                         0   \n",
       "86473                         0                         0   \n",
       "91875                         0                         0   \n",
       "92852                         0                         0   \n",
       "93767                         0                         0   \n",
       "\n",
       "       stm_contractgeb_gst_61.0  stm_contractgeb_gst_63.0  \\\n",
       "32099                         0                         0   \n",
       "86473                         0                         0   \n",
       "91875                         0                         0   \n",
       "92852                         0                         0   \n",
       "93767                         0                         0   \n",
       "\n",
       "       stm_contractgeb_gst_70.0  stm_contractgeb_gst_71.0  \\\n",
       "32099                         0                         0   \n",
       "86473                         0                         0   \n",
       "91875                         0                         0   \n",
       "92852                         0                         0   \n",
       "93767                         0                         0   \n",
       "\n",
       "       stm_contractgeb_gst_81.0  stm_contractgeb_gst_99.0  \\\n",
       "32099                         0                         0   \n",
       "86473                         0                         0   \n",
       "91875                         0                         0   \n",
       "92852                         0                         0   \n",
       "93767                         0                         0   \n",
       "\n",
       "       stm_sap_meldtijd_uren  \n",
       "32099                     21  \n",
       "86473                     16  \n",
       "91875                     14  \n",
       "92852                      8  \n",
       "93767                     12  \n",
       "\n",
       "[5 rows x 129 columns]"
      ]
     },
     "execution_count": 9,
     "metadata": {},
     "output_type": "execute_result"
    }
   ],
   "source": [
    "data2 = pd.read_pickle('data2.pkl')\n",
    "data2.head()"
   ]
  },
  {
   "cell_type": "code",
   "execution_count": 21,
   "metadata": {},
   "outputs": [],
   "source": [
    "def linearRegression(features, target):\n",
    "    x_train, x_test, y_train, y_test = train_test_split(features, target) # splitsen in traiining en testing dataset\n",
    "    # Geeft de dimensie van de opgesplitste datasets\n",
    "    print(x_train.shape)\n",
    "    print(y_train.shape)\n",
    "    print(x_test.shape)\n",
    "    print(y_test.shape)\n",
    "    linreg = LinearRegression()\n",
    "    #fit model \n",
    "    linreg.fit(x_train, y_train)\n",
    "    # Make prediction\n",
    "    y_pred = linreg.predict(x_test)\n",
    "    #Evaluate mbh van RMSE\n",
    "    lrscore = np.sqrt(mse(y_test, y_pred))\n",
    "    return lrscore"
   ]
  },
  {
   "cell_type": "code",
   "execution_count": 22,
   "metadata": {},
   "outputs": [],
   "source": [
    "features=  data2.drop('reparatietijd', axis = 1)\n",
    "target = data2['reparatietijd']"
   ]
  },
  {
   "cell_type": "code",
   "execution_count": 23,
   "metadata": {},
   "outputs": [
    {
     "name": "stdout",
     "output_type": "stream",
     "text": [
      "(212782, 128)\n",
      "(212782,)\n",
      "(70928, 128)\n",
      "(70928,)\n"
     ]
    },
    {
     "data": {
      "text/plain": [
       "72.93366034869229"
      ]
     },
     "execution_count": 23,
     "metadata": {},
     "output_type": "execute_result"
    }
   ],
   "source": [
    "lrscore2 = linearRegression(features, target)\n",
    "lrscore2"
   ]
  },
  {
   "cell_type": "markdown",
   "metadata": {},
   "source": [
    "Uit Linear regression 1, kwamenwe  met de volgende scores:\n",
    "* Baseline model : 112.25910075267038\n",
    "* Linear Regression 1: 104.09998662517367\n",
    "    * Er is een verbeting van relatiief 7.2"
   ]
  },
  {
   "cell_type": "code",
   "execution_count": 26,
   "metadata": {},
   "outputs": [
    {
     "data": {
      "text/plain": [
       "35.03095975320525"
      ]
     },
     "execution_count": 26,
     "metadata": {},
     "output_type": "execute_result"
    }
   ],
   "source": [
    "# Bereken de afwijkinng van de baseline model \n",
    "scorebaseline= 112.25910075267038\n",
    "((scorebaseline - lrscore2 )/ scorebaseline)*100 "
   ]
  },
  {
   "cell_type": "markdown",
   "metadata": {},
   "source": [
    "Er is een verbetering van 35% mett de Linear reagression 2. Dit is hoger dan de verbetering van 7,2 % van Linear Regression 1. Dit is een betere model om toe te passen."
   ]
  },
  {
   "cell_type": "code",
   "execution_count": null,
   "metadata": {},
   "outputs": [],
   "source": [
    "#uitzoeken hoe betrouwbaar is?"
   ]
  }
 ],
 "metadata": {
  "kernelspec": {
   "display_name": "Python 3",
   "language": "python",
   "name": "python3"
  },
  "language_info": {
   "codemirror_mode": {
    "name": "ipython",
    "version": 3
   },
   "file_extension": ".py",
   "mimetype": "text/x-python",
   "name": "python",
   "nbconvert_exporter": "python",
   "pygments_lexer": "ipython3",
   "version": "3.8.3"
  }
 },
 "nbformat": 4,
 "nbformat_minor": 2
}
