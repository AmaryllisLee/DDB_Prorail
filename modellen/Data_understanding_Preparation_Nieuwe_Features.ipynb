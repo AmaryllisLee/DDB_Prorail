{
 "cells": [
  {
   "cell_type": "markdown",
   "metadata": {},
   "source": [
    "## Features variabelen uitbreiden "
   ]
  },
  {
   "cell_type": "code",
   "execution_count": 1,
   "metadata": {},
   "outputs": [],
   "source": [
    "# libraries importeren \n",
    "import pandas as pd\n",
    "import numpy as np\n",
    "from sklearn.metrics import mean_squared_error\n",
    "import matplotlib.pyplot as plt\n",
    "%matplotlib inline"
   ]
  },
  {
   "cell_type": "code",
   "execution_count": 2,
   "metadata": {},
   "outputs": [],
   "source": [
    "# dataset inlezen \n",
    "df = df = pd.read_csv('C:\\Amaryllis_school_documents\\Jaar_20_21\\DDB\\ddb_prorail\\DDB_Prorail\\data\\sap_storing_data_hu_project.csv', low_memory=False)"
   ]
  },
  {
   "cell_type": "code",
   "execution_count": 3,
   "metadata": {},
   "outputs": [],
   "source": [
    "#Doel : en bepaald probleem op een bepaalde locatie op een bepaald tijdstip, een voorspelling te maken van de verwachte reparatietijd\n",
    "\n",
    "\n",
    "#Belangrijke kolommen bepalen\n",
    "\n",
    "# Geeft een goede definitie van de probleem \n",
    "#oorz_code : feature - nominaal \n",
    "#oorz_groep :feauture - nominaal \n",
    "#stm_prioriteit :feature - ordinaal \n",
    "\n",
    "# Deze kolom geven een duidelijke gebied waar de aannemer werkt.\n",
    "#stm_contractgeb_mld of  stm_contractgeb_gst: C Gebied waar de aannemer werkt. - nominaal \n",
    "    # Definieer de speciefieke gebied waar de aannemer zit.\n",
    "# geocode vallen in contract gebied , maar niet alle\n",
    "\n",
    "# De tijdstip van een storing weergeven. \n",
    "# tijd van de melding \n",
    "data = df[['stm_oorz_groep', 'stm_oorz_code', 'stm_prioriteit','stm_contractgeb_mld','stm_contractgeb_gst','stm_sap_meldtijd', 'stm_aanntpl_dd','stm_aanntpl_tijd','stm_fh_ddt']].copy()"
   ]
  },
  {
   "cell_type": "code",
   "execution_count": 4,
   "metadata": {},
   "outputs": [],
   "source": [
    "data.loc[:, 'reparatietijd'] = (pd.to_datetime(data['stm_fh_ddt']) -  pd.to_datetime(data.loc[:,'stm_aanntpl_dd']  +\" \"+ data['stm_aanntpl_tijd'])).dt.total_seconds().div(60)"
   ]
  },
  {
   "cell_type": "code",
   "execution_count": 5,
   "metadata": {},
   "outputs": [
    {
     "data": {
      "text/html": [
       "<div>\n",
       "<style scoped>\n",
       "    .dataframe tbody tr th:only-of-type {\n",
       "        vertical-align: middle;\n",
       "    }\n",
       "\n",
       "    .dataframe tbody tr th {\n",
       "        vertical-align: top;\n",
       "    }\n",
       "\n",
       "    .dataframe thead th {\n",
       "        text-align: right;\n",
       "    }\n",
       "</style>\n",
       "<table border=\"1\" class=\"dataframe\">\n",
       "  <thead>\n",
       "    <tr style=\"text-align: right;\">\n",
       "      <th></th>\n",
       "      <th>stm_oorz_groep</th>\n",
       "      <th>stm_oorz_code</th>\n",
       "      <th>stm_prioriteit</th>\n",
       "      <th>stm_contractgeb_mld</th>\n",
       "      <th>stm_contractgeb_gst</th>\n",
       "      <th>stm_sap_meldtijd</th>\n",
       "      <th>stm_aanntpl_dd</th>\n",
       "      <th>stm_aanntpl_tijd</th>\n",
       "      <th>stm_fh_ddt</th>\n",
       "      <th>reparatietijd</th>\n",
       "    </tr>\n",
       "  </thead>\n",
       "  <tbody>\n",
       "    <tr>\n",
       "      <th>0</th>\n",
       "      <td>NaN</td>\n",
       "      <td>NaN</td>\n",
       "      <td>NaN</td>\n",
       "      <td>NaN</td>\n",
       "      <td>NaN</td>\n",
       "      <td>NaN</td>\n",
       "      <td>NaN</td>\n",
       "      <td>NaN</td>\n",
       "      <td>NaN</td>\n",
       "      <td>NaN</td>\n",
       "    </tr>\n",
       "    <tr>\n",
       "      <th>1</th>\n",
       "      <td>ONR-RIB</td>\n",
       "      <td>133.0</td>\n",
       "      <td>9.0</td>\n",
       "      <td>NaN</td>\n",
       "      <td>81.0</td>\n",
       "      <td>09:00:00</td>\n",
       "      <td>NaN</td>\n",
       "      <td>00:00:00</td>\n",
       "      <td>02/01/2006 09:00:00</td>\n",
       "      <td>NaN</td>\n",
       "    </tr>\n",
       "    <tr>\n",
       "      <th>2</th>\n",
       "      <td>ONR-DERD</td>\n",
       "      <td>143.0</td>\n",
       "      <td>9.0</td>\n",
       "      <td>NaN</td>\n",
       "      <td>37.0</td>\n",
       "      <td>12:35:00</td>\n",
       "      <td>NaN</td>\n",
       "      <td>00:00:00</td>\n",
       "      <td>02/01/2006 13:26:00</td>\n",
       "      <td>NaN</td>\n",
       "    </tr>\n",
       "    <tr>\n",
       "      <th>3</th>\n",
       "      <td>ONR-DERD</td>\n",
       "      <td>142.0</td>\n",
       "      <td>9.0</td>\n",
       "      <td>NaN</td>\n",
       "      <td>32.0</td>\n",
       "      <td>16:40:00</td>\n",
       "      <td>NaN</td>\n",
       "      <td>00:00:00</td>\n",
       "      <td>02/01/2006 17:20:00</td>\n",
       "      <td>NaN</td>\n",
       "    </tr>\n",
       "    <tr>\n",
       "      <th>4</th>\n",
       "      <td>ONR-DERD</td>\n",
       "      <td>142.0</td>\n",
       "      <td>9.0</td>\n",
       "      <td>NaN</td>\n",
       "      <td>35.0</td>\n",
       "      <td>22:30:00</td>\n",
       "      <td>NaN</td>\n",
       "      <td>00:00:00</td>\n",
       "      <td>02/01/2006 22:36:00</td>\n",
       "      <td>NaN</td>\n",
       "    </tr>\n",
       "  </tbody>\n",
       "</table>\n",
       "</div>"
      ],
      "text/plain": [
       "  stm_oorz_groep  stm_oorz_code  stm_prioriteit  stm_contractgeb_mld  \\\n",
       "0            NaN            NaN             NaN                  NaN   \n",
       "1        ONR-RIB          133.0             9.0                  NaN   \n",
       "2       ONR-DERD          143.0             9.0                  NaN   \n",
       "3       ONR-DERD          142.0             9.0                  NaN   \n",
       "4       ONR-DERD          142.0             9.0                  NaN   \n",
       "\n",
       "   stm_contractgeb_gst stm_sap_meldtijd stm_aanntpl_dd stm_aanntpl_tijd  \\\n",
       "0                  NaN              NaN            NaN              NaN   \n",
       "1                 81.0         09:00:00            NaN         00:00:00   \n",
       "2                 37.0         12:35:00            NaN         00:00:00   \n",
       "3                 32.0         16:40:00            NaN         00:00:00   \n",
       "4                 35.0         22:30:00            NaN         00:00:00   \n",
       "\n",
       "            stm_fh_ddt  reparatietijd  \n",
       "0                  NaN            NaN  \n",
       "1  02/01/2006 09:00:00            NaN  \n",
       "2  02/01/2006 13:26:00            NaN  \n",
       "3  02/01/2006 17:20:00            NaN  \n",
       "4  02/01/2006 22:36:00            NaN  "
      ]
     },
     "execution_count": 5,
     "metadata": {},
     "output_type": "execute_result"
    }
   ],
   "source": [
    "data.head()"
   ]
  },
  {
   "cell_type": "code",
   "execution_count": 6,
   "metadata": {},
   "outputs": [],
   "source": [
    "data = data.drop(['stm_aanntpl_dd','stm_aanntpl_tijd','stm_fh_ddt'], axis= 1)"
   ]
  },
  {
   "cell_type": "markdown",
   "metadata": {},
   "source": [
    "We hebben te maken met een continu target variabel en categorical feature variabelen "
   ]
  },
  {
   "cell_type": "code",
   "execution_count": 7,
   "metadata": {},
   "outputs": [
    {
     "data": {
      "text/html": [
       "<div>\n",
       "<style scoped>\n",
       "    .dataframe tbody tr th:only-of-type {\n",
       "        vertical-align: middle;\n",
       "    }\n",
       "\n",
       "    .dataframe tbody tr th {\n",
       "        vertical-align: top;\n",
       "    }\n",
       "\n",
       "    .dataframe thead th {\n",
       "        text-align: right;\n",
       "    }\n",
       "</style>\n",
       "<table border=\"1\" class=\"dataframe\">\n",
       "  <thead>\n",
       "    <tr style=\"text-align: right;\">\n",
       "      <th></th>\n",
       "      <th>stm_oorz_groep</th>\n",
       "      <th>stm_oorz_code</th>\n",
       "      <th>stm_prioriteit</th>\n",
       "      <th>stm_contractgeb_gst</th>\n",
       "      <th>stm_sap_meldtijd</th>\n",
       "      <th>reparatietijd</th>\n",
       "    </tr>\n",
       "  </thead>\n",
       "  <tbody>\n",
       "    <tr>\n",
       "      <th>0</th>\n",
       "      <td>NaN</td>\n",
       "      <td>NaN</td>\n",
       "      <td>NaN</td>\n",
       "      <td>NaN</td>\n",
       "      <td>NaN</td>\n",
       "      <td>NaN</td>\n",
       "    </tr>\n",
       "    <tr>\n",
       "      <th>1</th>\n",
       "      <td>ONR-RIB</td>\n",
       "      <td>133.0</td>\n",
       "      <td>9.0</td>\n",
       "      <td>81.0</td>\n",
       "      <td>09:00:00</td>\n",
       "      <td>NaN</td>\n",
       "    </tr>\n",
       "    <tr>\n",
       "      <th>2</th>\n",
       "      <td>ONR-DERD</td>\n",
       "      <td>143.0</td>\n",
       "      <td>9.0</td>\n",
       "      <td>37.0</td>\n",
       "      <td>12:35:00</td>\n",
       "      <td>NaN</td>\n",
       "    </tr>\n",
       "    <tr>\n",
       "      <th>3</th>\n",
       "      <td>ONR-DERD</td>\n",
       "      <td>142.0</td>\n",
       "      <td>9.0</td>\n",
       "      <td>32.0</td>\n",
       "      <td>16:40:00</td>\n",
       "      <td>NaN</td>\n",
       "    </tr>\n",
       "    <tr>\n",
       "      <th>4</th>\n",
       "      <td>ONR-DERD</td>\n",
       "      <td>142.0</td>\n",
       "      <td>9.0</td>\n",
       "      <td>35.0</td>\n",
       "      <td>22:30:00</td>\n",
       "      <td>NaN</td>\n",
       "    </tr>\n",
       "  </tbody>\n",
       "</table>\n",
       "</div>"
      ],
      "text/plain": [
       "  stm_oorz_groep  stm_oorz_code  stm_prioriteit  stm_contractgeb_gst  \\\n",
       "0            NaN            NaN             NaN                  NaN   \n",
       "1        ONR-RIB          133.0             9.0                 81.0   \n",
       "2       ONR-DERD          143.0             9.0                 37.0   \n",
       "3       ONR-DERD          142.0             9.0                 32.0   \n",
       "4       ONR-DERD          142.0             9.0                 35.0   \n",
       "\n",
       "  stm_sap_meldtijd  reparatietijd  \n",
       "0              NaN            NaN  \n",
       "1         09:00:00            NaN  \n",
       "2         12:35:00            NaN  \n",
       "3         16:40:00            NaN  \n",
       "4         22:30:00            NaN  "
      ]
     },
     "execution_count": 7,
     "metadata": {},
     "output_type": "execute_result"
    }
   ],
   "source": [
    "#Features variabelen  2:\n",
    "data2 = data[['stm_oorz_groep', 'stm_oorz_code', 'stm_prioriteit', 'stm_contractgeb_gst', 'stm_sap_meldtijd', 'reparatietijd']].copy()\n",
    "data2.head()"
   ]
  },
  {
   "cell_type": "markdown",
   "metadata": {},
   "source": [
    "Voor de tijd van de melding moeten de tijden worden afgerond naar uren."
   ]
  },
  {
   "cell_type": "code",
   "execution_count": 8,
   "metadata": {},
   "outputs": [
    {
     "data": {
      "text/html": [
       "<div>\n",
       "<style scoped>\n",
       "    .dataframe tbody tr th:only-of-type {\n",
       "        vertical-align: middle;\n",
       "    }\n",
       "\n",
       "    .dataframe tbody tr th {\n",
       "        vertical-align: top;\n",
       "    }\n",
       "\n",
       "    .dataframe thead th {\n",
       "        text-align: right;\n",
       "    }\n",
       "</style>\n",
       "<table border=\"1\" class=\"dataframe\">\n",
       "  <thead>\n",
       "    <tr style=\"text-align: right;\">\n",
       "      <th></th>\n",
       "      <th>stm_contractgeb_gst</th>\n",
       "      <th>stm_sap_meldtijd</th>\n",
       "    </tr>\n",
       "  </thead>\n",
       "  <tbody>\n",
       "    <tr>\n",
       "      <th>0</th>\n",
       "      <td>NaN</td>\n",
       "      <td>NaN</td>\n",
       "    </tr>\n",
       "    <tr>\n",
       "      <th>1</th>\n",
       "      <td>81.0</td>\n",
       "      <td>09:00:00</td>\n",
       "    </tr>\n",
       "    <tr>\n",
       "      <th>2</th>\n",
       "      <td>37.0</td>\n",
       "      <td>12:35:00</td>\n",
       "    </tr>\n",
       "    <tr>\n",
       "      <th>3</th>\n",
       "      <td>32.0</td>\n",
       "      <td>16:40:00</td>\n",
       "    </tr>\n",
       "    <tr>\n",
       "      <th>4</th>\n",
       "      <td>35.0</td>\n",
       "      <td>22:30:00</td>\n",
       "    </tr>\n",
       "  </tbody>\n",
       "</table>\n",
       "</div>"
      ],
      "text/plain": [
       "   stm_contractgeb_gst stm_sap_meldtijd\n",
       "0                  NaN              NaN\n",
       "1                 81.0         09:00:00\n",
       "2                 37.0         12:35:00\n",
       "3                 32.0         16:40:00\n",
       "4                 35.0         22:30:00"
      ]
     },
     "execution_count": 8,
     "metadata": {},
     "output_type": "execute_result"
    }
   ],
   "source": [
    "df2  = df[[ 'stm_contractgeb_gst', 'stm_sap_meldtijd' ]].copy()\n",
    "df2.head()"
   ]
  },
  {
   "cell_type": "code",
   "execution_count": 9,
   "metadata": {},
   "outputs": [
    {
     "data": {
      "text/plain": [
       "(898526, 2)"
      ]
     },
     "execution_count": 9,
     "metadata": {},
     "output_type": "execute_result"
    }
   ],
   "source": [
    "# De dimensie van de df2 bekijken\n",
    "df2.shape"
   ]
  },
  {
   "cell_type": "code",
   "execution_count": 10,
   "metadata": {},
   "outputs": [
    {
     "data": {
      "text/plain": [
       "stm_contractgeb_gst    float64\n",
       "stm_sap_meldtijd        object\n",
       "dtype: object"
      ]
     },
     "execution_count": 10,
     "metadata": {},
     "output_type": "execute_result"
    }
   ],
   "source": [
    "#datatypes bepalen\n",
    "df2.dtypes"
   ]
  },
  {
   "cell_type": "code",
   "execution_count": 11,
   "metadata": {},
   "outputs": [
    {
     "data": {
      "text/plain": [
       "stm_contractgeb_gst    223\n",
       "stm_sap_meldtijd        38\n",
       "dtype: int64"
      ]
     },
     "execution_count": 11,
     "metadata": {},
     "output_type": "execute_result"
    }
   ],
   "source": [
    "#kijken hoeveel Nan waardes er zijn.\n",
    "df2.isnull().sum()"
   ]
  },
  {
   "cell_type": "code",
   "execution_count": 12,
   "metadata": {},
   "outputs": [
    {
     "name": "stdout",
     "output_type": "stream",
     "text": [
      "Rijen verloren door Nan contractgebied : 0.02481842484246421%\n",
      "Rijen verloren door Nan meldtijd  : 0.004229148627863857%\n",
      "Totaal aantal rijen verloren : 0.02904757347032807 %\n"
     ]
    }
   ],
   "source": [
    "# bereken aantal rijen die wordt verloren bij Nan waardes, kan denk ik gewoon verwijderd worden, is maar een heel klein aantal.\n",
    "print('Rijen verloren door Nan contractgebied : {}%'.format((df2['stm_contractgeb_gst'].isnull().sum()/898526)*100))\n",
    "print('Rijen verloren door Nan meldtijd  : {}%'.format((df2['stm_sap_meldtijd'].isnull().sum()/898526)*100))\n",
    "print('Totaal aantal rijen verloren : {} %'.format(df2.isnull().sum().sum()/898526*100))"
   ]
  },
  {
   "cell_type": "code",
   "execution_count": 13,
   "metadata": {},
   "outputs": [],
   "source": [
    "#de rijen daadwerkelijk verwijderen."
   ]
  },
  {
   "cell_type": "code",
   "execution_count": 14,
   "metadata": {},
   "outputs": [
    {
     "data": {
      "text/plain": [
       "array([ 0.,  1.,  2.,  3.,  4.,  5.,  6.,  7.,  8.,  9., 10., 11., 12.,\n",
       "       13., 14., 15., 16., 17., 18., 19., 20., 21., 22., 23., 24., 25.,\n",
       "       26., 27., 28., 29., 30., 31., 32., 33., 34., 35., 36., 37., 50.,\n",
       "       51., 52., 53., 54., 55., 56., 57., 58., 59., 60., 61., 62., 63.,\n",
       "       64., 70., 71., 81., 82., 83., 99.])"
      ]
     },
     "execution_count": 14,
     "metadata": {},
     "output_type": "execute_result"
    }
   ],
   "source": [
    "# Nog even kijken of er codes in het excel bestand staan die hier missen en andersom.\n",
    "df2['stm_contractgeb_gst'][df2['stm_contractgeb_gst'].notnull()].sort_values().unique()"
   ]
  },
  {
   "cell_type": "markdown",
   "metadata": {},
   "source": [
    "Er was in de excel bestand ekeken en de volgende codes kwamen niet voor:\n",
    " 50., 53., 54., 55., 56., 57., 62., 64., 82., 83."
   ]
  },
  {
   "cell_type": "code",
   "execution_count": 15,
   "metadata": {},
   "outputs": [
    {
     "data": {
      "text/plain": [
       "60"
      ]
     },
     "execution_count": 15,
     "metadata": {},
     "output_type": "execute_result"
    }
   ],
   "source": [
    "len(df2['stm_contractgeb_gst'].unique())"
   ]
  },
  {
   "cell_type": "code",
   "execution_count": 16,
   "metadata": {},
   "outputs": [
    {
     "data": {
      "text/plain": [
       "348"
      ]
     },
     "execution_count": 16,
     "metadata": {},
     "output_type": "execute_result"
    }
   ],
   "source": [
    "# 50., 53., 54., 55., 56., 57., 62., 64., 82., 83.\n",
    "a = len(df2[df2['stm_contractgeb_gst'] == 50])\n",
    "a"
   ]
  },
  {
   "cell_type": "code",
   "execution_count": 17,
   "metadata": {},
   "outputs": [
    {
     "data": {
      "text/plain": [
       "15073"
      ]
     },
     "execution_count": 17,
     "metadata": {},
     "output_type": "execute_result"
    }
   ],
   "source": [
    "b = len(df2[df2['stm_contractgeb_gst'] == 53])\n",
    "b"
   ]
  },
  {
   "cell_type": "code",
   "execution_count": 18,
   "metadata": {},
   "outputs": [
    {
     "data": {
      "text/plain": [
       "5926"
      ]
     },
     "execution_count": 18,
     "metadata": {},
     "output_type": "execute_result"
    }
   ],
   "source": [
    "c = len(df2[df2['stm_contractgeb_gst'] == 54])\n",
    "c"
   ]
  },
  {
   "cell_type": "code",
   "execution_count": 19,
   "metadata": {},
   "outputs": [
    {
     "data": {
      "text/plain": [
       "5253"
      ]
     },
     "execution_count": 19,
     "metadata": {},
     "output_type": "execute_result"
    }
   ],
   "source": [
    "d = len(df2[df2['stm_contractgeb_gst'] == 55])\n",
    "d"
   ]
  },
  {
   "cell_type": "code",
   "execution_count": 20,
   "metadata": {},
   "outputs": [
    {
     "data": {
      "text/plain": [
       "2898"
      ]
     },
     "execution_count": 20,
     "metadata": {},
     "output_type": "execute_result"
    }
   ],
   "source": [
    "e = len(df2[df2['stm_contractgeb_gst'] == 56])\n",
    "e"
   ]
  },
  {
   "cell_type": "code",
   "execution_count": 21,
   "metadata": {},
   "outputs": [
    {
     "data": {
      "text/plain": [
       "289"
      ]
     },
     "execution_count": 21,
     "metadata": {},
     "output_type": "execute_result"
    }
   ],
   "source": [
    "f =len(df2[df2['stm_contractgeb_gst'] == 57])\n",
    "f"
   ]
  },
  {
   "cell_type": "code",
   "execution_count": 22,
   "metadata": {},
   "outputs": [
    {
     "data": {
      "text/plain": [
       "9377"
      ]
     },
     "execution_count": 22,
     "metadata": {},
     "output_type": "execute_result"
    }
   ],
   "source": [
    "g = len(df2[df2['stm_contractgeb_gst'] == 62])\n",
    "g"
   ]
  },
  {
   "cell_type": "code",
   "execution_count": 23,
   "metadata": {},
   "outputs": [
    {
     "data": {
      "text/plain": [
       "4051"
      ]
     },
     "execution_count": 23,
     "metadata": {},
     "output_type": "execute_result"
    }
   ],
   "source": [
    "h = len(df2[df2['stm_contractgeb_gst'] == 64])\n",
    "h"
   ]
  },
  {
   "cell_type": "code",
   "execution_count": 24,
   "metadata": {},
   "outputs": [
    {
     "data": {
      "text/plain": [
       "111"
      ]
     },
     "execution_count": 24,
     "metadata": {},
     "output_type": "execute_result"
    }
   ],
   "source": [
    "i = len(df2[df2['stm_contractgeb_gst'] == 82])\n",
    "i"
   ]
  },
  {
   "cell_type": "code",
   "execution_count": 25,
   "metadata": {},
   "outputs": [
    {
     "data": {
      "text/plain": [
       "694"
      ]
     },
     "execution_count": 25,
     "metadata": {},
     "output_type": "execute_result"
    }
   ],
   "source": [
    "j = len(df2[df2['stm_contractgeb_gst'] == 83])\n",
    "j"
   ]
  },
  {
   "cell_type": "code",
   "execution_count": 26,
   "metadata": {},
   "outputs": [
    {
     "data": {
      "text/plain": [
       "44020"
      ]
     },
     "execution_count": 26,
     "metadata": {},
     "output_type": "execute_result"
    }
   ],
   "source": [
    "totaal = a + b + c + d + e + f + g + h + i + j\n",
    "totaal"
   ]
  },
  {
   "cell_type": "code",
   "execution_count": 27,
   "metadata": {},
   "outputs": [
    {
     "data": {
      "text/plain": [
       "4.899134805225447"
      ]
     },
     "execution_count": 27,
     "metadata": {},
     "output_type": "execute_result"
    }
   ],
   "source": [
    "# aantal waardes dat verloren zou gaan als we het verwijderen. (in procenten)\n",
    "44020/898526*100"
   ]
  },
  {
   "cell_type": "markdown",
   "metadata": {},
   "source": [
    "## Data Preparation"
   ]
  },
  {
   "cell_type": "code",
   "execution_count": 29,
   "metadata": {},
   "outputs": [],
   "source": [
    "# Alle Nan waardes verwijderen \n",
    "data2 = data2.dropna()"
   ]
  },
  {
   "cell_type": "code",
   "execution_count": 30,
   "metadata": {},
   "outputs": [
    {
     "data": {
      "text/plain": [
       "stm_oorz_groep         0\n",
       "stm_oorz_code          0\n",
       "stm_prioriteit         0\n",
       "stm_contractgeb_gst    0\n",
       "stm_sap_meldtijd       0\n",
       "reparatietijd          0\n",
       "dtype: int64"
      ]
     },
     "execution_count": 30,
     "metadata": {},
     "output_type": "execute_result"
    }
   ],
   "source": [
    "#Controle\n",
    "data2.isnull().sum()"
   ]
  },
  {
   "cell_type": "code",
   "execution_count": 31,
   "metadata": {},
   "outputs": [],
   "source": [
    "#niet behorende contract gebied codes verwijderen:[ 50., 53., 54., 55., 56., 57., 62., 64., 82., 83.]\n",
    "data2 = data2[(data2['stm_contractgeb_gst'].isin([50, 53, 54, 55, 56, 57, 62, 64, 82, 83]))== False]"
   ]
  },
  {
   "cell_type": "code",
   "execution_count": 32,
   "metadata": {},
   "outputs": [
    {
     "name": "stdout",
     "output_type": "stream",
     "text": [
      "424654\n"
     ]
    }
   ],
   "source": [
    "#we verwijdert alles behalve de laatse , omdat dit als laats toegevoegd(meeste recente storing).????\n",
    "print(len(data2[data2.duplicated(keep='last') == False]))\n",
    "data2 = data2[data2.duplicated(keep='last') == False]"
   ]
  },
  {
   "cell_type": "code",
   "execution_count": 33,
   "metadata": {},
   "outputs": [],
   "source": [
    "# oorzaak groep, ooorzaak code en contract gebied codes encoden\n",
    "data2 = pd.get_dummies(data2, columns = ['stm_oorz_groep'])\n",
    "data2 = pd.get_dummies(data2, columns = ['stm_oorz_code'])\n",
    "data2 = pd.get_dummies(data2, columns = ['stm_contractgeb_gst'])"
   ]
  },
  {
   "cell_type": "code",
   "execution_count": 34,
   "metadata": {},
   "outputs": [
    {
     "data": {
      "text/html": [
       "<div>\n",
       "<style scoped>\n",
       "    .dataframe tbody tr th:only-of-type {\n",
       "        vertical-align: middle;\n",
       "    }\n",
       "\n",
       "    .dataframe tbody tr th {\n",
       "        vertical-align: top;\n",
       "    }\n",
       "\n",
       "    .dataframe thead th {\n",
       "        text-align: right;\n",
       "    }\n",
       "</style>\n",
       "<table border=\"1\" class=\"dataframe\">\n",
       "  <thead>\n",
       "    <tr style=\"text-align: right;\">\n",
       "      <th></th>\n",
       "      <th>stm_prioriteit</th>\n",
       "      <th>stm_sap_meldtijd</th>\n",
       "      <th>reparatietijd</th>\n",
       "      <th>stm_oorz_groep_ONR-DERD</th>\n",
       "      <th>stm_oorz_groep_ONR-RIB</th>\n",
       "      <th>stm_oorz_groep_TECHONV</th>\n",
       "      <th>stm_oorz_groep_WEER</th>\n",
       "      <th>stm_oorz_code_33.0</th>\n",
       "      <th>stm_oorz_code_51.0</th>\n",
       "      <th>stm_oorz_code_130.0</th>\n",
       "      <th>...</th>\n",
       "      <th>stm_contractgeb_gst_52.0</th>\n",
       "      <th>stm_contractgeb_gst_58.0</th>\n",
       "      <th>stm_contractgeb_gst_59.0</th>\n",
       "      <th>stm_contractgeb_gst_60.0</th>\n",
       "      <th>stm_contractgeb_gst_61.0</th>\n",
       "      <th>stm_contractgeb_gst_63.0</th>\n",
       "      <th>stm_contractgeb_gst_70.0</th>\n",
       "      <th>stm_contractgeb_gst_71.0</th>\n",
       "      <th>stm_contractgeb_gst_81.0</th>\n",
       "      <th>stm_contractgeb_gst_99.0</th>\n",
       "    </tr>\n",
       "  </thead>\n",
       "  <tbody>\n",
       "    <tr>\n",
       "      <th>145284</th>\n",
       "      <td>4.0</td>\n",
       "      <td>::</td>\n",
       "      <td>13.0</td>\n",
       "      <td>0</td>\n",
       "      <td>1</td>\n",
       "      <td>0</td>\n",
       "      <td>0</td>\n",
       "      <td>0</td>\n",
       "      <td>0</td>\n",
       "      <td>0</td>\n",
       "      <td>...</td>\n",
       "      <td>0</td>\n",
       "      <td>0</td>\n",
       "      <td>0</td>\n",
       "      <td>0</td>\n",
       "      <td>0</td>\n",
       "      <td>0</td>\n",
       "      <td>0</td>\n",
       "      <td>0</td>\n",
       "      <td>0</td>\n",
       "      <td>0</td>\n",
       "    </tr>\n",
       "    <tr>\n",
       "      <th>228778</th>\n",
       "      <td>5.0</td>\n",
       "      <td>::</td>\n",
       "      <td>29.0</td>\n",
       "      <td>0</td>\n",
       "      <td>0</td>\n",
       "      <td>1</td>\n",
       "      <td>0</td>\n",
       "      <td>0</td>\n",
       "      <td>0</td>\n",
       "      <td>0</td>\n",
       "      <td>...</td>\n",
       "      <td>0</td>\n",
       "      <td>0</td>\n",
       "      <td>0</td>\n",
       "      <td>0</td>\n",
       "      <td>0</td>\n",
       "      <td>0</td>\n",
       "      <td>0</td>\n",
       "      <td>0</td>\n",
       "      <td>0</td>\n",
       "      <td>0</td>\n",
       "    </tr>\n",
       "    <tr>\n",
       "      <th>234564</th>\n",
       "      <td>1.0</td>\n",
       "      <td>::</td>\n",
       "      <td>85.0</td>\n",
       "      <td>0</td>\n",
       "      <td>0</td>\n",
       "      <td>1</td>\n",
       "      <td>0</td>\n",
       "      <td>0</td>\n",
       "      <td>0</td>\n",
       "      <td>0</td>\n",
       "      <td>...</td>\n",
       "      <td>0</td>\n",
       "      <td>0</td>\n",
       "      <td>0</td>\n",
       "      <td>0</td>\n",
       "      <td>0</td>\n",
       "      <td>0</td>\n",
       "      <td>0</td>\n",
       "      <td>0</td>\n",
       "      <td>0</td>\n",
       "      <td>0</td>\n",
       "    </tr>\n",
       "    <tr>\n",
       "      <th>238027</th>\n",
       "      <td>2.0</td>\n",
       "      <td>::</td>\n",
       "      <td>5.0</td>\n",
       "      <td>1</td>\n",
       "      <td>0</td>\n",
       "      <td>0</td>\n",
       "      <td>0</td>\n",
       "      <td>0</td>\n",
       "      <td>0</td>\n",
       "      <td>0</td>\n",
       "      <td>...</td>\n",
       "      <td>0</td>\n",
       "      <td>0</td>\n",
       "      <td>0</td>\n",
       "      <td>0</td>\n",
       "      <td>0</td>\n",
       "      <td>0</td>\n",
       "      <td>0</td>\n",
       "      <td>0</td>\n",
       "      <td>0</td>\n",
       "      <td>0</td>\n",
       "    </tr>\n",
       "    <tr>\n",
       "      <th>239817</th>\n",
       "      <td>2.0</td>\n",
       "      <td>::</td>\n",
       "      <td>75.0</td>\n",
       "      <td>0</td>\n",
       "      <td>1</td>\n",
       "      <td>0</td>\n",
       "      <td>0</td>\n",
       "      <td>0</td>\n",
       "      <td>0</td>\n",
       "      <td>0</td>\n",
       "      <td>...</td>\n",
       "      <td>0</td>\n",
       "      <td>0</td>\n",
       "      <td>0</td>\n",
       "      <td>0</td>\n",
       "      <td>0</td>\n",
       "      <td>0</td>\n",
       "      <td>0</td>\n",
       "      <td>0</td>\n",
       "      <td>0</td>\n",
       "      <td>0</td>\n",
       "    </tr>\n",
       "  </tbody>\n",
       "</table>\n",
       "<p>5 rows × 129 columns</p>\n",
       "</div>"
      ],
      "text/plain": [
       "        stm_prioriteit stm_sap_meldtijd  reparatietijd  \\\n",
       "145284             4.0               ::           13.0   \n",
       "228778             5.0               ::           29.0   \n",
       "234564             1.0               ::           85.0   \n",
       "238027             2.0               ::            5.0   \n",
       "239817             2.0               ::           75.0   \n",
       "\n",
       "        stm_oorz_groep_ONR-DERD  stm_oorz_groep_ONR-RIB  \\\n",
       "145284                        0                       1   \n",
       "228778                        0                       0   \n",
       "234564                        0                       0   \n",
       "238027                        1                       0   \n",
       "239817                        0                       1   \n",
       "\n",
       "        stm_oorz_groep_TECHONV  stm_oorz_groep_WEER  stm_oorz_code_33.0  \\\n",
       "145284                       0                    0                   0   \n",
       "228778                       1                    0                   0   \n",
       "234564                       1                    0                   0   \n",
       "238027                       0                    0                   0   \n",
       "239817                       0                    0                   0   \n",
       "\n",
       "        stm_oorz_code_51.0  stm_oorz_code_130.0  ...  \\\n",
       "145284                   0                    0  ...   \n",
       "228778                   0                    0  ...   \n",
       "234564                   0                    0  ...   \n",
       "238027                   0                    0  ...   \n",
       "239817                   0                    0  ...   \n",
       "\n",
       "        stm_contractgeb_gst_52.0  stm_contractgeb_gst_58.0  \\\n",
       "145284                         0                         0   \n",
       "228778                         0                         0   \n",
       "234564                         0                         0   \n",
       "238027                         0                         0   \n",
       "239817                         0                         0   \n",
       "\n",
       "        stm_contractgeb_gst_59.0  stm_contractgeb_gst_60.0  \\\n",
       "145284                         0                         0   \n",
       "228778                         0                         0   \n",
       "234564                         0                         0   \n",
       "238027                         0                         0   \n",
       "239817                         0                         0   \n",
       "\n",
       "        stm_contractgeb_gst_61.0  stm_contractgeb_gst_63.0  \\\n",
       "145284                         0                         0   \n",
       "228778                         0                         0   \n",
       "234564                         0                         0   \n",
       "238027                         0                         0   \n",
       "239817                         0                         0   \n",
       "\n",
       "        stm_contractgeb_gst_70.0  stm_contractgeb_gst_71.0  \\\n",
       "145284                         0                         0   \n",
       "228778                         0                         0   \n",
       "234564                         0                         0   \n",
       "238027                         0                         0   \n",
       "239817                         0                         0   \n",
       "\n",
       "        stm_contractgeb_gst_81.0  stm_contractgeb_gst_99.0  \n",
       "145284                         0                         0  \n",
       "228778                         0                         0  \n",
       "234564                         0                         0  \n",
       "238027                         0                         0  \n",
       "239817                         0                         0  \n",
       "\n",
       "[5 rows x 129 columns]"
      ]
     },
     "execution_count": 34,
     "metadata": {},
     "output_type": "execute_result"
    }
   ],
   "source": [
    "#Bij et omzetten naat datetime kregennn we een error dtatt '::' niet kan omgezet worden. We gaan nu kijken naar alle ijen die '::'\n",
    "#als meldtijd heeft.\n",
    "data2[data2['stm_sap_meldtijd']==\"::\"].head()"
   ]
  },
  {
   "cell_type": "code",
   "execution_count": 35,
   "metadata": {},
   "outputs": [
    {
     "data": {
      "text/plain": [
       "49"
      ]
     },
     "execution_count": 35,
     "metadata": {},
     "output_type": "execute_result"
    }
   ],
   "source": [
    "# aantal rijen die '::' als melldtijd heeft\n",
    "len(data2[data2['stm_sap_meldtijd']==\"::\"])"
   ]
  },
  {
   "cell_type": "code",
   "execution_count": 36,
   "metadata": {},
   "outputs": [],
   "source": [
    "#Deze 49 rijen kunne we uit onze data uithalen\n",
    "#als meldtijd heeft.\n",
    "data2 = data2[data2['stm_sap_meldtijd']!=\"::\"]"
   ]
  },
  {
   "cell_type": "code",
   "execution_count": 37,
   "metadata": {},
   "outputs": [],
   "source": [
    "# Tijd van de melding moet afgerond worden ,van  een string en in de format hh:mm:ss, \n",
    "#naar datetime/int en in de format uren. \n",
    "\n",
    "data2['stm_sap_meldtijd_uren'] = round(pd.to_timedelta(data2['stm_sap_meldtijd']).dt.total_seconds().div(3600)).astype(int)\n",
    "#data2['stm_sap_meldtijd_uren'] = data2['stm_sap_meldtijd_uren'].dt.total_seconds().div(3600)"
   ]
  },
  {
   "cell_type": "code",
   "execution_count": 38,
   "metadata": {},
   "outputs": [
    {
     "data": {
      "text/html": [
       "<div>\n",
       "<style scoped>\n",
       "    .dataframe tbody tr th:only-of-type {\n",
       "        vertical-align: middle;\n",
       "    }\n",
       "\n",
       "    .dataframe tbody tr th {\n",
       "        vertical-align: top;\n",
       "    }\n",
       "\n",
       "    .dataframe thead th {\n",
       "        text-align: right;\n",
       "    }\n",
       "</style>\n",
       "<table border=\"1\" class=\"dataframe\">\n",
       "  <thead>\n",
       "    <tr style=\"text-align: right;\">\n",
       "      <th></th>\n",
       "      <th>stm_prioriteit</th>\n",
       "      <th>stm_sap_meldtijd</th>\n",
       "      <th>reparatietijd</th>\n",
       "      <th>stm_oorz_groep_ONR-DERD</th>\n",
       "      <th>stm_oorz_groep_ONR-RIB</th>\n",
       "      <th>stm_oorz_groep_TECHONV</th>\n",
       "      <th>stm_oorz_groep_WEER</th>\n",
       "      <th>stm_oorz_code_33.0</th>\n",
       "      <th>stm_oorz_code_51.0</th>\n",
       "      <th>stm_oorz_code_130.0</th>\n",
       "      <th>...</th>\n",
       "      <th>stm_contractgeb_gst_58.0</th>\n",
       "      <th>stm_contractgeb_gst_59.0</th>\n",
       "      <th>stm_contractgeb_gst_60.0</th>\n",
       "      <th>stm_contractgeb_gst_61.0</th>\n",
       "      <th>stm_contractgeb_gst_63.0</th>\n",
       "      <th>stm_contractgeb_gst_70.0</th>\n",
       "      <th>stm_contractgeb_gst_71.0</th>\n",
       "      <th>stm_contractgeb_gst_81.0</th>\n",
       "      <th>stm_contractgeb_gst_99.0</th>\n",
       "      <th>stm_sap_meldtijd_uren</th>\n",
       "    </tr>\n",
       "  </thead>\n",
       "  <tbody>\n",
       "    <tr>\n",
       "      <th>19177</th>\n",
       "      <td>9.0</td>\n",
       "      <td>07:23:00</td>\n",
       "      <td>0.0</td>\n",
       "      <td>0</td>\n",
       "      <td>0</td>\n",
       "      <td>1</td>\n",
       "      <td>0</td>\n",
       "      <td>0</td>\n",
       "      <td>0</td>\n",
       "      <td>0</td>\n",
       "      <td>...</td>\n",
       "      <td>0</td>\n",
       "      <td>0</td>\n",
       "      <td>0</td>\n",
       "      <td>0</td>\n",
       "      <td>0</td>\n",
       "      <td>0</td>\n",
       "      <td>0</td>\n",
       "      <td>0</td>\n",
       "      <td>0</td>\n",
       "      <td>7</td>\n",
       "    </tr>\n",
       "    <tr>\n",
       "      <th>19220</th>\n",
       "      <td>9.0</td>\n",
       "      <td>07:00:00</td>\n",
       "      <td>0.0</td>\n",
       "      <td>0</td>\n",
       "      <td>0</td>\n",
       "      <td>1</td>\n",
       "      <td>0</td>\n",
       "      <td>0</td>\n",
       "      <td>0</td>\n",
       "      <td>0</td>\n",
       "      <td>...</td>\n",
       "      <td>0</td>\n",
       "      <td>0</td>\n",
       "      <td>0</td>\n",
       "      <td>0</td>\n",
       "      <td>0</td>\n",
       "      <td>0</td>\n",
       "      <td>0</td>\n",
       "      <td>0</td>\n",
       "      <td>0</td>\n",
       "      <td>7</td>\n",
       "    </tr>\n",
       "    <tr>\n",
       "      <th>20735</th>\n",
       "      <td>9.0</td>\n",
       "      <td>19:38:00</td>\n",
       "      <td>0.0</td>\n",
       "      <td>1</td>\n",
       "      <td>0</td>\n",
       "      <td>0</td>\n",
       "      <td>0</td>\n",
       "      <td>0</td>\n",
       "      <td>0</td>\n",
       "      <td>0</td>\n",
       "      <td>...</td>\n",
       "      <td>0</td>\n",
       "      <td>0</td>\n",
       "      <td>0</td>\n",
       "      <td>0</td>\n",
       "      <td>0</td>\n",
       "      <td>0</td>\n",
       "      <td>0</td>\n",
       "      <td>0</td>\n",
       "      <td>0</td>\n",
       "      <td>20</td>\n",
       "    </tr>\n",
       "    <tr>\n",
       "      <th>21228</th>\n",
       "      <td>9.0</td>\n",
       "      <td>07:12:00</td>\n",
       "      <td>0.0</td>\n",
       "      <td>0</td>\n",
       "      <td>0</td>\n",
       "      <td>1</td>\n",
       "      <td>0</td>\n",
       "      <td>0</td>\n",
       "      <td>0</td>\n",
       "      <td>0</td>\n",
       "      <td>...</td>\n",
       "      <td>0</td>\n",
       "      <td>0</td>\n",
       "      <td>0</td>\n",
       "      <td>0</td>\n",
       "      <td>0</td>\n",
       "      <td>0</td>\n",
       "      <td>0</td>\n",
       "      <td>0</td>\n",
       "      <td>0</td>\n",
       "      <td>7</td>\n",
       "    </tr>\n",
       "    <tr>\n",
       "      <th>22779</th>\n",
       "      <td>9.0</td>\n",
       "      <td>14:00:00</td>\n",
       "      <td>1.0</td>\n",
       "      <td>0</td>\n",
       "      <td>1</td>\n",
       "      <td>0</td>\n",
       "      <td>0</td>\n",
       "      <td>0</td>\n",
       "      <td>0</td>\n",
       "      <td>0</td>\n",
       "      <td>...</td>\n",
       "      <td>0</td>\n",
       "      <td>0</td>\n",
       "      <td>0</td>\n",
       "      <td>0</td>\n",
       "      <td>0</td>\n",
       "      <td>0</td>\n",
       "      <td>0</td>\n",
       "      <td>0</td>\n",
       "      <td>0</td>\n",
       "      <td>14</td>\n",
       "    </tr>\n",
       "  </tbody>\n",
       "</table>\n",
       "<p>5 rows × 130 columns</p>\n",
       "</div>"
      ],
      "text/plain": [
       "       stm_prioriteit stm_sap_meldtijd  reparatietijd  \\\n",
       "19177             9.0         07:23:00            0.0   \n",
       "19220             9.0         07:00:00            0.0   \n",
       "20735             9.0         19:38:00            0.0   \n",
       "21228             9.0         07:12:00            0.0   \n",
       "22779             9.0         14:00:00            1.0   \n",
       "\n",
       "       stm_oorz_groep_ONR-DERD  stm_oorz_groep_ONR-RIB  \\\n",
       "19177                        0                       0   \n",
       "19220                        0                       0   \n",
       "20735                        1                       0   \n",
       "21228                        0                       0   \n",
       "22779                        0                       1   \n",
       "\n",
       "       stm_oorz_groep_TECHONV  stm_oorz_groep_WEER  stm_oorz_code_33.0  \\\n",
       "19177                       1                    0                   0   \n",
       "19220                       1                    0                   0   \n",
       "20735                       0                    0                   0   \n",
       "21228                       1                    0                   0   \n",
       "22779                       0                    0                   0   \n",
       "\n",
       "       stm_oorz_code_51.0  stm_oorz_code_130.0  ...  stm_contractgeb_gst_58.0  \\\n",
       "19177                   0                    0  ...                         0   \n",
       "19220                   0                    0  ...                         0   \n",
       "20735                   0                    0  ...                         0   \n",
       "21228                   0                    0  ...                         0   \n",
       "22779                   0                    0  ...                         0   \n",
       "\n",
       "       stm_contractgeb_gst_59.0  stm_contractgeb_gst_60.0  \\\n",
       "19177                         0                         0   \n",
       "19220                         0                         0   \n",
       "20735                         0                         0   \n",
       "21228                         0                         0   \n",
       "22779                         0                         0   \n",
       "\n",
       "       stm_contractgeb_gst_61.0  stm_contractgeb_gst_63.0  \\\n",
       "19177                         0                         0   \n",
       "19220                         0                         0   \n",
       "20735                         0                         0   \n",
       "21228                         0                         0   \n",
       "22779                         0                         0   \n",
       "\n",
       "       stm_contractgeb_gst_70.0  stm_contractgeb_gst_71.0  \\\n",
       "19177                         0                         0   \n",
       "19220                         0                         0   \n",
       "20735                         0                         0   \n",
       "21228                         0                         0   \n",
       "22779                         0                         0   \n",
       "\n",
       "       stm_contractgeb_gst_81.0  stm_contractgeb_gst_99.0  \\\n",
       "19177                         0                         0   \n",
       "19220                         0                         0   \n",
       "20735                         0                         0   \n",
       "21228                         0                         0   \n",
       "22779                         0                         0   \n",
       "\n",
       "       stm_sap_meldtijd_uren  \n",
       "19177                      7  \n",
       "19220                      7  \n",
       "20735                     20  \n",
       "21228                      7  \n",
       "22779                     14  \n",
       "\n",
       "[5 rows x 130 columns]"
      ]
     },
     "execution_count": 38,
     "metadata": {},
     "output_type": "execute_result"
    }
   ],
   "source": [
    "data2.head()"
   ]
  },
  {
   "cell_type": "code",
   "execution_count": 39,
   "metadata": {},
   "outputs": [],
   "source": [
    "# Data selectie waar we alle rijen pakken di een reparatietijd heeft \n",
    "data2 = data2[(data2['reparatietijd'] >= 15) & (data2['reparatietijd'] <=  480)]"
   ]
  },
  {
   "cell_type": "code",
   "execution_count": 44,
   "metadata": {
    "scrolled": true
   },
   "outputs": [
    {
     "data": {
      "text/html": [
       "<div>\n",
       "<style scoped>\n",
       "    .dataframe tbody tr th:only-of-type {\n",
       "        vertical-align: middle;\n",
       "    }\n",
       "\n",
       "    .dataframe tbody tr th {\n",
       "        vertical-align: top;\n",
       "    }\n",
       "\n",
       "    .dataframe thead th {\n",
       "        text-align: right;\n",
       "    }\n",
       "</style>\n",
       "<table border=\"1\" class=\"dataframe\">\n",
       "  <thead>\n",
       "    <tr style=\"text-align: right;\">\n",
       "      <th></th>\n",
       "      <th>stm_prioriteit</th>\n",
       "      <th>reparatietijd</th>\n",
       "      <th>stm_oorz_groep_ONR-DERD</th>\n",
       "      <th>stm_oorz_groep_ONR-RIB</th>\n",
       "      <th>stm_oorz_groep_TECHONV</th>\n",
       "      <th>stm_oorz_groep_WEER</th>\n",
       "      <th>stm_oorz_code_33.0</th>\n",
       "      <th>stm_oorz_code_51.0</th>\n",
       "      <th>stm_oorz_code_130.0</th>\n",
       "      <th>stm_oorz_code_131.0</th>\n",
       "      <th>...</th>\n",
       "      <th>stm_contractgeb_gst_58.0</th>\n",
       "      <th>stm_contractgeb_gst_59.0</th>\n",
       "      <th>stm_contractgeb_gst_60.0</th>\n",
       "      <th>stm_contractgeb_gst_61.0</th>\n",
       "      <th>stm_contractgeb_gst_63.0</th>\n",
       "      <th>stm_contractgeb_gst_70.0</th>\n",
       "      <th>stm_contractgeb_gst_71.0</th>\n",
       "      <th>stm_contractgeb_gst_81.0</th>\n",
       "      <th>stm_contractgeb_gst_99.0</th>\n",
       "      <th>stm_sap_meldtijd_uren</th>\n",
       "    </tr>\n",
       "  </thead>\n",
       "  <tbody>\n",
       "    <tr>\n",
       "      <th>count</th>\n",
       "      <td>283710.000000</td>\n",
       "      <td>283710.000000</td>\n",
       "      <td>283710.000000</td>\n",
       "      <td>283710.000000</td>\n",
       "      <td>283710.000000</td>\n",
       "      <td>283710.000000</td>\n",
       "      <td>283710.000000</td>\n",
       "      <td>283710.0</td>\n",
       "      <td>283710.000000</td>\n",
       "      <td>283710.000000</td>\n",
       "      <td>...</td>\n",
       "      <td>283710.000000</td>\n",
       "      <td>283710.000000</td>\n",
       "      <td>283710.000000</td>\n",
       "      <td>283710.000000</td>\n",
       "      <td>283710.000000</td>\n",
       "      <td>283710.000000</td>\n",
       "      <td>283710.000000</td>\n",
       "      <td>283710.000000</td>\n",
       "      <td>283710.000000</td>\n",
       "      <td>283710.000000</td>\n",
       "    </tr>\n",
       "    <tr>\n",
       "      <th>mean</th>\n",
       "      <td>3.744820</td>\n",
       "      <td>77.957637</td>\n",
       "      <td>0.191724</td>\n",
       "      <td>0.105640</td>\n",
       "      <td>0.654080</td>\n",
       "      <td>0.048557</td>\n",
       "      <td>0.000004</td>\n",
       "      <td>0.0</td>\n",
       "      <td>0.000148</td>\n",
       "      <td>0.000201</td>\n",
       "      <td>...</td>\n",
       "      <td>0.007927</td>\n",
       "      <td>0.006521</td>\n",
       "      <td>0.003863</td>\n",
       "      <td>0.008770</td>\n",
       "      <td>0.006485</td>\n",
       "      <td>0.000243</td>\n",
       "      <td>0.026055</td>\n",
       "      <td>0.017694</td>\n",
       "      <td>0.000712</td>\n",
       "      <td>12.445684</td>\n",
       "    </tr>\n",
       "    <tr>\n",
       "      <th>std</th>\n",
       "      <td>1.383249</td>\n",
       "      <td>75.357940</td>\n",
       "      <td>0.393658</td>\n",
       "      <td>0.307376</td>\n",
       "      <td>0.475668</td>\n",
       "      <td>0.214940</td>\n",
       "      <td>0.001877</td>\n",
       "      <td>0.0</td>\n",
       "      <td>0.012166</td>\n",
       "      <td>0.014173</td>\n",
       "      <td>...</td>\n",
       "      <td>0.088681</td>\n",
       "      <td>0.080488</td>\n",
       "      <td>0.062034</td>\n",
       "      <td>0.093234</td>\n",
       "      <td>0.080271</td>\n",
       "      <td>0.015593</td>\n",
       "      <td>0.159299</td>\n",
       "      <td>0.131837</td>\n",
       "      <td>0.026674</td>\n",
       "      <td>5.612488</td>\n",
       "    </tr>\n",
       "    <tr>\n",
       "      <th>min</th>\n",
       "      <td>1.000000</td>\n",
       "      <td>15.000000</td>\n",
       "      <td>0.000000</td>\n",
       "      <td>0.000000</td>\n",
       "      <td>0.000000</td>\n",
       "      <td>0.000000</td>\n",
       "      <td>0.000000</td>\n",
       "      <td>0.0</td>\n",
       "      <td>0.000000</td>\n",
       "      <td>0.000000</td>\n",
       "      <td>...</td>\n",
       "      <td>0.000000</td>\n",
       "      <td>0.000000</td>\n",
       "      <td>0.000000</td>\n",
       "      <td>0.000000</td>\n",
       "      <td>0.000000</td>\n",
       "      <td>0.000000</td>\n",
       "      <td>0.000000</td>\n",
       "      <td>0.000000</td>\n",
       "      <td>0.000000</td>\n",
       "      <td>0.000000</td>\n",
       "    </tr>\n",
       "    <tr>\n",
       "      <th>25%</th>\n",
       "      <td>2.000000</td>\n",
       "      <td>30.000000</td>\n",
       "      <td>0.000000</td>\n",
       "      <td>0.000000</td>\n",
       "      <td>0.000000</td>\n",
       "      <td>0.000000</td>\n",
       "      <td>0.000000</td>\n",
       "      <td>0.0</td>\n",
       "      <td>0.000000</td>\n",
       "      <td>0.000000</td>\n",
       "      <td>...</td>\n",
       "      <td>0.000000</td>\n",
       "      <td>0.000000</td>\n",
       "      <td>0.000000</td>\n",
       "      <td>0.000000</td>\n",
       "      <td>0.000000</td>\n",
       "      <td>0.000000</td>\n",
       "      <td>0.000000</td>\n",
       "      <td>0.000000</td>\n",
       "      <td>0.000000</td>\n",
       "      <td>9.000000</td>\n",
       "    </tr>\n",
       "    <tr>\n",
       "      <th>50%</th>\n",
       "      <td>4.000000</td>\n",
       "      <td>52.000000</td>\n",
       "      <td>0.000000</td>\n",
       "      <td>0.000000</td>\n",
       "      <td>1.000000</td>\n",
       "      <td>0.000000</td>\n",
       "      <td>0.000000</td>\n",
       "      <td>0.0</td>\n",
       "      <td>0.000000</td>\n",
       "      <td>0.000000</td>\n",
       "      <td>...</td>\n",
       "      <td>0.000000</td>\n",
       "      <td>0.000000</td>\n",
       "      <td>0.000000</td>\n",
       "      <td>0.000000</td>\n",
       "      <td>0.000000</td>\n",
       "      <td>0.000000</td>\n",
       "      <td>0.000000</td>\n",
       "      <td>0.000000</td>\n",
       "      <td>0.000000</td>\n",
       "      <td>12.000000</td>\n",
       "    </tr>\n",
       "    <tr>\n",
       "      <th>75%</th>\n",
       "      <td>5.000000</td>\n",
       "      <td>95.000000</td>\n",
       "      <td>0.000000</td>\n",
       "      <td>0.000000</td>\n",
       "      <td>1.000000</td>\n",
       "      <td>0.000000</td>\n",
       "      <td>0.000000</td>\n",
       "      <td>0.0</td>\n",
       "      <td>0.000000</td>\n",
       "      <td>0.000000</td>\n",
       "      <td>...</td>\n",
       "      <td>0.000000</td>\n",
       "      <td>0.000000</td>\n",
       "      <td>0.000000</td>\n",
       "      <td>0.000000</td>\n",
       "      <td>0.000000</td>\n",
       "      <td>0.000000</td>\n",
       "      <td>0.000000</td>\n",
       "      <td>0.000000</td>\n",
       "      <td>0.000000</td>\n",
       "      <td>16.000000</td>\n",
       "    </tr>\n",
       "    <tr>\n",
       "      <th>max</th>\n",
       "      <td>9.000000</td>\n",
       "      <td>480.000000</td>\n",
       "      <td>1.000000</td>\n",
       "      <td>1.000000</td>\n",
       "      <td>1.000000</td>\n",
       "      <td>1.000000</td>\n",
       "      <td>1.000000</td>\n",
       "      <td>0.0</td>\n",
       "      <td>1.000000</td>\n",
       "      <td>1.000000</td>\n",
       "      <td>...</td>\n",
       "      <td>1.000000</td>\n",
       "      <td>1.000000</td>\n",
       "      <td>1.000000</td>\n",
       "      <td>1.000000</td>\n",
       "      <td>1.000000</td>\n",
       "      <td>1.000000</td>\n",
       "      <td>1.000000</td>\n",
       "      <td>1.000000</td>\n",
       "      <td>1.000000</td>\n",
       "      <td>24.000000</td>\n",
       "    </tr>\n",
       "  </tbody>\n",
       "</table>\n",
       "<p>8 rows × 129 columns</p>\n",
       "</div>"
      ],
      "text/plain": [
       "       stm_prioriteit  reparatietijd  stm_oorz_groep_ONR-DERD  \\\n",
       "count   283710.000000  283710.000000            283710.000000   \n",
       "mean         3.744820      77.957637                 0.191724   \n",
       "std          1.383249      75.357940                 0.393658   \n",
       "min          1.000000      15.000000                 0.000000   \n",
       "25%          2.000000      30.000000                 0.000000   \n",
       "50%          4.000000      52.000000                 0.000000   \n",
       "75%          5.000000      95.000000                 0.000000   \n",
       "max          9.000000     480.000000                 1.000000   \n",
       "\n",
       "       stm_oorz_groep_ONR-RIB  stm_oorz_groep_TECHONV  stm_oorz_groep_WEER  \\\n",
       "count           283710.000000           283710.000000        283710.000000   \n",
       "mean                 0.105640                0.654080             0.048557   \n",
       "std                  0.307376                0.475668             0.214940   \n",
       "min                  0.000000                0.000000             0.000000   \n",
       "25%                  0.000000                0.000000             0.000000   \n",
       "50%                  0.000000                1.000000             0.000000   \n",
       "75%                  0.000000                1.000000             0.000000   \n",
       "max                  1.000000                1.000000             1.000000   \n",
       "\n",
       "       stm_oorz_code_33.0  stm_oorz_code_51.0  stm_oorz_code_130.0  \\\n",
       "count       283710.000000            283710.0        283710.000000   \n",
       "mean             0.000004                 0.0             0.000148   \n",
       "std              0.001877                 0.0             0.012166   \n",
       "min              0.000000                 0.0             0.000000   \n",
       "25%              0.000000                 0.0             0.000000   \n",
       "50%              0.000000                 0.0             0.000000   \n",
       "75%              0.000000                 0.0             0.000000   \n",
       "max              1.000000                 0.0             1.000000   \n",
       "\n",
       "       stm_oorz_code_131.0  ...  stm_contractgeb_gst_58.0  \\\n",
       "count        283710.000000  ...             283710.000000   \n",
       "mean              0.000201  ...                  0.007927   \n",
       "std               0.014173  ...                  0.088681   \n",
       "min               0.000000  ...                  0.000000   \n",
       "25%               0.000000  ...                  0.000000   \n",
       "50%               0.000000  ...                  0.000000   \n",
       "75%               0.000000  ...                  0.000000   \n",
       "max               1.000000  ...                  1.000000   \n",
       "\n",
       "       stm_contractgeb_gst_59.0  stm_contractgeb_gst_60.0  \\\n",
       "count             283710.000000             283710.000000   \n",
       "mean                   0.006521                  0.003863   \n",
       "std                    0.080488                  0.062034   \n",
       "min                    0.000000                  0.000000   \n",
       "25%                    0.000000                  0.000000   \n",
       "50%                    0.000000                  0.000000   \n",
       "75%                    0.000000                  0.000000   \n",
       "max                    1.000000                  1.000000   \n",
       "\n",
       "       stm_contractgeb_gst_61.0  stm_contractgeb_gst_63.0  \\\n",
       "count             283710.000000             283710.000000   \n",
       "mean                   0.008770                  0.006485   \n",
       "std                    0.093234                  0.080271   \n",
       "min                    0.000000                  0.000000   \n",
       "25%                    0.000000                  0.000000   \n",
       "50%                    0.000000                  0.000000   \n",
       "75%                    0.000000                  0.000000   \n",
       "max                    1.000000                  1.000000   \n",
       "\n",
       "       stm_contractgeb_gst_70.0  stm_contractgeb_gst_71.0  \\\n",
       "count             283710.000000             283710.000000   \n",
       "mean                   0.000243                  0.026055   \n",
       "std                    0.015593                  0.159299   \n",
       "min                    0.000000                  0.000000   \n",
       "25%                    0.000000                  0.000000   \n",
       "50%                    0.000000                  0.000000   \n",
       "75%                    0.000000                  0.000000   \n",
       "max                    1.000000                  1.000000   \n",
       "\n",
       "       stm_contractgeb_gst_81.0  stm_contractgeb_gst_99.0  \\\n",
       "count             283710.000000             283710.000000   \n",
       "mean                   0.017694                  0.000712   \n",
       "std                    0.131837                  0.026674   \n",
       "min                    0.000000                  0.000000   \n",
       "25%                    0.000000                  0.000000   \n",
       "50%                    0.000000                  0.000000   \n",
       "75%                    0.000000                  0.000000   \n",
       "max                    1.000000                  1.000000   \n",
       "\n",
       "       stm_sap_meldtijd_uren  \n",
       "count          283710.000000  \n",
       "mean               12.445684  \n",
       "std                 5.612488  \n",
       "min                 0.000000  \n",
       "25%                 9.000000  \n",
       "50%                12.000000  \n",
       "75%                16.000000  \n",
       "max                24.000000  \n",
       "\n",
       "[8 rows x 129 columns]"
      ]
     },
     "execution_count": 44,
     "metadata": {},
     "output_type": "execute_result"
    }
   ],
   "source": [
    "data2.describe()"
   ]
  },
  {
   "cell_type": "code",
   "execution_count": 49,
   "metadata": {},
   "outputs": [],
   "source": [
    "# stm_sap_meldtijd verwijderen\n",
    "data2 = data2.drop('stm_sap_meldtijd', axis  = 1)"
   ]
  },
  {
   "cell_type": "code",
   "execution_count": 50,
   "metadata": {},
   "outputs": [],
   "source": [
    "#Sla data2 op in een pkl bestand  \n",
    "data2.to_pickle(\"data2.pkl\")"
   ]
  }
 ],
 "metadata": {
  "kernelspec": {
   "display_name": "Python 3",
   "language": "python",
   "name": "python3"
  },
  "language_info": {
   "codemirror_mode": {
    "name": "ipython",
    "version": 3
   },
   "file_extension": ".py",
   "mimetype": "text/x-python",
   "name": "python",
   "nbconvert_exporter": "python",
   "pygments_lexer": "ipython3",
   "version": "3.7.3"
  }
 },
 "nbformat": 4,
 "nbformat_minor": 2
}
