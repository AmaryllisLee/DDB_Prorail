{
 "cells": [
  {
   "cell_type": "markdown",
   "metadata": {},
   "source": [
    "# Decision Tree Regression 2"
   ]
  },
  {
   "cell_type": "markdown",
   "metadata": {},
   "source": [
    "We zullen in deze notebook een Decision Tree model maken die de reparatietijd voorspelt op base van de uitgebreide gekozen features *oorzaak groep, oorzaak code, prioriteit."
   ]
  },
  {
   "cell_type": "code",
   "execution_count": 1,
   "metadata": {},
   "outputs": [],
   "source": [
    "#import benodigde libraries\n",
    "import pandas as pd\n",
    "import numpy as np\n",
    "from sklearn.metrics import mean_squared_error as mse\n",
    "from sklearn.model_selection import train_test_split\n",
    "from sklearn.tree import DecisionTreeRegressor\n",
    "import matplotlib.pyplot as plt\n",
    "%matplotlib inline"
   ]
  },
  {
   "cell_type": "code",
   "execution_count": 2,
   "metadata": {},
   "outputs": [
    {
     "data": {
      "text/html": [
       "<div>\n",
       "<style scoped>\n",
       "    .dataframe tbody tr th:only-of-type {\n",
       "        vertical-align: middle;\n",
       "    }\n",
       "\n",
       "    .dataframe tbody tr th {\n",
       "        vertical-align: top;\n",
       "    }\n",
       "\n",
       "    .dataframe thead th {\n",
       "        text-align: right;\n",
       "    }\n",
       "</style>\n",
       "<table border=\"1\" class=\"dataframe\">\n",
       "  <thead>\n",
       "    <tr style=\"text-align: right;\">\n",
       "      <th></th>\n",
       "      <th>stm_prioriteit</th>\n",
       "      <th>reparatietijd</th>\n",
       "      <th>stm_oorz_groep_ONR-DERD</th>\n",
       "      <th>stm_oorz_groep_ONR-RIB</th>\n",
       "      <th>stm_oorz_groep_TECHONV</th>\n",
       "      <th>stm_oorz_groep_WEER</th>\n",
       "      <th>stm_oorz_code_130.0</th>\n",
       "      <th>stm_oorz_code_131.0</th>\n",
       "      <th>stm_oorz_code_132.0</th>\n",
       "      <th>stm_oorz_code_133.0</th>\n",
       "      <th>...</th>\n",
       "      <th>stm_sap_meldtijd_uren_14</th>\n",
       "      <th>stm_sap_meldtijd_uren_15</th>\n",
       "      <th>stm_sap_meldtijd_uren_16</th>\n",
       "      <th>stm_sap_meldtijd_uren_17</th>\n",
       "      <th>stm_sap_meldtijd_uren_18</th>\n",
       "      <th>stm_sap_meldtijd_uren_19</th>\n",
       "      <th>stm_sap_meldtijd_uren_20</th>\n",
       "      <th>stm_sap_meldtijd_uren_21</th>\n",
       "      <th>stm_sap_meldtijd_uren_22</th>\n",
       "      <th>stm_sap_meldtijd_uren_23</th>\n",
       "    </tr>\n",
       "  </thead>\n",
       "  <tbody>\n",
       "    <tr>\n",
       "      <th>32099</th>\n",
       "      <td>9.0</td>\n",
       "      <td>40.000000</td>\n",
       "      <td>0</td>\n",
       "      <td>0</td>\n",
       "      <td>1</td>\n",
       "      <td>0</td>\n",
       "      <td>0</td>\n",
       "      <td>0</td>\n",
       "      <td>0</td>\n",
       "      <td>0</td>\n",
       "      <td>...</td>\n",
       "      <td>0</td>\n",
       "      <td>0</td>\n",
       "      <td>0</td>\n",
       "      <td>0</td>\n",
       "      <td>0</td>\n",
       "      <td>0</td>\n",
       "      <td>0</td>\n",
       "      <td>1</td>\n",
       "      <td>0</td>\n",
       "      <td>0</td>\n",
       "    </tr>\n",
       "    <tr>\n",
       "      <th>86473</th>\n",
       "      <td>9.0</td>\n",
       "      <td>228.650000</td>\n",
       "      <td>0</td>\n",
       "      <td>1</td>\n",
       "      <td>0</td>\n",
       "      <td>0</td>\n",
       "      <td>0</td>\n",
       "      <td>0</td>\n",
       "      <td>0</td>\n",
       "      <td>1</td>\n",
       "      <td>...</td>\n",
       "      <td>0</td>\n",
       "      <td>0</td>\n",
       "      <td>1</td>\n",
       "      <td>0</td>\n",
       "      <td>0</td>\n",
       "      <td>0</td>\n",
       "      <td>0</td>\n",
       "      <td>0</td>\n",
       "      <td>0</td>\n",
       "      <td>0</td>\n",
       "    </tr>\n",
       "    <tr>\n",
       "      <th>91875</th>\n",
       "      <td>9.0</td>\n",
       "      <td>220.316667</td>\n",
       "      <td>1</td>\n",
       "      <td>0</td>\n",
       "      <td>0</td>\n",
       "      <td>0</td>\n",
       "      <td>0</td>\n",
       "      <td>0</td>\n",
       "      <td>0</td>\n",
       "      <td>0</td>\n",
       "      <td>...</td>\n",
       "      <td>1</td>\n",
       "      <td>0</td>\n",
       "      <td>0</td>\n",
       "      <td>0</td>\n",
       "      <td>0</td>\n",
       "      <td>0</td>\n",
       "      <td>0</td>\n",
       "      <td>0</td>\n",
       "      <td>0</td>\n",
       "      <td>0</td>\n",
       "    </tr>\n",
       "    <tr>\n",
       "      <th>92852</th>\n",
       "      <td>9.0</td>\n",
       "      <td>55.000000</td>\n",
       "      <td>0</td>\n",
       "      <td>0</td>\n",
       "      <td>1</td>\n",
       "      <td>0</td>\n",
       "      <td>0</td>\n",
       "      <td>0</td>\n",
       "      <td>0</td>\n",
       "      <td>0</td>\n",
       "      <td>...</td>\n",
       "      <td>0</td>\n",
       "      <td>0</td>\n",
       "      <td>0</td>\n",
       "      <td>0</td>\n",
       "      <td>0</td>\n",
       "      <td>0</td>\n",
       "      <td>0</td>\n",
       "      <td>0</td>\n",
       "      <td>0</td>\n",
       "      <td>0</td>\n",
       "    </tr>\n",
       "    <tr>\n",
       "      <th>93767</th>\n",
       "      <td>9.0</td>\n",
       "      <td>15.233333</td>\n",
       "      <td>1</td>\n",
       "      <td>0</td>\n",
       "      <td>0</td>\n",
       "      <td>0</td>\n",
       "      <td>0</td>\n",
       "      <td>0</td>\n",
       "      <td>0</td>\n",
       "      <td>0</td>\n",
       "      <td>...</td>\n",
       "      <td>0</td>\n",
       "      <td>0</td>\n",
       "      <td>0</td>\n",
       "      <td>0</td>\n",
       "      <td>0</td>\n",
       "      <td>0</td>\n",
       "      <td>0</td>\n",
       "      <td>0</td>\n",
       "      <td>0</td>\n",
       "      <td>0</td>\n",
       "    </tr>\n",
       "  </tbody>\n",
       "</table>\n",
       "<p>5 rows × 148 columns</p>\n",
       "</div>"
      ],
      "text/plain": [
       "       stm_prioriteit  reparatietijd  stm_oorz_groep_ONR-DERD  \\\n",
       "32099             9.0      40.000000                        0   \n",
       "86473             9.0     228.650000                        0   \n",
       "91875             9.0     220.316667                        1   \n",
       "92852             9.0      55.000000                        0   \n",
       "93767             9.0      15.233333                        1   \n",
       "\n",
       "       stm_oorz_groep_ONR-RIB  stm_oorz_groep_TECHONV  stm_oorz_groep_WEER  \\\n",
       "32099                       0                       1                    0   \n",
       "86473                       1                       0                    0   \n",
       "91875                       0                       0                    0   \n",
       "92852                       0                       1                    0   \n",
       "93767                       0                       0                    0   \n",
       "\n",
       "       stm_oorz_code_130.0  stm_oorz_code_131.0  stm_oorz_code_132.0  \\\n",
       "32099                    0                    0                    0   \n",
       "86473                    0                    0                    0   \n",
       "91875                    0                    0                    0   \n",
       "92852                    0                    0                    0   \n",
       "93767                    0                    0                    0   \n",
       "\n",
       "       stm_oorz_code_133.0  ...  stm_sap_meldtijd_uren_14  \\\n",
       "32099                    0  ...                         0   \n",
       "86473                    1  ...                         0   \n",
       "91875                    0  ...                         1   \n",
       "92852                    0  ...                         0   \n",
       "93767                    0  ...                         0   \n",
       "\n",
       "       stm_sap_meldtijd_uren_15  stm_sap_meldtijd_uren_16  \\\n",
       "32099                         0                         0   \n",
       "86473                         0                         1   \n",
       "91875                         0                         0   \n",
       "92852                         0                         0   \n",
       "93767                         0                         0   \n",
       "\n",
       "       stm_sap_meldtijd_uren_17  stm_sap_meldtijd_uren_18  \\\n",
       "32099                         0                         0   \n",
       "86473                         0                         0   \n",
       "91875                         0                         0   \n",
       "92852                         0                         0   \n",
       "93767                         0                         0   \n",
       "\n",
       "       stm_sap_meldtijd_uren_19  stm_sap_meldtijd_uren_20  \\\n",
       "32099                         0                         0   \n",
       "86473                         0                         0   \n",
       "91875                         0                         0   \n",
       "92852                         0                         0   \n",
       "93767                         0                         0   \n",
       "\n",
       "       stm_sap_meldtijd_uren_21  stm_sap_meldtijd_uren_22  \\\n",
       "32099                         1                         0   \n",
       "86473                         0                         0   \n",
       "91875                         0                         0   \n",
       "92852                         0                         0   \n",
       "93767                         0                         0   \n",
       "\n",
       "       stm_sap_meldtijd_uren_23  \n",
       "32099                         0  \n",
       "86473                         0  \n",
       "91875                         0  \n",
       "92852                         0  \n",
       "93767                         0  \n",
       "\n",
       "[5 rows x 148 columns]"
      ]
     },
     "execution_count": 2,
     "metadata": {},
     "output_type": "execute_result"
    }
   ],
   "source": [
    "#De opgeschone dataset inlezen\n",
    "data2 = pd.read_pickle('data2.pkl')\n",
    "data2.head()"
   ]
  },
  {
   "cell_type": "code",
   "execution_count": 3,
   "metadata": {},
   "outputs": [],
   "source": [
    "#Herbruikbare functie die een Decision tree Regressor model bouwt \n",
    "def decisionTreeRegressor(features, target):\n",
    "    x_train, x_test, y_train, y_test = train_test_split(features, target) # splitsen in traiining en testing dataset\n",
    "    # Geeft de dimensie van de opgesplitste datasets\n",
    "    print(x_train.shape)\n",
    "    print(y_train.shape)\n",
    "    print(x_test.shape)\n",
    "    print(y_test.shape)\n",
    "    treereg = DecisionTreeRegressor()\n",
    "    #fit model \n",
    "    treereg.fit(x_train, y_train)\n",
    "    # Make prediction\n",
    "    y_pred = treereg.predict(x_test)\n",
    "    #Evaluate mbh van RMSE\n",
    "    trscore = np.sqrt(mse(y_test, y_pred))\n",
    "    return treereg, trscore"
   ]
  },
  {
   "cell_type": "code",
   "execution_count": 4,
   "metadata": {},
   "outputs": [],
   "source": [
    "#data opslitsen in features en target \n",
    "features = data2.drop('reparatietijd', axis = 1)\n",
    "target = data2['reparatietijd']"
   ]
  },
  {
   "cell_type": "code",
   "execution_count": 5,
   "metadata": {},
   "outputs": [
    {
     "name": "stdout",
     "output_type": "stream",
     "text": [
      "(211890, 147)\n",
      "(211890,)\n",
      "(70631, 147)\n",
      "(70631,)\n"
     ]
    },
    {
     "data": {
      "text/plain": [
       "82.52102460549678"
      ]
     },
     "execution_count": 5,
     "metadata": {},
     "output_type": "execute_result"
    }
   ],
   "source": [
    "#Decision tree regressor toepassen op features en target \n",
    "treereg,trscore = decisionTreeRegressor(features, target)\n",
    "trscore"
   ]
  },
  {
   "cell_type": "markdown",
   "metadata": {},
   "source": [
    "# Validatie model "
   ]
  },
  {
   "cell_type": "code",
   "execution_count": 9,
   "metadata": {},
   "outputs": [
    {
     "name": "stderr",
     "output_type": "stream",
     "text": [
      "C:\\ProgramData\\Anaconda3\\lib\\site-packages\\pandas\\core\\frame.py:6692: FutureWarning: Sorting because non-concatenation axis is not aligned. A future version\n",
      "of pandas will change to not sort by default.\n",
      "\n",
      "To accept the future behavior, pass 'sort=False'.\n",
      "\n",
      "To retain the current behavior and silence the warning, pass 'sort=True'.\n",
      "\n",
      "  sort=sort)\n"
     ]
    },
    {
     "name": "stdout",
     "output_type": "stream",
     "text": [
      "Voorspellinggen: [178.01666667 395.         329.38333333]\n"
     ]
    },
    {
     "data": {
      "text/plain": [
       "288.60587969806903"
      ]
     },
     "execution_count": 9,
     "metadata": {},
     "output_type": "execute_result"
    }
   ],
   "source": [
    "## Validatie model\n",
    "# Vaidatieset nlezen en geschikt maken omte voospellen\n",
    "vadata = pd.read_csv('C:\\Amaryllis_school_documents\\Jaar_20_21\\DDB\\ddb_prorail\\DDB_Prorail\\data\\Validatieset 2020-2021 CSV.csv', delimiter= ';')\n",
    "data2 = vadata[['stm_oorz_groep', 'stm_oorz_code', 'stm_prioriteit', 'stm_contractgeb_gst', 'stm_sap_meldtijd']].copy()\n",
    "data2 = pd.get_dummies(data2, columns = ['stm_oorz_groep'])\n",
    "data2 = pd.get_dummies(data2, columns = ['stm_oorz_code'])\n",
    "data2 = pd.get_dummies(data2, columns = ['stm_contractgeb_gst'])\n",
    "data2['stm_sap_meldtijd_uren'] = round(pd.to_timedelta(data2['stm_sap_meldtijd']).dt.total_seconds().div(3600)).astype(int)\n",
    "data2 = data2.drop('stm_sap_meldtijd', axis  = 1)\n",
    "data2 = pd.get_dummies(data2, columns = ['stm_sap_meldtijd_uren'])\n",
    "data3 = pd.DataFrame(data=None, columns=features.columns)\n",
    "data3 = data3.append(data2)\n",
    "data3 = data3.fillna(0)\n",
    "\n",
    "#Validatieset voorspellen \n",
    "y_pred = treereg.predict(data3)\n",
    "\n",
    "#Voorspelde waardes printen\n",
    "print(\"Voorspellinggen: {}\".format(y_pred))\n",
    "\n",
    "# De reparatietijd van de validatieset berekenen\n",
    "data4 = vadata[['stm_aanntpl_dd','stm_aanntpl_tijd','stm_fh_ddt']].copy()\n",
    "data4.loc[:, 'reparatietijd'] = (pd.to_datetime(data4['stm_fh_ddt']) -  pd.to_datetime(data4.loc[:,'stm_aanntpl_dd']  +\" \"+ data4['stm_aanntpl_tijd'])).dt.total_seconds().div(60)\n",
    "\n",
    "#RMSE score bepalen \n",
    "validatiescore = np.sqrt(mse(data4['reparatietijd'], y_pred))\n",
    "validatiescore"
   ]
  },
  {
   "cell_type": "code",
   "execution_count": 10,
   "metadata": {},
   "outputs": [
    {
     "data": {
      "text/plain": [
       "0    14.983333\n",
       "1     0.016667\n",
       "2    69.983333\n",
       "Name: reparatietijd, dtype: float64"
      ]
     },
     "execution_count": 10,
     "metadata": {},
     "output_type": "execute_result"
    }
   ],
   "source": [
    "# Actuale waardes zien\n",
    "data4['reparatietijd']"
   ]
  },
  {
   "cell_type": "code",
   "execution_count": null,
   "metadata": {},
   "outputs": [],
   "source": []
  }
 ],
 "metadata": {
  "kernelspec": {
   "display_name": "Python 3",
   "language": "python",
   "name": "python3"
  },
  "language_info": {
   "codemirror_mode": {
    "name": "ipython",
    "version": 3
   },
   "file_extension": ".py",
   "mimetype": "text/x-python",
   "name": "python",
   "nbconvert_exporter": "python",
   "pygments_lexer": "ipython3",
   "version": "3.7.3"
  }
 },
 "nbformat": 4,
 "nbformat_minor": 4
}
