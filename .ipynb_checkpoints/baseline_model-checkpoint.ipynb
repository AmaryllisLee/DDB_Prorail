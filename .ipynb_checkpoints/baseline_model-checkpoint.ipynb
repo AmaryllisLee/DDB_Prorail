{
 "cells": [
  {
   "cell_type": "markdown",
   "metadata": {},
   "source": [
    "# Baseline model "
   ]
  },
  {
   "cell_type": "code",
   "execution_count": 1,
   "metadata": {},
   "outputs": [],
   "source": [
    "# libraries importeren \n",
    "import pandas as pd\n",
    "import numpy as np\n",
    "from sklearn.metrics import mean_squared_error\n",
    "import matplotlib.pyplot as plt\n",
    "%matplotlib inline"
   ]
  },
  {
   "cell_type": "code",
   "execution_count": 2,
   "metadata": {},
   "outputs": [],
   "source": [
    "# dataset inlezen \n",
    "df = pd.read_csv('data/sap_storing_data_hu_project.csv', low_memory=False)"
   ]
  },
  {
   "cell_type": "code",
   "execution_count": 3,
   "metadata": {
    "scrolled": true
   },
   "outputs": [
    {
     "data": {
      "text/html": [
       "<div>\n",
       "<style scoped>\n",
       "    .dataframe tbody tr th:only-of-type {\n",
       "        vertical-align: middle;\n",
       "    }\n",
       "\n",
       "    .dataframe tbody tr th {\n",
       "        vertical-align: top;\n",
       "    }\n",
       "\n",
       "    .dataframe thead th {\n",
       "        text-align: right;\n",
       "    }\n",
       "</style>\n",
       "<table border=\"1\" class=\"dataframe\">\n",
       "  <thead>\n",
       "    <tr style=\"text-align: right;\">\n",
       "      <th></th>\n",
       "      <th>Unnamed: 0</th>\n",
       "      <th>#stm_sap_meldnr</th>\n",
       "      <th>stm_mon_nr</th>\n",
       "      <th>stm_vl_post</th>\n",
       "      <th>stm_sap_meld_ddt</th>\n",
       "      <th>stm_sap_mon_meld_ddt</th>\n",
       "      <th>stm_sap_meldtekst_lang</th>\n",
       "      <th>stm_mon_begin_ddt</th>\n",
       "      <th>stm_sap_meldtekst</th>\n",
       "      <th>stm_mon_toelichting_trdl</th>\n",
       "      <th>...</th>\n",
       "      <th>stm_rapportage_maand</th>\n",
       "      <th>stm_rapportage_jaar</th>\n",
       "      <th>stm_x_bron_publ_dt</th>\n",
       "      <th>stm_x_bron_bestandsnaam</th>\n",
       "      <th>stm_x_bron_arch_dt</th>\n",
       "      <th>stm_x_actueel_ind</th>\n",
       "      <th>stm_x_run_id</th>\n",
       "      <th>stm_x_bk</th>\n",
       "      <th>stm_x_start_sessie_dt</th>\n",
       "      <th>stm_x_vervallen_ind</th>\n",
       "    </tr>\n",
       "  </thead>\n",
       "  <tbody>\n",
       "    <tr>\n",
       "      <th>0</th>\n",
       "      <td>0</td>\n",
       "      <td>0</td>\n",
       "      <td>NaN</td>\n",
       "      <td>NaN</td>\n",
       "      <td>NaN</td>\n",
       "      <td>NaN</td>\n",
       "      <td>NaN</td>\n",
       "      <td>NaN</td>\n",
       "      <td>NaN</td>\n",
       "      <td>NaN</td>\n",
       "      <td>...</td>\n",
       "      <td>5</td>\n",
       "      <td>2014</td>\n",
       "      <td>07/05/2014 05:30:12</td>\n",
       "      <td>\\\\PUHAPS0149\\Informatica_Prod\\Inbox\\Informatic...</td>\n",
       "      <td>31/12/9999 00:00:00</td>\n",
       "      <td>1</td>\n",
       "      <td>34415</td>\n",
       "      <td>3617016</td>\n",
       "      <td>07/05/2014 05:44:24</td>\n",
       "      <td>0</td>\n",
       "    </tr>\n",
       "    <tr>\n",
       "      <th>1</th>\n",
       "      <td>1</td>\n",
       "      <td>50053211</td>\n",
       "      <td>0.0</td>\n",
       "      <td>NaN</td>\n",
       "      <td>02/01/2006 09:00:00</td>\n",
       "      <td>02/01/2006 09:00:00</td>\n",
       "      <td>Logboeknr  Geeltje  :   49 Tijd: 0900   VL-Po...</td>\n",
       "      <td>NaN</td>\n",
       "      <td>Logboeknr  Geeltje  :   49 Tijd: 0900</td>\n",
       "      <td>NaN</td>\n",
       "      <td>...</td>\n",
       "      <td>1</td>\n",
       "      <td>2006</td>\n",
       "      <td>02/01/2006 09:00:00</td>\n",
       "      <td>\\\\PUHAPS0149\\Informatica_Prod\\Inbox\\Informatic...</td>\n",
       "      <td>31/12/9999 00:00:00</td>\n",
       "      <td>1</td>\n",
       "      <td>1518</td>\n",
       "      <td>12704590</td>\n",
       "      <td>13/06/2013 13:37:52</td>\n",
       "      <td>0</td>\n",
       "    </tr>\n",
       "    <tr>\n",
       "      <th>2</th>\n",
       "      <td>2</td>\n",
       "      <td>50053213</td>\n",
       "      <td>48.0</td>\n",
       "      <td>GN</td>\n",
       "      <td>02/01/2006 12:35:00</td>\n",
       "      <td>02/01/2006 12:35:00</td>\n",
       "      <td>Logboeknr  RBV  :   48 Tijd: 1235   VL-Post: ...</td>\n",
       "      <td>02/01/2006 12:35:00</td>\n",
       "      <td>Logboeknr  RBV  :   48 Tijd: 1235   VL-P</td>\n",
       "      <td>NaN</td>\n",
       "      <td>...</td>\n",
       "      <td>1</td>\n",
       "      <td>2006</td>\n",
       "      <td>02/01/2006 12:35:00</td>\n",
       "      <td>\\\\PUHAPS0149\\Informatica_Prod\\Inbox\\Informatic...</td>\n",
       "      <td>31/12/9999 00:00:00</td>\n",
       "      <td>1</td>\n",
       "      <td>1518</td>\n",
       "      <td>12704591</td>\n",
       "      <td>13/06/2013 13:37:52</td>\n",
       "      <td>0</td>\n",
       "    </tr>\n",
       "    <tr>\n",
       "      <th>3</th>\n",
       "      <td>3</td>\n",
       "      <td>50053214</td>\n",
       "      <td>72.0</td>\n",
       "      <td>ZL</td>\n",
       "      <td>02/01/2006 16:40:00</td>\n",
       "      <td>02/01/2006 16:40:00</td>\n",
       "      <td>Logboeknr  RBV  :   72 Tijd: 1640   VL-Post: ...</td>\n",
       "      <td>02/01/2006 16:40:00</td>\n",
       "      <td>Logboeknr  RBV  :   72 Tijd: 1640   VL-P</td>\n",
       "      <td>NaN</td>\n",
       "      <td>...</td>\n",
       "      <td>1</td>\n",
       "      <td>2006</td>\n",
       "      <td>02/01/2006 16:40:00</td>\n",
       "      <td>\\\\PUHAPS0149\\Informatica_Prod\\Inbox\\Informatic...</td>\n",
       "      <td>31/12/9999 00:00:00</td>\n",
       "      <td>1</td>\n",
       "      <td>1518</td>\n",
       "      <td>12704592</td>\n",
       "      <td>13/06/2013 13:37:52</td>\n",
       "      <td>0</td>\n",
       "    </tr>\n",
       "    <tr>\n",
       "      <th>4</th>\n",
       "      <td>4</td>\n",
       "      <td>50053215</td>\n",
       "      <td>96.0</td>\n",
       "      <td>ZL</td>\n",
       "      <td>02/01/2006 22:30:00</td>\n",
       "      <td>02/01/2006 22:30:00</td>\n",
       "      <td>Logboeknr  RBV  :   96 Tijd: 2230   VL-Post: ...</td>\n",
       "      <td>02/01/2006 22:30:00</td>\n",
       "      <td>Logboeknr  RBV  :   96 Tijd: 2230   VL-P</td>\n",
       "      <td>NaN</td>\n",
       "      <td>...</td>\n",
       "      <td>1</td>\n",
       "      <td>2006</td>\n",
       "      <td>02/01/2006 22:30:00</td>\n",
       "      <td>\\\\PUHAPS0149\\Informatica_Prod\\Inbox\\Informatic...</td>\n",
       "      <td>31/12/9999 00:00:00</td>\n",
       "      <td>1</td>\n",
       "      <td>1518</td>\n",
       "      <td>12704593</td>\n",
       "      <td>13/06/2013 13:37:52</td>\n",
       "      <td>0</td>\n",
       "    </tr>\n",
       "  </tbody>\n",
       "</table>\n",
       "<p>5 rows × 140 columns</p>\n",
       "</div>"
      ],
      "text/plain": [
       "  Unnamed: 0  #stm_sap_meldnr  stm_mon_nr stm_vl_post     stm_sap_meld_ddt  \\\n",
       "0          0                0         NaN         NaN                  NaN   \n",
       "1          1         50053211         0.0         NaN  02/01/2006 09:00:00   \n",
       "2          2         50053213        48.0          GN  02/01/2006 12:35:00   \n",
       "3          3         50053214        72.0          ZL  02/01/2006 16:40:00   \n",
       "4          4         50053215        96.0          ZL  02/01/2006 22:30:00   \n",
       "\n",
       "  stm_sap_mon_meld_ddt                             stm_sap_meldtekst_lang  \\\n",
       "0                  NaN                                                NaN   \n",
       "1  02/01/2006 09:00:00   Logboeknr  Geeltje  :   49 Tijd: 0900   VL-Po...   \n",
       "2  02/01/2006 12:35:00   Logboeknr  RBV  :   48 Tijd: 1235   VL-Post: ...   \n",
       "3  02/01/2006 16:40:00   Logboeknr  RBV  :   72 Tijd: 1640   VL-Post: ...   \n",
       "4  02/01/2006 22:30:00   Logboeknr  RBV  :   96 Tijd: 2230   VL-Post: ...   \n",
       "\n",
       "     stm_mon_begin_ddt                         stm_sap_meldtekst  \\\n",
       "0                  NaN                                       NaN   \n",
       "1                  NaN     Logboeknr  Geeltje  :   49 Tijd: 0900   \n",
       "2  02/01/2006 12:35:00  Logboeknr  RBV  :   48 Tijd: 1235   VL-P   \n",
       "3  02/01/2006 16:40:00  Logboeknr  RBV  :   72 Tijd: 1640   VL-P   \n",
       "4  02/01/2006 22:30:00  Logboeknr  RBV  :   96 Tijd: 2230   VL-P   \n",
       "\n",
       "  stm_mon_toelichting_trdl  ... stm_rapportage_maand stm_rapportage_jaar  \\\n",
       "0                      NaN  ...                    5                2014   \n",
       "1                      NaN  ...                    1                2006   \n",
       "2                      NaN  ...                    1                2006   \n",
       "3                      NaN  ...                    1                2006   \n",
       "4                      NaN  ...                    1                2006   \n",
       "\n",
       "    stm_x_bron_publ_dt                            stm_x_bron_bestandsnaam  \\\n",
       "0  07/05/2014 05:30:12  \\\\PUHAPS0149\\Informatica_Prod\\Inbox\\Informatic...   \n",
       "1  02/01/2006 09:00:00  \\\\PUHAPS0149\\Informatica_Prod\\Inbox\\Informatic...   \n",
       "2  02/01/2006 12:35:00  \\\\PUHAPS0149\\Informatica_Prod\\Inbox\\Informatic...   \n",
       "3  02/01/2006 16:40:00  \\\\PUHAPS0149\\Informatica_Prod\\Inbox\\Informatic...   \n",
       "4  02/01/2006 22:30:00  \\\\PUHAPS0149\\Informatica_Prod\\Inbox\\Informatic...   \n",
       "\n",
       "    stm_x_bron_arch_dt stm_x_actueel_ind  stm_x_run_id  stm_x_bk  \\\n",
       "0  31/12/9999 00:00:00                 1         34415   3617016   \n",
       "1  31/12/9999 00:00:00                 1          1518  12704590   \n",
       "2  31/12/9999 00:00:00                 1          1518  12704591   \n",
       "3  31/12/9999 00:00:00                 1          1518  12704592   \n",
       "4  31/12/9999 00:00:00                 1          1518  12704593   \n",
       "\n",
       "   stm_x_start_sessie_dt stm_x_vervallen_ind  \n",
       "0    07/05/2014 05:44:24                   0  \n",
       "1    13/06/2013 13:37:52                   0  \n",
       "2    13/06/2013 13:37:52                   0  \n",
       "3    13/06/2013 13:37:52                   0  \n",
       "4    13/06/2013 13:37:52                   0  \n",
       "\n",
       "[5 rows x 140 columns]"
      ]
     },
     "execution_count": 3,
     "metadata": {},
     "output_type": "execute_result"
    }
   ],
   "source": [
    "df.head()"
   ]
  },
  {
   "cell_type": "code",
   "execution_count": 4,
   "metadata": {},
   "outputs": [
    {
     "data": {
      "text/html": [
       "<div>\n",
       "<style scoped>\n",
       "    .dataframe tbody tr th:only-of-type {\n",
       "        vertical-align: middle;\n",
       "    }\n",
       "\n",
       "    .dataframe tbody tr th {\n",
       "        vertical-align: top;\n",
       "    }\n",
       "\n",
       "    .dataframe thead th {\n",
       "        text-align: right;\n",
       "    }\n",
       "</style>\n",
       "<table border=\"1\" class=\"dataframe\">\n",
       "  <thead>\n",
       "    <tr style=\"text-align: right;\">\n",
       "      <th></th>\n",
       "      <th>stm_aanntpl_dd</th>\n",
       "      <th>stm_aanntpl_tijd</th>\n",
       "      <th>stm_fh_ddt</th>\n",
       "    </tr>\n",
       "  </thead>\n",
       "  <tbody>\n",
       "    <tr>\n",
       "      <th>0</th>\n",
       "      <td>NaN</td>\n",
       "      <td>NaN</td>\n",
       "      <td>NaN</td>\n",
       "    </tr>\n",
       "    <tr>\n",
       "      <th>1</th>\n",
       "      <td>NaN</td>\n",
       "      <td>00:00:00</td>\n",
       "      <td>02/01/2006 09:00:00</td>\n",
       "    </tr>\n",
       "    <tr>\n",
       "      <th>2</th>\n",
       "      <td>NaN</td>\n",
       "      <td>00:00:00</td>\n",
       "      <td>02/01/2006 13:26:00</td>\n",
       "    </tr>\n",
       "    <tr>\n",
       "      <th>3</th>\n",
       "      <td>NaN</td>\n",
       "      <td>00:00:00</td>\n",
       "      <td>02/01/2006 17:20:00</td>\n",
       "    </tr>\n",
       "    <tr>\n",
       "      <th>4</th>\n",
       "      <td>NaN</td>\n",
       "      <td>00:00:00</td>\n",
       "      <td>02/01/2006 22:36:00</td>\n",
       "    </tr>\n",
       "  </tbody>\n",
       "</table>\n",
       "</div>"
      ],
      "text/plain": [
       "  stm_aanntpl_dd stm_aanntpl_tijd           stm_fh_ddt\n",
       "0            NaN              NaN                  NaN\n",
       "1            NaN         00:00:00  02/01/2006 09:00:00\n",
       "2            NaN         00:00:00  02/01/2006 13:26:00\n",
       "3            NaN         00:00:00  02/01/2006 17:20:00\n",
       "4            NaN         00:00:00  02/01/2006 22:36:00"
      ]
     },
     "execution_count": 4,
     "metadata": {},
     "output_type": "execute_result"
    }
   ],
   "source": [
    "df[['stm_aanntpl_dd','stm_aanntpl_tijd','stm_fh_ddt']].head()"
   ]
  },
  {
   "cell_type": "code",
   "execution_count": 5,
   "metadata": {},
   "outputs": [
    {
     "data": {
      "text/plain": [
       "stm_aanntpl_tijd    object\n",
       "stm_fh_ddt          object\n",
       "dtype: object"
      ]
     },
     "execution_count": 5,
     "metadata": {},
     "output_type": "execute_result"
    }
   ],
   "source": [
    "df[['stm_aanntpl_tijd','stm_fh_ddt']].dtypes"
   ]
  },
  {
   "cell_type": "code",
   "execution_count": 6,
   "metadata": {},
   "outputs": [
    {
     "name": "stdout",
     "output_type": "stream",
     "text": [
      "38\n",
      "165635\n"
     ]
    }
   ],
   "source": [
    "print(df['stm_aanntpl_tijd'].isnull().sum())\n",
    "print(df['stm_fh_ddt'].isnull().sum())"
   ]
  },
  {
   "cell_type": "markdown",
   "metadata": {},
   "source": [
    "Deze kolommen bevatten 165673 NaN waardes die we  moeten verwijderen."
   ]
  },
  {
   "cell_type": "code",
   "execution_count": 7,
   "metadata": {},
   "outputs": [],
   "source": [
    "data = df[['stm_aanntpl_dd','stm_aanntpl_tijd','stm_fh_ddt']].dropna()"
   ]
  },
  {
   "cell_type": "code",
   "execution_count": 8,
   "metadata": {},
   "outputs": [],
   "source": [
    "data['stm_aanntpl_ddt']  = data['stm_aanntpl_dd']  +\" \"+ data['stm_aanntpl_tijd'] "
   ]
  },
  {
   "cell_type": "markdown",
   "metadata": {},
   "source": [
    "We zien dat dat de tijdstip van functieherstel moet opgeesplitst   worden.Bovendien moeten de kolommen verandert worden naar datetime."
   ]
  },
  {
   "cell_type": "code",
   "execution_count": 9,
   "metadata": {},
   "outputs": [],
   "source": [
    "data['stm_aanntpl_ddt']=pd.to_datetime(data['stm_aanntpl_ddt'])#https://stackoverflow.com/questions/37801321/python-pandas-convert-string-to-time-only\n",
    "data['stm_fh_ddt']=pd.to_datetime(data['stm_fh_ddt'])"
   ]
  },
  {
   "cell_type": "code",
   "execution_count": 10,
   "metadata": {},
   "outputs": [
    {
     "data": {
      "text/plain": [
       "stm_aanntpl_dd              object\n",
       "stm_aanntpl_tijd            object\n",
       "stm_fh_ddt          datetime64[ns]\n",
       "stm_aanntpl_ddt     datetime64[ns]\n",
       "dtype: object"
      ]
     },
     "execution_count": 10,
     "metadata": {},
     "output_type": "execute_result"
    }
   ],
   "source": [
    "data.dtypes"
   ]
  },
  {
   "cell_type": "markdown",
   "metadata": {},
   "source": [
    "We moeten nu de verschil van de deze twee  kolommen nemen als onze targett variabel"
   ]
  },
  {
   "cell_type": "code",
   "execution_count": 11,
   "metadata": {},
   "outputs": [],
   "source": [
    "data['reparatietijd']   = data['stm_fh_ddt'] - data['stm_aanntpl_ddt']"
   ]
  },
  {
   "cell_type": "code",
   "execution_count": 12,
   "metadata": {},
   "outputs": [
    {
     "data": {
      "text/plain": [
       "19177   00:00:00\n",
       "19220   00:00:00\n",
       "20735   00:00:00\n",
       "21228   00:00:00\n",
       "22779   00:01:00\n",
       "Name: reparatietijd, dtype: timedelta64[ns]"
      ]
     },
     "execution_count": 12,
     "metadata": {},
     "output_type": "execute_result"
    }
   ],
   "source": [
    "data['reparatietijd'].head()"
   ]
  },
  {
   "cell_type": "code",
   "execution_count": 13,
   "metadata": {},
   "outputs": [],
   "source": [
    "#https://stackoverflow.com/questions/17951820/convert-hhmmss-to-minutes-using-python-pandas\n",
    "data['reparatietijd']= data['reparatietijd'].dt.total_seconds().div(60)"
   ]
  },
  {
   "cell_type": "code",
   "execution_count": 14,
   "metadata": {},
   "outputs": [
    {
     "data": {
      "text/plain": [
       "count    6.839850e+05\n",
       "mean     4.972723e+02\n",
       "std      2.669839e+04\n",
       "min     -5.270005e+05\n",
       "25%      1.000000e+01\n",
       "50%      3.300000e+01\n",
       "75%      8.113333e+01\n",
       "max      4.336560e+06\n",
       "Name: reparatietijd, dtype: float64"
      ]
     },
     "execution_count": 14,
     "metadata": {},
     "output_type": "execute_result"
    }
   ],
   "source": [
    "reparatietijd =  data['reparatietijd'].copy()\n",
    "reparatietijd.describe()"
   ]
  },
  {
   "cell_type": "code",
   "execution_count": 15,
   "metadata": {},
   "outputs": [
    {
     "data": {
      "text/plain": [
       "<matplotlib.axes._subplots.AxesSubplot at 0x23a14067ba8>"
      ]
     },
     "execution_count": 15,
     "metadata": {},
     "output_type": "execute_result"
    },
    {
     "data": {
      "image/png": "[encoded data removed]",
      "text/plain": [
       "<Figure size 432x288 with 1 Axes>"
      ]
     },
     "metadata": {
      "needs_background": "light"
     },
     "output_type": "display_data"
    }
   ],
   "source": [
    "reparatietijd.plot.box()"
   ]
  },
  {
   "cell_type": "code",
   "execution_count": 17,
   "metadata": {},
   "outputs": [
    {
     "name": "stdout",
     "output_type": "stream",
     "text": [
      "Q1 = 10.0, Q3 = 81.13333333333334\n",
      "IQR = Q3 - Q1 = 10.0 - 81.13333333333334 = 71.13333333333334\n",
      "Lengte van de data : 683985\n",
      "\n",
      "Aantal sterke outliers boven de boxplot, boven de 294.53333333333336 : 41726\n",
      "Aantal zwakke outliers boven de boxplot, tussen 187.83333333333337 en 294.53333333333336 : 27996\n",
      "Aantal sterke outliers onder de boxplot : -96.70000000000002, tussen de -203.40000000000003 en 128\n",
      "Aantal sterke outliers onder de boxplot : -203.40000000000003, onder de 4565\n"
     ]
    }
   ],
   "source": [
    "#Outliers berkenen\n",
    "reparatietijd= reparatietijd.sort_values() # sorteer de data\n",
    "\n",
    "# bereken de Q1, Q3 en de IQR \n",
    "q1 = reparatietijd.quantile(0.25)\n",
    "q3 = reparatietijd.quantile(0.75)\n",
    "iqr = q3-q1\n",
    "print(\"Q1 = {}, Q3 = {}\".format(q1, q3)) \n",
    "print(\"IQR = Q3 - Q1 = {} - {} = {}\".format(q1,q3,iqr))\n",
    "\n",
    "# Bereken het aantal zwakke en sterke outliers boven en onder de boxplot.\n",
    "zwakke_lower = reparatietijd[(reparatietijd<=q1-1.5*iqr)&(reparatietijd>q1-3*iqr)].count()\n",
    "sterke_lower = reparatietijd[reparatietijd<q1-3*iqr].count()\n",
    "zwakke_upper = reparatietijd[(reparatietijd>=q3+1.5*iqr)&(reparatietijd<q3+3*iqr)].count()\n",
    "sterke_upper = reparatietijd[reparatietijd>q3+3*iqr].count()\n",
    "\n",
    "print(\"Lengte van de data : {}\".format(len(data)))\n",
    "print()\n",
    "print(\"Aantal sterke outliers boven de boxplot, boven de {} : {}\".format(q3+3*iqr, sterke_upper))\n",
    "print(\"Aantal zwakke outliers boven de boxplot, tussen {} en {} : {}\".format(q3+1.5*iqr,q3+3*iqr, zwakke_upper))\n",
    "print(\"Aantal sterke outliers onder de boxplot : {}, tussen de {} en {}\".format(q1-1.5*iqr, q1-3*iqr, zwakke_lower))\n",
    "print(\"Aantal sterke outliers onder de boxplot : {}, onder de {}\".format(q1-3*iqr, sterke_lower))"
   ]
  },
  {
   "cell_type": "markdown",
   "metadata": {},
   "source": [
    "Uit de Buisness  understanding weten we dat we de storingen moeten voorspellen die de reparatietijd heeft vvan minimaal 15 min tot   maxiimaal 8 uur. We zullen op base van deze range een data selectie maken."
   ]
  },
  {
   "cell_type": "markdown",
   "metadata": {},
   "source": [
    "Aan de hand van de boxplot en de bovenstaande berekening, komen er veel outliers voor boven de boxplot. Er is te zien dat de outliers een invloed hebben op de gemiddelde ten opzichte van de mediaan. Deze outlier kan een negatieve invloed hebben op de accuracy van onze voorspellingen.We gaan voor nu de outliers niet verwerken, maar die moet wel gedaan worden voor de complexe modellen."
   ]
  },
  {
   "cell_type": "markdown",
   "metadata": {},
   "source": [
    "## Baseline model ontwikkelen"
   ]
  },
  {
   "cell_type": "code",
   "execution_count": 18,
   "metadata": {},
   "outputs": [
    {
     "data": {
      "image/png": "[encoded data removed]",
      "text/plain": [
       "<Figure size 432x288 with 1 Axes>"
      ]
     },
     "metadata": {
      "needs_background": "light"
     },
     "output_type": "display_data"
    }
   ],
   "source": [
    "# Onze target variabel plotten in een \n",
    "x = range(0,len(reparatietijd))\n",
    "plt.plot(x,reparatietijd)\n",
    "\n",
    "plt.title('Hersteltijd')\n",
    "plt.show()"
   ]
  },
  {
   "cell_type": "code",
   "execution_count": 19,
   "metadata": {},
   "outputs": [
    {
     "data": {
      "text/plain": [
       "count    6.839850e+05\n",
       "mean     4.972723e+02\n",
       "std      2.669839e+04\n",
       "min     -5.270005e+05\n",
       "25%      1.000000e+01\n",
       "50%      3.300000e+01\n",
       "75%      8.113333e+01\n",
       "max      4.336560e+06\n",
       "Name: reparatietijd, dtype: float64"
      ]
     },
     "execution_count": 19,
     "metadata": {},
     "output_type": "execute_result"
    }
   ],
   "source": [
    "reparatietijd.describe()"
   ]
  },
  {
   "cell_type": "code",
   "execution_count": 20,
   "metadata": {},
   "outputs": [
    {
     "name": "stdout",
     "output_type": "stream",
     "text": [
      "340058\n",
      "339962\n"
     ]
    }
   ],
   "source": [
    "# Bepaal hoeveel boven en onder de gemiddelde van de dataset.\n",
    "print(len(reparatietijd[reparatietijd < reparatietijd.median()]))\n",
    "print(len(reparatietijd[reparatietijd > reparatietijd.median()]))"
   ]
  },
  {
   "cell_type": "markdown",
   "metadata": {},
   "source": [
    "Voor 50% van alle reparatietijd, duren korter/langer dan 120 minuten(2 uren)<br>\n",
    "\n",
    "We gaan een baseline model bouwen waar onze voorspelde reparatietijd is altijd gelijk aan de mediaan"
   ]
  },
  {
   "cell_type": "markdown",
   "metadata": {},
   "source": [
    "We willen uiteindelijk de score/kwaliteit van de baseline model bepalen.Hierdoor kunnen we onze toekomstige complexe modellen met onze baseline model vergelijken.   <br>\n",
    "De kwaliteit van de baseline  modellen worden berekent mbh van de RMSE. Er wordt gekozen om de RMSE te gebruiken,  omdat de RMSE geeft aan de gemiddelde afwijking van de voorspelde waardes. Er kan berekent  worden  hoeveel gemiddeld de mediaan wijkt af van de actuele reparatietijden."
   ]
  },
  {
   "cell_type": "code",
   "execution_count": 21,
   "metadata": {},
   "outputs": [],
   "source": [
    "# Baselinne model    maken \n",
    "def baselinemodel(data,kolom):\n",
    "    data['Median']=  data[kolom].median()\n",
    "    # De kwaliteit/score van de model bepalen mbh van RMSE\n",
    "    score =np.sqrt(mean_squared_error(data.loc[:,kolom],data.loc[:,'Median']))\n",
    "    return score"
   ]
  },
  {
   "cell_type": "code",
   "execution_count": 22,
   "metadata": {},
   "outputs": [
    {
     "data": {
      "text/plain": [
       "81.61135935763781"
      ]
     },
     "execution_count": 22,
     "metadata": {},
     "output_type": "execute_result"
    }
   ],
   "source": [
    "reparatietijd = reparatietijd[(reparatietijd >=15) & (reparatietijd <=480)]\n",
    "dfbase = reparatietijd.to_frame() # zet om  Series naar dataframe\n",
    "baselinemodel(dfbase, 'reparatietijd')"
   ]
  },
  {
   "cell_type": "markdown",
   "metadata": {},
   "source": [
    "#### Nieuwe features bepalen"
   ]
  },
  {
   "cell_type": "code",
   "execution_count": null,
   "metadata": {},
   "outputs": [],
   "source": [
    "#geo code\n",
    "#stm_km_van_gst-  vragen betekeniss\n",
    "#stm_km_tot_gst-  vragen betekenis\n",
    "#stm_contractgeb_mld\n",
    "#stm_techn_gst\n",
    "#stm_sap_meldtijd - vragen \n",
    "\n",
    "df[['stm_geo_gst','stm_km_van_gst', 'stm_km_tot_gst']]"
   ]
  },
  {
   "cell_type": "markdown",
   "metadata": {},
   "source": [
    "# Dashboard"
   ]
  },
  {
   "cell_type": "code",
   "execution_count": null,
   "metadata": {},
   "outputs": [],
   "source": [
    "#pd.get_dummies(df2, 'ONR-RIB')[['stm_oorz_groep_ONR-DERD', 'stm_oorz_groep_ONR-RIB', 'stm_oorz_groep_TECHONV', 'stm_oorz_groep_WEER']]"
   ]
  },
  {
   "cell_type": "code",
   "execution_count": null,
   "metadata": {},
   "outputs": [],
   "source": [
    "print iuhsdf\n",
    "# This is for your own good"
   ]
  },
  {
   "cell_type": "code",
   "execution_count": null,
   "metadata": {},
   "outputs": [],
   "source": []
  },
  {
   "cell_type": "code",
   "execution_count": null,
   "metadata": {},
   "outputs": [],
   "source": [
    "from tkinter import *\n",
    "from tkinter import ttk\n",
    "from datetime import datetime\n",
    "import scipy.stats as st\n",
    "import math\n",
    "\n",
    "\n",
    "def get_predict(code, groep, prioriteit): #voorspeld de hersteltijd aan de hand van de code, groep en prioriteit\n",
    "    if groep == 'ONR-DERD':\n",
    "        result = str(linreg.predict(np.array([code, prioriteit, 1, 0, 0, 0]).reshape(1, -1)))\n",
    "        result = result.replace('[', '')\n",
    "        result = result.replace(']', '')\n",
    "        return float(result)\n",
    "    elif groep == 'ONR-RIB':\n",
    "        result = str(linreg.predict(np.array([code, prioriteit, 0, 1, 0, 0]).reshape(1, -1)))\n",
    "        result = result.replace('[', '')\n",
    "        result = result.replace(']', '')\n",
    "        return float(result)\n",
    "    elif groep == 'TECHONV':\n",
    "        result = str(linreg.predict(np.array([code, prioriteit, 0, 0, 1, 0]).reshape(1, -1)))\n",
    "        result = result.replace('[', '')\n",
    "        result = result.replace(']', '')\n",
    "        return float(result)\n",
    "    elif groep == 'WEER':\n",
    "        result = str(linreg.predict(np.array([code, prioriteit, 0, 0, 0, 1]).reshape(1, -1)))\n",
    "        result = result.replace('[', '')\n",
    "        result = result.replace(']', '')\n",
    "        return float(result)\n",
    "\n",
    "def get_accuracy(value): #berekend de betrouwbaarheid van de voorspelde tijd met een z-toets\n",
    "    u = df2['stm_fh_duur'].mean()\n",
    "    s = df2['stm_fh_duur'].std()\n",
    "    ox = s / math.sqrt(1)\n",
    "    z_toets = (value - u) / ox\n",
    "    p_waarde = st.norm.cdf(z_toets)\n",
    "    return p_waarde*100\n",
    "\n",
    "def get_color(percent): #geeft de kleurnaam aan de hand van het percentage\n",
    "    if 0 < percent < 21:\n",
    "        return 'red'\n",
    "    elif 20 < percent < 41:\n",
    "        return 'orange'\n",
    "    elif 40 < percent < 61:\n",
    "        return 'yellow'\n",
    "    elif 60 < percent < 81:\n",
    "        return 'OliveDrab1'\n",
    "    elif 80 < percent < 101:\n",
    "        return 'green2'\n",
    "    else:\n",
    "        return 'blue'\n",
    "    \n",
    "\n",
    "def get_input(): # Functie die de invoer van de comboboxen verwerkt en in de treeview zet\n",
    "    # Waardes uit de comboboxen halen\n",
    "    code = e1.get()\n",
    "    groep = e2.get()\n",
    "    prioriteit = e3.get()\n",
    "    # check of alle velden zijn ingevult voor dat hij het verwerkt\n",
    "    if code != \"\" and groep != \"\" and prioriteit != \"\":\n",
    "        # voorspelt de hersteltijd, berekend de betouwbaarheid en haalt de kleur van de regel op\n",
    "        prediction = get_predict(int(code), groep, int(prioriteit))\n",
    "        trust = get_accuracy(prediction)\n",
    "        color = get_color(trust)\n",
    "        # voegt alle waardes aan de treeview toe met een tijd van toevoeging\n",
    "        tree.insert(\"\", END, values=(code, groep, prioriteit, round(prediction, 2), round(trust, 2), datetime.now().strftime(\"%d-%m-%Y %H:%M\")), tags=color)\n",
    "        \n",
    "        # reset de comboboxen\n",
    "        e1.set('')\n",
    "        e2.set('')\n",
    "        e3.set('')\n",
    "\n",
    "\n",
    "def remove(): #Functie die de geselecteerde row uit de treeview verwijderd\n",
    "    if tree.selection():\n",
    "        tree.delete(tree.selection())\n",
    "        \n",
    "        \n",
    "def treeview_sort_column(tree, col, reverse): #Functie die rows sort op de column\n",
    "    # kijkt of de waardes ints zijn of niet, haalt de waardes op en sorteert ze\n",
    "    # van laag naar hoog of hoog naar laag\n",
    "    try:\n",
    "        l = [(int(tree.set(k, col)), k) for k in tree.get_children('')]\n",
    "    except Exception:\n",
    "        l = [(tree.set(k, col), k) for k in tree.get_children('')]\n",
    "    l.sort(reverse=reverse)\n",
    "\n",
    "    # Zet de waardes terug in de treeview\n",
    "    for index, (val, k) in enumerate(l):\n",
    "        tree.move(k, '', index)\n",
    "\n",
    "    # Zorgt ervoor dat de volgende sort het tegenovergestelde doet\n",
    "    tree.heading(col, command=lambda _col=col: treeview_sort_column(tree, _col, not reverse))\n",
    "    \n",
    "\n",
    "def handle_click(event): #Functie die aanpassen van de column breedte voorkomt\n",
    "    if tree.identify_region(event.x, event.y) == \"separator\":\n",
    "        return \"break\"\n",
    "    \n",
    "    \n",
    "def deselect(event): # functie die het deselecteren van rows mogelijk maakt\n",
    "    selection = tree.selection()\n",
    "    item = tree.identify('item', event.x, event.y)\n",
    "    if item in selection:\n",
    "        tree.selection_remove(item)\n",
    "        return \"break\"\n",
    "\n",
    "# initialiseren root, frame en labels\n",
    "master = Tk()\n",
    "frame = Frame(master, background='red', borderwidth=4, relief='raised')\n",
    "Label(frame, text=\"Oorzaakscode\", width=12).grid(row=0)\n",
    "Label(frame, text=\"Oorzaaksgroep\", width=12).grid(row=1)\n",
    "Label(frame, text=\"Prioriteit\", width=12).grid(row=2)\n",
    "\n",
    "#combobox voor de oorzaakscode\n",
    "e1 = ttk.Combobox(frame,\n",
    "                  state=\"readonly\",\n",
    "                  values=[130, 131, 132, 133, 134, 135, 136, 140, 141,\n",
    "                        142, 143, 144, 145, 146, 147, 148, 149, 150,\n",
    "                        151, 152, 153, 154, 181, 182, 183, 184, 185,\n",
    "                        186, 187, 188, 189, 201, 202, 203, 204, 205,\n",
    "                        206, 207, 208, 209, 210, 211, 212, 213, 214,\n",
    "                        215, 218, 219, 220, 221, 222, 223, 224, 225,\n",
    "                        226, 227, 228, 229, 230, 231, 233, 234, 235,\n",
    "                        239, 240, 241, 242, 250, 294, 298, 299])\n",
    "#combobox voor de oorzaaksgroep\n",
    "e2 = ttk.Combobox(frame, state=\"readonly\", values=['ONR-RIB', 'ONR-DERD', 'TECHONV', 'WEER'])\n",
    "#combobox voor de prioriteit\n",
    "e3 = ttk.Combobox(frame, state=\"readonly\", values=[1, 2, 3, 4, 5, 6, 7, 8, 9, 10])\n",
    "#button voor het invoeren van de comboboxen in de treeview\n",
    "b = Button(frame, width=12, text=\"print\", command=get_input)\n",
    "\n",
    "#treeview aanmaken\n",
    "tree = ttk.Treeview(master)\n",
    "\n",
    "#button voor selectie uit de treeview halen\n",
    "btn = Button(master, text=\"delete\", command=remove)\n",
    "\n",
    "#code om lettertype van heading in treeview te vergroten\n",
    "style = ttk.Style()\n",
    "style.configure(\"Treeview.Heading\", font=(None, 13))\n",
    "\n",
    "# columns in treeview aanmaken\n",
    "tree[\"columns\"] = [\"Oorzaakscode\", \"Oorzaaksgroep\", \"Prioriteit\", \"Voorspeltijd (min)\", \"Trust (%)\", \"Toevoegdatum\"]\n",
    "tree[\"show\"] = \"headings\"\n",
    "tree.heading(\"Oorzaakscode\", text=\"Oorzaakscode\", command=lambda col=\"Oorzaakscode\": treeview_sort_column(tree, col, False))\n",
    "tree.column(\"Oorzaakscode\", minwidth=0, width=100)\n",
    "tree.heading(\"Oorzaaksgroep\", text=\"Oorzaaksgroep\", command=lambda col=\"Oorzaaksgroep\": treeview_sort_column(tree, col, False))\n",
    "tree.column(\"Oorzaaksgroep\", minwidth=0, width=100)\n",
    "tree.heading(\"Prioriteit\", text=\"Prioriteit\", command=lambda col=\"Prioriteit\": treeview_sort_column(tree, col, False))\n",
    "tree.column(\"Prioriteit\", minwidth=0, width=100)\n",
    "tree.heading(\"Voorspeltijd (min)\", text=\"Voorspeltijd (min)\", command=lambda col=\"Voorspeltijd (min)\": treeview_sort_column(tree, col, False))\n",
    "tree.column(\"Voorspeltijd (min)\", minwidth=0, width=150)\n",
    "tree.heading(\"Trust (%)\", text=\"Trust (%)\", command=lambda col=\"Trust (%)\": treeview_sort_column(tree, col, False))\n",
    "tree.column(\"Trust (%)\", minwidth=0, width=100)\n",
    "tree.heading(\"Toevoegdatum\", text=\"Toevoegdatum\", command=lambda col=\"Toevoegdatum\": treeview_sort_column(tree, col, False))\n",
    "tree.column(\"Toevoegdatum\", minwidth=0, width=150)\n",
    "\n",
    "# Tags voor kleuren van rows in treeview\n",
    "tree.tag_configure('red', background='red')\n",
    "tree.tag_configure('orange', background='orange')\n",
    "tree.tag_configure('yellow', background='yellow')\n",
    "tree.tag_configure('OliveDrab1', background='OliveDrab1')\n",
    "tree.tag_configure('green2', background='green2')\n",
    "tree.tag_configure('blue', background='blue')\n",
    "\n",
    "\n",
    "#code om de functie voor aanpassen van columnbreedte aan de linkermuistoets te koppelen\n",
    "tree.bind('<Button-1>', handle_click)\n",
    "\n",
    "#code om de functie voor deselecteren rows aan rechtermuistoets te koppelen\n",
    "tree.bind(\"<2>\",deselect)\n",
    "\n",
    "#locaties in grids\n",
    "frame.grid(row=0, column=0, rowspan=8, columnspan=2, sticky=NSEW)\n",
    "e1.grid(row=0, column=1, padx=5, pady=5)\n",
    "e2.grid(row=1, column=1, padx=5, pady=5)\n",
    "e3.grid(row=2, column=1, padx=5, pady=5)\n",
    "b.grid(row=3, padx=5, pady=25)\n",
    "tree.grid(row=0, column=2, rowspan=8, columnspan=2)\n",
    "btn.grid(row=10, column=3)\n",
    "\n",
    "#grootte window\n",
    "master.geometry('1075x300')\n",
    "master.resizable(False, False)\n",
    "\n",
    "mainloop()"
   ]
  }
 ],
 "metadata": {
  "kernelspec": {
   "display_name": "Python 3",
   "language": "python",
   "name": "python3"
  },
  "language_info": {
   "codemirror_mode": {
    "name": "ipython",
    "version": 3
   },
   "file_extension": ".py",
   "mimetype": "text/x-python",
   "name": "python",
   "nbconvert_exporter": "python",
   "pygments_lexer": "ipython3",
   "version": "3.7.3"
  }
 },
 "nbformat": 4,
 "nbformat_minor": 4
}
