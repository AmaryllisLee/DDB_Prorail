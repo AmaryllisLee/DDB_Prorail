{
 "cells": [
  {
   "cell_type": "markdown",
   "metadata": {},
   "source": [
    "# Project ProRail "
   ]
  },
  {
   "cell_type": "markdown",
   "metadata": {},
   "source": [
    "Door:\n",
    "* Kai ter Horst \n",
    "* Quinn de Groot\n",
    "* Ama Lee "
   ]
  },
  {
   "cell_type": "code",
   "execution_count": 1,
   "metadata": {},
   "outputs": [],
   "source": [
    "# libraries importeren \n",
    "import pandas as pd\n",
    "import numpy as np\n",
    "from sklearn.metrics import mean_squared_error\n",
    "import matplotlib.pyplot as plt\n",
    "%matplotlib inline"
   ]
  },
  {
   "cell_type": "code",
   "execution_count": 2,
   "metadata": {},
   "outputs": [],
   "source": [
    "# dataset inlezen \n",
    "df = pd.read_csv('sap_storing_data_hu_project.csv', low_memory=False)"
   ]
  },
  {
   "cell_type": "code",
   "execution_count": 3,
   "metadata": {},
   "outputs": [
    {
     "data": {
      "text/plain": [
       "\"\\ndf = df.drop(['stm_sap_mon_meld_ddt', 'stm_mon_begin_ddt', 'stm_mon_toelichting_trdl', 'stm_oh_pg_mld', \\n         'stm_scenario_mon', 'stm_mon_nr_status_omschr', 'stm_mon_nr__statuscode', 'stm_mon_nr_status_wijzdd', \\n         'stm_aanntpl_ddt', 'stm_objectdl_code_gst', 'stm_objectdl_groep_gst', 'stm_progfh_in_ddt', \\n         'stm_progfh_in_invoer_ddt', 'stm_progfh_gw_ddt', 'stm_progfh_gw_lwd_ddt', 'stm_progfh_hz', \\n         'stm_veroorz_groep', 'stm_veroorz_code', 'stm_veroorz_tekst_kort', 'stm_effect', 'stm_afspr_aanvangddt', \\n         'stm_mon_eind_ddt', 'stm_mon_vhdsincident', 'stm_dir_betrok_tr', 'stm_aangelegd_dd', 'stm_aangelegd_tijd',\\n         'stm_mon_begindatum', 'stm_mon_begintijd', 'stm_progfh_gw_datum', 'stm_mon_eind_datum',\\n         'stm_mon_eind_tijd', 'stm_controle_dd', 'stm_akkoord_mon_toewijz', 'stm_status_sapnaarmon',\\n         'stm_fact_jn', 'stm_akkoord_melding_jn', 'stm_afsluit_ddt', 'stm_afsluit_dd', 'stm_afsluit_tijd',\\n         'stm_rec_toegev_ddt', 'stm_hinderwaarde', 'stm_actie', 'stm_standplaats', 'stm_status_gebr',\\n         'stm_wbi_nummer', 'stm_projnr', 'stm_historie_toelichting', 'stm_schade_verhaalb_jn', 'stm_schadenr',\\n         'stm_schade_status_ga', 'stm_schade_statusdatum', 'stm_relatiervo_vorig', 'stm_relatiervo_volgend',\\n         'stm_relatiervo', 'stm_afspr_func_hersteldd', 'stm_afspr_func_hersteltijd', 'stm_sorteerveld',\\n         'stm_rapportage_maand', 'stm_rapportage_jaar', 'stm_x_bron_publ_dt', 'stm_x_bron_bestandsnaam',\\n         'stm_x_bron_arch_dt', 'stm_x_actueel_ind', 'stm_x_run_id', 'stm_x_bk', 'stm_x_start_sessie_dt',\\n         'stm_x_vervallen_ind'], axis='columns')\\n         \""
      ]
     },
     "execution_count": 3,
     "metadata": {},
     "output_type": "execute_result"
    }
   ],
   "source": [
    "# Alle kolommen die niet van toepassing zijn worden verwijdert.\n",
    "'''\n",
    "df = df.drop(['stm_sap_mon_meld_ddt', 'stm_mon_begin_ddt', 'stm_mon_toelichting_trdl', 'stm_oh_pg_mld', \n",
    "         'stm_scenario_mon', 'stm_mon_nr_status_omschr', 'stm_mon_nr__statuscode', 'stm_mon_nr_status_wijzdd', \n",
    "         'stm_aanntpl_ddt', 'stm_objectdl_code_gst', 'stm_objectdl_groep_gst', 'stm_progfh_in_ddt', \n",
    "         'stm_progfh_in_invoer_ddt', 'stm_progfh_gw_ddt', 'stm_progfh_gw_lwd_ddt', 'stm_progfh_hz', \n",
    "         'stm_veroorz_groep', 'stm_veroorz_code', 'stm_veroorz_tekst_kort', 'stm_effect', 'stm_afspr_aanvangddt', \n",
    "         'stm_mon_eind_ddt', 'stm_mon_vhdsincident', 'stm_dir_betrok_tr', 'stm_aangelegd_dd', 'stm_aangelegd_tijd',\n",
    "         'stm_mon_begindatum', 'stm_mon_begintijd', 'stm_progfh_gw_datum', 'stm_mon_eind_datum',\n",
    "         'stm_mon_eind_tijd', 'stm_controle_dd', 'stm_akkoord_mon_toewijz', 'stm_status_sapnaarmon',\n",
    "         'stm_fact_jn', 'stm_akkoord_melding_jn', 'stm_afsluit_ddt', 'stm_afsluit_dd', 'stm_afsluit_tijd',\n",
    "         'stm_rec_toegev_ddt', 'stm_hinderwaarde', 'stm_actie', 'stm_standplaats', 'stm_status_gebr',\n",
    "         'stm_wbi_nummer', 'stm_projnr', 'stm_historie_toelichting', 'stm_schade_verhaalb_jn', 'stm_schadenr',\n",
    "         'stm_schade_status_ga', 'stm_schade_statusdatum', 'stm_relatiervo_vorig', 'stm_relatiervo_volgend',\n",
    "         'stm_relatiervo', 'stm_afspr_func_hersteldd', 'stm_afspr_func_hersteltijd', 'stm_sorteerveld',\n",
    "         'stm_rapportage_maand', 'stm_rapportage_jaar', 'stm_x_bron_publ_dt', 'stm_x_bron_bestandsnaam',\n",
    "         'stm_x_bron_arch_dt', 'stm_x_actueel_ind', 'stm_x_run_id', 'stm_x_bk', 'stm_x_start_sessie_dt',\n",
    "         'stm_x_vervallen_ind'], axis='columns')\n",
    "         '''"
   ]
  },
  {
   "cell_type": "code",
   "execution_count": 4,
   "metadata": {
    "scrolled": true
   },
   "outputs": [
    {
     "data": {
      "text/html": [
       "<div>\n",
       "<style scoped>\n",
       "    .dataframe tbody tr th:only-of-type {\n",
       "        vertical-align: middle;\n",
       "    }\n",
       "\n",
       "    .dataframe tbody tr th {\n",
       "        vertical-align: top;\n",
       "    }\n",
       "\n",
       "    .dataframe thead th {\n",
       "        text-align: right;\n",
       "    }\n",
       "</style>\n",
       "<table border=\"1\" class=\"dataframe\">\n",
       "  <thead>\n",
       "    <tr style=\"text-align: right;\">\n",
       "      <th></th>\n",
       "      <th>Unnamed: 0</th>\n",
       "      <th>#stm_sap_meldnr</th>\n",
       "      <th>stm_mon_nr</th>\n",
       "      <th>stm_vl_post</th>\n",
       "      <th>stm_sap_meld_ddt</th>\n",
       "      <th>stm_sap_mon_meld_ddt</th>\n",
       "      <th>stm_sap_meldtekst_lang</th>\n",
       "      <th>stm_mon_begin_ddt</th>\n",
       "      <th>stm_sap_meldtekst</th>\n",
       "      <th>stm_mon_toelichting_trdl</th>\n",
       "      <th>...</th>\n",
       "      <th>stm_rapportage_maand</th>\n",
       "      <th>stm_rapportage_jaar</th>\n",
       "      <th>stm_x_bron_publ_dt</th>\n",
       "      <th>stm_x_bron_bestandsnaam</th>\n",
       "      <th>stm_x_bron_arch_dt</th>\n",
       "      <th>stm_x_actueel_ind</th>\n",
       "      <th>stm_x_run_id</th>\n",
       "      <th>stm_x_bk</th>\n",
       "      <th>stm_x_start_sessie_dt</th>\n",
       "      <th>stm_x_vervallen_ind</th>\n",
       "    </tr>\n",
       "  </thead>\n",
       "  <tbody>\n",
       "    <tr>\n",
       "      <th>0</th>\n",
       "      <td>0</td>\n",
       "      <td>0</td>\n",
       "      <td>NaN</td>\n",
       "      <td>NaN</td>\n",
       "      <td>NaN</td>\n",
       "      <td>NaN</td>\n",
       "      <td>NaN</td>\n",
       "      <td>NaN</td>\n",
       "      <td>NaN</td>\n",
       "      <td>NaN</td>\n",
       "      <td>...</td>\n",
       "      <td>5</td>\n",
       "      <td>2014</td>\n",
       "      <td>07/05/2014 05:30:12</td>\n",
       "      <td>\\\\PUHAPS0149\\Informatica_Prod\\Inbox\\Informatic...</td>\n",
       "      <td>31/12/9999 00:00:00</td>\n",
       "      <td>1</td>\n",
       "      <td>34415</td>\n",
       "      <td>3617016</td>\n",
       "      <td>07/05/2014 05:44:24</td>\n",
       "      <td>0</td>\n",
       "    </tr>\n",
       "    <tr>\n",
       "      <th>1</th>\n",
       "      <td>1</td>\n",
       "      <td>50053211</td>\n",
       "      <td>0.0</td>\n",
       "      <td>NaN</td>\n",
       "      <td>02/01/2006 09:00:00</td>\n",
       "      <td>02/01/2006 09:00:00</td>\n",
       "      <td>Logboeknr  Geeltje  :   49 Tijd: 0900   VL-Po...</td>\n",
       "      <td>NaN</td>\n",
       "      <td>Logboeknr  Geeltje  :   49 Tijd: 0900</td>\n",
       "      <td>NaN</td>\n",
       "      <td>...</td>\n",
       "      <td>1</td>\n",
       "      <td>2006</td>\n",
       "      <td>02/01/2006 09:00:00</td>\n",
       "      <td>\\\\PUHAPS0149\\Informatica_Prod\\Inbox\\Informatic...</td>\n",
       "      <td>31/12/9999 00:00:00</td>\n",
       "      <td>1</td>\n",
       "      <td>1518</td>\n",
       "      <td>12704590</td>\n",
       "      <td>13/06/2013 13:37:52</td>\n",
       "      <td>0</td>\n",
       "    </tr>\n",
       "    <tr>\n",
       "      <th>2</th>\n",
       "      <td>2</td>\n",
       "      <td>50053213</td>\n",
       "      <td>48.0</td>\n",
       "      <td>GN</td>\n",
       "      <td>02/01/2006 12:35:00</td>\n",
       "      <td>02/01/2006 12:35:00</td>\n",
       "      <td>Logboeknr  RBV  :   48 Tijd: 1235   VL-Post: ...</td>\n",
       "      <td>02/01/2006 12:35:00</td>\n",
       "      <td>Logboeknr  RBV  :   48 Tijd: 1235   VL-P</td>\n",
       "      <td>NaN</td>\n",
       "      <td>...</td>\n",
       "      <td>1</td>\n",
       "      <td>2006</td>\n",
       "      <td>02/01/2006 12:35:00</td>\n",
       "      <td>\\\\PUHAPS0149\\Informatica_Prod\\Inbox\\Informatic...</td>\n",
       "      <td>31/12/9999 00:00:00</td>\n",
       "      <td>1</td>\n",
       "      <td>1518</td>\n",
       "      <td>12704591</td>\n",
       "      <td>13/06/2013 13:37:52</td>\n",
       "      <td>0</td>\n",
       "    </tr>\n",
       "    <tr>\n",
       "      <th>3</th>\n",
       "      <td>3</td>\n",
       "      <td>50053214</td>\n",
       "      <td>72.0</td>\n",
       "      <td>ZL</td>\n",
       "      <td>02/01/2006 16:40:00</td>\n",
       "      <td>02/01/2006 16:40:00</td>\n",
       "      <td>Logboeknr  RBV  :   72 Tijd: 1640   VL-Post: ...</td>\n",
       "      <td>02/01/2006 16:40:00</td>\n",
       "      <td>Logboeknr  RBV  :   72 Tijd: 1640   VL-P</td>\n",
       "      <td>NaN</td>\n",
       "      <td>...</td>\n",
       "      <td>1</td>\n",
       "      <td>2006</td>\n",
       "      <td>02/01/2006 16:40:00</td>\n",
       "      <td>\\\\PUHAPS0149\\Informatica_Prod\\Inbox\\Informatic...</td>\n",
       "      <td>31/12/9999 00:00:00</td>\n",
       "      <td>1</td>\n",
       "      <td>1518</td>\n",
       "      <td>12704592</td>\n",
       "      <td>13/06/2013 13:37:52</td>\n",
       "      <td>0</td>\n",
       "    </tr>\n",
       "    <tr>\n",
       "      <th>4</th>\n",
       "      <td>4</td>\n",
       "      <td>50053215</td>\n",
       "      <td>96.0</td>\n",
       "      <td>ZL</td>\n",
       "      <td>02/01/2006 22:30:00</td>\n",
       "      <td>02/01/2006 22:30:00</td>\n",
       "      <td>Logboeknr  RBV  :   96 Tijd: 2230   VL-Post: ...</td>\n",
       "      <td>02/01/2006 22:30:00</td>\n",
       "      <td>Logboeknr  RBV  :   96 Tijd: 2230   VL-P</td>\n",
       "      <td>NaN</td>\n",
       "      <td>...</td>\n",
       "      <td>1</td>\n",
       "      <td>2006</td>\n",
       "      <td>02/01/2006 22:30:00</td>\n",
       "      <td>\\\\PUHAPS0149\\Informatica_Prod\\Inbox\\Informatic...</td>\n",
       "      <td>31/12/9999 00:00:00</td>\n",
       "      <td>1</td>\n",
       "      <td>1518</td>\n",
       "      <td>12704593</td>\n",
       "      <td>13/06/2013 13:37:52</td>\n",
       "      <td>0</td>\n",
       "    </tr>\n",
       "  </tbody>\n",
       "</table>\n",
       "<p>5 rows × 140 columns</p>\n",
       "</div>"
      ],
      "text/plain": [
       "  Unnamed: 0  #stm_sap_meldnr  stm_mon_nr stm_vl_post     stm_sap_meld_ddt  \\\n",
       "0          0                0         NaN         NaN                  NaN   \n",
       "1          1         50053211         0.0         NaN  02/01/2006 09:00:00   \n",
       "2          2         50053213        48.0          GN  02/01/2006 12:35:00   \n",
       "3          3         50053214        72.0          ZL  02/01/2006 16:40:00   \n",
       "4          4         50053215        96.0          ZL  02/01/2006 22:30:00   \n",
       "\n",
       "  stm_sap_mon_meld_ddt                             stm_sap_meldtekst_lang  \\\n",
       "0                  NaN                                                NaN   \n",
       "1  02/01/2006 09:00:00   Logboeknr  Geeltje  :   49 Tijd: 0900   VL-Po...   \n",
       "2  02/01/2006 12:35:00   Logboeknr  RBV  :   48 Tijd: 1235   VL-Post: ...   \n",
       "3  02/01/2006 16:40:00   Logboeknr  RBV  :   72 Tijd: 1640   VL-Post: ...   \n",
       "4  02/01/2006 22:30:00   Logboeknr  RBV  :   96 Tijd: 2230   VL-Post: ...   \n",
       "\n",
       "     stm_mon_begin_ddt                         stm_sap_meldtekst  \\\n",
       "0                  NaN                                       NaN   \n",
       "1                  NaN     Logboeknr  Geeltje  :   49 Tijd: 0900   \n",
       "2  02/01/2006 12:35:00  Logboeknr  RBV  :   48 Tijd: 1235   VL-P   \n",
       "3  02/01/2006 16:40:00  Logboeknr  RBV  :   72 Tijd: 1640   VL-P   \n",
       "4  02/01/2006 22:30:00  Logboeknr  RBV  :   96 Tijd: 2230   VL-P   \n",
       "\n",
       "  stm_mon_toelichting_trdl  ... stm_rapportage_maand stm_rapportage_jaar  \\\n",
       "0                      NaN  ...                    5                2014   \n",
       "1                      NaN  ...                    1                2006   \n",
       "2                      NaN  ...                    1                2006   \n",
       "3                      NaN  ...                    1                2006   \n",
       "4                      NaN  ...                    1                2006   \n",
       "\n",
       "    stm_x_bron_publ_dt                            stm_x_bron_bestandsnaam  \\\n",
       "0  07/05/2014 05:30:12  \\\\PUHAPS0149\\Informatica_Prod\\Inbox\\Informatic...   \n",
       "1  02/01/2006 09:00:00  \\\\PUHAPS0149\\Informatica_Prod\\Inbox\\Informatic...   \n",
       "2  02/01/2006 12:35:00  \\\\PUHAPS0149\\Informatica_Prod\\Inbox\\Informatic...   \n",
       "3  02/01/2006 16:40:00  \\\\PUHAPS0149\\Informatica_Prod\\Inbox\\Informatic...   \n",
       "4  02/01/2006 22:30:00  \\\\PUHAPS0149\\Informatica_Prod\\Inbox\\Informatic...   \n",
       "\n",
       "    stm_x_bron_arch_dt stm_x_actueel_ind  stm_x_run_id  stm_x_bk  \\\n",
       "0  31/12/9999 00:00:00                 1         34415   3617016   \n",
       "1  31/12/9999 00:00:00                 1          1518  12704590   \n",
       "2  31/12/9999 00:00:00                 1          1518  12704591   \n",
       "3  31/12/9999 00:00:00                 1          1518  12704592   \n",
       "4  31/12/9999 00:00:00                 1          1518  12704593   \n",
       "\n",
       "   stm_x_start_sessie_dt stm_x_vervallen_ind  \n",
       "0    07/05/2014 05:44:24                   0  \n",
       "1    13/06/2013 13:37:52                   0  \n",
       "2    13/06/2013 13:37:52                   0  \n",
       "3    13/06/2013 13:37:52                   0  \n",
       "4    13/06/2013 13:37:52                   0  \n",
       "\n",
       "[5 rows x 140 columns]"
      ]
     },
     "execution_count": 4,
     "metadata": {},
     "output_type": "execute_result"
    }
   ],
   "source": [
    "df.head()"
   ]
  },
  {
   "cell_type": "code",
   "execution_count": 94,
   "metadata": {},
   "outputs": [
    {
     "data": {
      "text/html": [
       "<div>\n",
       "<style scoped>\n",
       "    .dataframe tbody tr th:only-of-type {\n",
       "        vertical-align: middle;\n",
       "    }\n",
       "\n",
       "    .dataframe tbody tr th {\n",
       "        vertical-align: top;\n",
       "    }\n",
       "\n",
       "    .dataframe thead th {\n",
       "        text-align: right;\n",
       "    }\n",
       "</style>\n",
       "<table border=\"1\" class=\"dataframe\">\n",
       "  <thead>\n",
       "    <tr style=\"text-align: right;\">\n",
       "      <th></th>\n",
       "      <th>stm_aanntpl_dd</th>\n",
       "      <th>stm_aanntpl_tijd</th>\n",
       "      <th>stm_fh_ddt</th>\n",
       "    </tr>\n",
       "  </thead>\n",
       "  <tbody>\n",
       "    <tr>\n",
       "      <th>0</th>\n",
       "      <td>NaN</td>\n",
       "      <td>NaN</td>\n",
       "      <td>NaN</td>\n",
       "    </tr>\n",
       "    <tr>\n",
       "      <th>1</th>\n",
       "      <td>NaN</td>\n",
       "      <td>00:00:00</td>\n",
       "      <td>02/01/2006 09:00:00</td>\n",
       "    </tr>\n",
       "    <tr>\n",
       "      <th>2</th>\n",
       "      <td>NaN</td>\n",
       "      <td>00:00:00</td>\n",
       "      <td>02/01/2006 13:26:00</td>\n",
       "    </tr>\n",
       "    <tr>\n",
       "      <th>3</th>\n",
       "      <td>NaN</td>\n",
       "      <td>00:00:00</td>\n",
       "      <td>02/01/2006 17:20:00</td>\n",
       "    </tr>\n",
       "    <tr>\n",
       "      <th>4</th>\n",
       "      <td>NaN</td>\n",
       "      <td>00:00:00</td>\n",
       "      <td>02/01/2006 22:36:00</td>\n",
       "    </tr>\n",
       "  </tbody>\n",
       "</table>\n",
       "</div>"
      ],
      "text/plain": [
       "  stm_aanntpl_dd stm_aanntpl_tijd           stm_fh_ddt\n",
       "0            NaN              NaN                  NaN\n",
       "1            NaN         00:00:00  02/01/2006 09:00:00\n",
       "2            NaN         00:00:00  02/01/2006 13:26:00\n",
       "3            NaN         00:00:00  02/01/2006 17:20:00\n",
       "4            NaN         00:00:00  02/01/2006 22:36:00"
      ]
     },
     "execution_count": 94,
     "metadata": {},
     "output_type": "execute_result"
    }
   ],
   "source": [
    "df[['stm_aanntpl_dd','stm_aanntpl_tijd','stm_fh_ddt']].head()"
   ]
  },
  {
   "cell_type": "code",
   "execution_count": 55,
   "metadata": {},
   "outputs": [
    {
     "data": {
      "text/plain": [
       "stm_aanntpl_tijd    object\n",
       "stm_fh_ddt          object\n",
       "dtype: object"
      ]
     },
     "execution_count": 55,
     "metadata": {},
     "output_type": "execute_result"
    }
   ],
   "source": [
    "df[['stm_aanntpl_tijd','stm_fh_ddt']].dtypes"
   ]
  },
  {
   "cell_type": "code",
   "execution_count": 65,
   "metadata": {},
   "outputs": [
    {
     "name": "stdout",
     "output_type": "stream",
     "text": [
      "38\n",
      "165635\n"
     ]
    }
   ],
   "source": [
    "print(df['stm_aanntpl_tijd'].isnull().sum())\n",
    "print(df['stm_fh_ddt'].isnull().sum())"
   ]
  },
  {
   "cell_type": "markdown",
   "metadata": {},
   "source": [
    "Deze kolommen bevatten 165673 NaN waardes die we  moeten verwijderen."
   ]
  },
  {
   "cell_type": "code",
   "execution_count": 97,
   "metadata": {},
   "outputs": [],
   "source": [
    "data = df[['stm_aanntpl_dd','stm_aanntpl_tijd','stm_fh_ddt']].dropna()"
   ]
  },
  {
   "cell_type": "code",
   "execution_count": 98,
   "metadata": {},
   "outputs": [],
   "source": [
    "data['stm_aanntpl_ddt']  = data['stm_aanntpl_dd']  +\" \"+ data['stm_aanntpl_tijd'] "
   ]
  },
  {
   "cell_type": "code",
   "execution_count": null,
   "metadata": {},
   "outputs": [],
   "source": []
  },
  {
   "cell_type": "markdown",
   "metadata": {},
   "source": [
    "We zien dat dat de tijdstip van functieherstel moet opgeesplitst   worden.Bovendien moeten de kolommen verandert worden naar datetime."
   ]
  },
  {
   "cell_type": "code",
   "execution_count": 101,
   "metadata": {},
   "outputs": [],
   "source": [
    "data['stm_aanntpl_ddt']=pd.to_datetime(data['stm_aanntpl_ddt'])#https://stackoverflow.com/questions/37801321/python-pandas-convert-string-to-time-only\n",
    "data['stm_fh_ddt']=pd.to_datetime(data['stm_fh_ddt'])"
   ]
  },
  {
   "cell_type": "code",
   "execution_count": 102,
   "metadata": {},
   "outputs": [
    {
     "data": {
      "text/plain": [
       "stm_aanntpl_dd              object\n",
       "stm_aanntpl_tijd            object\n",
       "stm_fh_ddt          datetime64[ns]\n",
       "stm_aanntpl_ddt     datetime64[ns]\n",
       "dtype: object"
      ]
     },
     "execution_count": 102,
     "metadata": {},
     "output_type": "execute_result"
    }
   ],
   "source": [
    "data.dtypes"
   ]
  },
  {
   "cell_type": "markdown",
   "metadata": {},
   "source": [
    "We moeten nu de verschil van de deze twee  kolommen nemen als onze targett variabel"
   ]
  },
  {
   "cell_type": "code",
   "execution_count": 131,
   "metadata": {},
   "outputs": [],
   "source": [
    "data['reparatietijd']   = data['stm_fh_ddt'] - data['stm_aanntpl_ddt']"
   ]
  },
  {
   "cell_type": "code",
   "execution_count": 132,
   "metadata": {},
   "outputs": [
    {
     "data": {
      "text/plain": [
       "19177    00:00:00\n",
       "19220    00:00:00\n",
       "20735    00:00:00\n",
       "21228    00:00:00\n",
       "22779    00:01:00\n",
       "23421    00:00:00\n",
       "24184    00:00:00\n",
       "25292    00:00:00\n",
       "27106    00:01:00\n",
       "27326    00:00:00\n",
       "27556    00:00:00\n",
       "32099    00:40:00\n",
       "60682    00:15:00\n",
       "60683    00:15:00\n",
       "72552    00:01:00\n",
       "73476    00:01:00\n",
       "73477    00:01:00\n",
       "77178    00:00:00\n",
       "84560    00:05:19\n",
       "84561    00:05:19\n",
       "85621    00:35:00\n",
       "86470    03:48:39\n",
       "86471    03:48:39\n",
       "86472    03:48:39\n",
       "86473    03:48:39\n",
       "86879    00:00:00\n",
       "86880    00:00:00\n",
       "86881    00:00:00\n",
       "86882    00:00:00\n",
       "91872    03:40:19\n",
       "           ...   \n",
       "898487   00:30:00\n",
       "898488   00:30:00\n",
       "898489   00:04:00\n",
       "898490   00:04:00\n",
       "898491   00:04:00\n",
       "898492   01:18:00\n",
       "898493   01:18:00\n",
       "898494   00:25:00\n",
       "898495   00:25:00\n",
       "898496   00:25:00\n",
       "898506   02:23:00\n",
       "898507   02:23:00\n",
       "898508   00:03:00\n",
       "898509   00:03:00\n",
       "898510   01:29:00\n",
       "898511   01:29:00\n",
       "898512   01:29:00\n",
       "898513   01:29:00\n",
       "898514   01:29:00\n",
       "898515   01:29:00\n",
       "898516   02:59:00\n",
       "898517   02:59:00\n",
       "898518   00:03:00\n",
       "898519   00:03:00\n",
       "898520   00:24:00\n",
       "898521   00:24:00\n",
       "898522   00:36:00\n",
       "898523   00:36:00\n",
       "898524   00:29:00\n",
       "898525   00:29:00\n",
       "Name: reparatietijd, Length: 683985, dtype: timedelta64[ns]"
      ]
     },
     "execution_count": 132,
     "metadata": {},
     "output_type": "execute_result"
    }
   ],
   "source": [
    "data['reparatietijd']"
   ]
  },
  {
   "cell_type": "code",
   "execution_count": 136,
   "metadata": {},
   "outputs": [],
   "source": [
    "#https://stackoverflow.com/questions/17951820/convert-hhmmss-to-minutes-using-python-pandas\n",
    "data['reparatietijd']= data['reparatietijd'].dt.total_seconds().div(60)"
   ]
  },
  {
   "cell_type": "code",
   "execution_count": 147,
   "metadata": {},
   "outputs": [
    {
     "data": {
      "text/plain": [
       "count    6.839850e+05\n",
       "mean     4.972723e+02\n",
       "std      2.669839e+04\n",
       "min     -5.270005e+05\n",
       "25%      1.000000e+01\n",
       "50%      3.300000e+01\n",
       "75%      8.113333e+01\n",
       "max      4.336560e+06\n",
       "Name: reparatietijd, dtype: float64"
      ]
     },
     "execution_count": 147,
     "metadata": {},
     "output_type": "execute_result"
    }
   ],
   "source": [
    "reparatietijd =  data['reparatietijd'].copy()\n",
    "reparatietijd.describe()"
   ]
  },
  {
   "cell_type": "code",
   "execution_count": 148,
   "metadata": {},
   "outputs": [
    {
     "data": {
      "text/plain": [
       "<matplotlib.axes._subplots.AxesSubplot at 0x16c4962ef28>"
      ]
     },
     "execution_count": 148,
     "metadata": {},
     "output_type": "execute_result"
    },
    {
     "data": {
      "image/png": "[encoded data removed]",
      "text/plain": [
       "<Figure size 432x288 with 1 Axes>"
      ]
     },
     "metadata": {
      "needs_background": "light"
     },
     "output_type": "display_data"
    }
   ],
   "source": [
    "reparatietijd.plot.box()"
   ]
  },
  {
   "cell_type": "code",
   "execution_count": 149,
   "metadata": {},
   "outputs": [
    {
     "name": "stdout",
     "output_type": "stream",
     "text": [
      "Q1 = 10.0, Q3 = 81.13333333333334\n",
      "IQR = Q3 - Q1 = 10.0 - 81.13333333333334 = 3.0\n",
      "Lengte van de data : 683985\n",
      "\n",
      "Aantal sterke outliers boven de boxplot, boven de 90.13333333333334 : 152245\n",
      "Aantal zwakke outliers boven de boxplot, tussen 85.63333333333334 en 90.13333333333334 : 11767\n",
      "Aantal sterke outliers onder de boxplot : 5.5, tussen de 1.0 en 97368\n",
      "Aantal sterke outliers onder de boxplot : 1.0, onder de 32988\n"
     ]
    }
   ],
   "source": [
    "#Outliers berkenen\n",
    "reparatietijd= reparatietijd.sort_values() # sorteer de data\n",
    "\n",
    "# bereken de Q1, Q3 en de IQR \n",
    "q1 = reparatietijd.quantile(0.25)\n",
    "q3 = reparatietijd.quantile(0.75)\n",
    "qr = q3-q1\n",
    "print(\"Q1 = {}, Q3 = {}\".format(q1, q3)) \n",
    "print(\"IQR = Q3 - Q1 = {} - {} = {}\".format(q1,q3,iqr))\n",
    "\n",
    "# Bereken het aantal zwakke en sterke outliers boven en onder de boxplot.\n",
    "zwakke_lower = reparatietijd[(reparatietijd<=q1-1.5*iqr)&(reparatietijd>q1-3*iqr)].count()\n",
    "sterke_lower = reparatietijd[reparatietijd<q1-3*iqr].count()\n",
    "zwakke_upper = reparatietijd[(reparatietijd>=q3+1.5*iqr)&(reparatietijd<q3+3*iqr)].count()\n",
    "sterke_upper = reparatietijd[reparatietijd>q3+3*iqr].count()\n",
    "\n",
    "print(\"Lengte van de data : {}\".format(len(data)))\n",
    "print()\n",
    "print(\"Aantal sterke outliers boven de boxplot, boven de {} : {}\".format(q3+3*iqr, sterke_upper))\n",
    "print(\"Aantal zwakke outliers boven de boxplot, tussen {} en {} : {}\".format(q3+1.5*iqr,q3+3*iqr, zwakke_upper))\n",
    "print(\"Aantal sterke outliers onder de boxplot : {}, tussen de {} en {}\".format(q1-1.5*iqr, q1-3*iqr, zwakke_lower))\n",
    "print(\"Aantal sterke outliers onder de boxplot : {}, onder de {}\".format(q1-3*iqr, sterke_lower))"
   ]
  },
  {
   "cell_type": "markdown",
   "metadata": {},
   "source": [
    "Uit de Buisness  understanding weten we dat we de storingen moeten voorspellen die de reparatietijd heeft vvan minimaal 15 min tot   maxiimaal 8 uur. We zullen op base van deze range een data selectie maken."
   ]
  },
  {
   "cell_type": "markdown",
   "metadata": {},
   "source": [
    "Aan de hand van de boxplot en de bovenstaande berekening, komen er veel outliers voor boven de boxplot. Er is te zien dat de outliers een invloed hebben op de gemiddelde ten opzichte van de mediaan. Deze outlier kan een negatieve invloed hebben op de accuracy van onze voorspellingen.We gaan voor nu de outliers niet verwerken, maar die moet wel gedaan worden voor de complexe modellen."
   ]
  },
  {
   "cell_type": "markdown",
   "metadata": {},
   "source": [
    "## Baseline model ontwikkelen"
   ]
  },
  {
   "cell_type": "code",
   "execution_count": 193,
   "metadata": {},
   "outputs": [
    {
     "data": {
      "image/png": "[encoded data removed]",
      "text/plain": [
       "<Figure size 432x288 with 1 Axes>"
      ]
     },
     "metadata": {
      "needs_background": "light"
     },
     "output_type": "display_data"
    }
   ],
   "source": [
    "# Onze target variabel plotten in een \n",
    "x = range(0,len(reparatietijd))\n",
    "plt.plot(x,reparatietijd)\n",
    "\n",
    "plt.title('Hersteltijd')\n",
    "plt.show()"
   ]
  },
  {
   "cell_type": "code",
   "execution_count": 195,
   "metadata": {},
   "outputs": [
    {
     "data": {
      "text/plain": [
       "count    452267.000000\n",
       "mean         79.922844\n",
       "std          77.042765\n",
       "min          15.000000\n",
       "25%          30.000000\n",
       "50%          53.000000\n",
       "75%          99.666667\n",
       "max         480.000000\n",
       "Name: reparatietijd, dtype: float64"
      ]
     },
     "execution_count": 195,
     "metadata": {},
     "output_type": "execute_result"
    }
   ],
   "source": [
    "reparatietijd.describe()"
   ]
  },
  {
   "cell_type": "code",
   "execution_count": 196,
   "metadata": {},
   "outputs": [
    {
     "name": "stdout",
     "output_type": "stream",
     "text": [
      "224843\n",
      "225103\n"
     ]
    }
   ],
   "source": [
    "# Bepaal hoeveel boven en onder de gemiddelde van de dataset.\n",
    "print(len(reparatietijd[reparatietijd < reparatietijd.median()]))\n",
    "print(len(reparatietijd[reparatietijd > reparatietijd.median()]))"
   ]
  },
  {
   "cell_type": "markdown",
   "metadata": {},
   "source": [
    "Voor 50% van alle reparatietijd, duren korter/langer dan 120 minuten(2 uren)<br>\n",
    "\n",
    "We gaan een baseline model bouwen waar onze voorspelde reparatietijd is altijd gelijk aan de mediaan"
   ]
  },
  {
   "cell_type": "markdown",
   "metadata": {},
   "source": [
    "We willen uiteindelijk de score/kwaliteit van de baseline model bepalen.Hierdoor kunnen we onze toekomstige complexe modellen met onze baseline model vergelijken.   <br>\n",
    "De kwaliteit van de baseline  modellen worden berekent mbh van de RMSE. Er wordt gekozen om de RMSE te gebruiken,  omdat de RMSE geeft aan de gemiddelde afwijking van de voorspelde waardes. Er kan berekent  worden  hoeveel gemiddeld de mediaan wijkt af van de actuele reparatietijden."
   ]
  },
  {
   "cell_type": "code",
   "execution_count": 150,
   "metadata": {},
   "outputs": [],
   "source": [
    "# Baselinne model    maken \n",
    "def baselinemodel(data,kolom):\n",
    "    data['Median']=  data[kolom].median()\n",
    "    # De kwaliteit/score van de model bepalen mbh van RMSE\n",
    "    score =np.sqrt(mean_squared_error(data.loc[:,kolom],data.loc[:,'Median']))\n",
    "    return score"
   ]
  },
  {
   "cell_type": "code",
   "execution_count": 151,
   "metadata": {},
   "outputs": [
    {
     "data": {
      "text/plain": [
       "81.61135935763781"
      ]
     },
     "execution_count": 151,
     "metadata": {},
     "output_type": "execute_result"
    }
   ],
   "source": [
    "reparatietijd = reparatietijd[(reparatietijd >=15) & (reparatietijd <=480)]\n",
    "dfbase = reparatietijd.to_frame() # zet om  Series naar dataframe\n",
    "baselinemodel(dfbase, 'reparatietijd')"
   ]
  },
  {
   "cell_type": "markdown",
   "metadata": {},
   "source": [
    "## Lineair Regression Model "
   ]
  },
  {
   "cell_type": "markdown",
   "metadata": {},
   "source": [
    "We hebben gekozen om een Lineair Regression model eerst toe te passen.De reden hiervoor is dat onze target variabel continu waardes bevatten. Bovendien zijn bevatten de meeste features continu waardes of kunen *encoded* worden naar discrete waardes.\n",
    "\n",
    "We zullen de volgende feature variabelen in onze Linear Regression model.\n",
    "* **stm_oorz_groep** : *Aan de hand van deze feature, krijgen we en beter definitie van de bepaalde storing. Welke groep de oorzaak een bepaalde storing geven. *\n",
    "* **stm_oor_code**   : *Zelfde als hierbove. De soort oozraak van een bepaalde storin geven*\n",
    "* **stm_prioriteit** : *De ernst van en bepaalde storing geven.* "
   ]
  },
  {
   "cell_type": "markdown",
   "metadata": {},
   "source": [
    "### Data Understanding"
   ]
  },
  {
   "cell_type": "markdown",
   "metadata": {},
   "source": [
    "In deze fase gaan we naar de inhoud kijken van de features variabelen en een betere inzicht te krijgen van onze data."
   ]
  },
  {
   "cell_type": "markdown",
   "metadata": {},
   "source": [
    "#### Data Collection "
   ]
  },
  {
   "cell_type": "markdown",
   "metadata": {},
   "source": [
    "Er wordt een data selectie gedaan. We gaan onze gekozen feature en target variabelen in onze dataset uithalen en in een niewe dataframe zetten. Verder zullen we naar de attributen van de  nieuwe data bekijken."
   ]
  },
  {
   "cell_type": "code",
   "execution_count": 154,
   "metadata": {},
   "outputs": [
    {
     "data": {
      "text/html": [
       "<div>\n",
       "<style scoped>\n",
       "    .dataframe tbody tr th:only-of-type {\n",
       "        vertical-align: middle;\n",
       "    }\n",
       "\n",
       "    .dataframe tbody tr th {\n",
       "        vertical-align: top;\n",
       "    }\n",
       "\n",
       "    .dataframe thead th {\n",
       "        text-align: right;\n",
       "    }\n",
       "</style>\n",
       "<table border=\"1\" class=\"dataframe\">\n",
       "  <thead>\n",
       "    <tr style=\"text-align: right;\">\n",
       "      <th></th>\n",
       "      <th>stm_oorz_groep</th>\n",
       "      <th>stm_oorz_code</th>\n",
       "      <th>stm_prioriteit</th>\n",
       "      <th>reparatietijd</th>\n",
       "    </tr>\n",
       "  </thead>\n",
       "  <tbody>\n",
       "    <tr>\n",
       "      <th>0</th>\n",
       "      <td>NaN</td>\n",
       "      <td>NaN</td>\n",
       "      <td>NaN</td>\n",
       "      <td>NaN</td>\n",
       "    </tr>\n",
       "    <tr>\n",
       "      <th>1</th>\n",
       "      <td>ONR-RIB</td>\n",
       "      <td>133.0</td>\n",
       "      <td>9.0</td>\n",
       "      <td>NaN</td>\n",
       "    </tr>\n",
       "    <tr>\n",
       "      <th>2</th>\n",
       "      <td>ONR-DERD</td>\n",
       "      <td>143.0</td>\n",
       "      <td>9.0</td>\n",
       "      <td>NaN</td>\n",
       "    </tr>\n",
       "    <tr>\n",
       "      <th>3</th>\n",
       "      <td>ONR-DERD</td>\n",
       "      <td>142.0</td>\n",
       "      <td>9.0</td>\n",
       "      <td>NaN</td>\n",
       "    </tr>\n",
       "    <tr>\n",
       "      <th>4</th>\n",
       "      <td>ONR-DERD</td>\n",
       "      <td>142.0</td>\n",
       "      <td>9.0</td>\n",
       "      <td>NaN</td>\n",
       "    </tr>\n",
       "  </tbody>\n",
       "</table>\n",
       "</div>"
      ],
      "text/plain": [
       "  stm_oorz_groep  stm_oorz_code  stm_prioriteit  reparatietijd\n",
       "0            NaN            NaN             NaN            NaN\n",
       "1        ONR-RIB          133.0             9.0            NaN\n",
       "2       ONR-DERD          143.0             9.0            NaN\n",
       "3       ONR-DERD          142.0             9.0            NaN\n",
       "4       ONR-DERD          142.0             9.0            NaN"
      ]
     },
     "execution_count": 154,
     "metadata": {},
     "output_type": "execute_result"
    }
   ],
   "source": [
    "# Data selectie maken van de dataset.\n",
    "df2  = df[['stm_oorz_groep', 'stm_oorz_code', 'stm_prioriteit']].copy()\n",
    "df2['reparatietijd'] = data['reparatietijd']\n",
    "df2.head()"
   ]
  },
  {
   "cell_type": "markdown",
   "metadata": {},
   "source": [
    "#### Data Describe "
   ]
  },
  {
   "cell_type": "markdown",
   "metadata": {},
   "source": [
    "In dit gedeelte gaan we naar de eigenschappen van onze data bekijken."
   ]
  },
  {
   "cell_type": "code",
   "execution_count": 155,
   "metadata": {},
   "outputs": [
    {
     "data": {
      "text/plain": [
       "(898526, 4)"
      ]
     },
     "execution_count": 155,
     "metadata": {},
     "output_type": "execute_result"
    }
   ],
   "source": [
    "# Dimensie van de df2 bekijken\n",
    "df2.shape"
   ]
  },
  {
   "cell_type": "code",
   "execution_count": 156,
   "metadata": {},
   "outputs": [
    {
     "data": {
      "text/plain": [
       "stm_oorz_groep     object\n",
       "stm_oorz_code     float64\n",
       "stm_prioriteit    float64\n",
       "reparatietijd     float64\n",
       "dtype: object"
      ]
     },
     "execution_count": 156,
     "metadata": {},
     "output_type": "execute_result"
    }
   ],
   "source": [
    "# datatypes van de dataset bekijken \n",
    "df2.dtypes"
   ]
  },
  {
   "cell_type": "markdown",
   "metadata": {},
   "source": [
    "**De meetniveaus van onze feature en target variabelen zijn de volgende:**\n",
    "* **stm_oorz_groep** : Nominale waardes. Deze kolom moeten we *encoden* naar discrrete waardes\n",
    "* **stm_oor_code**   : Continu waardes.\n",
    "* **stm_prioriteit** : Continu waardes.\n",
    "* **reparatietijd**    : Continu waardes."
   ]
  },
  {
   "cell_type": "markdown",
   "metadata": {},
   "source": [
    "#### Data Explore"
   ]
  },
  {
   "cell_type": "code",
   "execution_count": 157,
   "metadata": {},
   "outputs": [
    {
     "data": {
      "text/html": [
       "<div>\n",
       "<style scoped>\n",
       "    .dataframe tbody tr th:only-of-type {\n",
       "        vertical-align: middle;\n",
       "    }\n",
       "\n",
       "    .dataframe tbody tr th {\n",
       "        vertical-align: top;\n",
       "    }\n",
       "\n",
       "    .dataframe thead th {\n",
       "        text-align: right;\n",
       "    }\n",
       "</style>\n",
       "<table border=\"1\" class=\"dataframe\">\n",
       "  <thead>\n",
       "    <tr style=\"text-align: right;\">\n",
       "      <th></th>\n",
       "      <th>stm_oorz_code</th>\n",
       "      <th>stm_prioriteit</th>\n",
       "      <th>reparatietijd</th>\n",
       "    </tr>\n",
       "  </thead>\n",
       "  <tbody>\n",
       "    <tr>\n",
       "      <th>count</th>\n",
       "      <td>845113.000000</td>\n",
       "      <td>898365.000000</td>\n",
       "      <td>6.839850e+05</td>\n",
       "    </tr>\n",
       "    <tr>\n",
       "      <th>mean</th>\n",
       "      <td>193.577248</td>\n",
       "      <td>4.582593</td>\n",
       "      <td>4.972723e+02</td>\n",
       "    </tr>\n",
       "    <tr>\n",
       "      <th>std</th>\n",
       "      <td>48.310779</td>\n",
       "      <td>2.262522</td>\n",
       "      <td>2.669839e+04</td>\n",
       "    </tr>\n",
       "    <tr>\n",
       "      <th>min</th>\n",
       "      <td>33.000000</td>\n",
       "      <td>1.000000</td>\n",
       "      <td>-5.270005e+05</td>\n",
       "    </tr>\n",
       "    <tr>\n",
       "      <th>25%</th>\n",
       "      <td>144.000000</td>\n",
       "      <td>2.000000</td>\n",
       "      <td>1.000000e+01</td>\n",
       "    </tr>\n",
       "    <tr>\n",
       "      <th>50%</th>\n",
       "      <td>213.000000</td>\n",
       "      <td>4.000000</td>\n",
       "      <td>3.300000e+01</td>\n",
       "    </tr>\n",
       "    <tr>\n",
       "      <th>75%</th>\n",
       "      <td>221.000000</td>\n",
       "      <td>5.000000</td>\n",
       "      <td>8.113333e+01</td>\n",
       "    </tr>\n",
       "    <tr>\n",
       "      <th>max</th>\n",
       "      <td>999.000000</td>\n",
       "      <td>9.000000</td>\n",
       "      <td>4.336560e+06</td>\n",
       "    </tr>\n",
       "  </tbody>\n",
       "</table>\n",
       "</div>"
      ],
      "text/plain": [
       "       stm_oorz_code  stm_prioriteit  reparatietijd\n",
       "count  845113.000000   898365.000000   6.839850e+05\n",
       "mean      193.577248        4.582593   4.972723e+02\n",
       "std        48.310779        2.262522   2.669839e+04\n",
       "min        33.000000        1.000000  -5.270005e+05\n",
       "25%       144.000000        2.000000   1.000000e+01\n",
       "50%       213.000000        4.000000   3.300000e+01\n",
       "75%       221.000000        5.000000   8.113333e+01\n",
       "max       999.000000        9.000000   4.336560e+06"
      ]
     },
     "execution_count": 157,
     "metadata": {},
     "output_type": "execute_result"
    }
   ],
   "source": [
    "# attributen van df2 bekijken\n",
    "df2.describe()"
   ]
  },
  {
   "cell_type": "code",
   "execution_count": 158,
   "metadata": {},
   "outputs": [
    {
     "data": {
      "text/plain": [
       "stm_oorz_groep     53430\n",
       "stm_oorz_code      53413\n",
       "stm_prioriteit       161\n",
       "reparatietijd     214541\n",
       "dtype: int64"
      ]
     },
     "execution_count": 158,
     "metadata": {},
     "output_type": "execute_result"
    }
   ],
   "source": [
    "# Aantal ontbrekende waardes bekijken \n",
    "df2.isnull().sum()"
   ]
  },
  {
   "cell_type": "markdown",
   "metadata": {},
   "source": [
    "Er is te zien dat we hebben te maken met veel NaN waardes in onze data. <br>\n",
    "De aantal rijen die we zullen verloren, wordt berekend en weeregeven in percentage.Hierdoor wordt er bepaald of het het verstandig is om al deze NaN waardes te vewijderen."
   ]
  },
  {
   "cell_type": "code",
   "execution_count": 159,
   "metadata": {},
   "outputs": [
    {
     "name": "stdout",
     "output_type": "stream",
     "text": [
      "Rijen verloren door Nan oorzaakgroep : 6.322231464904693%\n",
      "Rijen verloren door Nan oorzaakcode  : 6.322231464904693%\n",
      "Rijen verloren door Nan oorzaakcode  : 25.38607263170724%\n",
      "Totaal aantal rijen verloren : 38.047574703027884 %\n"
     ]
    }
   ],
   "source": [
    "# bereken aantal rijen die wordt verloren bij Nan waardes\n",
    "print('Rijen verloren door Nan oorzaakgroep : {}%'.format((df2['stm_oorz_groep'].isnull().sum()/845113)*100))\n",
    "print('Rijen verloren door Nan oorzaakcode  : {}%'.format((df2['stm_oorz_groep'].isnull().sum()/845113)*100))\n",
    "print('Rijen verloren door Nan oorzaakcode  : {}%'.format((df2['reparatietijd'].isnull().sum()/845113)*100))\n",
    "#totaal\n",
    "print('Totaal aantal rijen verloren : {} %'.format(df2.isnull().sum().sum()/845113*100))"
   ]
  },
  {
   "cell_type": "markdown",
   "metadata": {},
   "source": [
    "We verliezen 38% van de data."
   ]
  },
  {
   "cell_type": "markdown",
   "metadata": {},
   "source": [
    "We gaan nu  kijken naar elke feature bekijken."
   ]
  },
  {
   "cell_type": "code",
   "execution_count": 160,
   "metadata": {},
   "outputs": [
    {
     "data": {
      "text/plain": [
       "array([nan, 'ONR-RIB', 'ONR-DERD', 'TECHONV', 'WEER'], dtype=object)"
      ]
     },
     "execution_count": 160,
     "metadata": {},
     "output_type": "execute_result"
    }
   ],
   "source": [
    "df2['stm_oorz_groep'].unique()"
   ]
  },
  {
   "cell_type": "markdown",
   "metadata": {},
   "source": [
    "In de kolom stm_orz_code gaan we de waarde met de csv bestand Oorzaakcodes verelijken om te zien of er wardes voorkomen die niet gelijk zijn."
   ]
  },
  {
   "cell_type": "code",
   "execution_count": 161,
   "metadata": {},
   "outputs": [
    {
     "data": {
      "text/plain": [
       "array([ 33.,  48.,  51., 130., 131., 132., 133., 134., 135., 136., 139.,\n",
       "       140., 141., 142., 143., 144., 145., 146., 147., 148., 149., 150.,\n",
       "       151., 154., 180., 181., 182., 183., 184., 185., 186., 187., 188.,\n",
       "       189., 200., 201., 202., 203., 204., 205., 206., 207., 208., 209.,\n",
       "       210., 211., 212., 213., 214., 215., 218., 219., 220., 221., 222.,\n",
       "       223., 224., 225., 226., 227., 228., 229., 230., 231., 233., 234.,\n",
       "       235., 239., 240., 241., 242., 250., 294., 298., 299., 999.])"
      ]
     },
     "execution_count": 161,
     "metadata": {},
     "output_type": "execute_result"
    }
   ],
   "source": [
    "df2['stm_oorz_code'][df2['stm_oorz_code'].notnull()].sort_values().unique()"
   ]
  },
  {
   "cell_type": "code",
   "execution_count": 162,
   "metadata": {},
   "outputs": [
    {
     "data": {
      "text/plain": [
       "array([130, 131, 132, 133, 134, 135, 136, 140, 141, 142, 143, 144, 145,\n",
       "       146, 147, 148, 149, 150, 151, 152, 153, 154, 181, 182, 183, 184,\n",
       "       185, 186, 187, 188, 189, 201, 202, 203, 204, 205, 206, 207, 208,\n",
       "       209, 210, 211, 212, 213, 214, 215, 218, 219, 220, 221, 222, 223,\n",
       "       224, 225, 226, 227, 228, 229, 230, 231, 233, 234, 235, 239, 240,\n",
       "       241, 242, 250, 294, 298, 299], dtype=int64)"
      ]
     },
     "execution_count": 162,
     "metadata": {},
     "output_type": "execute_result"
    }
   ],
   "source": [
    "oorzcodes = pd.read_csv('Oorzaakcodes.csv', delimiter = ';')\n",
    "oorzcodes['Code'].sort_values().unique()"
   ]
  },
  {
   "cell_type": "markdown",
   "metadata": {},
   "source": [
    "We zien dat de waardes 33,  48,51 en 999.\n",
    "Aan de hand van de bovenstaande code kunnnen we concluderen dat de we moeten df2 filteren die de rijen kiezen, waar de oorzaakcode tussen 130 en 299 zit. We zullen eerst zien hoeveel rijen bevatten deze deze oorzaak codes."
   ]
  },
  {
   "cell_type": "code",
   "execution_count": 163,
   "metadata": {},
   "outputs": [
    {
     "data": {
      "text/plain": [
       "1"
      ]
     },
     "execution_count": 163,
     "metadata": {},
     "output_type": "execute_result"
    }
   ],
   "source": [
    "len(df2[df2['stm_oorz_code'] == 33])"
   ]
  },
  {
   "cell_type": "code",
   "execution_count": 164,
   "metadata": {},
   "outputs": [
    {
     "data": {
      "text/plain": [
       "1"
      ]
     },
     "execution_count": 164,
     "metadata": {},
     "output_type": "execute_result"
    }
   ],
   "source": [
    "len(df2[df2['stm_oorz_code'] == 48])"
   ]
  },
  {
   "cell_type": "code",
   "execution_count": 165,
   "metadata": {},
   "outputs": [
    {
     "data": {
      "text/plain": [
       "1"
      ]
     },
     "execution_count": 165,
     "metadata": {},
     "output_type": "execute_result"
    }
   ],
   "source": [
    "len(df2[df2['stm_oorz_code'] == 51])"
   ]
  },
  {
   "cell_type": "code",
   "execution_count": 166,
   "metadata": {},
   "outputs": [
    {
     "data": {
      "text/plain": [
       "102"
      ]
     },
     "execution_count": 166,
     "metadata": {},
     "output_type": "execute_result"
    }
   ],
   "source": [
    "len(df2[df2['stm_oorz_code'] == 999])"
   ]
  },
  {
   "cell_type": "markdown",
   "metadata": {},
   "source": [
    "Er zijn in totaal  102  rijen die deze waardes bevatten.We kunnen dus deze rijen uit onze data verwijderen."
   ]
  },
  {
   "cell_type": "code",
   "execution_count": 167,
   "metadata": {},
   "outputs": [
    {
     "data": {
      "text/plain": [
       "array([nan,  9.,  5.,  4.,  2.,  1.,  8.])"
      ]
     },
     "execution_count": 167,
     "metadata": {},
     "output_type": "execute_result"
    }
   ],
   "source": [
    "df2['stm_prioriteit'].unique()"
   ]
  },
  {
   "cell_type": "markdown",
   "metadata": {},
   "source": [
    "Er is geen rij/ storing met een prioriteit van 3 en 6 of 7, maar we  kunnen ze misschien wel  voorspellen anagezien dat ze continu waardes zijn in onze Linear Regression model."
   ]
  },
  {
   "cell_type": "code",
   "execution_count": 169,
   "metadata": {},
   "outputs": [
    {
     "data": {
      "image/png": "[encoded data removed]",
      "text/plain": [
       "<Figure size 432x288 with 1 Axes>"
      ]
     },
     "metadata": {
      "needs_background": "light"
     },
     "output_type": "display_data"
    }
   ],
   "source": [
    "# De hersteltijd teggenover de prioriteit plotten om de versschilte bekijken.\n",
    "plt.scatter(df2['stm_prioriteit'],df2['reparatietijd'] )\n",
    "plt.show()"
   ]
  },
  {
   "cell_type": "code",
   "execution_count": 170,
   "metadata": {},
   "outputs": [
    {
     "data": {
      "text/plain": [
       "<matplotlib.axes._subplots.AxesSubplot at 0x16c40cf9978>"
      ]
     },
     "execution_count": 170,
     "metadata": {},
     "output_type": "execute_result"
    },
    {
     "data": {
      "image/png": "[encoded data removed]",
      "text/plain": [
       "<Figure size 432x288 with 1 Axes>"
      ]
     },
     "metadata": {
      "needs_background": "light"
     },
     "output_type": "display_data"
    }
   ],
   "source": [
    "#Outliers visualiseren van de numerieke kolommen adhv boxplot.\n",
    "df2.boxplot()"
   ]
  },
  {
   "cell_type": "markdown",
   "metadata": {},
   "source": [
    "Er is te zien dat er veel uitschieters voorkomen in onze target variabelen.Om een duidelijke overzicht te krijgen van hhet aantal  uitschieters inonze data, gaan we de uitschieters per feature  uitrekenen. De aantal uitschieters van onze target variabel is al berekend in onze baseline model,  maar we doen het ook voor de andere variabelen."
   ]
  },
  {
   "cell_type": "code",
   "execution_count": 172,
   "metadata": {},
   "outputs": [
    {
     "name": "stdout",
     "output_type": "stream",
     "text": [
      "Q1 = 144.0, Q3 = 221.0\n",
      "IQR = Q3 - Q1 = 144.0 - 221.0 = 77.0\n",
      "Lengte van de data : 898526\n",
      "\n",
      "Aantal sterke outliers boven de boxplot, boven de 452.0 : 102\n",
      "Aantal zwakke outliers boven de boxplot, tussen 336.5 en 452.0 : 0\n"
     ]
    },
    {
     "data": {
      "text/plain": [
       "<matplotlib.axes._subplots.AxesSubplot at 0x16c40de8828>"
      ]
     },
     "execution_count": 172,
     "metadata": {},
     "output_type": "execute_result"
    },
    {
     "data": {
      "image/png": "[encoded data removed]",
      "text/plain": [
       "<Figure size 432x288 with 1 Axes>"
      ]
     },
     "metadata": {
      "needs_background": "light"
     },
     "output_type": "display_data"
    }
   ],
   "source": [
    "# Uitschieters berekenen van oorzaak code\n",
    "oorz_code = df2['stm_oorz_code'].sort_values() # sorteer de data\n",
    "\n",
    "# bereken de Q1, Q3 en de IQR \n",
    "q1 = oorz_code.quantile(0.25)\n",
    "q3 = oorz_code.quantile(0.75)\n",
    "iqr = q3-q1\n",
    "print(\"Q1 = {}, Q3 = {}\".format(q1, q3)) \n",
    "print(\"IQR = Q3 - Q1 = {} - {} = {}\".format(q1,q3,iqr))\n",
    "\n",
    "# Bereken het aantal zwakke en sterke outliers boven en onder de boxplot.\n",
    "zwakke_lower = oorz_code[(oorz_code<=q1-1.5*iqr)&(oorz_code>q1-3*iqr)].count()\n",
    "sterke_lower = oorz_code[oorz_code<q1-3*iqr].count()\n",
    "zwakke_upper = oorz_code[(oorz_code>=q3+1.5*iqr)&(oorz_code<q3+3*iqr)].count()\n",
    "sterke_upper = oorz_code[oorz_code>q3+3*iqr].count()\n",
    "\n",
    "print(\"Lengte van de data : {}\".format(len(oorz_code)))\n",
    "print()\n",
    "print(\"Aantal sterke outliers boven de boxplot, boven de {} : {}\".format(q3+3*iqr, sterke_upper))\n",
    "print(\"Aantal zwakke outliers boven de boxplot, tussen {} en {} : {}\".format(q3+1.5*iqr,q3+3*iqr, zwakke_upper))\n",
    "\n",
    "df2['stm_oorz_code'].plot.box()"
   ]
  },
  {
   "cell_type": "markdown",
   "metadata": {},
   "source": [
    "Er is namelijk 102 sterke outliers te zien die onder de 1000 voorkomt. \n",
    "Deze kan de storingen die een code hebben van 999.0. Deze rijen worden verwijdert."
   ]
  },
  {
   "cell_type": "code",
   "execution_count": 173,
   "metadata": {},
   "outputs": [
    {
     "name": "stdout",
     "output_type": "stream",
     "text": [
      "Q1 = 2.0, Q3 = 5.0\n",
      "IQR = Q3 - Q1 = 2.0 - 5.0 = 3.0\n",
      "Lengte van de data : 898526\n",
      "\n",
      "Aantal sterke outliers boven de boxplot, boven de 14.0 : 0\n",
      "Aantal zwakke outliers boven de boxplot, tussen 9.5 en 14.0 : 0\n"
     ]
    },
    {
     "data": {
      "text/plain": [
       "<matplotlib.axes._subplots.AxesSubplot at 0x16c40e3c240>"
      ]
     },
     "execution_count": 173,
     "metadata": {},
     "output_type": "execute_result"
    },
    {
     "data": {
      "image/png": "[encoded data removed]",
      "text/plain": [
       "<Figure size 432x288 with 1 Axes>"
      ]
     },
     "metadata": {
      "needs_background": "light"
     },
     "output_type": "display_data"
    }
   ],
   "source": [
    "# # Uitschieters berekenen van prioriteit\n",
    "oorz_code = df2['stm_prioriteit'].sort_values() # sorteer de data\n",
    "\n",
    "# bereken de Q1, Q3 en de IQR \n",
    "q1 = oorz_code.quantile(0.25)\n",
    "q3 = oorz_code.quantile(0.75)\n",
    "iqr = q3-q1\n",
    "print(\"Q1 = {}, Q3 = {}\".format(q1, q3)) \n",
    "print(\"IQR = Q3 - Q1 = {} - {} = {}\".format(q1,q3,iqr))\n",
    "\n",
    "# Bereken het aantal zwakke en sterke outliers boven en onder de boxplot.\n",
    "zwakke_lower = oorz_code[(oorz_code<=q1-1.5*iqr)&(oorz_code>q1-3*iqr)].count()\n",
    "sterke_lower = oorz_code[oorz_code<q1-3*iqr].count()\n",
    "zwakke_upper = oorz_code[(oorz_code>=q3+1.5*iqr)&(oorz_code<q3+3*iqr)].count()\n",
    "sterke_upper = oorz_code[oorz_code>q3+3*iqr].count()\n",
    "\n",
    "print(\"Lengte van de data : {}\".format(len(oorz_code)))\n",
    "print()\n",
    "print(\"Aantal sterke outliers boven de boxplot, boven de {} : {}\".format(q3+3*iqr, sterke_upper))\n",
    "print(\"Aantal zwakke outliers boven de boxplot, tussen {} en {} : {}\".format(q3+1.5*iqr,q3+3*iqr, zwakke_upper))\n",
    "\n",
    "df2['stm_prioriteit'].plot.box() \n",
    "# Uit de boxplot is er geen sprake van uitschieters en de kolom lijkt wel te kloppen."
   ]
  },
  {
   "cell_type": "markdown",
   "metadata": {},
   "source": [
    "Er  komen geen outliers voor in deze feature. Deze feature hoeven we niet te behandelen."
   ]
  },
  {
   "cell_type": "markdown",
   "metadata": {},
   "source": [
    "Bij de reparatietijd, gaan we een selectie van data nemen. Met behulp van de product owners, weten we dat we maximaal een storing met een reparatietijd van 8 uren moet voorspellen.\n",
    "\n",
    "Wij kiezen voor een indergrens van 15 minuten. We gaan er  vanuit dat er geen drastische acties worden genomen als de oplossing van een storing korter dan 15minuten duurt.Voor deze storingen gaan wij er vanuit dat de dienstregeling niet aangepast hoeft te worden."
   ]
  },
  {
   "cell_type": "markdown",
   "metadata": {},
   "source": [
    "### Data Preparation "
   ]
  },
  {
   "cell_type": "markdown",
   "metadata": {},
   "source": [
    "In deze fase gaan we de data opschonen."
   ]
  },
  {
   "cell_type": "code",
   "execution_count": 174,
   "metadata": {},
   "outputs": [],
   "source": [
    "# Alle Nan waardes verwijderen\n",
    "df2 = df2.dropna()\n",
    "df2 = df2[(df2['stm_oorz_code'].isin([33, 48,51, 999]))== False] # de rijen verwijderen waar oorzaak groep is gelijk aan 33, 48, 51 en 999"
   ]
  },
  {
   "cell_type": "markdown",
   "metadata": {},
   "source": [
    "We gaan de feature stm_oorz_groep encoden naar numerieke waardes met behulp van get_dummies()."
   ]
  },
  {
   "cell_type": "code",
   "execution_count": 175,
   "metadata": {
    "scrolled": true
   },
   "outputs": [
    {
     "data": {
      "text/html": [
       "<div>\n",
       "<style scoped>\n",
       "    .dataframe tbody tr th:only-of-type {\n",
       "        vertical-align: middle;\n",
       "    }\n",
       "\n",
       "    .dataframe tbody tr th {\n",
       "        vertical-align: top;\n",
       "    }\n",
       "\n",
       "    .dataframe thead th {\n",
       "        text-align: right;\n",
       "    }\n",
       "</style>\n",
       "<table border=\"1\" class=\"dataframe\">\n",
       "  <thead>\n",
       "    <tr style=\"text-align: right;\">\n",
       "      <th></th>\n",
       "      <th>stm_oorz_code</th>\n",
       "      <th>stm_prioriteit</th>\n",
       "      <th>reparatietijd</th>\n",
       "      <th>stm_oorz_groep_ONR-DERD</th>\n",
       "      <th>stm_oorz_groep_ONR-RIB</th>\n",
       "      <th>stm_oorz_groep_TECHONV</th>\n",
       "      <th>stm_oorz_groep_WEER</th>\n",
       "    </tr>\n",
       "  </thead>\n",
       "  <tbody>\n",
       "    <tr>\n",
       "      <th>19177</th>\n",
       "      <td>299.0</td>\n",
       "      <td>9.0</td>\n",
       "      <td>0.000000</td>\n",
       "      <td>0</td>\n",
       "      <td>0</td>\n",
       "      <td>1</td>\n",
       "      <td>0</td>\n",
       "    </tr>\n",
       "    <tr>\n",
       "      <th>19220</th>\n",
       "      <td>299.0</td>\n",
       "      <td>9.0</td>\n",
       "      <td>0.000000</td>\n",
       "      <td>0</td>\n",
       "      <td>0</td>\n",
       "      <td>1</td>\n",
       "      <td>0</td>\n",
       "    </tr>\n",
       "    <tr>\n",
       "      <th>20735</th>\n",
       "      <td>142.0</td>\n",
       "      <td>9.0</td>\n",
       "      <td>0.000000</td>\n",
       "      <td>1</td>\n",
       "      <td>0</td>\n",
       "      <td>0</td>\n",
       "      <td>0</td>\n",
       "    </tr>\n",
       "    <tr>\n",
       "      <th>21228</th>\n",
       "      <td>299.0</td>\n",
       "      <td>9.0</td>\n",
       "      <td>0.000000</td>\n",
       "      <td>0</td>\n",
       "      <td>0</td>\n",
       "      <td>1</td>\n",
       "      <td>0</td>\n",
       "    </tr>\n",
       "    <tr>\n",
       "      <th>22779</th>\n",
       "      <td>133.0</td>\n",
       "      <td>9.0</td>\n",
       "      <td>1.000000</td>\n",
       "      <td>0</td>\n",
       "      <td>1</td>\n",
       "      <td>0</td>\n",
       "      <td>0</td>\n",
       "    </tr>\n",
       "    <tr>\n",
       "      <th>23421</th>\n",
       "      <td>141.0</td>\n",
       "      <td>9.0</td>\n",
       "      <td>0.000000</td>\n",
       "      <td>1</td>\n",
       "      <td>0</td>\n",
       "      <td>0</td>\n",
       "      <td>0</td>\n",
       "    </tr>\n",
       "    <tr>\n",
       "      <th>24184</th>\n",
       "      <td>142.0</td>\n",
       "      <td>9.0</td>\n",
       "      <td>0.000000</td>\n",
       "      <td>1</td>\n",
       "      <td>0</td>\n",
       "      <td>0</td>\n",
       "      <td>0</td>\n",
       "    </tr>\n",
       "    <tr>\n",
       "      <th>25292</th>\n",
       "      <td>299.0</td>\n",
       "      <td>9.0</td>\n",
       "      <td>0.000000</td>\n",
       "      <td>0</td>\n",
       "      <td>0</td>\n",
       "      <td>1</td>\n",
       "      <td>0</td>\n",
       "    </tr>\n",
       "    <tr>\n",
       "      <th>27106</th>\n",
       "      <td>133.0</td>\n",
       "      <td>9.0</td>\n",
       "      <td>1.000000</td>\n",
       "      <td>0</td>\n",
       "      <td>1</td>\n",
       "      <td>0</td>\n",
       "      <td>0</td>\n",
       "    </tr>\n",
       "    <tr>\n",
       "      <th>27326</th>\n",
       "      <td>298.0</td>\n",
       "      <td>9.0</td>\n",
       "      <td>0.000000</td>\n",
       "      <td>0</td>\n",
       "      <td>0</td>\n",
       "      <td>1</td>\n",
       "      <td>0</td>\n",
       "    </tr>\n",
       "    <tr>\n",
       "      <th>27556</th>\n",
       "      <td>142.0</td>\n",
       "      <td>9.0</td>\n",
       "      <td>0.000000</td>\n",
       "      <td>1</td>\n",
       "      <td>0</td>\n",
       "      <td>0</td>\n",
       "      <td>0</td>\n",
       "    </tr>\n",
       "    <tr>\n",
       "      <th>32099</th>\n",
       "      <td>299.0</td>\n",
       "      <td>9.0</td>\n",
       "      <td>40.000000</td>\n",
       "      <td>0</td>\n",
       "      <td>0</td>\n",
       "      <td>1</td>\n",
       "      <td>0</td>\n",
       "    </tr>\n",
       "    <tr>\n",
       "      <th>72552</th>\n",
       "      <td>299.0</td>\n",
       "      <td>9.0</td>\n",
       "      <td>1.000000</td>\n",
       "      <td>0</td>\n",
       "      <td>0</td>\n",
       "      <td>1</td>\n",
       "      <td>0</td>\n",
       "    </tr>\n",
       "    <tr>\n",
       "      <th>73476</th>\n",
       "      <td>299.0</td>\n",
       "      <td>9.0</td>\n",
       "      <td>1.000000</td>\n",
       "      <td>0</td>\n",
       "      <td>0</td>\n",
       "      <td>1</td>\n",
       "      <td>0</td>\n",
       "    </tr>\n",
       "    <tr>\n",
       "      <th>73477</th>\n",
       "      <td>299.0</td>\n",
       "      <td>9.0</td>\n",
       "      <td>1.000000</td>\n",
       "      <td>0</td>\n",
       "      <td>0</td>\n",
       "      <td>1</td>\n",
       "      <td>0</td>\n",
       "    </tr>\n",
       "    <tr>\n",
       "      <th>77178</th>\n",
       "      <td>143.0</td>\n",
       "      <td>9.0</td>\n",
       "      <td>0.000000</td>\n",
       "      <td>1</td>\n",
       "      <td>0</td>\n",
       "      <td>0</td>\n",
       "      <td>0</td>\n",
       "    </tr>\n",
       "    <tr>\n",
       "      <th>84560</th>\n",
       "      <td>299.0</td>\n",
       "      <td>9.0</td>\n",
       "      <td>5.316667</td>\n",
       "      <td>0</td>\n",
       "      <td>0</td>\n",
       "      <td>1</td>\n",
       "      <td>0</td>\n",
       "    </tr>\n",
       "    <tr>\n",
       "      <th>84561</th>\n",
       "      <td>299.0</td>\n",
       "      <td>9.0</td>\n",
       "      <td>5.316667</td>\n",
       "      <td>0</td>\n",
       "      <td>0</td>\n",
       "      <td>1</td>\n",
       "      <td>0</td>\n",
       "    </tr>\n",
       "    <tr>\n",
       "      <th>86470</th>\n",
       "      <td>133.0</td>\n",
       "      <td>9.0</td>\n",
       "      <td>228.650000</td>\n",
       "      <td>0</td>\n",
       "      <td>1</td>\n",
       "      <td>0</td>\n",
       "      <td>0</td>\n",
       "    </tr>\n",
       "    <tr>\n",
       "      <th>86471</th>\n",
       "      <td>133.0</td>\n",
       "      <td>9.0</td>\n",
       "      <td>228.650000</td>\n",
       "      <td>0</td>\n",
       "      <td>1</td>\n",
       "      <td>0</td>\n",
       "      <td>0</td>\n",
       "    </tr>\n",
       "    <tr>\n",
       "      <th>86472</th>\n",
       "      <td>133.0</td>\n",
       "      <td>9.0</td>\n",
       "      <td>228.650000</td>\n",
       "      <td>0</td>\n",
       "      <td>1</td>\n",
       "      <td>0</td>\n",
       "      <td>0</td>\n",
       "    </tr>\n",
       "    <tr>\n",
       "      <th>86473</th>\n",
       "      <td>133.0</td>\n",
       "      <td>9.0</td>\n",
       "      <td>228.650000</td>\n",
       "      <td>0</td>\n",
       "      <td>1</td>\n",
       "      <td>0</td>\n",
       "      <td>0</td>\n",
       "    </tr>\n",
       "    <tr>\n",
       "      <th>86879</th>\n",
       "      <td>133.0</td>\n",
       "      <td>9.0</td>\n",
       "      <td>0.000000</td>\n",
       "      <td>0</td>\n",
       "      <td>1</td>\n",
       "      <td>0</td>\n",
       "      <td>0</td>\n",
       "    </tr>\n",
       "    <tr>\n",
       "      <th>86880</th>\n",
       "      <td>133.0</td>\n",
       "      <td>9.0</td>\n",
       "      <td>0.000000</td>\n",
       "      <td>0</td>\n",
       "      <td>1</td>\n",
       "      <td>0</td>\n",
       "      <td>0</td>\n",
       "    </tr>\n",
       "    <tr>\n",
       "      <th>86881</th>\n",
       "      <td>133.0</td>\n",
       "      <td>9.0</td>\n",
       "      <td>0.000000</td>\n",
       "      <td>0</td>\n",
       "      <td>1</td>\n",
       "      <td>0</td>\n",
       "      <td>0</td>\n",
       "    </tr>\n",
       "    <tr>\n",
       "      <th>86882</th>\n",
       "      <td>133.0</td>\n",
       "      <td>9.0</td>\n",
       "      <td>0.000000</td>\n",
       "      <td>0</td>\n",
       "      <td>1</td>\n",
       "      <td>0</td>\n",
       "      <td>0</td>\n",
       "    </tr>\n",
       "    <tr>\n",
       "      <th>91872</th>\n",
       "      <td>142.0</td>\n",
       "      <td>9.0</td>\n",
       "      <td>220.316667</td>\n",
       "      <td>1</td>\n",
       "      <td>0</td>\n",
       "      <td>0</td>\n",
       "      <td>0</td>\n",
       "    </tr>\n",
       "    <tr>\n",
       "      <th>91873</th>\n",
       "      <td>142.0</td>\n",
       "      <td>9.0</td>\n",
       "      <td>220.316667</td>\n",
       "      <td>1</td>\n",
       "      <td>0</td>\n",
       "      <td>0</td>\n",
       "      <td>0</td>\n",
       "    </tr>\n",
       "    <tr>\n",
       "      <th>91874</th>\n",
       "      <td>142.0</td>\n",
       "      <td>9.0</td>\n",
       "      <td>220.316667</td>\n",
       "      <td>1</td>\n",
       "      <td>0</td>\n",
       "      <td>0</td>\n",
       "      <td>0</td>\n",
       "    </tr>\n",
       "    <tr>\n",
       "      <th>91875</th>\n",
       "      <td>142.0</td>\n",
       "      <td>9.0</td>\n",
       "      <td>220.316667</td>\n",
       "      <td>1</td>\n",
       "      <td>0</td>\n",
       "      <td>0</td>\n",
       "      <td>0</td>\n",
       "    </tr>\n",
       "    <tr>\n",
       "      <th>...</th>\n",
       "      <td>...</td>\n",
       "      <td>...</td>\n",
       "      <td>...</td>\n",
       "      <td>...</td>\n",
       "      <td>...</td>\n",
       "      <td>...</td>\n",
       "      <td>...</td>\n",
       "    </tr>\n",
       "    <tr>\n",
       "      <th>898487</th>\n",
       "      <td>298.0</td>\n",
       "      <td>2.0</td>\n",
       "      <td>30.000000</td>\n",
       "      <td>0</td>\n",
       "      <td>0</td>\n",
       "      <td>1</td>\n",
       "      <td>0</td>\n",
       "    </tr>\n",
       "    <tr>\n",
       "      <th>898488</th>\n",
       "      <td>298.0</td>\n",
       "      <td>2.0</td>\n",
       "      <td>30.000000</td>\n",
       "      <td>0</td>\n",
       "      <td>0</td>\n",
       "      <td>1</td>\n",
       "      <td>0</td>\n",
       "    </tr>\n",
       "    <tr>\n",
       "      <th>898489</th>\n",
       "      <td>221.0</td>\n",
       "      <td>2.0</td>\n",
       "      <td>4.000000</td>\n",
       "      <td>0</td>\n",
       "      <td>0</td>\n",
       "      <td>1</td>\n",
       "      <td>0</td>\n",
       "    </tr>\n",
       "    <tr>\n",
       "      <th>898490</th>\n",
       "      <td>221.0</td>\n",
       "      <td>2.0</td>\n",
       "      <td>4.000000</td>\n",
       "      <td>0</td>\n",
       "      <td>0</td>\n",
       "      <td>1</td>\n",
       "      <td>0</td>\n",
       "    </tr>\n",
       "    <tr>\n",
       "      <th>898491</th>\n",
       "      <td>221.0</td>\n",
       "      <td>2.0</td>\n",
       "      <td>4.000000</td>\n",
       "      <td>0</td>\n",
       "      <td>0</td>\n",
       "      <td>1</td>\n",
       "      <td>0</td>\n",
       "    </tr>\n",
       "    <tr>\n",
       "      <th>898492</th>\n",
       "      <td>212.0</td>\n",
       "      <td>2.0</td>\n",
       "      <td>78.000000</td>\n",
       "      <td>0</td>\n",
       "      <td>0</td>\n",
       "      <td>1</td>\n",
       "      <td>0</td>\n",
       "    </tr>\n",
       "    <tr>\n",
       "      <th>898493</th>\n",
       "      <td>212.0</td>\n",
       "      <td>2.0</td>\n",
       "      <td>78.000000</td>\n",
       "      <td>0</td>\n",
       "      <td>0</td>\n",
       "      <td>1</td>\n",
       "      <td>0</td>\n",
       "    </tr>\n",
       "    <tr>\n",
       "      <th>898494</th>\n",
       "      <td>140.0</td>\n",
       "      <td>5.0</td>\n",
       "      <td>25.000000</td>\n",
       "      <td>1</td>\n",
       "      <td>0</td>\n",
       "      <td>0</td>\n",
       "      <td>0</td>\n",
       "    </tr>\n",
       "    <tr>\n",
       "      <th>898495</th>\n",
       "      <td>140.0</td>\n",
       "      <td>5.0</td>\n",
       "      <td>25.000000</td>\n",
       "      <td>1</td>\n",
       "      <td>0</td>\n",
       "      <td>0</td>\n",
       "      <td>0</td>\n",
       "    </tr>\n",
       "    <tr>\n",
       "      <th>898496</th>\n",
       "      <td>140.0</td>\n",
       "      <td>5.0</td>\n",
       "      <td>25.000000</td>\n",
       "      <td>1</td>\n",
       "      <td>0</td>\n",
       "      <td>0</td>\n",
       "      <td>0</td>\n",
       "    </tr>\n",
       "    <tr>\n",
       "      <th>898506</th>\n",
       "      <td>203.0</td>\n",
       "      <td>5.0</td>\n",
       "      <td>143.000000</td>\n",
       "      <td>0</td>\n",
       "      <td>0</td>\n",
       "      <td>1</td>\n",
       "      <td>0</td>\n",
       "    </tr>\n",
       "    <tr>\n",
       "      <th>898507</th>\n",
       "      <td>203.0</td>\n",
       "      <td>5.0</td>\n",
       "      <td>143.000000</td>\n",
       "      <td>0</td>\n",
       "      <td>0</td>\n",
       "      <td>1</td>\n",
       "      <td>0</td>\n",
       "    </tr>\n",
       "    <tr>\n",
       "      <th>898508</th>\n",
       "      <td>215.0</td>\n",
       "      <td>2.0</td>\n",
       "      <td>3.000000</td>\n",
       "      <td>0</td>\n",
       "      <td>0</td>\n",
       "      <td>1</td>\n",
       "      <td>0</td>\n",
       "    </tr>\n",
       "    <tr>\n",
       "      <th>898509</th>\n",
       "      <td>215.0</td>\n",
       "      <td>2.0</td>\n",
       "      <td>3.000000</td>\n",
       "      <td>0</td>\n",
       "      <td>0</td>\n",
       "      <td>1</td>\n",
       "      <td>0</td>\n",
       "    </tr>\n",
       "    <tr>\n",
       "      <th>898510</th>\n",
       "      <td>298.0</td>\n",
       "      <td>4.0</td>\n",
       "      <td>89.000000</td>\n",
       "      <td>0</td>\n",
       "      <td>0</td>\n",
       "      <td>1</td>\n",
       "      <td>0</td>\n",
       "    </tr>\n",
       "    <tr>\n",
       "      <th>898511</th>\n",
       "      <td>298.0</td>\n",
       "      <td>4.0</td>\n",
       "      <td>89.000000</td>\n",
       "      <td>0</td>\n",
       "      <td>0</td>\n",
       "      <td>1</td>\n",
       "      <td>0</td>\n",
       "    </tr>\n",
       "    <tr>\n",
       "      <th>898512</th>\n",
       "      <td>298.0</td>\n",
       "      <td>4.0</td>\n",
       "      <td>89.000000</td>\n",
       "      <td>0</td>\n",
       "      <td>0</td>\n",
       "      <td>1</td>\n",
       "      <td>0</td>\n",
       "    </tr>\n",
       "    <tr>\n",
       "      <th>898513</th>\n",
       "      <td>298.0</td>\n",
       "      <td>4.0</td>\n",
       "      <td>89.000000</td>\n",
       "      <td>0</td>\n",
       "      <td>0</td>\n",
       "      <td>1</td>\n",
       "      <td>0</td>\n",
       "    </tr>\n",
       "    <tr>\n",
       "      <th>898514</th>\n",
       "      <td>298.0</td>\n",
       "      <td>4.0</td>\n",
       "      <td>89.000000</td>\n",
       "      <td>0</td>\n",
       "      <td>0</td>\n",
       "      <td>1</td>\n",
       "      <td>0</td>\n",
       "    </tr>\n",
       "    <tr>\n",
       "      <th>898515</th>\n",
       "      <td>298.0</td>\n",
       "      <td>4.0</td>\n",
       "      <td>89.000000</td>\n",
       "      <td>0</td>\n",
       "      <td>0</td>\n",
       "      <td>1</td>\n",
       "      <td>0</td>\n",
       "    </tr>\n",
       "    <tr>\n",
       "      <th>898516</th>\n",
       "      <td>221.0</td>\n",
       "      <td>4.0</td>\n",
       "      <td>179.000000</td>\n",
       "      <td>0</td>\n",
       "      <td>0</td>\n",
       "      <td>1</td>\n",
       "      <td>0</td>\n",
       "    </tr>\n",
       "    <tr>\n",
       "      <th>898517</th>\n",
       "      <td>221.0</td>\n",
       "      <td>4.0</td>\n",
       "      <td>179.000000</td>\n",
       "      <td>0</td>\n",
       "      <td>0</td>\n",
       "      <td>1</td>\n",
       "      <td>0</td>\n",
       "    </tr>\n",
       "    <tr>\n",
       "      <th>898518</th>\n",
       "      <td>298.0</td>\n",
       "      <td>5.0</td>\n",
       "      <td>3.000000</td>\n",
       "      <td>0</td>\n",
       "      <td>0</td>\n",
       "      <td>1</td>\n",
       "      <td>0</td>\n",
       "    </tr>\n",
       "    <tr>\n",
       "      <th>898519</th>\n",
       "      <td>298.0</td>\n",
       "      <td>5.0</td>\n",
       "      <td>3.000000</td>\n",
       "      <td>0</td>\n",
       "      <td>0</td>\n",
       "      <td>1</td>\n",
       "      <td>0</td>\n",
       "    </tr>\n",
       "    <tr>\n",
       "      <th>898520</th>\n",
       "      <td>215.0</td>\n",
       "      <td>5.0</td>\n",
       "      <td>24.000000</td>\n",
       "      <td>0</td>\n",
       "      <td>0</td>\n",
       "      <td>1</td>\n",
       "      <td>0</td>\n",
       "    </tr>\n",
       "    <tr>\n",
       "      <th>898521</th>\n",
       "      <td>215.0</td>\n",
       "      <td>5.0</td>\n",
       "      <td>24.000000</td>\n",
       "      <td>0</td>\n",
       "      <td>0</td>\n",
       "      <td>1</td>\n",
       "      <td>0</td>\n",
       "    </tr>\n",
       "    <tr>\n",
       "      <th>898522</th>\n",
       "      <td>218.0</td>\n",
       "      <td>2.0</td>\n",
       "      <td>36.000000</td>\n",
       "      <td>0</td>\n",
       "      <td>0</td>\n",
       "      <td>1</td>\n",
       "      <td>0</td>\n",
       "    </tr>\n",
       "    <tr>\n",
       "      <th>898523</th>\n",
       "      <td>218.0</td>\n",
       "      <td>2.0</td>\n",
       "      <td>36.000000</td>\n",
       "      <td>0</td>\n",
       "      <td>0</td>\n",
       "      <td>1</td>\n",
       "      <td>0</td>\n",
       "    </tr>\n",
       "    <tr>\n",
       "      <th>898524</th>\n",
       "      <td>135.0</td>\n",
       "      <td>2.0</td>\n",
       "      <td>29.000000</td>\n",
       "      <td>0</td>\n",
       "      <td>1</td>\n",
       "      <td>0</td>\n",
       "      <td>0</td>\n",
       "    </tr>\n",
       "    <tr>\n",
       "      <th>898525</th>\n",
       "      <td>143.0</td>\n",
       "      <td>2.0</td>\n",
       "      <td>29.000000</td>\n",
       "      <td>1</td>\n",
       "      <td>0</td>\n",
       "      <td>0</td>\n",
       "      <td>0</td>\n",
       "    </tr>\n",
       "  </tbody>\n",
       "</table>\n",
       "<p>672510 rows × 7 columns</p>\n",
       "</div>"
      ],
      "text/plain": [
       "        stm_oorz_code  stm_prioriteit  reparatietijd  stm_oorz_groep_ONR-DERD  \\\n",
       "19177           299.0             9.0       0.000000                        0   \n",
       "19220           299.0             9.0       0.000000                        0   \n",
       "20735           142.0             9.0       0.000000                        1   \n",
       "21228           299.0             9.0       0.000000                        0   \n",
       "22779           133.0             9.0       1.000000                        0   \n",
       "23421           141.0             9.0       0.000000                        1   \n",
       "24184           142.0             9.0       0.000000                        1   \n",
       "25292           299.0             9.0       0.000000                        0   \n",
       "27106           133.0             9.0       1.000000                        0   \n",
       "27326           298.0             9.0       0.000000                        0   \n",
       "27556           142.0             9.0       0.000000                        1   \n",
       "32099           299.0             9.0      40.000000                        0   \n",
       "72552           299.0             9.0       1.000000                        0   \n",
       "73476           299.0             9.0       1.000000                        0   \n",
       "73477           299.0             9.0       1.000000                        0   \n",
       "77178           143.0             9.0       0.000000                        1   \n",
       "84560           299.0             9.0       5.316667                        0   \n",
       "84561           299.0             9.0       5.316667                        0   \n",
       "86470           133.0             9.0     228.650000                        0   \n",
       "86471           133.0             9.0     228.650000                        0   \n",
       "86472           133.0             9.0     228.650000                        0   \n",
       "86473           133.0             9.0     228.650000                        0   \n",
       "86879           133.0             9.0       0.000000                        0   \n",
       "86880           133.0             9.0       0.000000                        0   \n",
       "86881           133.0             9.0       0.000000                        0   \n",
       "86882           133.0             9.0       0.000000                        0   \n",
       "91872           142.0             9.0     220.316667                        1   \n",
       "91873           142.0             9.0     220.316667                        1   \n",
       "91874           142.0             9.0     220.316667                        1   \n",
       "91875           142.0             9.0     220.316667                        1   \n",
       "...               ...             ...            ...                      ...   \n",
       "898487          298.0             2.0      30.000000                        0   \n",
       "898488          298.0             2.0      30.000000                        0   \n",
       "898489          221.0             2.0       4.000000                        0   \n",
       "898490          221.0             2.0       4.000000                        0   \n",
       "898491          221.0             2.0       4.000000                        0   \n",
       "898492          212.0             2.0      78.000000                        0   \n",
       "898493          212.0             2.0      78.000000                        0   \n",
       "898494          140.0             5.0      25.000000                        1   \n",
       "898495          140.0             5.0      25.000000                        1   \n",
       "898496          140.0             5.0      25.000000                        1   \n",
       "898506          203.0             5.0     143.000000                        0   \n",
       "898507          203.0             5.0     143.000000                        0   \n",
       "898508          215.0             2.0       3.000000                        0   \n",
       "898509          215.0             2.0       3.000000                        0   \n",
       "898510          298.0             4.0      89.000000                        0   \n",
       "898511          298.0             4.0      89.000000                        0   \n",
       "898512          298.0             4.0      89.000000                        0   \n",
       "898513          298.0             4.0      89.000000                        0   \n",
       "898514          298.0             4.0      89.000000                        0   \n",
       "898515          298.0             4.0      89.000000                        0   \n",
       "898516          221.0             4.0     179.000000                        0   \n",
       "898517          221.0             4.0     179.000000                        0   \n",
       "898518          298.0             5.0       3.000000                        0   \n",
       "898519          298.0             5.0       3.000000                        0   \n",
       "898520          215.0             5.0      24.000000                        0   \n",
       "898521          215.0             5.0      24.000000                        0   \n",
       "898522          218.0             2.0      36.000000                        0   \n",
       "898523          218.0             2.0      36.000000                        0   \n",
       "898524          135.0             2.0      29.000000                        0   \n",
       "898525          143.0             2.0      29.000000                        1   \n",
       "\n",
       "        stm_oorz_groep_ONR-RIB  stm_oorz_groep_TECHONV  stm_oorz_groep_WEER  \n",
       "19177                        0                       1                    0  \n",
       "19220                        0                       1                    0  \n",
       "20735                        0                       0                    0  \n",
       "21228                        0                       1                    0  \n",
       "22779                        1                       0                    0  \n",
       "23421                        0                       0                    0  \n",
       "24184                        0                       0                    0  \n",
       "25292                        0                       1                    0  \n",
       "27106                        1                       0                    0  \n",
       "27326                        0                       1                    0  \n",
       "27556                        0                       0                    0  \n",
       "32099                        0                       1                    0  \n",
       "72552                        0                       1                    0  \n",
       "73476                        0                       1                    0  \n",
       "73477                        0                       1                    0  \n",
       "77178                        0                       0                    0  \n",
       "84560                        0                       1                    0  \n",
       "84561                        0                       1                    0  \n",
       "86470                        1                       0                    0  \n",
       "86471                        1                       0                    0  \n",
       "86472                        1                       0                    0  \n",
       "86473                        1                       0                    0  \n",
       "86879                        1                       0                    0  \n",
       "86880                        1                       0                    0  \n",
       "86881                        1                       0                    0  \n",
       "86882                        1                       0                    0  \n",
       "91872                        0                       0                    0  \n",
       "91873                        0                       0                    0  \n",
       "91874                        0                       0                    0  \n",
       "91875                        0                       0                    0  \n",
       "...                        ...                     ...                  ...  \n",
       "898487                       0                       1                    0  \n",
       "898488                       0                       1                    0  \n",
       "898489                       0                       1                    0  \n",
       "898490                       0                       1                    0  \n",
       "898491                       0                       1                    0  \n",
       "898492                       0                       1                    0  \n",
       "898493                       0                       1                    0  \n",
       "898494                       0                       0                    0  \n",
       "898495                       0                       0                    0  \n",
       "898496                       0                       0                    0  \n",
       "898506                       0                       1                    0  \n",
       "898507                       0                       1                    0  \n",
       "898508                       0                       1                    0  \n",
       "898509                       0                       1                    0  \n",
       "898510                       0                       1                    0  \n",
       "898511                       0                       1                    0  \n",
       "898512                       0                       1                    0  \n",
       "898513                       0                       1                    0  \n",
       "898514                       0                       1                    0  \n",
       "898515                       0                       1                    0  \n",
       "898516                       0                       1                    0  \n",
       "898517                       0                       1                    0  \n",
       "898518                       0                       1                    0  \n",
       "898519                       0                       1                    0  \n",
       "898520                       0                       1                    0  \n",
       "898521                       0                       1                    0  \n",
       "898522                       0                       1                    0  \n",
       "898523                       0                       1                    0  \n",
       "898524                       1                       0                    0  \n",
       "898525                       0                       0                    0  \n",
       "\n",
       "[672510 rows x 7 columns]"
      ]
     },
     "execution_count": 175,
     "metadata": {},
     "output_type": "execute_result"
    }
   ],
   "source": [
    "df2  = pd.get_dummies(df2, columns=[\"stm_oorz_groep\"])\n",
    "df2"
   ]
  },
  {
   "cell_type": "markdown",
   "metadata": {},
   "source": [
    "Als laatst gaan we een data selectie uitvoeren op de df2 waar de reparatietijd tussen 15 inuten en 8 uren zit."
   ]
  },
  {
   "cell_type": "code",
   "execution_count": 176,
   "metadata": {},
   "outputs": [],
   "source": [
    "# Data selectie is een range is van 15 en 480.\n",
    "df2 = df2[(df2['reparatietijd'] >= 15) & (df2['reparatietijd'] <=  480)]"
   ]
  },
  {
   "cell_type": "code",
   "execution_count": 177,
   "metadata": {
    "scrolled": true
   },
   "outputs": [
    {
     "data": {
      "text/html": [
       "<div>\n",
       "<style scoped>\n",
       "    .dataframe tbody tr th:only-of-type {\n",
       "        vertical-align: middle;\n",
       "    }\n",
       "\n",
       "    .dataframe tbody tr th {\n",
       "        vertical-align: top;\n",
       "    }\n",
       "\n",
       "    .dataframe thead th {\n",
       "        text-align: right;\n",
       "    }\n",
       "</style>\n",
       "<table border=\"1\" class=\"dataframe\">\n",
       "  <thead>\n",
       "    <tr style=\"text-align: right;\">\n",
       "      <th></th>\n",
       "      <th>stm_oorz_code</th>\n",
       "      <th>stm_prioriteit</th>\n",
       "      <th>reparatietijd</th>\n",
       "      <th>stm_oorz_groep_ONR-DERD</th>\n",
       "      <th>stm_oorz_groep_ONR-RIB</th>\n",
       "      <th>stm_oorz_groep_TECHONV</th>\n",
       "      <th>stm_oorz_groep_WEER</th>\n",
       "    </tr>\n",
       "  </thead>\n",
       "  <tbody>\n",
       "    <tr>\n",
       "      <th>count</th>\n",
       "      <td>445793.000000</td>\n",
       "      <td>445793.000000</td>\n",
       "      <td>445793.000000</td>\n",
       "      <td>445793.000000</td>\n",
       "      <td>445793.000000</td>\n",
       "      <td>445793.000000</td>\n",
       "      <td>445793.000000</td>\n",
       "    </tr>\n",
       "    <tr>\n",
       "      <th>mean</th>\n",
       "      <td>197.680085</td>\n",
       "      <td>3.763749</td>\n",
       "      <td>79.612349</td>\n",
       "      <td>0.196392</td>\n",
       "      <td>0.102339</td>\n",
       "      <td>0.655134</td>\n",
       "      <td>0.046136</td>\n",
       "    </tr>\n",
       "    <tr>\n",
       "      <th>std</th>\n",
       "      <td>41.012273</td>\n",
       "      <td>1.365725</td>\n",
       "      <td>76.743582</td>\n",
       "      <td>0.397269</td>\n",
       "      <td>0.303094</td>\n",
       "      <td>0.475325</td>\n",
       "      <td>0.209779</td>\n",
       "    </tr>\n",
       "    <tr>\n",
       "      <th>min</th>\n",
       "      <td>130.000000</td>\n",
       "      <td>1.000000</td>\n",
       "      <td>15.000000</td>\n",
       "      <td>0.000000</td>\n",
       "      <td>0.000000</td>\n",
       "      <td>0.000000</td>\n",
       "      <td>0.000000</td>\n",
       "    </tr>\n",
       "    <tr>\n",
       "      <th>25%</th>\n",
       "      <td>151.000000</td>\n",
       "      <td>2.000000</td>\n",
       "      <td>30.000000</td>\n",
       "      <td>0.000000</td>\n",
       "      <td>0.000000</td>\n",
       "      <td>0.000000</td>\n",
       "      <td>0.000000</td>\n",
       "    </tr>\n",
       "    <tr>\n",
       "      <th>50%</th>\n",
       "      <td>215.000000</td>\n",
       "      <td>4.000000</td>\n",
       "      <td>53.000000</td>\n",
       "      <td>0.000000</td>\n",
       "      <td>0.000000</td>\n",
       "      <td>1.000000</td>\n",
       "      <td>0.000000</td>\n",
       "    </tr>\n",
       "    <tr>\n",
       "      <th>75%</th>\n",
       "      <td>221.000000</td>\n",
       "      <td>5.000000</td>\n",
       "      <td>99.000000</td>\n",
       "      <td>0.000000</td>\n",
       "      <td>0.000000</td>\n",
       "      <td>1.000000</td>\n",
       "      <td>0.000000</td>\n",
       "    </tr>\n",
       "    <tr>\n",
       "      <th>max</th>\n",
       "      <td>299.000000</td>\n",
       "      <td>9.000000</td>\n",
       "      <td>480.000000</td>\n",
       "      <td>1.000000</td>\n",
       "      <td>1.000000</td>\n",
       "      <td>1.000000</td>\n",
       "      <td>1.000000</td>\n",
       "    </tr>\n",
       "  </tbody>\n",
       "</table>\n",
       "</div>"
      ],
      "text/plain": [
       "       stm_oorz_code  stm_prioriteit  reparatietijd  stm_oorz_groep_ONR-DERD  \\\n",
       "count  445793.000000   445793.000000  445793.000000            445793.000000   \n",
       "mean      197.680085        3.763749      79.612349                 0.196392   \n",
       "std        41.012273        1.365725      76.743582                 0.397269   \n",
       "min       130.000000        1.000000      15.000000                 0.000000   \n",
       "25%       151.000000        2.000000      30.000000                 0.000000   \n",
       "50%       215.000000        4.000000      53.000000                 0.000000   \n",
       "75%       221.000000        5.000000      99.000000                 0.000000   \n",
       "max       299.000000        9.000000     480.000000                 1.000000   \n",
       "\n",
       "       stm_oorz_groep_ONR-RIB  stm_oorz_groep_TECHONV  stm_oorz_groep_WEER  \n",
       "count           445793.000000           445793.000000        445793.000000  \n",
       "mean                 0.102339                0.655134             0.046136  \n",
       "std                  0.303094                0.475325             0.209779  \n",
       "min                  0.000000                0.000000             0.000000  \n",
       "25%                  0.000000                0.000000             0.000000  \n",
       "50%                  0.000000                1.000000             0.000000  \n",
       "75%                  0.000000                1.000000             0.000000  \n",
       "max                  1.000000                1.000000             1.000000  "
      ]
     },
     "execution_count": 177,
     "metadata": {},
     "output_type": "execute_result"
    }
   ],
   "source": [
    "# nieuwe attributen van de df2 bekijken\n",
    "df2.describe()"
   ]
  },
  {
   "cell_type": "markdown",
   "metadata": {},
   "source": [
    "## Nieuw Baseline Model "
   ]
  },
  {
   "cell_type": "markdown",
   "metadata": {},
   "source": [
    "Er zal een nieuwe baseline model opesteld worden op base van de opgeschone data en de data selectie die we hadden gedaan."
   ]
  },
  {
   "cell_type": "code",
   "execution_count": 178,
   "metadata": {},
   "outputs": [
    {
     "data": {
      "text/plain": [
       "<matplotlib.axes._subplots.AxesSubplot at 0x16c40d698d0>"
      ]
     },
     "execution_count": 178,
     "metadata": {},
     "output_type": "execute_result"
    },
    {
     "data": {
      "image/png": "[encoded data removed]",
      "text/plain": [
       "<Figure size 432x288 with 1 Axes>"
      ]
     },
     "metadata": {
      "needs_background": "light"
     },
     "output_type": "display_data"
    }
   ],
   "source": [
    "#Nieuwe baseline model maken op bas evan de opgeschone data.\n",
    "# kopie van de data voor zekerheid\n",
    "df2_baseline = df2.copy()\n",
    "df2['reparatietijd'].plot.box()"
   ]
  },
  {
   "cell_type": "code",
   "execution_count": 181,
   "metadata": {},
   "outputs": [
    {
     "data": {
      "text/plain": [
       "81.22672708215703"
      ]
     },
     "execution_count": 181,
     "metadata": {},
     "output_type": "execute_result"
    }
   ],
   "source": [
    "baselinemodel(df2_baseline, 'reparatietijd')"
   ]
  },
  {
   "cell_type": "markdown",
   "metadata": {},
   "source": [
    "## Linear regression model "
   ]
  },
  {
   "cell_type": "code",
   "execution_count": 183,
   "metadata": {},
   "outputs": [],
   "source": [
    "from sklearn.model_selection import train_test_split\n",
    "# import model\n",
    "from sklearn.linear_model import LinearRegression"
   ]
  },
  {
   "cell_type": "code",
   "execution_count": 184,
   "metadata": {},
   "outputs": [],
   "source": [
    "def linearRegression(features, target):\n",
    "    x_train, x_test, y_train, y_test = train_test_split(features, target) # splitsen in traiining en testing dataset\n",
    "    # Geeft de dimensie van de opgesplitste datasets\n",
    "    print(x_train.shape)\n",
    "    print(y_train.shape)\n",
    "    print(x_test.shape)\n",
    "    print(y_test.shape)\n",
    "    linreg = LinearRegression()\n",
    "    #fit model \n",
    "    linreg.fit(x_train, y_train)\n",
    "    # Make prediction\n",
    "    y_pred = linreg.predict(x_test)\n",
    "    #Evaluate mbh van RMSE\n",
    "    lrscore = np.sqrt(mse(y_test, y_pred))\n",
    "    return lrscore\n"
   ]
  },
  {
   "cell_type": "code",
   "execution_count": 185,
   "metadata": {},
   "outputs": [],
   "source": [
    "#Data opsplitsen in features en target variabelen.\n",
    "features = df2[['stm_oorz_code', 'stm_prioriteit',\n",
    "       'stm_oorz_groep_ONR-DERD', 'stm_oorz_groep_ONR-RIB',\n",
    "       'stm_oorz_groep_TECHONV', 'stm_oorz_groep_WEER']]\n",
    "target = df2['reparatietijd']"
   ]
  },
  {
   "cell_type": "code",
   "execution_count": 191,
   "metadata": {},
   "outputs": [
    {
     "data": {
      "text/plain": [
       "75.92067059146554"
      ]
     },
     "execution_count": 191,
     "metadata": {},
     "output_type": "execute_result"
    }
   ],
   "source": [
    "linearRegression(features, target)"
   ]
  },
  {
   "cell_type": "code",
   "execution_count": 190,
   "metadata": {},
   "outputs": [
    {
     "data": {
      "text/plain": [
       "28.24131338244354"
      ]
     },
     "execution_count": 190,
     "metadata": {},
     "output_type": "execute_result"
    }
   ],
   "source": [
    "# Bereken de afwijking met de baseline model  in percentage\n",
    "((basescore - lrscore )/ basescore)*100 "
   ]
  },
  {
   "cell_type": "markdown",
   "metadata": {},
   "source": [
    "##### Conclusie:\n",
    "De score van onze Linear Regressie model is lager dan de score van de baseline model. <br>\n",
    "Er is een verbetering van relatief 28 %. Dit is best een groot verschil , dus we kunnen zeggen dat deze model  een redelijke model om   toe te paseen."
   ]
  },
  {
   "cell_type": "markdown",
   "metadata": {},
   "source": [
    "# Dashboard"
   ]
  },
  {
   "cell_type": "code",
   "execution_count": 48,
   "metadata": {},
   "outputs": [
    {
     "data": {
      "text/html": [
       "<div>\n",
       "<style scoped>\n",
       "    .dataframe tbody tr th:only-of-type {\n",
       "        vertical-align: middle;\n",
       "    }\n",
       "\n",
       "    .dataframe tbody tr th {\n",
       "        vertical-align: top;\n",
       "    }\n",
       "\n",
       "    .dataframe thead th {\n",
       "        text-align: right;\n",
       "    }\n",
       "</style>\n",
       "<table border=\"1\" class=\"dataframe\">\n",
       "  <thead>\n",
       "    <tr style=\"text-align: right;\">\n",
       "      <th></th>\n",
       "      <th>stm_oorz_groep_ONR-DERD</th>\n",
       "      <th>stm_oorz_groep_ONR-RIB</th>\n",
       "      <th>stm_oorz_groep_TECHONV</th>\n",
       "      <th>stm_oorz_groep_WEER</th>\n",
       "    </tr>\n",
       "  </thead>\n",
       "  <tbody>\n",
       "    <tr>\n",
       "      <th>2</th>\n",
       "      <td>1</td>\n",
       "      <td>0</td>\n",
       "      <td>0</td>\n",
       "      <td>0</td>\n",
       "    </tr>\n",
       "    <tr>\n",
       "      <th>3</th>\n",
       "      <td>1</td>\n",
       "      <td>0</td>\n",
       "      <td>0</td>\n",
       "      <td>0</td>\n",
       "    </tr>\n",
       "    <tr>\n",
       "      <th>7</th>\n",
       "      <td>1</td>\n",
       "      <td>0</td>\n",
       "      <td>0</td>\n",
       "      <td>0</td>\n",
       "    </tr>\n",
       "    <tr>\n",
       "      <th>8</th>\n",
       "      <td>1</td>\n",
       "      <td>0</td>\n",
       "      <td>0</td>\n",
       "      <td>0</td>\n",
       "    </tr>\n",
       "    <tr>\n",
       "      <th>11</th>\n",
       "      <td>1</td>\n",
       "      <td>0</td>\n",
       "      <td>0</td>\n",
       "      <td>0</td>\n",
       "    </tr>\n",
       "    <tr>\n",
       "      <th>13</th>\n",
       "      <td>1</td>\n",
       "      <td>0</td>\n",
       "      <td>0</td>\n",
       "      <td>0</td>\n",
       "    </tr>\n",
       "    <tr>\n",
       "      <th>15</th>\n",
       "      <td>0</td>\n",
       "      <td>0</td>\n",
       "      <td>1</td>\n",
       "      <td>0</td>\n",
       "    </tr>\n",
       "    <tr>\n",
       "      <th>16</th>\n",
       "      <td>0</td>\n",
       "      <td>0</td>\n",
       "      <td>0</td>\n",
       "      <td>1</td>\n",
       "    </tr>\n",
       "    <tr>\n",
       "      <th>18</th>\n",
       "      <td>1</td>\n",
       "      <td>0</td>\n",
       "      <td>0</td>\n",
       "      <td>0</td>\n",
       "    </tr>\n",
       "    <tr>\n",
       "      <th>19</th>\n",
       "      <td>1</td>\n",
       "      <td>0</td>\n",
       "      <td>0</td>\n",
       "      <td>0</td>\n",
       "    </tr>\n",
       "    <tr>\n",
       "      <th>22</th>\n",
       "      <td>1</td>\n",
       "      <td>0</td>\n",
       "      <td>0</td>\n",
       "      <td>0</td>\n",
       "    </tr>\n",
       "    <tr>\n",
       "      <th>24</th>\n",
       "      <td>1</td>\n",
       "      <td>0</td>\n",
       "      <td>0</td>\n",
       "      <td>0</td>\n",
       "    </tr>\n",
       "    <tr>\n",
       "      <th>25</th>\n",
       "      <td>1</td>\n",
       "      <td>0</td>\n",
       "      <td>0</td>\n",
       "      <td>0</td>\n",
       "    </tr>\n",
       "    <tr>\n",
       "      <th>28</th>\n",
       "      <td>1</td>\n",
       "      <td>0</td>\n",
       "      <td>0</td>\n",
       "      <td>0</td>\n",
       "    </tr>\n",
       "    <tr>\n",
       "      <th>29</th>\n",
       "      <td>1</td>\n",
       "      <td>0</td>\n",
       "      <td>0</td>\n",
       "      <td>0</td>\n",
       "    </tr>\n",
       "    <tr>\n",
       "      <th>30</th>\n",
       "      <td>1</td>\n",
       "      <td>0</td>\n",
       "      <td>0</td>\n",
       "      <td>0</td>\n",
       "    </tr>\n",
       "    <tr>\n",
       "      <th>31</th>\n",
       "      <td>1</td>\n",
       "      <td>0</td>\n",
       "      <td>0</td>\n",
       "      <td>0</td>\n",
       "    </tr>\n",
       "    <tr>\n",
       "      <th>32</th>\n",
       "      <td>1</td>\n",
       "      <td>0</td>\n",
       "      <td>0</td>\n",
       "      <td>0</td>\n",
       "    </tr>\n",
       "    <tr>\n",
       "      <th>33</th>\n",
       "      <td>0</td>\n",
       "      <td>1</td>\n",
       "      <td>0</td>\n",
       "      <td>0</td>\n",
       "    </tr>\n",
       "    <tr>\n",
       "      <th>35</th>\n",
       "      <td>1</td>\n",
       "      <td>0</td>\n",
       "      <td>0</td>\n",
       "      <td>0</td>\n",
       "    </tr>\n",
       "    <tr>\n",
       "      <th>38</th>\n",
       "      <td>1</td>\n",
       "      <td>0</td>\n",
       "      <td>0</td>\n",
       "      <td>0</td>\n",
       "    </tr>\n",
       "    <tr>\n",
       "      <th>39</th>\n",
       "      <td>1</td>\n",
       "      <td>0</td>\n",
       "      <td>0</td>\n",
       "      <td>0</td>\n",
       "    </tr>\n",
       "    <tr>\n",
       "      <th>41</th>\n",
       "      <td>1</td>\n",
       "      <td>0</td>\n",
       "      <td>0</td>\n",
       "      <td>0</td>\n",
       "    </tr>\n",
       "    <tr>\n",
       "      <th>47</th>\n",
       "      <td>1</td>\n",
       "      <td>0</td>\n",
       "      <td>0</td>\n",
       "      <td>0</td>\n",
       "    </tr>\n",
       "    <tr>\n",
       "      <th>49</th>\n",
       "      <td>1</td>\n",
       "      <td>0</td>\n",
       "      <td>0</td>\n",
       "      <td>0</td>\n",
       "    </tr>\n",
       "    <tr>\n",
       "      <th>50</th>\n",
       "      <td>1</td>\n",
       "      <td>0</td>\n",
       "      <td>0</td>\n",
       "      <td>0</td>\n",
       "    </tr>\n",
       "    <tr>\n",
       "      <th>52</th>\n",
       "      <td>1</td>\n",
       "      <td>0</td>\n",
       "      <td>0</td>\n",
       "      <td>0</td>\n",
       "    </tr>\n",
       "    <tr>\n",
       "      <th>53</th>\n",
       "      <td>1</td>\n",
       "      <td>0</td>\n",
       "      <td>0</td>\n",
       "      <td>0</td>\n",
       "    </tr>\n",
       "    <tr>\n",
       "      <th>54</th>\n",
       "      <td>1</td>\n",
       "      <td>0</td>\n",
       "      <td>0</td>\n",
       "      <td>0</td>\n",
       "    </tr>\n",
       "    <tr>\n",
       "      <th>55</th>\n",
       "      <td>1</td>\n",
       "      <td>0</td>\n",
       "      <td>0</td>\n",
       "      <td>0</td>\n",
       "    </tr>\n",
       "    <tr>\n",
       "      <th>...</th>\n",
       "      <td>...</td>\n",
       "      <td>...</td>\n",
       "      <td>...</td>\n",
       "      <td>...</td>\n",
       "    </tr>\n",
       "    <tr>\n",
       "      <th>898455</th>\n",
       "      <td>0</td>\n",
       "      <td>0</td>\n",
       "      <td>1</td>\n",
       "      <td>0</td>\n",
       "    </tr>\n",
       "    <tr>\n",
       "      <th>898462</th>\n",
       "      <td>1</td>\n",
       "      <td>0</td>\n",
       "      <td>0</td>\n",
       "      <td>0</td>\n",
       "    </tr>\n",
       "    <tr>\n",
       "      <th>898463</th>\n",
       "      <td>1</td>\n",
       "      <td>0</td>\n",
       "      <td>0</td>\n",
       "      <td>0</td>\n",
       "    </tr>\n",
       "    <tr>\n",
       "      <th>898464</th>\n",
       "      <td>0</td>\n",
       "      <td>0</td>\n",
       "      <td>1</td>\n",
       "      <td>0</td>\n",
       "    </tr>\n",
       "    <tr>\n",
       "      <th>898465</th>\n",
       "      <td>0</td>\n",
       "      <td>0</td>\n",
       "      <td>1</td>\n",
       "      <td>0</td>\n",
       "    </tr>\n",
       "    <tr>\n",
       "      <th>898472</th>\n",
       "      <td>1</td>\n",
       "      <td>0</td>\n",
       "      <td>0</td>\n",
       "      <td>0</td>\n",
       "    </tr>\n",
       "    <tr>\n",
       "      <th>898473</th>\n",
       "      <td>1</td>\n",
       "      <td>0</td>\n",
       "      <td>0</td>\n",
       "      <td>0</td>\n",
       "    </tr>\n",
       "    <tr>\n",
       "      <th>898474</th>\n",
       "      <td>1</td>\n",
       "      <td>0</td>\n",
       "      <td>0</td>\n",
       "      <td>0</td>\n",
       "    </tr>\n",
       "    <tr>\n",
       "      <th>898475</th>\n",
       "      <td>1</td>\n",
       "      <td>0</td>\n",
       "      <td>0</td>\n",
       "      <td>0</td>\n",
       "    </tr>\n",
       "    <tr>\n",
       "      <th>898485</th>\n",
       "      <td>0</td>\n",
       "      <td>0</td>\n",
       "      <td>1</td>\n",
       "      <td>0</td>\n",
       "    </tr>\n",
       "    <tr>\n",
       "      <th>898486</th>\n",
       "      <td>0</td>\n",
       "      <td>0</td>\n",
       "      <td>1</td>\n",
       "      <td>0</td>\n",
       "    </tr>\n",
       "    <tr>\n",
       "      <th>898487</th>\n",
       "      <td>0</td>\n",
       "      <td>0</td>\n",
       "      <td>1</td>\n",
       "      <td>0</td>\n",
       "    </tr>\n",
       "    <tr>\n",
       "      <th>898488</th>\n",
       "      <td>0</td>\n",
       "      <td>0</td>\n",
       "      <td>1</td>\n",
       "      <td>0</td>\n",
       "    </tr>\n",
       "    <tr>\n",
       "      <th>898492</th>\n",
       "      <td>0</td>\n",
       "      <td>0</td>\n",
       "      <td>1</td>\n",
       "      <td>0</td>\n",
       "    </tr>\n",
       "    <tr>\n",
       "      <th>898493</th>\n",
       "      <td>0</td>\n",
       "      <td>0</td>\n",
       "      <td>1</td>\n",
       "      <td>0</td>\n",
       "    </tr>\n",
       "    <tr>\n",
       "      <th>898494</th>\n",
       "      <td>1</td>\n",
       "      <td>0</td>\n",
       "      <td>0</td>\n",
       "      <td>0</td>\n",
       "    </tr>\n",
       "    <tr>\n",
       "      <th>898495</th>\n",
       "      <td>1</td>\n",
       "      <td>0</td>\n",
       "      <td>0</td>\n",
       "      <td>0</td>\n",
       "    </tr>\n",
       "    <tr>\n",
       "      <th>898496</th>\n",
       "      <td>1</td>\n",
       "      <td>0</td>\n",
       "      <td>0</td>\n",
       "      <td>0</td>\n",
       "    </tr>\n",
       "    <tr>\n",
       "      <th>898506</th>\n",
       "      <td>0</td>\n",
       "      <td>0</td>\n",
       "      <td>1</td>\n",
       "      <td>0</td>\n",
       "    </tr>\n",
       "    <tr>\n",
       "      <th>898507</th>\n",
       "      <td>0</td>\n",
       "      <td>0</td>\n",
       "      <td>1</td>\n",
       "      <td>0</td>\n",
       "    </tr>\n",
       "    <tr>\n",
       "      <th>898508</th>\n",
       "      <td>0</td>\n",
       "      <td>0</td>\n",
       "      <td>1</td>\n",
       "      <td>0</td>\n",
       "    </tr>\n",
       "    <tr>\n",
       "      <th>898509</th>\n",
       "      <td>0</td>\n",
       "      <td>0</td>\n",
       "      <td>1</td>\n",
       "      <td>0</td>\n",
       "    </tr>\n",
       "    <tr>\n",
       "      <th>898518</th>\n",
       "      <td>0</td>\n",
       "      <td>0</td>\n",
       "      <td>1</td>\n",
       "      <td>0</td>\n",
       "    </tr>\n",
       "    <tr>\n",
       "      <th>898519</th>\n",
       "      <td>0</td>\n",
       "      <td>0</td>\n",
       "      <td>1</td>\n",
       "      <td>0</td>\n",
       "    </tr>\n",
       "    <tr>\n",
       "      <th>898520</th>\n",
       "      <td>0</td>\n",
       "      <td>0</td>\n",
       "      <td>1</td>\n",
       "      <td>0</td>\n",
       "    </tr>\n",
       "    <tr>\n",
       "      <th>898521</th>\n",
       "      <td>0</td>\n",
       "      <td>0</td>\n",
       "      <td>1</td>\n",
       "      <td>0</td>\n",
       "    </tr>\n",
       "    <tr>\n",
       "      <th>898522</th>\n",
       "      <td>0</td>\n",
       "      <td>0</td>\n",
       "      <td>1</td>\n",
       "      <td>0</td>\n",
       "    </tr>\n",
       "    <tr>\n",
       "      <th>898523</th>\n",
       "      <td>0</td>\n",
       "      <td>0</td>\n",
       "      <td>1</td>\n",
       "      <td>0</td>\n",
       "    </tr>\n",
       "    <tr>\n",
       "      <th>898524</th>\n",
       "      <td>0</td>\n",
       "      <td>1</td>\n",
       "      <td>0</td>\n",
       "      <td>0</td>\n",
       "    </tr>\n",
       "    <tr>\n",
       "      <th>898525</th>\n",
       "      <td>1</td>\n",
       "      <td>0</td>\n",
       "      <td>0</td>\n",
       "      <td>0</td>\n",
       "    </tr>\n",
       "  </tbody>\n",
       "</table>\n",
       "<p>487082 rows × 4 columns</p>\n",
       "</div>"
      ],
      "text/plain": [
       "        stm_oorz_groep_ONR-DERD  stm_oorz_groep_ONR-RIB  \\\n",
       "2                             1                       0   \n",
       "3                             1                       0   \n",
       "7                             1                       0   \n",
       "8                             1                       0   \n",
       "11                            1                       0   \n",
       "13                            1                       0   \n",
       "15                            0                       0   \n",
       "16                            0                       0   \n",
       "18                            1                       0   \n",
       "19                            1                       0   \n",
       "22                            1                       0   \n",
       "24                            1                       0   \n",
       "25                            1                       0   \n",
       "28                            1                       0   \n",
       "29                            1                       0   \n",
       "30                            1                       0   \n",
       "31                            1                       0   \n",
       "32                            1                       0   \n",
       "33                            0                       1   \n",
       "35                            1                       0   \n",
       "38                            1                       0   \n",
       "39                            1                       0   \n",
       "41                            1                       0   \n",
       "47                            1                       0   \n",
       "49                            1                       0   \n",
       "50                            1                       0   \n",
       "52                            1                       0   \n",
       "53                            1                       0   \n",
       "54                            1                       0   \n",
       "55                            1                       0   \n",
       "...                         ...                     ...   \n",
       "898455                        0                       0   \n",
       "898462                        1                       0   \n",
       "898463                        1                       0   \n",
       "898464                        0                       0   \n",
       "898465                        0                       0   \n",
       "898472                        1                       0   \n",
       "898473                        1                       0   \n",
       "898474                        1                       0   \n",
       "898475                        1                       0   \n",
       "898485                        0                       0   \n",
       "898486                        0                       0   \n",
       "898487                        0                       0   \n",
       "898488                        0                       0   \n",
       "898492                        0                       0   \n",
       "898493                        0                       0   \n",
       "898494                        1                       0   \n",
       "898495                        1                       0   \n",
       "898496                        1                       0   \n",
       "898506                        0                       0   \n",
       "898507                        0                       0   \n",
       "898508                        0                       0   \n",
       "898509                        0                       0   \n",
       "898518                        0                       0   \n",
       "898519                        0                       0   \n",
       "898520                        0                       0   \n",
       "898521                        0                       0   \n",
       "898522                        0                       0   \n",
       "898523                        0                       0   \n",
       "898524                        0                       1   \n",
       "898525                        1                       0   \n",
       "\n",
       "        stm_oorz_groep_TECHONV  stm_oorz_groep_WEER  \n",
       "2                            0                    0  \n",
       "3                            0                    0  \n",
       "7                            0                    0  \n",
       "8                            0                    0  \n",
       "11                           0                    0  \n",
       "13                           0                    0  \n",
       "15                           1                    0  \n",
       "16                           0                    1  \n",
       "18                           0                    0  \n",
       "19                           0                    0  \n",
       "22                           0                    0  \n",
       "24                           0                    0  \n",
       "25                           0                    0  \n",
       "28                           0                    0  \n",
       "29                           0                    0  \n",
       "30                           0                    0  \n",
       "31                           0                    0  \n",
       "32                           0                    0  \n",
       "33                           0                    0  \n",
       "35                           0                    0  \n",
       "38                           0                    0  \n",
       "39                           0                    0  \n",
       "41                           0                    0  \n",
       "47                           0                    0  \n",
       "49                           0                    0  \n",
       "50                           0                    0  \n",
       "52                           0                    0  \n",
       "53                           0                    0  \n",
       "54                           0                    0  \n",
       "55                           0                    0  \n",
       "...                        ...                  ...  \n",
       "898455                       1                    0  \n",
       "898462                       0                    0  \n",
       "898463                       0                    0  \n",
       "898464                       1                    0  \n",
       "898465                       1                    0  \n",
       "898472                       0                    0  \n",
       "898473                       0                    0  \n",
       "898474                       0                    0  \n",
       "898475                       0                    0  \n",
       "898485                       1                    0  \n",
       "898486                       1                    0  \n",
       "898487                       1                    0  \n",
       "898488                       1                    0  \n",
       "898492                       1                    0  \n",
       "898493                       1                    0  \n",
       "898494                       0                    0  \n",
       "898495                       0                    0  \n",
       "898496                       0                    0  \n",
       "898506                       1                    0  \n",
       "898507                       1                    0  \n",
       "898508                       1                    0  \n",
       "898509                       1                    0  \n",
       "898518                       1                    0  \n",
       "898519                       1                    0  \n",
       "898520                       1                    0  \n",
       "898521                       1                    0  \n",
       "898522                       1                    0  \n",
       "898523                       1                    0  \n",
       "898524                       0                    0  \n",
       "898525                       0                    0  \n",
       "\n",
       "[487082 rows x 4 columns]"
      ]
     },
     "execution_count": 48,
     "metadata": {},
     "output_type": "execute_result"
    }
   ],
   "source": [
    "pd.get_dummies(df2, 'ONR-RIB')[['stm_oorz_groep_ONR-DERD', 'stm_oorz_groep_ONR-RIB', 'stm_oorz_groep_TECHONV', 'stm_oorz_groep_WEER']]"
   ]
  },
  {
   "cell_type": "code",
   "execution_count": 49,
   "metadata": {},
   "outputs": [
    {
     "ename": "SyntaxError",
     "evalue": "Missing parentheses in call to 'print'. Did you mean print(iuhsdf)? (<ipython-input-49-06734bec72b8>, line 1)",
     "output_type": "error",
     "traceback": [
      "\u001b[1;36m  File \u001b[1;32m\"<ipython-input-49-06734bec72b8>\"\u001b[1;36m, line \u001b[1;32m1\u001b[0m\n\u001b[1;33m    print iuhsdf\u001b[0m\n\u001b[1;37m               ^\u001b[0m\n\u001b[1;31mSyntaxError\u001b[0m\u001b[1;31m:\u001b[0m Missing parentheses in call to 'print'. Did you mean print(iuhsdf)?\n"
     ]
    }
   ],
   "source": [
    "print iuhsdf\n",
    "# This is for your own good"
   ]
  },
  {
   "cell_type": "code",
   "execution_count": null,
   "metadata": {},
   "outputs": [],
   "source": []
  },
  {
   "cell_type": "code",
   "execution_count": null,
   "metadata": {},
   "outputs": [],
   "source": [
    "from tkinter import *\n",
    "from tkinter import ttk\n",
    "from datetime import datetime\n",
    "import scipy.stats as st\n",
    "import math\n",
    "\n",
    "\n",
    "def get_predict(code, groep, prioriteit): #voorspeld de hersteltijd aan de hand van de code, groep en prioriteit\n",
    "    if groep == 'ONR-DERD':\n",
    "        result = str(linreg.predict(np.array([code, prioriteit, 1, 0, 0, 0]).reshape(1, -1)))\n",
    "        result = result.replace('[', '')\n",
    "        result = result.replace(']', '')\n",
    "        return float(result)\n",
    "    elif groep == 'ONR-RIB':\n",
    "        result = str(linreg.predict(np.array([code, prioriteit, 0, 1, 0, 0]).reshape(1, -1)))\n",
    "        result = result.replace('[', '')\n",
    "        result = result.replace(']', '')\n",
    "        return float(result)\n",
    "    elif groep == 'TECHONV':\n",
    "        result = str(linreg.predict(np.array([code, prioriteit, 0, 0, 1, 0]).reshape(1, -1)))\n",
    "        result = result.replace('[', '')\n",
    "        result = result.replace(']', '')\n",
    "        return float(result)\n",
    "    elif groep == 'WEER':\n",
    "        result = str(linreg.predict(np.array([code, prioriteit, 0, 0, 0, 1]).reshape(1, -1)))\n",
    "        result = result.replace('[', '')\n",
    "        result = result.replace(']', '')\n",
    "        return float(result)\n",
    "\n",
    "def get_accuracy(value): #berekend de betrouwbaarheid van de voorspelde tijd met een z-toets\n",
    "    u = df2['stm_fh_duur'].mean()\n",
    "    s = df2['stm_fh_duur'].std()\n",
    "    ox = s / math.sqrt(1)\n",
    "    z_toets = (value - u) / ox\n",
    "    p_waarde = st.norm.cdf(z_toets)\n",
    "    return p_waarde*100\n",
    "\n",
    "def get_color(percent): #geeft de kleurnaam aan de hand van het percentage\n",
    "    if 0 < percent < 21:\n",
    "        return 'red'\n",
    "    elif 20 < percent < 41:\n",
    "        return 'orange'\n",
    "    elif 40 < percent < 61:\n",
    "        return 'yellow'\n",
    "    elif 60 < percent < 81:\n",
    "        return 'OliveDrab1'\n",
    "    elif 80 < percent < 101:\n",
    "        return 'green2'\n",
    "    else:\n",
    "        return 'blue'\n",
    "    \n",
    "\n",
    "def get_input(): # Functie die de invoer van de comboboxen verwerkt en in de treeview zet\n",
    "    # Waardes uit de comboboxen halen\n",
    "    code = e1.get()\n",
    "    groep = e2.get()\n",
    "    prioriteit = e3.get()\n",
    "    # check of alle velden zijn ingevult voor dat hij het verwerkt\n",
    "    if code != \"\" and groep != \"\" and prioriteit != \"\":\n",
    "        # voorspelt de hersteltijd, berekend de betouwbaarheid en haalt de kleur van de regel op\n",
    "        prediction = get_predict(int(code), groep, int(prioriteit))\n",
    "        trust = get_accuracy(prediction)\n",
    "        color = get_color(trust)\n",
    "        # voegt alle waardes aan de treeview toe met een tijd van toevoeging\n",
    "        tree.insert(\"\", END, values=(code, groep, prioriteit, round(prediction, 2), round(trust, 2), datetime.now().strftime(\"%d-%m-%Y %H:%M\")), tags=color)\n",
    "        \n",
    "        # reset de comboboxen\n",
    "        e1.set('')\n",
    "        e2.set('')\n",
    "        e3.set('')\n",
    "\n",
    "\n",
    "def remove(): #Functie die de geselecteerde row uit de treeview verwijderd\n",
    "    if tree.selection():\n",
    "        tree.delete(tree.selection())\n",
    "        \n",
    "        \n",
    "def treeview_sort_column(tree, col, reverse): #Functie die rows sort op de column\n",
    "    # kijkt of de waardes ints zijn of niet, haalt de waardes op en sorteert ze\n",
    "    # van laag naar hoog of hoog naar laag\n",
    "    try:\n",
    "        l = [(int(tree.set(k, col)), k) for k in tree.get_children('')]\n",
    "    except Exception:\n",
    "        l = [(tree.set(k, col), k) for k in tree.get_children('')]\n",
    "    l.sort(reverse=reverse)\n",
    "\n",
    "    # Zet de waardes terug in de treeview\n",
    "    for index, (val, k) in enumerate(l):\n",
    "        tree.move(k, '', index)\n",
    "\n",
    "    # Zorgt ervoor dat de volgende sort het tegenovergestelde doet\n",
    "    tree.heading(col, command=lambda _col=col: treeview_sort_column(tree, _col, not reverse))\n",
    "    \n",
    "\n",
    "def handle_click(event): #Functie die aanpassen van de column breedte voorkomt\n",
    "    if tree.identify_region(event.x, event.y) == \"separator\":\n",
    "        return \"break\"\n",
    "    \n",
    "    \n",
    "def deselect(event): # functie die het deselecteren van rows mogelijk maakt\n",
    "    selection = tree.selection()\n",
    "    item = tree.identify('item', event.x, event.y)\n",
    "    if item in selection:\n",
    "        tree.selection_remove(item)\n",
    "        return \"break\"\n",
    "\n",
    "# initialiseren root, frame en labels\n",
    "master = Tk()\n",
    "frame = Frame(master, background='red', borderwidth=4, relief='raised')\n",
    "Label(frame, text=\"Oorzaakscode\", width=12).grid(row=0)\n",
    "Label(frame, text=\"Oorzaaksgroep\", width=12).grid(row=1)\n",
    "Label(frame, text=\"Prioriteit\", width=12).grid(row=2)\n",
    "\n",
    "#combobox voor de oorzaakscode\n",
    "e1 = ttk.Combobox(frame,\n",
    "                  state=\"readonly\",\n",
    "                  values=[130, 131, 132, 133, 134, 135, 136, 140, 141,\n",
    "                        142, 143, 144, 145, 146, 147, 148, 149, 150,\n",
    "                        151, 152, 153, 154, 181, 182, 183, 184, 185,\n",
    "                        186, 187, 188, 189, 201, 202, 203, 204, 205,\n",
    "                        206, 207, 208, 209, 210, 211, 212, 213, 214,\n",
    "                        215, 218, 219, 220, 221, 222, 223, 224, 225,\n",
    "                        226, 227, 228, 229, 230, 231, 233, 234, 235,\n",
    "                        239, 240, 241, 242, 250, 294, 298, 299])\n",
    "#combobox voor de oorzaaksgroep\n",
    "e2 = ttk.Combobox(frame, state=\"readonly\", values=['ONR-RIB', 'ONR-DERD', 'TECHONV', 'WEER'])\n",
    "#combobox voor de prioriteit\n",
    "e3 = ttk.Combobox(frame, state=\"readonly\", values=[1, 2, 3, 4, 5, 6, 7, 8, 9, 10])\n",
    "#button voor het invoeren van de comboboxen in de treeview\n",
    "b = Button(frame, width=12, text=\"print\", command=get_input)\n",
    "\n",
    "#treeview aanmaken\n",
    "tree = ttk.Treeview(master)\n",
    "\n",
    "#button voor selectie uit de treeview halen\n",
    "btn = Button(master, text=\"delete\", command=remove)\n",
    "\n",
    "#code om lettertype van heading in treeview te vergroten\n",
    "style = ttk.Style()\n",
    "style.configure(\"Treeview.Heading\", font=(None, 13))\n",
    "\n",
    "# columns in treeview aanmaken\n",
    "tree[\"columns\"] = [\"Oorzaakscode\", \"Oorzaaksgroep\", \"Prioriteit\", \"Voorspeltijd (min)\", \"Trust (%)\", \"Toevoegdatum\"]\n",
    "tree[\"show\"] = \"headings\"\n",
    "tree.heading(\"Oorzaakscode\", text=\"Oorzaakscode\", command=lambda col=\"Oorzaakscode\": treeview_sort_column(tree, col, False))\n",
    "tree.column(\"Oorzaakscode\", minwidth=0, width=100)\n",
    "tree.heading(\"Oorzaaksgroep\", text=\"Oorzaaksgroep\", command=lambda col=\"Oorzaaksgroep\": treeview_sort_column(tree, col, False))\n",
    "tree.column(\"Oorzaaksgroep\", minwidth=0, width=100)\n",
    "tree.heading(\"Prioriteit\", text=\"Prioriteit\", command=lambda col=\"Prioriteit\": treeview_sort_column(tree, col, False))\n",
    "tree.column(\"Prioriteit\", minwidth=0, width=100)\n",
    "tree.heading(\"Voorspeltijd (min)\", text=\"Voorspeltijd (min)\", command=lambda col=\"Voorspeltijd (min)\": treeview_sort_column(tree, col, False))\n",
    "tree.column(\"Voorspeltijd (min)\", minwidth=0, width=150)\n",
    "tree.heading(\"Trust (%)\", text=\"Trust (%)\", command=lambda col=\"Trust (%)\": treeview_sort_column(tree, col, False))\n",
    "tree.column(\"Trust (%)\", minwidth=0, width=100)\n",
    "tree.heading(\"Toevoegdatum\", text=\"Toevoegdatum\", command=lambda col=\"Toevoegdatum\": treeview_sort_column(tree, col, False))\n",
    "tree.column(\"Toevoegdatum\", minwidth=0, width=150)\n",
    "\n",
    "# Tags voor kleuren van rows in treeview\n",
    "tree.tag_configure('red', background='red')\n",
    "tree.tag_configure('orange', background='orange')\n",
    "tree.tag_configure('yellow', background='yellow')\n",
    "tree.tag_configure('OliveDrab1', background='OliveDrab1')\n",
    "tree.tag_configure('green2', background='green2')\n",
    "tree.tag_configure('blue', background='blue')\n",
    "\n",
    "\n",
    "#code om de functie voor aanpassen van columnbreedte aan de linkermuistoets te koppelen\n",
    "tree.bind('<Button-1>', handle_click)\n",
    "\n",
    "#code om de functie voor deselecteren rows aan rechtermuistoets te koppelen\n",
    "tree.bind(\"<2>\",deselect)\n",
    "\n",
    "#locaties in grids\n",
    "frame.grid(row=0, column=0, rowspan=8, columnspan=2, sticky=NSEW)\n",
    "e1.grid(row=0, column=1, padx=5, pady=5)\n",
    "e2.grid(row=1, column=1, padx=5, pady=5)\n",
    "e3.grid(row=2, column=1, padx=5, pady=5)\n",
    "b.grid(row=3, padx=5, pady=25)\n",
    "tree.grid(row=0, column=2, rowspan=8, columnspan=2)\n",
    "btn.grid(row=10, column=3)\n",
    "\n",
    "#grootte window\n",
    "master.geometry('1075x300')\n",
    "master.resizable(False, False)\n",
    "\n",
    "mainloop()"
   ]
  },
  {
   "cell_type": "markdown",
   "metadata": {},
   "source": [
    "# Adviesrapport"
   ]
  },
  {
   "cell_type": "markdown",
   "metadata": {},
   "source": [
    "## Context"
   ]
  },
  {
   "cell_type": "markdown",
   "metadata": {},
   "source": [
    "### Stakeholders en Doelstellingen van het project."
   ]
  },
  {
   "cell_type": "markdown",
   "metadata": {},
   "source": [
    " <img src=\"stakeholder_requirements.png\" > "
   ]
  },
  {
   "cell_type": "markdown",
   "metadata": {},
   "source": [
    "### Beschrijving huidige en gewenste situatie\n",
    "\n",
    "#### Huidige situatie\n",
    "<img src=\"Huidige_situatie.png\">\n",
    "<br>\n",
    "De huidige situatie ziet er als volgt uit. Het probleem wordt gemeld bij Prorail. Er wordt een initiële indicatie gegeven van hoe lang het naar verwachting gaat duren voordat het probleem is opgelost en dit wordt doorgegeven aan de treinplanners. De reizigers worden ingelicht op basis van deze informatie plus de tijd dat het kost om de dienstregeling te herstarten.\n",
    "Als de monteur op locatie is, de oorzaak gevonden heeft en tot slot de verwachte, vaak veel te pessimistische, reparatietijd heeft doorgegeven aan de treinplanners. Dan beginnen de voorbereidingen van de planners pas om de dienstregeling daadwerkelijk te herstarten. Het grootste knelpunt hier is de prognose van de aannemer want die is vaak te pessimistisch waardoor de reparatie vaak eerder klaar is dan waar de planners op gerekend hebben. Hierdoor blijft het treinverkeer voor een lange tijd onnodig stil liggen. Een verbeter punt is dus de prognose, deze moet transparant en betrouwbaar zijn. Daarom willen wij een voorspelling van de verwachte reparatietijd toevoegen. Prorail kan dan een voorspelling maken op basis van de prognose en onze engine.\n",
    "\n",
    "\n",
    "\n",
    "#### Gewenste situatie\n",
    "<img src=\"Gewenste_situatie.png\">\n",
    "<br>\n",
    "De doelstelling die behaald moet worden om bij deze gewenste situatie te komen is het ontwikkelen van een engine die een accurate voorspelling weergeeft en makkelijk te gebruiken is. Op deze manier              kunnen de treinplanners werken met accurate informatie.\n",
    "De eerste niet-functionele eis is dat de voorspelling objectief moet zijn. Als tweede moet de betrouwbaarheid van de voorspelling berekent worden. De eerste functionele requirement is dat de prognose en de features ingevoerd moeten kunnen worden. Ten tweede is het belangrijk dat er zo min mogelijk clicks zijn. Overzichtelijkheid is erg belangrijk want er is stres tijdens een storing. Daarom is de laatste functionele requirement, houd het simpel.\n",
    "De gewenste situatie ziet er als volgt uit, het probleem wordt gemeld bij Prorail. Daarna wordt een initiële indicatie gegeven van hoe lang het naar verwachting gaat duren voordat het probleem is opgelost. Deze informatie wordt door gegeven aan de treinplanners. Zij lichten dan de reizigers in op basis van deze informatie en de tijd dat het kost om de dienstregeling te herstarten erbij opgeteld. Als de monteur op locatie is en de oorzaak gevonden heeft kan hij de prognose en extra informatie doorgeven aan Prorail. Tot nu toe (oorzaak code, oorzaak groep en prioriteit). Dit is waar onze ICT-oplossing aan te pas komt en het knelpunt wordt opgelost. Prorail bekijkt dan de prognose en de objectieve voorspelling die de dashboard weergeeft en maakt een gecombineerde voorspelling. De treinplanners krijgen dan een betere voorspelling waardoor ze beginnen met de voorbereidingen.\n",
    "\n"
   ]
  },
  {
   "cell_type": "code",
   "execution_count": null,
   "metadata": {},
   "outputs": [],
   "source": []
  }
 ],
 "metadata": {
  "kernelspec": {
   "display_name": "Python 3",
   "language": "python",
   "name": "python3"
  },
  "language_info": {
   "codemirror_mode": {
    "name": "ipython",
    "version": 3
   },
   "file_extension": ".py",
   "mimetype": "text/x-python",
   "name": "python",
   "nbconvert_exporter": "python",
   "pygments_lexer": "ipython3",
   "version": "3.7.3"
  }
 },
 "nbformat": 4,
 "nbformat_minor": 4
}
