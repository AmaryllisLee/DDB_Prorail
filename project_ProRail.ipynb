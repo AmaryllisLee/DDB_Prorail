{
 "cells": [
  {
   "cell_type": "markdown",
   "metadata": {},
   "source": [
    "# Project ProRail "
   ]
  },
  {
   "cell_type": "code",
   "execution_count": 1,
   "metadata": {},
   "outputs": [],
   "source": [
    "# libraries importeren \n",
    "import pandas as pd\n",
    "import numpy as np\n",
    "from sklearn.metrics import mean_squared_error\n",
    "import matplotlib.pyplot as plt\n",
    "%matplotlib inline"
   ]
  },
  {
   "cell_type": "code",
   "execution_count": 2,
   "metadata": {},
   "outputs": [],
   "source": [
    "# dataset inlezen \n",
    "df = pd.read_csv('sap_storing_data_hu_project.csv', low_memory=False)"
   ]
  },
  {
   "cell_type": "code",
   "execution_count": 3,
   "metadata": {},
   "outputs": [],
   "source": [
    "# Alle kolommen die niet van toepassing zijn worden verwijdert.\n",
    "df = df.drop(['stm_sap_mon_meld_ddt', 'stm_mon_begin_ddt', 'stm_mon_toelichting_trdl', 'stm_oh_pg_mld', \n",
    "         'stm_scenario_mon', 'stm_mon_nr_status_omschr', 'stm_mon_nr__statuscode', 'stm_mon_nr_status_wijzdd', \n",
    "         'stm_aanntpl_ddt', 'stm_objectdl_code_gst', 'stm_objectdl_groep_gst', 'stm_progfh_in_ddt', \n",
    "         'stm_progfh_in_invoer_ddt', 'stm_progfh_gw_ddt', 'stm_progfh_gw_lwd_ddt', 'stm_progfh_hz', \n",
    "         'stm_veroorz_groep', 'stm_veroorz_code', 'stm_veroorz_tekst_kort', 'stm_effect', 'stm_afspr_aanvangddt', \n",
    "         'stm_mon_eind_ddt', 'stm_mon_vhdsincident', 'stm_dir_betrok_tr', 'stm_aangelegd_dd', 'stm_aangelegd_tijd',\n",
    "         'stm_mon_begindatum', 'stm_mon_begintijd', 'stm_progfh_gw_datum', 'stm_mon_eind_datum',\n",
    "         'stm_mon_eind_tijd', 'stm_controle_dd', 'stm_akkoord_mon_toewijz', 'stm_status_sapnaarmon',\n",
    "         'stm_fact_jn', 'stm_akkoord_melding_jn', 'stm_afsluit_ddt', 'stm_afsluit_dd', 'stm_afsluit_tijd',\n",
    "         'stm_rec_toegev_ddt', 'stm_hinderwaarde', 'stm_actie', 'stm_standplaats', 'stm_status_gebr',\n",
    "         'stm_wbi_nummer', 'stm_projnr', 'stm_historie_toelichting', 'stm_schade_verhaalb_jn', 'stm_schadenr',\n",
    "         'stm_schade_status_ga', 'stm_schade_statusdatum', 'stm_relatiervo_vorig', 'stm_relatiervo_volgend',\n",
    "         'stm_relatiervo', 'stm_afspr_func_hersteldd', 'stm_afspr_func_hersteltijd', 'stm_sorteerveld',\n",
    "         'stm_rapportage_maand', 'stm_rapportage_jaar', 'stm_x_bron_publ_dt', 'stm_x_bron_bestandsnaam',\n",
    "         'stm_x_bron_arch_dt', 'stm_x_actueel_ind', 'stm_x_run_id', 'stm_x_bk', 'stm_x_start_sessie_dt',\n",
    "         'stm_x_vervallen_ind'], axis='columns')"
   ]
  },
  {
   "cell_type": "code",
   "execution_count": 4,
   "metadata": {
    "scrolled": false
   },
   "outputs": [
    {
     "data": {
      "text/html": [
       "<div>\n",
       "<style scoped>\n",
       "    .dataframe tbody tr th:only-of-type {\n",
       "        vertical-align: middle;\n",
       "    }\n",
       "\n",
       "    .dataframe tbody tr th {\n",
       "        vertical-align: top;\n",
       "    }\n",
       "\n",
       "    .dataframe thead th {\n",
       "        text-align: right;\n",
       "    }\n",
       "</style>\n",
       "<table border=\"1\" class=\"dataframe\">\n",
       "  <thead>\n",
       "    <tr style=\"text-align: right;\">\n",
       "      <th></th>\n",
       "      <th>Unnamed: 0</th>\n",
       "      <th>#stm_sap_meldnr</th>\n",
       "      <th>stm_mon_nr</th>\n",
       "      <th>stm_vl_post</th>\n",
       "      <th>stm_sap_meld_ddt</th>\n",
       "      <th>stm_sap_meldtekst_lang</th>\n",
       "      <th>stm_sap_meldtekst</th>\n",
       "      <th>stm_geo_mld</th>\n",
       "      <th>stm_geo_mld_uit_functiepl</th>\n",
       "      <th>stm_equipm_nr_mld</th>\n",
       "      <th>...</th>\n",
       "      <th>stm_fh_tijd</th>\n",
       "      <th>stm_fh_duur</th>\n",
       "      <th>stm_reactie_duur</th>\n",
       "      <th>stm_sap_storeinddatum</th>\n",
       "      <th>stm_sap_storeindtijd</th>\n",
       "      <th>stm_oorz_tekst_kort</th>\n",
       "      <th>stm_pplg_van</th>\n",
       "      <th>stm_pplg_naar</th>\n",
       "      <th>stm_dstrglp_van</th>\n",
       "      <th>stm_dstrglp_naar</th>\n",
       "    </tr>\n",
       "  </thead>\n",
       "  <tbody>\n",
       "    <tr>\n",
       "      <th>0</th>\n",
       "      <td>0</td>\n",
       "      <td>0</td>\n",
       "      <td>NaN</td>\n",
       "      <td>NaN</td>\n",
       "      <td>NaN</td>\n",
       "      <td>NaN</td>\n",
       "      <td>NaN</td>\n",
       "      <td>NaN</td>\n",
       "      <td>NaN</td>\n",
       "      <td>NaN</td>\n",
       "      <td>...</td>\n",
       "      <td>NaN</td>\n",
       "      <td>NaN</td>\n",
       "      <td>NaN</td>\n",
       "      <td>NaN</td>\n",
       "      <td>NaN</td>\n",
       "      <td>NaN</td>\n",
       "      <td>NaN</td>\n",
       "      <td>NaN</td>\n",
       "      <td>NaN</td>\n",
       "      <td>NaN</td>\n",
       "    </tr>\n",
       "    <tr>\n",
       "      <th>1</th>\n",
       "      <td>1</td>\n",
       "      <td>50053211</td>\n",
       "      <td>0.0</td>\n",
       "      <td>NaN</td>\n",
       "      <td>02/01/2006 09:00:00</td>\n",
       "      <td>Logboeknr  Geeltje  :   49 Tijd: 0900   VL-Po...</td>\n",
       "      <td>Logboeknr  Geeltje  :   49 Tijd: 0900</td>\n",
       "      <td>624.0</td>\n",
       "      <td>624.0</td>\n",
       "      <td>NaN</td>\n",
       "      <td>...</td>\n",
       "      <td>09:00:00</td>\n",
       "      <td>0.0</td>\n",
       "      <td>99999999.0</td>\n",
       "      <td>02/01/2006</td>\n",
       "      <td>09:00:00</td>\n",
       "      <td>NaN</td>\n",
       "      <td>NaN</td>\n",
       "      <td>NaN</td>\n",
       "      <td>NaN</td>\n",
       "      <td>NaN</td>\n",
       "    </tr>\n",
       "    <tr>\n",
       "      <th>2</th>\n",
       "      <td>2</td>\n",
       "      <td>50053213</td>\n",
       "      <td>48.0</td>\n",
       "      <td>GN</td>\n",
       "      <td>02/01/2006 12:35:00</td>\n",
       "      <td>Logboeknr  RBV  :   48 Tijd: 1235   VL-Post: ...</td>\n",
       "      <td>Logboeknr  RBV  :   48 Tijd: 1235   VL-P</td>\n",
       "      <td>201.0</td>\n",
       "      <td>201.0</td>\n",
       "      <td>NaN</td>\n",
       "      <td>...</td>\n",
       "      <td>13:26:00</td>\n",
       "      <td>51.0</td>\n",
       "      <td>99999999.0</td>\n",
       "      <td>02/01/2006</td>\n",
       "      <td>13:26:00</td>\n",
       "      <td>schapen op de spoorbaan!</td>\n",
       "      <td>NaN</td>\n",
       "      <td>NaN</td>\n",
       "      <td>Lp</td>\n",
       "      <td>Apg</td>\n",
       "    </tr>\n",
       "    <tr>\n",
       "      <th>3</th>\n",
       "      <td>3</td>\n",
       "      <td>50053214</td>\n",
       "      <td>72.0</td>\n",
       "      <td>ZL</td>\n",
       "      <td>02/01/2006 16:40:00</td>\n",
       "      <td>Logboeknr  RBV  :   72 Tijd: 1640   VL-Post: ...</td>\n",
       "      <td>Logboeknr  RBV  :   72 Tijd: 1640   VL-P</td>\n",
       "      <td>25.0</td>\n",
       "      <td>25.0</td>\n",
       "      <td>NaN</td>\n",
       "      <td>...</td>\n",
       "      <td>17:20:00</td>\n",
       "      <td>40.0</td>\n",
       "      <td>99999999.0</td>\n",
       "      <td>02/01/2006</td>\n",
       "      <td>17:20:00</td>\n",
       "      <td>Persoon langs de baan</td>\n",
       "      <td>NaN</td>\n",
       "      <td>NaN</td>\n",
       "      <td>Hgl</td>\n",
       "      <td>NaN</td>\n",
       "    </tr>\n",
       "    <tr>\n",
       "      <th>4</th>\n",
       "      <td>4</td>\n",
       "      <td>50053215</td>\n",
       "      <td>96.0</td>\n",
       "      <td>ZL</td>\n",
       "      <td>02/01/2006 22:30:00</td>\n",
       "      <td>Logboeknr  RBV  :   96 Tijd: 2230   VL-Post: ...</td>\n",
       "      <td>Logboeknr  RBV  :   96 Tijd: 2230   VL-P</td>\n",
       "      <td>12.0</td>\n",
       "      <td>12.0</td>\n",
       "      <td>NaN</td>\n",
       "      <td>...</td>\n",
       "      <td>22:36:00</td>\n",
       "      <td>6.0</td>\n",
       "      <td>99999999.0</td>\n",
       "      <td>02/01/2006</td>\n",
       "      <td>22:36:00</td>\n",
       "      <td>Bijna aanrijding met persoon</td>\n",
       "      <td>NaN</td>\n",
       "      <td>NaN</td>\n",
       "      <td>Hgv</td>\n",
       "      <td>NaN</td>\n",
       "    </tr>\n",
       "  </tbody>\n",
       "</table>\n",
       "<p>5 rows × 73 columns</p>\n",
       "</div>"
      ],
      "text/plain": [
       "  Unnamed: 0  #stm_sap_meldnr  stm_mon_nr stm_vl_post     stm_sap_meld_ddt  \\\n",
       "0          0                0         NaN         NaN                  NaN   \n",
       "1          1         50053211         0.0         NaN  02/01/2006 09:00:00   \n",
       "2          2         50053213        48.0          GN  02/01/2006 12:35:00   \n",
       "3          3         50053214        72.0          ZL  02/01/2006 16:40:00   \n",
       "4          4         50053215        96.0          ZL  02/01/2006 22:30:00   \n",
       "\n",
       "                              stm_sap_meldtekst_lang  \\\n",
       "0                                                NaN   \n",
       "1   Logboeknr  Geeltje  :   49 Tijd: 0900   VL-Po...   \n",
       "2   Logboeknr  RBV  :   48 Tijd: 1235   VL-Post: ...   \n",
       "3   Logboeknr  RBV  :   72 Tijd: 1640   VL-Post: ...   \n",
       "4   Logboeknr  RBV  :   96 Tijd: 2230   VL-Post: ...   \n",
       "\n",
       "                          stm_sap_meldtekst stm_geo_mld  \\\n",
       "0                                       NaN         NaN   \n",
       "1     Logboeknr  Geeltje  :   49 Tijd: 0900       624.0   \n",
       "2  Logboeknr  RBV  :   48 Tijd: 1235   VL-P       201.0   \n",
       "3  Logboeknr  RBV  :   72 Tijd: 1640   VL-P        25.0   \n",
       "4  Logboeknr  RBV  :   96 Tijd: 2230   VL-P        12.0   \n",
       "\n",
       "   stm_geo_mld_uit_functiepl  stm_equipm_nr_mld  ... stm_fh_tijd stm_fh_duur  \\\n",
       "0                        NaN                NaN  ...         NaN         NaN   \n",
       "1                      624.0                NaN  ...    09:00:00         0.0   \n",
       "2                      201.0                NaN  ...    13:26:00        51.0   \n",
       "3                       25.0                NaN  ...    17:20:00        40.0   \n",
       "4                       12.0                NaN  ...    22:36:00         6.0   \n",
       "\n",
       "   stm_reactie_duur  stm_sap_storeinddatum  stm_sap_storeindtijd  \\\n",
       "0               NaN                    NaN                   NaN   \n",
       "1        99999999.0             02/01/2006              09:00:00   \n",
       "2        99999999.0             02/01/2006              13:26:00   \n",
       "3        99999999.0             02/01/2006              17:20:00   \n",
       "4        99999999.0             02/01/2006              22:36:00   \n",
       "\n",
       "             stm_oorz_tekst_kort stm_pplg_van stm_pplg_naar stm_dstrglp_van  \\\n",
       "0                            NaN          NaN           NaN             NaN   \n",
       "1                            NaN          NaN           NaN             NaN   \n",
       "2       schapen op de spoorbaan!          NaN           NaN              Lp   \n",
       "3          Persoon langs de baan          NaN           NaN             Hgl   \n",
       "4   Bijna aanrijding met persoon          NaN           NaN             Hgv   \n",
       "\n",
       "   stm_dstrglp_naar  \n",
       "0               NaN  \n",
       "1               NaN  \n",
       "2               Apg  \n",
       "3               NaN  \n",
       "4               NaN  \n",
       "\n",
       "[5 rows x 73 columns]"
      ]
     },
     "execution_count": 4,
     "metadata": {},
     "output_type": "execute_result"
    }
   ],
   "source": [
    "df.head()"
   ]
  },
  {
   "cell_type": "markdown",
   "metadata": {},
   "source": [
    "De hersteltijd is vanaf de melding totdat de probleem is opgelost.Hierdoor hadden we de kolom **stm_fh_duur** genomen als onze target variabel. Dit zal de kolom zijn die we moet gaan voorspellen."
   ]
  },
  {
   "cell_type": "code",
   "execution_count": 5,
   "metadata": {},
   "outputs": [
    {
     "data": {
      "text/plain": [
       "0          NaN\n",
       "1          0.0\n",
       "2         51.0\n",
       "3         40.0\n",
       "4          6.0\n",
       "          ... \n",
       "898521    83.0\n",
       "898522    83.0\n",
       "898523    83.0\n",
       "898524    19.0\n",
       "898525    19.0\n",
       "Name: stm_fh_duur, Length: 898526, dtype: float64"
      ]
     },
     "execution_count": 5,
     "metadata": {},
     "output_type": "execute_result"
    }
   ],
   "source": [
    "# de target variabel in een variabel stoppen.\n",
    "data = df['stm_fh_duur']\n",
    "data"
   ]
  },
  {
   "cell_type": "code",
   "execution_count": 6,
   "metadata": {},
   "outputs": [],
   "source": [
    "# alle ontbrekende waardes verwijderen.\n",
    "#We hadden alle waarde boven de 0.0 gepakt, omdat de reparatietijd  van 0.0 kan een kwestie zijn van een verkeerde invoer.\n",
    "data = data.dropna()\n",
    "data = data.loc[data>0.0]"
   ]
  },
  {
   "cell_type": "code",
   "execution_count": 7,
   "metadata": {},
   "outputs": [
    {
     "data": {
      "text/plain": [
       "count    726775.000000\n",
       "mean       1141.258427\n",
       "std        7103.560208\n",
       "min           1.000000\n",
       "25%          54.000000\n",
       "50%         120.000000\n",
       "75%         378.000000\n",
       "max      528297.000000\n",
       "Name: stm_fh_duur, dtype: float64"
      ]
     },
     "execution_count": 7,
     "metadata": {},
     "output_type": "execute_result"
    }
   ],
   "source": [
    "#De attributen van de target variabel zien \n",
    "data.describe()"
   ]
  },
  {
   "cell_type": "code",
   "execution_count": 8,
   "metadata": {},
   "outputs": [
    {
     "data": {
      "text/plain": [
       "<matplotlib.axes._subplots.AxesSubplot at 0x7fcc08ee5190>"
      ]
     },
     "execution_count": 8,
     "metadata": {},
     "output_type": "execute_result"
    },
    {
     "data": {
      "image/png": "[encoded data removed]",
      "text/plain": [
       "<Figure size 720x576 with 1 Axes>"
      ]
     },
     "metadata": {
      "needs_background": "light"
     },
     "output_type": "display_data"
    }
   ],
   "source": [
    "#Boxplot tekenen van de target variabel\n",
    "data.plot.box(figsize=(10, 8))"
   ]
  },
  {
   "cell_type": "code",
   "execution_count": 9,
   "metadata": {},
   "outputs": [
    {
     "name": "stdout",
     "output_type": "stream",
     "text": [
      "Q1 = 54.0, Q3 = 378.0\n",
      "IQR = Q3 - Q1 = 54.0 - 378.0 = 324.0\n",
      "Lengte van de data : 726775\n",
      "\n",
      "Aantal sterke outliers boven de boxplot, boven de 1350.0 : 73187\n",
      "Aantal zwakke outliers boven de boxplot, tussen 864.0 en 1350.0 : 43914\n",
      "Aantal sterke outliers onder de boxplot : -432.0, tussen de -918.0 en 0\n",
      "Aantal sterke outliers onder de boxplot : -918.0, onder de \n"
     ]
    }
   ],
   "source": [
    "data = data.sort_values() # sorteer de data\n",
    "\n",
    "# bereken de Q1, Q3 en de IQR \n",
    "q1 = data.quantile(0.25)\n",
    "q3 = data.quantile(0.75)\n",
    "iqr = q3-q1\n",
    "print(\"Q1 = {}, Q3 = {}\".format(q1, q3)) \n",
    "print(\"IQR = Q3 - Q1 = {} - {} = {}\".format(q1,q3,iqr))\n",
    "\n",
    "# Bereken het aantal zwakke en sterke outliers boven en onder de boxplot.\n",
    "zwakke_lower = data[(data<=q1-1.5*iqr)&(data>q1-3*iqr)].count()\n",
    "sterke_lower = data[data<q1-3*iqr].count()\n",
    "zwakke_upper = data[(data>=q3+1.5*iqr)&(data<q3+3*iqr)].count()\n",
    "sterke_upper = data[data>q3+3*iqr].count()\n",
    "\n",
    "print(\"Lengte van de data : {}\".format(len(data)))\n",
    "print()\n",
    "print(\"Aantal sterke outliers boven de boxplot, boven de {} : {}\".format(q3+3*iqr, sterke_upper))\n",
    "print(\"Aantal zwakke outliers boven de boxplot, tussen {} en {} : {}\".format(q3+1.5*iqr,q3+3*iqr, zwakke_upper))\n",
    "print(\"Aantal sterke outliers onder de boxplot : {}, tussen de {} en {}\".format(q1-1.5*iqr, q1-3*iqr, zwakke_lower))\n",
    "print(\"Aantal sterke outliers onder de boxplot : {}, onder de \".format(q1-3*iqr, sterke_lower))"
   ]
  },
  {
   "cell_type": "markdown",
   "metadata": {},
   "source": [
    "Aan de hand van de boxplot en de bovenstaande berekening, komen er veel outliers voor boven de boxplot. Er is te zien dat de outliers een invloed hebben op de gemiddelde ten opzichte van de mediaan. Deze outlier kan een negatieve invloed hebben op de accuracy van onze voorspellingen."
   ]
  },
  {
   "cell_type": "markdown",
   "metadata": {},
   "source": [
    "## Baseline model ontwikkelen"
   ]
  },
  {
   "cell_type": "code",
   "execution_count": 10,
   "metadata": {},
   "outputs": [
    {
     "data": {
      "image/png": "[encoded data removed]",
      "text/plain": [
       "<Figure size 432x288 with 1 Axes>"
      ]
     },
     "metadata": {
      "needs_background": "light"
     },
     "output_type": "display_data"
    }
   ],
   "source": [
    "# Onze target variabel plotten in een \n",
    "x = range(0,len(data))\n",
    "plt.plot(x,data)\n",
    "\n",
    "plt.title('Hersteltijd')\n",
    "plt.show()"
   ]
  },
  {
   "cell_type": "code",
   "execution_count": 11,
   "metadata": {},
   "outputs": [
    {
     "data": {
      "text/plain": [
       "638074"
      ]
     },
     "execution_count": 11,
     "metadata": {},
     "output_type": "execute_result"
    }
   ],
   "source": [
    "len(data[data < data.mean()])"
   ]
  },
  {
   "cell_type": "code",
   "execution_count": 12,
   "metadata": {},
   "outputs": [
    {
     "data": {
      "text/plain": [
       "87.79525988098105"
      ]
     },
     "execution_count": 12,
     "metadata": {},
     "output_type": "execute_result"
    }
   ],
   "source": [
    "len(data[data < data.mean()])/len(data)*100"
   ]
  },
  {
   "cell_type": "code",
   "execution_count": 13,
   "metadata": {},
   "outputs": [
    {
     "name": "stdout",
     "output_type": "stream",
     "text": [
      "363249\n",
      "361597\n"
     ]
    }
   ],
   "source": [
    "print(len(data[data < data.median()]))\n",
    "print(len(data[data > data.median()]))"
   ]
  },
  {
   "cell_type": "markdown",
   "metadata": {},
   "source": [
    "Voor 88% van alle hersteltijd, duren korter dan 1141 minuten (+- 19 uur) <br>\n",
    "Voor 50% van alle hersteltijd, duren korter/langer dan 120 minuten(2 uren)<br>\n",
    "\n",
    "We gaan twee baseline model bouwen waar onze voorspelde reparatietijd is altijd gelijk aan de gemiddeld en de mediaan"
   ]
  },
  {
   "cell_type": "code",
   "execution_count": 14,
   "metadata": {},
   "outputs": [],
   "source": [
    "data = data.to_frame() # zet om  Series naar dataframe\n",
    "# Voeg twee \n",
    "data['Median']=  data['stm_fh_duur'].median()\n",
    "data['Mean'] = data['stm_fh_duur'].mean()"
   ]
  },
  {
   "cell_type": "code",
   "execution_count": 15,
   "metadata": {},
   "outputs": [
    {
     "data": {
      "text/html": [
       "<div>\n",
       "<style scoped>\n",
       "    .dataframe tbody tr th:only-of-type {\n",
       "        vertical-align: middle;\n",
       "    }\n",
       "\n",
       "    .dataframe tbody tr th {\n",
       "        vertical-align: top;\n",
       "    }\n",
       "\n",
       "    .dataframe thead th {\n",
       "        text-align: right;\n",
       "    }\n",
       "</style>\n",
       "<table border=\"1\" class=\"dataframe\">\n",
       "  <thead>\n",
       "    <tr style=\"text-align: right;\">\n",
       "      <th></th>\n",
       "      <th>stm_fh_duur</th>\n",
       "      <th>Median</th>\n",
       "      <th>Mean</th>\n",
       "    </tr>\n",
       "  </thead>\n",
       "  <tbody>\n",
       "    <tr>\n",
       "      <th>716924</th>\n",
       "      <td>1.0</td>\n",
       "      <td>120.0</td>\n",
       "      <td>1141.258427</td>\n",
       "    </tr>\n",
       "    <tr>\n",
       "      <th>140064</th>\n",
       "      <td>1.0</td>\n",
       "      <td>120.0</td>\n",
       "      <td>1141.258427</td>\n",
       "    </tr>\n",
       "    <tr>\n",
       "      <th>536888</th>\n",
       "      <td>1.0</td>\n",
       "      <td>120.0</td>\n",
       "      <td>1141.258427</td>\n",
       "    </tr>\n",
       "    <tr>\n",
       "      <th>461109</th>\n",
       "      <td>1.0</td>\n",
       "      <td>120.0</td>\n",
       "      <td>1141.258427</td>\n",
       "    </tr>\n",
       "    <tr>\n",
       "      <th>268409</th>\n",
       "      <td>1.0</td>\n",
       "      <td>120.0</td>\n",
       "      <td>1141.258427</td>\n",
       "    </tr>\n",
       "  </tbody>\n",
       "</table>\n",
       "</div>"
      ],
      "text/plain": [
       "        stm_fh_duur  Median         Mean\n",
       "716924          1.0   120.0  1141.258427\n",
       "140064          1.0   120.0  1141.258427\n",
       "536888          1.0   120.0  1141.258427\n",
       "461109          1.0   120.0  1141.258427\n",
       "268409          1.0   120.0  1141.258427"
      ]
     },
     "execution_count": 15,
     "metadata": {},
     "output_type": "execute_result"
    }
   ],
   "source": [
    "data.head()"
   ]
  },
  {
   "cell_type": "code",
   "execution_count": 16,
   "metadata": {},
   "outputs": [
    {
     "data": {
      "text/plain": [
       "7176.591598082251"
      ]
     },
     "execution_count": 16,
     "metadata": {},
     "output_type": "execute_result"
    }
   ],
   "source": [
    "# De kwaliteit/score van de model bepalen mbh van RMSE\n",
    "np.sqrt(mean_squared_error(data.loc[:,'stm_fh_duur'],data.loc[:,'Median']))"
   ]
  },
  {
   "cell_type": "code",
   "execution_count": 17,
   "metadata": {},
   "outputs": [
    {
     "data": {
      "text/plain": [
       "7103.555320523756"
      ]
     },
     "execution_count": 17,
     "metadata": {},
     "output_type": "execute_result"
    }
   ],
   "source": [
    "# De kwaliteit/score van de model bepalen mbh van RMSE\n",
    "np.sqrt(mean_squared_error(data.loc[:,'stm_fh_duur'],data.loc[:,'Mean']))"
   ]
  },
  {
   "cell_type": "markdown",
   "metadata": {},
   "source": [
    "### Conclusie voor de baseline model "
   ]
  },
  {
   "cell_type": "markdown",
   "metadata": {},
   "source": [
    "Er is voor onze baseline model  gekozen om  de mediaan als   voorspelde  waarde te gebruiken, omdat de mediaan is niet gevoelig voor outliers."
   ]
  },
  {
   "cell_type": "code",
   "execution_count": 18,
   "metadata": {},
   "outputs": [
    {
     "name": "stdout",
     "output_type": "stream",
     "text": [
      "670693    ONR-DERD\n",
      "Name: stm_oorz_groep, dtype: object\n"
     ]
    }
   ],
   "source": [
    "print(str(df['stm_oorz_groep'].loc[df['stm_fh_duur'] == df['stm_fh_duur'].max()]))"
   ]
  },
  {
   "cell_type": "code",
   "execution_count": 19,
   "metadata": {},
   "outputs": [
    {
     "data": {
      "text/plain": [
       "Index(['Unnamed: 0', '#stm_sap_meldnr', 'stm_mon_nr', 'stm_vl_post',\n",
       "       'stm_sap_meld_ddt', 'stm_sap_meldtekst_lang', 'stm_sap_meldtekst',\n",
       "       'stm_geo_mld', 'stm_geo_mld_uit_functiepl', 'stm_equipm_nr_mld',\n",
       "       'stm_equipm_soort_mld', 'stm_equipm_omschr_mld', 'stm_km_van_mld',\n",
       "       'stm_km_tot_mld', 'stm_prioriteit', 'stm_status_melding_sap',\n",
       "       'stm_aanngeb_ddt', 'stm_oh_pg_gst', 'stm_geo_gst',\n",
       "       'stm_geo_gst_uit_functiepl', 'stm_equipm_nr_gst',\n",
       "       'stm_equipm_soort_gst', 'stm_equipm_omschr_gst', 'stm_km_van_gst',\n",
       "       'stm_km_tot_gst', 'stm_oorz_groep', 'stm_oorz_code', 'stm_oorz_tkst',\n",
       "       'stm_fh_ddt', 'stm_fh_status', 'stm_sap_storeind_ddt',\n",
       "       'stm_tao_indicator', 'stm_tao_indicator_vorige',\n",
       "       'stm_tao_soort_mutatie', 'stm_tao_telling_mutatie',\n",
       "       'stm_tao_beinvloedbaar_indicator', 'stm_evb', 'stm_sap_melddatum',\n",
       "       'stm_sap_meldtijd', 'stm_contractgeb_mld', 'stm_functiepl_mld',\n",
       "       'stm_techn_mld', 'stm_contractgeb_gst', 'stm_functiepl_gst',\n",
       "       'stm_techn_gst', 'stm_aanngeb_dd', 'stm_aanngeb_tijd', 'stm_aanntpl_dd',\n",
       "       'stm_aanntpl_tijd', 'stm_arbeid', 'stm_progfh_in_datum',\n",
       "       'stm_progfh_in_tijd', 'stm_progfh_in_invoer_dat',\n",
       "       'stm_progfh_in_invoer_tijd', 'stm_progfh_in_duur', 'stm_progfh_gw_tijd',\n",
       "       'stm_progfh_gw_lwd_datum', 'stm_progfh_gw_lwd_tijd',\n",
       "       'stm_progfh_gw_duur', 'stm_progfh_gw_teller', 'stm_afspr_aanvangdd',\n",
       "       'stm_afspr_aanvangtijd', 'stm_fh_dd', 'stm_fh_tijd', 'stm_fh_duur',\n",
       "       'stm_reactie_duur', 'stm_sap_storeinddatum', 'stm_sap_storeindtijd',\n",
       "       'stm_oorz_tekst_kort', 'stm_pplg_van', 'stm_pplg_naar',\n",
       "       'stm_dstrglp_van', 'stm_dstrglp_naar'],\n",
       "      dtype='object')"
      ]
     },
     "execution_count": 19,
     "metadata": {},
     "output_type": "execute_result"
    }
   ],
   "source": [
    "df.columns"
   ]
  },
  {
   "cell_type": "code",
   "execution_count": 20,
   "metadata": {},
   "outputs": [],
   "source": [
    "# Hierboven gaan we kijken naar de daadwerkelijk probleem van de maximale hersteltijd."
   ]
  },
  {
   "cell_type": "markdown",
   "metadata": {},
   "source": [
    "## Lineair Regression Model "
   ]
  },
  {
   "cell_type": "markdown",
   "metadata": {},
   "source": [
    "### Data Understanding"
   ]
  },
  {
   "cell_type": "code",
   "execution_count": 21,
   "metadata": {},
   "outputs": [
    {
     "data": {
      "text/html": [
       "<div>\n",
       "<style scoped>\n",
       "    .dataframe tbody tr th:only-of-type {\n",
       "        vertical-align: middle;\n",
       "    }\n",
       "\n",
       "    .dataframe tbody tr th {\n",
       "        vertical-align: top;\n",
       "    }\n",
       "\n",
       "    .dataframe thead th {\n",
       "        text-align: right;\n",
       "    }\n",
       "</style>\n",
       "<table border=\"1\" class=\"dataframe\">\n",
       "  <thead>\n",
       "    <tr style=\"text-align: right;\">\n",
       "      <th></th>\n",
       "      <th>stm_oorz_groep</th>\n",
       "      <th>stm_oorz_code</th>\n",
       "      <th>stm_prioriteit</th>\n",
       "      <th>stm_fh_duur</th>\n",
       "    </tr>\n",
       "  </thead>\n",
       "  <tbody>\n",
       "    <tr>\n",
       "      <th>0</th>\n",
       "      <td>NaN</td>\n",
       "      <td>NaN</td>\n",
       "      <td>NaN</td>\n",
       "      <td>NaN</td>\n",
       "    </tr>\n",
       "    <tr>\n",
       "      <th>1</th>\n",
       "      <td>ONR-RIB</td>\n",
       "      <td>133.0</td>\n",
       "      <td>9.0</td>\n",
       "      <td>0.0</td>\n",
       "    </tr>\n",
       "    <tr>\n",
       "      <th>2</th>\n",
       "      <td>ONR-DERD</td>\n",
       "      <td>143.0</td>\n",
       "      <td>9.0</td>\n",
       "      <td>51.0</td>\n",
       "    </tr>\n",
       "    <tr>\n",
       "      <th>3</th>\n",
       "      <td>ONR-DERD</td>\n",
       "      <td>142.0</td>\n",
       "      <td>9.0</td>\n",
       "      <td>40.0</td>\n",
       "    </tr>\n",
       "    <tr>\n",
       "      <th>4</th>\n",
       "      <td>ONR-DERD</td>\n",
       "      <td>142.0</td>\n",
       "      <td>9.0</td>\n",
       "      <td>6.0</td>\n",
       "    </tr>\n",
       "    <tr>\n",
       "      <th>5</th>\n",
       "      <td>TECHONV</td>\n",
       "      <td>218.0</td>\n",
       "      <td>9.0</td>\n",
       "      <td>7.0</td>\n",
       "    </tr>\n",
       "    <tr>\n",
       "      <th>6</th>\n",
       "      <td>ONR-DERD</td>\n",
       "      <td>142.0</td>\n",
       "      <td>9.0</td>\n",
       "      <td>13.0</td>\n",
       "    </tr>\n",
       "    <tr>\n",
       "      <th>7</th>\n",
       "      <td>ONR-DERD</td>\n",
       "      <td>143.0</td>\n",
       "      <td>9.0</td>\n",
       "      <td>15.0</td>\n",
       "    </tr>\n",
       "    <tr>\n",
       "      <th>8</th>\n",
       "      <td>ONR-DERD</td>\n",
       "      <td>141.0</td>\n",
       "      <td>9.0</td>\n",
       "      <td>30.0</td>\n",
       "    </tr>\n",
       "    <tr>\n",
       "      <th>9</th>\n",
       "      <td>ONR-RIB</td>\n",
       "      <td>135.0</td>\n",
       "      <td>9.0</td>\n",
       "      <td>0.0</td>\n",
       "    </tr>\n",
       "  </tbody>\n",
       "</table>\n",
       "</div>"
      ],
      "text/plain": [
       "  stm_oorz_groep  stm_oorz_code  stm_prioriteit  stm_fh_duur\n",
       "0            NaN            NaN             NaN          NaN\n",
       "1        ONR-RIB          133.0             9.0          0.0\n",
       "2       ONR-DERD          143.0             9.0         51.0\n",
       "3       ONR-DERD          142.0             9.0         40.0\n",
       "4       ONR-DERD          142.0             9.0          6.0\n",
       "5        TECHONV          218.0             9.0          7.0\n",
       "6       ONR-DERD          142.0             9.0         13.0\n",
       "7       ONR-DERD          143.0             9.0         15.0\n",
       "8       ONR-DERD          141.0             9.0         30.0\n",
       "9        ONR-RIB          135.0             9.0          0.0"
      ]
     },
     "execution_count": 21,
     "metadata": {},
     "output_type": "execute_result"
    }
   ],
   "source": [
    "# kopie maken van de gekozen features en target variabelen van onze dataset \n",
    "df2  = df[['stm_oorz_groep', 'stm_oorz_code', 'stm_prioriteit', 'stm_fh_duur']].copy()\n",
    "df2.head(10)"
   ]
  },
  {
   "cell_type": "code",
   "execution_count": 22,
   "metadata": {},
   "outputs": [
    {
     "data": {
      "text/html": [
       "<div>\n",
       "<style scoped>\n",
       "    .dataframe tbody tr th:only-of-type {\n",
       "        vertical-align: middle;\n",
       "    }\n",
       "\n",
       "    .dataframe tbody tr th {\n",
       "        vertical-align: top;\n",
       "    }\n",
       "\n",
       "    .dataframe thead th {\n",
       "        text-align: right;\n",
       "    }\n",
       "</style>\n",
       "<table border=\"1\" class=\"dataframe\">\n",
       "  <thead>\n",
       "    <tr style=\"text-align: right;\">\n",
       "      <th></th>\n",
       "      <th>stm_oorz_code</th>\n",
       "      <th>stm_prioriteit</th>\n",
       "      <th>stm_fh_duur</th>\n",
       "    </tr>\n",
       "  </thead>\n",
       "  <tbody>\n",
       "    <tr>\n",
       "      <th>count</th>\n",
       "      <td>845113.000000</td>\n",
       "      <td>898365.000000</td>\n",
       "      <td>898488.000000</td>\n",
       "    </tr>\n",
       "    <tr>\n",
       "      <th>mean</th>\n",
       "      <td>193.577248</td>\n",
       "      <td>4.582593</td>\n",
       "      <td>923.148771</td>\n",
       "    </tr>\n",
       "    <tr>\n",
       "      <th>std</th>\n",
       "      <td>48.310779</td>\n",
       "      <td>2.262522</td>\n",
       "      <td>6404.546787</td>\n",
       "    </tr>\n",
       "    <tr>\n",
       "      <th>min</th>\n",
       "      <td>33.000000</td>\n",
       "      <td>1.000000</td>\n",
       "      <td>0.000000</td>\n",
       "    </tr>\n",
       "    <tr>\n",
       "      <th>25%</th>\n",
       "      <td>144.000000</td>\n",
       "      <td>2.000000</td>\n",
       "      <td>11.000000</td>\n",
       "    </tr>\n",
       "    <tr>\n",
       "      <th>50%</th>\n",
       "      <td>213.000000</td>\n",
       "      <td>4.000000</td>\n",
       "      <td>84.000000</td>\n",
       "    </tr>\n",
       "    <tr>\n",
       "      <th>75%</th>\n",
       "      <td>221.000000</td>\n",
       "      <td>5.000000</td>\n",
       "      <td>256.000000</td>\n",
       "    </tr>\n",
       "    <tr>\n",
       "      <th>max</th>\n",
       "      <td>999.000000</td>\n",
       "      <td>9.000000</td>\n",
       "      <td>528297.000000</td>\n",
       "    </tr>\n",
       "  </tbody>\n",
       "</table>\n",
       "</div>"
      ],
      "text/plain": [
       "       stm_oorz_code  stm_prioriteit    stm_fh_duur\n",
       "count  845113.000000   898365.000000  898488.000000\n",
       "mean      193.577248        4.582593     923.148771\n",
       "std        48.310779        2.262522    6404.546787\n",
       "min        33.000000        1.000000       0.000000\n",
       "25%       144.000000        2.000000      11.000000\n",
       "50%       213.000000        4.000000      84.000000\n",
       "75%       221.000000        5.000000     256.000000\n",
       "max       999.000000        9.000000  528297.000000"
      ]
     },
     "execution_count": 22,
     "metadata": {},
     "output_type": "execute_result"
    }
   ],
   "source": [
    "# attributen van df2 bekijken\n",
    "df2.describe()"
   ]
  },
  {
   "cell_type": "code",
   "execution_count": 23,
   "metadata": {},
   "outputs": [
    {
     "data": {
      "text/plain": [
       "stm_oorz_groep    53430\n",
       "stm_oorz_code     53413\n",
       "stm_prioriteit      161\n",
       "stm_fh_duur          38\n",
       "dtype: int64"
      ]
     },
     "execution_count": 23,
     "metadata": {},
     "output_type": "execute_result"
    }
   ],
   "source": [
    "# Aantal ontbrekende waardes bekijken \n",
    "df2.isnull().sum()"
   ]
  },
  {
   "cell_type": "code",
   "execution_count": 24,
   "metadata": {},
   "outputs": [
    {
     "name": "stdout",
     "output_type": "stream",
     "text": [
      "Rijen verloren door Nan oorzaakgroep : 6.322231464904693%\n",
      "Rijen verloren door Nan oorzaakcode  : 6.320219899587393%\n",
      "Totaal aantal rijen verloren : 12.665998511441664\n"
     ]
    }
   ],
   "source": [
    "# bereken aantal rijen die wordt verloren bij Nan waardes\n",
    "print('Rijen verloren door Nan oorzaakgroep : {}%'.format((53430/845113)*100))\n",
    "print('Rijen verloren door Nan oorzaakcode  : {}%'.format((53413/845113)*100))\n",
    "\n",
    "#totaal\n",
    "print('Totaal aantal rijen verloren : {}'.format(((53430+53413+161+38)/845113)*100))"
   ]
  },
  {
   "cell_type": "code",
   "execution_count": 25,
   "metadata": {},
   "outputs": [
    {
     "data": {
      "text/plain": [
       "stm_oorz_groep     object\n",
       "stm_oorz_code     float64\n",
       "stm_prioriteit    float64\n",
       "stm_fh_duur       float64\n",
       "dtype: object"
      ]
     },
     "execution_count": 25,
     "metadata": {},
     "output_type": "execute_result"
    }
   ],
   "source": [
    "# datatypes van de dataset bekijken \n",
    "df2.dtypes"
   ]
  },
  {
   "cell_type": "code",
   "execution_count": 26,
   "metadata": {},
   "outputs": [
    {
     "data": {
      "text/plain": [
       "array([nan, 'ONR-RIB', 'ONR-DERD', 'TECHONV', 'WEER'], dtype=object)"
      ]
     },
     "execution_count": 26,
     "metadata": {},
     "output_type": "execute_result"
    }
   ],
   "source": [
    "df2['stm_oorz_groep'].unique()"
   ]
  },
  {
   "cell_type": "code",
   "execution_count": 27,
   "metadata": {},
   "outputs": [
    {
     "data": {
      "text/plain": [
       "array([ 33.,  48.,  51., 130., 131., 132., 133., 134., 135., 136., 139.,\n",
       "       140., 141., 142., 143., 144., 145., 146., 147., 148., 149., 150.,\n",
       "       151., 154., 180., 181., 182., 183., 184., 185., 186., 187., 188.,\n",
       "       189., 200., 201., 202., 203., 204., 205., 206., 207., 208., 209.,\n",
       "       210., 211., 212., 213., 214., 215., 218., 219., 220., 221., 222.,\n",
       "       223., 224., 225., 226., 227., 228., 229., 230., 231., 233., 234.,\n",
       "       235., 239., 240., 241., 242., 250., 294., 298., 299., 999.])"
      ]
     },
     "execution_count": 27,
     "metadata": {},
     "output_type": "execute_result"
    }
   ],
   "source": [
    "df2['stm_oorz_code'][df2['stm_oorz_code'].notnull()].sort_values().unique()"
   ]
  },
  {
   "cell_type": "code",
   "execution_count": 28,
   "metadata": {},
   "outputs": [
    {
     "data": {
      "text/plain": [
       "array([130, 131, 132, 133, 134, 135, 136, 140, 141, 142, 143, 144, 145,\n",
       "       146, 147, 148, 149, 150, 151, 152, 153, 154, 181, 182, 183, 184,\n",
       "       185, 186, 187, 188, 189, 201, 202, 203, 204, 205, 206, 207, 208,\n",
       "       209, 210, 211, 212, 213, 214, 215, 218, 219, 220, 221, 222, 223,\n",
       "       224, 225, 226, 227, 228, 229, 230, 231, 233, 234, 235, 239, 240,\n",
       "       241, 242, 250, 294, 298, 299])"
      ]
     },
     "execution_count": 28,
     "metadata": {},
     "output_type": "execute_result"
    }
   ],
   "source": [
    "oorzcodes = pd.read_csv('Oorzaakcodes.csv', delimiter = ';')\n",
    "oorzcodes['Code'].sort_values().unique()"
   ]
  },
  {
   "cell_type": "markdown",
   "metadata": {},
   "source": [
    "Aan de han van de bovenstaande code kunnnen we concluderen dat de we moeten df2 filteren die de rijen kiezen, waar de oorzaakcode tussen 130 en 299 zit. Of PO's vraag stellen over de code 33, 48 en 51, 999"
   ]
  },
  {
   "cell_type": "code",
   "execution_count": 29,
   "metadata": {},
   "outputs": [
    {
     "data": {
      "text/html": [
       "<div>\n",
       "<style scoped>\n",
       "    .dataframe tbody tr th:only-of-type {\n",
       "        vertical-align: middle;\n",
       "    }\n",
       "\n",
       "    .dataframe tbody tr th {\n",
       "        vertical-align: top;\n",
       "    }\n",
       "\n",
       "    .dataframe thead th {\n",
       "        text-align: right;\n",
       "    }\n",
       "</style>\n",
       "<table border=\"1\" class=\"dataframe\">\n",
       "  <thead>\n",
       "    <tr style=\"text-align: right;\">\n",
       "      <th></th>\n",
       "      <th>stm_oorz_groep</th>\n",
       "      <th>stm_oorz_code</th>\n",
       "      <th>stm_prioriteit</th>\n",
       "      <th>stm_fh_duur</th>\n",
       "    </tr>\n",
       "  </thead>\n",
       "  <tbody>\n",
       "    <tr>\n",
       "      <th>298991</th>\n",
       "      <td>ONR-RIB</td>\n",
       "      <td>33.0</td>\n",
       "      <td>2.0</td>\n",
       "      <td>215.0</td>\n",
       "    </tr>\n",
       "  </tbody>\n",
       "</table>\n",
       "</div>"
      ],
      "text/plain": [
       "       stm_oorz_groep  stm_oorz_code  stm_prioriteit  stm_fh_duur\n",
       "298991        ONR-RIB           33.0             2.0        215.0"
      ]
     },
     "execution_count": 29,
     "metadata": {},
     "output_type": "execute_result"
    }
   ],
   "source": [
    "df2[df2['stm_oorz_code'] == 33]"
   ]
  },
  {
   "cell_type": "code",
   "execution_count": 30,
   "metadata": {},
   "outputs": [
    {
     "data": {
      "text/html": [
       "<div>\n",
       "<style scoped>\n",
       "    .dataframe tbody tr th:only-of-type {\n",
       "        vertical-align: middle;\n",
       "    }\n",
       "\n",
       "    .dataframe tbody tr th {\n",
       "        vertical-align: top;\n",
       "    }\n",
       "\n",
       "    .dataframe thead th {\n",
       "        text-align: right;\n",
       "    }\n",
       "</style>\n",
       "<table border=\"1\" class=\"dataframe\">\n",
       "  <thead>\n",
       "    <tr style=\"text-align: right;\">\n",
       "      <th></th>\n",
       "      <th>stm_oorz_groep</th>\n",
       "      <th>stm_oorz_code</th>\n",
       "      <th>stm_prioriteit</th>\n",
       "      <th>stm_fh_duur</th>\n",
       "    </tr>\n",
       "  </thead>\n",
       "  <tbody>\n",
       "    <tr>\n",
       "      <th>299290</th>\n",
       "      <td>ONR-DERD</td>\n",
       "      <td>48.0</td>\n",
       "      <td>4.0</td>\n",
       "      <td>2.0</td>\n",
       "    </tr>\n",
       "  </tbody>\n",
       "</table>\n",
       "</div>"
      ],
      "text/plain": [
       "       stm_oorz_groep  stm_oorz_code  stm_prioriteit  stm_fh_duur\n",
       "299290       ONR-DERD           48.0             4.0          2.0"
      ]
     },
     "execution_count": 30,
     "metadata": {},
     "output_type": "execute_result"
    }
   ],
   "source": [
    "df2[df2['stm_oorz_code'] == 48]"
   ]
  },
  {
   "cell_type": "code",
   "execution_count": 31,
   "metadata": {},
   "outputs": [
    {
     "data": {
      "text/html": [
       "<div>\n",
       "<style scoped>\n",
       "    .dataframe tbody tr th:only-of-type {\n",
       "        vertical-align: middle;\n",
       "    }\n",
       "\n",
       "    .dataframe tbody tr th {\n",
       "        vertical-align: top;\n",
       "    }\n",
       "\n",
       "    .dataframe thead th {\n",
       "        text-align: right;\n",
       "    }\n",
       "</style>\n",
       "<table border=\"1\" class=\"dataframe\">\n",
       "  <thead>\n",
       "    <tr style=\"text-align: right;\">\n",
       "      <th></th>\n",
       "      <th>stm_oorz_groep</th>\n",
       "      <th>stm_oorz_code</th>\n",
       "      <th>stm_prioriteit</th>\n",
       "      <th>stm_fh_duur</th>\n",
       "    </tr>\n",
       "  </thead>\n",
       "  <tbody>\n",
       "    <tr>\n",
       "      <th>298519</th>\n",
       "      <td>ONR-DERD</td>\n",
       "      <td>51.0</td>\n",
       "      <td>4.0</td>\n",
       "      <td>9.0</td>\n",
       "    </tr>\n",
       "  </tbody>\n",
       "</table>\n",
       "</div>"
      ],
      "text/plain": [
       "       stm_oorz_groep  stm_oorz_code  stm_prioriteit  stm_fh_duur\n",
       "298519       ONR-DERD           51.0             4.0          9.0"
      ]
     },
     "execution_count": 31,
     "metadata": {},
     "output_type": "execute_result"
    }
   ],
   "source": [
    "df2[df2['stm_oorz_code'] == 51]"
   ]
  },
  {
   "cell_type": "code",
   "execution_count": 32,
   "metadata": {},
   "outputs": [],
   "source": [
    "# Deze 3 oorzaak codes hebben in totaal 3 rijen, dus we kunnen ze verwijderenn."
   ]
  },
  {
   "cell_type": "code",
   "execution_count": 33,
   "metadata": {},
   "outputs": [
    {
     "data": {
      "text/plain": [
       "102"
      ]
     },
     "execution_count": 33,
     "metadata": {},
     "output_type": "execute_result"
    }
   ],
   "source": [
    "len(df2[df2['stm_oorz_code'] == 999])"
   ]
  },
  {
   "cell_type": "code",
   "execution_count": 34,
   "metadata": {},
   "outputs": [
    {
     "data": {
      "text/plain": [
       "array([218., 299., 209., 221., 298., 215., 294., 220., 213., 212., 242.,\n",
       "       214., 227., 219., 225., 211., 203., 233., 240., 241., 234., 999.,\n",
       "       228., 224., 207., 208., 226., 210., 235., 223., 222., 201., 250.,\n",
       "       229., 230., 231., 204., 145., 206., 205., 239., 133., 202., 135.,\n",
       "       200., 147., 182.])"
      ]
     },
     "execution_count": 34,
     "metadata": {},
     "output_type": "execute_result"
    }
   ],
   "source": [
    "df2['stm_oorz_code'][df2['stm_oorz_groep'] == 'TECHONV'].unique()\n"
   ]
  },
  {
   "cell_type": "code",
   "execution_count": 35,
   "metadata": {},
   "outputs": [
    {
     "data": {
      "text/plain": [
       "array([nan,  9.,  5.,  4.,  2.,  1.,  8.])"
      ]
     },
     "execution_count": 35,
     "metadata": {},
     "output_type": "execute_result"
    }
   ],
   "source": [
    "df2['stm_prioriteit'].unique()\n",
    "# Er is geen rij/ storing met een prioriteit van 3 en 6 of 7. Bestaat ze well?\n",
    "# En ja , kan et misschien die 161 Nan waardes zijn ?"
   ]
  },
  {
   "cell_type": "code",
   "execution_count": 36,
   "metadata": {},
   "outputs": [
    {
     "data": {
      "text/html": [
       "<div>\n",
       "<style scoped>\n",
       "    .dataframe tbody tr th:only-of-type {\n",
       "        vertical-align: middle;\n",
       "    }\n",
       "\n",
       "    .dataframe tbody tr th {\n",
       "        vertical-align: top;\n",
       "    }\n",
       "\n",
       "    .dataframe thead th {\n",
       "        text-align: right;\n",
       "    }\n",
       "</style>\n",
       "<table border=\"1\" class=\"dataframe\">\n",
       "  <thead>\n",
       "    <tr style=\"text-align: right;\">\n",
       "      <th></th>\n",
       "      <th>stm_oorz_groep</th>\n",
       "      <th>stm_oorz_code</th>\n",
       "      <th>stm_prioriteit</th>\n",
       "      <th>stm_fh_duur</th>\n",
       "    </tr>\n",
       "  </thead>\n",
       "  <tbody>\n",
       "    <tr>\n",
       "      <th>0</th>\n",
       "      <td>NaN</td>\n",
       "      <td>NaN</td>\n",
       "      <td>NaN</td>\n",
       "      <td>NaN</td>\n",
       "    </tr>\n",
       "    <tr>\n",
       "      <th>1</th>\n",
       "      <td>ONR-RIB</td>\n",
       "      <td>133.0</td>\n",
       "      <td>9.0</td>\n",
       "      <td>0.0</td>\n",
       "    </tr>\n",
       "    <tr>\n",
       "      <th>2</th>\n",
       "      <td>ONR-DERD</td>\n",
       "      <td>143.0</td>\n",
       "      <td>9.0</td>\n",
       "      <td>51.0</td>\n",
       "    </tr>\n",
       "    <tr>\n",
       "      <th>3</th>\n",
       "      <td>ONR-DERD</td>\n",
       "      <td>142.0</td>\n",
       "      <td>9.0</td>\n",
       "      <td>40.0</td>\n",
       "    </tr>\n",
       "    <tr>\n",
       "      <th>4</th>\n",
       "      <td>ONR-DERD</td>\n",
       "      <td>142.0</td>\n",
       "      <td>9.0</td>\n",
       "      <td>6.0</td>\n",
       "    </tr>\n",
       "    <tr>\n",
       "      <th>5</th>\n",
       "      <td>TECHONV</td>\n",
       "      <td>218.0</td>\n",
       "      <td>9.0</td>\n",
       "      <td>7.0</td>\n",
       "    </tr>\n",
       "    <tr>\n",
       "      <th>6</th>\n",
       "      <td>ONR-DERD</td>\n",
       "      <td>142.0</td>\n",
       "      <td>9.0</td>\n",
       "      <td>13.0</td>\n",
       "    </tr>\n",
       "    <tr>\n",
       "      <th>7</th>\n",
       "      <td>ONR-DERD</td>\n",
       "      <td>143.0</td>\n",
       "      <td>9.0</td>\n",
       "      <td>15.0</td>\n",
       "    </tr>\n",
       "    <tr>\n",
       "      <th>8</th>\n",
       "      <td>ONR-DERD</td>\n",
       "      <td>141.0</td>\n",
       "      <td>9.0</td>\n",
       "      <td>30.0</td>\n",
       "    </tr>\n",
       "    <tr>\n",
       "      <th>9</th>\n",
       "      <td>ONR-RIB</td>\n",
       "      <td>135.0</td>\n",
       "      <td>9.0</td>\n",
       "      <td>0.0</td>\n",
       "    </tr>\n",
       "  </tbody>\n",
       "</table>\n",
       "</div>"
      ],
      "text/plain": [
       "  stm_oorz_groep  stm_oorz_code  stm_prioriteit  stm_fh_duur\n",
       "0            NaN            NaN             NaN          NaN\n",
       "1        ONR-RIB          133.0             9.0          0.0\n",
       "2       ONR-DERD          143.0             9.0         51.0\n",
       "3       ONR-DERD          142.0             9.0         40.0\n",
       "4       ONR-DERD          142.0             9.0          6.0\n",
       "5        TECHONV          218.0             9.0          7.0\n",
       "6       ONR-DERD          142.0             9.0         13.0\n",
       "7       ONR-DERD          143.0             9.0         15.0\n",
       "8       ONR-DERD          141.0             9.0         30.0\n",
       "9        ONR-RIB          135.0             9.0          0.0"
      ]
     },
     "execution_count": 36,
     "metadata": {},
     "output_type": "execute_result"
    }
   ],
   "source": [
    "df2.head(10)"
   ]
  },
  {
   "cell_type": "code",
   "execution_count": 37,
   "metadata": {},
   "outputs": [
    {
     "data": {
      "text/html": [
       "<div>\n",
       "<style scoped>\n",
       "    .dataframe tbody tr th:only-of-type {\n",
       "        vertical-align: middle;\n",
       "    }\n",
       "\n",
       "    .dataframe tbody tr th {\n",
       "        vertical-align: top;\n",
       "    }\n",
       "\n",
       "    .dataframe thead th {\n",
       "        text-align: right;\n",
       "    }\n",
       "</style>\n",
       "<table border=\"1\" class=\"dataframe\">\n",
       "  <thead>\n",
       "    <tr style=\"text-align: right;\">\n",
       "      <th></th>\n",
       "      <th>stm_oorz_code</th>\n",
       "      <th>stm_prioriteit</th>\n",
       "      <th>stm_fh_duur</th>\n",
       "    </tr>\n",
       "  </thead>\n",
       "  <tbody>\n",
       "    <tr>\n",
       "      <th>count</th>\n",
       "      <td>845113.000000</td>\n",
       "      <td>898365.000000</td>\n",
       "      <td>898488.000000</td>\n",
       "    </tr>\n",
       "    <tr>\n",
       "      <th>mean</th>\n",
       "      <td>193.577248</td>\n",
       "      <td>4.582593</td>\n",
       "      <td>923.148771</td>\n",
       "    </tr>\n",
       "    <tr>\n",
       "      <th>std</th>\n",
       "      <td>48.310779</td>\n",
       "      <td>2.262522</td>\n",
       "      <td>6404.546787</td>\n",
       "    </tr>\n",
       "    <tr>\n",
       "      <th>min</th>\n",
       "      <td>33.000000</td>\n",
       "      <td>1.000000</td>\n",
       "      <td>0.000000</td>\n",
       "    </tr>\n",
       "    <tr>\n",
       "      <th>25%</th>\n",
       "      <td>144.000000</td>\n",
       "      <td>2.000000</td>\n",
       "      <td>11.000000</td>\n",
       "    </tr>\n",
       "    <tr>\n",
       "      <th>50%</th>\n",
       "      <td>213.000000</td>\n",
       "      <td>4.000000</td>\n",
       "      <td>84.000000</td>\n",
       "    </tr>\n",
       "    <tr>\n",
       "      <th>75%</th>\n",
       "      <td>221.000000</td>\n",
       "      <td>5.000000</td>\n",
       "      <td>256.000000</td>\n",
       "    </tr>\n",
       "    <tr>\n",
       "      <th>max</th>\n",
       "      <td>999.000000</td>\n",
       "      <td>9.000000</td>\n",
       "      <td>528297.000000</td>\n",
       "    </tr>\n",
       "  </tbody>\n",
       "</table>\n",
       "</div>"
      ],
      "text/plain": [
       "       stm_oorz_code  stm_prioriteit    stm_fh_duur\n",
       "count  845113.000000   898365.000000  898488.000000\n",
       "mean      193.577248        4.582593     923.148771\n",
       "std        48.310779        2.262522    6404.546787\n",
       "min        33.000000        1.000000       0.000000\n",
       "25%       144.000000        2.000000      11.000000\n",
       "50%       213.000000        4.000000      84.000000\n",
       "75%       221.000000        5.000000     256.000000\n",
       "max       999.000000        9.000000  528297.000000"
      ]
     },
     "execution_count": 37,
     "metadata": {},
     "output_type": "execute_result"
    }
   ],
   "source": [
    "df2.describe()"
   ]
  },
  {
   "cell_type": "code",
   "execution_count": 38,
   "metadata": {},
   "outputs": [],
   "source": [
    "# Frequentie tabel - histogram plotten van stm_prioriteit"
   ]
  },
  {
   "cell_type": "code",
   "execution_count": 39,
   "metadata": {},
   "outputs": [],
   "source": [
    "# De meetniveau van stm_oorz_code is een discrete variabel - moeten we die aanpassen "
   ]
  },
  {
   "cell_type": "code",
   "execution_count": 40,
   "metadata": {},
   "outputs": [
    {
     "data": {
      "image/png": "[encoded data removed]",
      "text/plain": [
       "<Figure size 432x288 with 1 Axes>"
      ]
     },
     "metadata": {
      "needs_background": "light"
     },
     "output_type": "display_data"
    }
   ],
   "source": [
    "plt.scatter(df2['stm_prioriteit'],df2['stm_fh_duur'] )\n",
    "plt.show()"
   ]
  },
  {
   "cell_type": "code",
   "execution_count": 41,
   "metadata": {},
   "outputs": [
    {
     "data": {
      "text/plain": [
       "<matplotlib.axes._subplots.AxesSubplot at 0x7fcc5c6cd190>"
      ]
     },
     "execution_count": 41,
     "metadata": {},
     "output_type": "execute_result"
    },
    {
     "data": {
      "image/png": "[encoded data removed]",
      "text/plain": [
       "<Figure size 432x288 with 1 Axes>"
      ]
     },
     "metadata": {
      "needs_background": "light"
     },
     "output_type": "display_data"
    }
   ],
   "source": [
    "df2.boxplot()"
   ]
  },
  {
   "cell_type": "code",
   "execution_count": 42,
   "metadata": {},
   "outputs": [],
   "source": [
    "# First glans is te zien dat er veel uitschieters voorkomen in de target variabel en niet bij de features."
   ]
  },
  {
   "cell_type": "code",
   "execution_count": 43,
   "metadata": {},
   "outputs": [
    {
     "name": "stdout",
     "output_type": "stream",
     "text": [
      "Q1 = 144.0, Q3 = 221.0\n",
      "IQR = Q3 - Q1 = 144.0 - 221.0 = 77.0\n",
      "Lengte van de data : 898526\n",
      "\n",
      "Aantal sterke outliers boven de boxplot, boven de 452.0 : 102\n",
      "Aantal zwakke outliers boven de boxplot, tussen 336.5 en 452.0 : 0\n"
     ]
    },
    {
     "data": {
      "text/plain": [
       "<matplotlib.axes._subplots.AxesSubplot at 0x7fcc12ad6be0>"
      ]
     },
     "execution_count": 43,
     "metadata": {},
     "output_type": "execute_result"
    },
    {
     "data": {
      "image/png": "[encoded data removed]",
      "text/plain": [
       "<Figure size 432x288 with 1 Axes>"
      ]
     },
     "metadata": {
      "needs_background": "light"
     },
     "output_type": "display_data"
    }
   ],
   "source": [
    "oorz_code = df2['stm_oorz_code'].sort_values() # sorteer de data\n",
    "\n",
    "# bereken de Q1, Q3 en de IQR \n",
    "q1 = oorz_code.quantile(0.25)\n",
    "q3 = oorz_code.quantile(0.75)\n",
    "iqr = q3-q1\n",
    "print(\"Q1 = {}, Q3 = {}\".format(q1, q3)) \n",
    "print(\"IQR = Q3 - Q1 = {} - {} = {}\".format(q1,q3,iqr))\n",
    "\n",
    "# Bereken het aantal zwakke en sterke outliers boven en onder de boxplot.\n",
    "zwakke_lower = oorz_code[(oorz_code<=q1-1.5*iqr)&(oorz_code>q1-3*iqr)].count()\n",
    "sterke_lower = oorz_code[oorz_code<q1-3*iqr].count()\n",
    "zwakke_upper = oorz_code[(oorz_code>=q3+1.5*iqr)&(oorz_code<q3+3*iqr)].count()\n",
    "sterke_upper = oorz_code[oorz_code>q3+3*iqr].count()\n",
    "\n",
    "print(\"Lengte van de data : {}\".format(len(oorz_code)))\n",
    "print()\n",
    "print(\"Aantal sterke outliers boven de boxplot, boven de {} : {}\".format(q3+3*iqr, sterke_upper))\n",
    "print(\"Aantal zwakke outliers boven de boxplot, tussen {} en {} : {}\".format(q3+1.5*iqr,q3+3*iqr, zwakke_upper))\n",
    "\n",
    "df2['stm_oorz_code'].plot.box()\n",
    "# Deze kan de storingen die een code hebben van 999.0. Er moet met de PO eerst besproken worden of ze daadwerkelijk outliers zijn of kan we ze beschouwen als data."
   ]
  },
  {
   "cell_type": "code",
   "execution_count": 44,
   "metadata": {},
   "outputs": [
    {
     "name": "stdout",
     "output_type": "stream",
     "text": [
      "Q1 = 2.0, Q3 = 5.0\n",
      "IQR = Q3 - Q1 = 2.0 - 5.0 = 3.0\n",
      "Lengte van de data : 898526\n",
      "\n",
      "Aantal sterke outliers boven de boxplot, boven de 14.0 : 0\n",
      "Aantal zwakke outliers boven de boxplot, tussen 9.5 en 14.0 : 0\n"
     ]
    },
    {
     "data": {
      "text/plain": [
       "<matplotlib.axes._subplots.AxesSubplot at 0x7fcbf22f50d0>"
      ]
     },
     "execution_count": 44,
     "metadata": {},
     "output_type": "execute_result"
    },
    {
     "data": {
      "image/png": "[encoded data removed]",
      "text/plain": [
       "<Figure size 432x288 with 1 Axes>"
      ]
     },
     "metadata": {
      "needs_background": "light"
     },
     "output_type": "display_data"
    }
   ],
   "source": [
    "oorz_code = df2['stm_prioriteit'].sort_values() # sorteer de data\n",
    "\n",
    "# bereken de Q1, Q3 en de IQR \n",
    "q1 = oorz_code.quantile(0.25)\n",
    "q3 = oorz_code.quantile(0.75)\n",
    "iqr = q3-q1\n",
    "print(\"Q1 = {}, Q3 = {}\".format(q1, q3)) \n",
    "print(\"IQR = Q3 - Q1 = {} - {} = {}\".format(q1,q3,iqr))\n",
    "\n",
    "# Bereken het aantal zwakke en sterke outliers boven en onder de boxplot.\n",
    "zwakke_lower = oorz_code[(oorz_code<=q1-1.5*iqr)&(oorz_code>q1-3*iqr)].count()\n",
    "sterke_lower = oorz_code[oorz_code<q1-3*iqr].count()\n",
    "zwakke_upper = oorz_code[(oorz_code>=q3+1.5*iqr)&(oorz_code<q3+3*iqr)].count()\n",
    "sterke_upper = oorz_code[oorz_code>q3+3*iqr].count()\n",
    "\n",
    "print(\"Lengte van de data : {}\".format(len(oorz_code)))\n",
    "print()\n",
    "print(\"Aantal sterke outliers boven de boxplot, boven de {} : {}\".format(q3+3*iqr, sterke_upper))\n",
    "print(\"Aantal zwakke outliers boven de boxplot, tussen {} en {} : {}\".format(q3+1.5*iqr,q3+3*iqr, zwakke_upper))\n",
    "\n",
    "df2['stm_prioriteit'].plot.box() \n",
    "# Uit de boxplot is er geen sprake van uitschieters en de kolom lijkt wel te kloppen."
   ]
  },
  {
   "cell_type": "code",
   "execution_count": 45,
   "metadata": {},
   "outputs": [],
   "source": [
    "# De berkening voor de sterke en zwakke uitschieters is te zien in de uitwerking voor de baseline model.\n",
    "# PO vragen : Wil uj dat we alles boven de 826 min nemen. Wat is volgens u de maximale reparatietijd dat u wil voospeld kan worden?\n",
    "# Hierdoor kunnen we de rijen filteren van de stm_fh_duur."
   ]
  },
  {
   "cell_type": "code",
   "execution_count": 46,
   "metadata": {},
   "outputs": [
    {
     "data": {
      "text/plain": [
       "613"
      ]
     },
     "execution_count": 46,
     "metadata": {},
     "output_type": "execute_result"
    }
   ],
   "source": [
    "df2['stm_fh_duur'][df2['stm_fh_duur'] >100000].count()"
   ]
  },
  {
   "cell_type": "code",
   "execution_count": 47,
   "metadata": {},
   "outputs": [
    {
     "data": {
      "text/plain": [
       "898488"
      ]
     },
     "execution_count": 47,
     "metadata": {},
     "output_type": "execute_result"
    }
   ],
   "source": [
    "df2['stm_fh_duur'].count()"
   ]
  },
  {
   "cell_type": "code",
   "execution_count": 48,
   "metadata": {},
   "outputs": [
    {
     "data": {
      "text/plain": [
       "923.1487710464692"
      ]
     },
     "execution_count": 48,
     "metadata": {},
     "output_type": "execute_result"
    }
   ],
   "source": [
    "df2['stm_fh_duur'].mean()"
   ]
  },
  {
   "cell_type": "code",
   "execution_count": 49,
   "metadata": {},
   "outputs": [
    {
     "data": {
      "image/png": "[encoded data removed]",
      "text/plain": [
       "<Figure size 432x288 with 1 Axes>"
      ]
     },
     "metadata": {
      "needs_background": "light"
     },
     "output_type": "display_data"
    }
   ],
   "source": [
    "# Onze target variabel plotten in een \n",
    "x = range(0,len(df2))\n",
    "plt.plot(x,df2['stm_fh_duur'].sort_values())\n",
    "plt.xlim(896000, 900000)\n",
    "#plt.ylim(100000, 300000)\n",
    "plt.title('Hersteltijd')\n",
    "plt.show()\n"
   ]
  },
  {
   "cell_type": "code",
   "execution_count": 50,
   "metadata": {},
   "outputs": [],
   "source": [
    "# We kunnen op base van observatie, de maximale reparatietijd die we gaat voorspellen , gebruiken om onze dataset te filteren.\n",
    "#  # TODO : maximal reparatie bereken "
   ]
  },
  {
   "cell_type": "code",
   "execution_count": 51,
   "metadata": {},
   "outputs": [
    {
     "data": {
      "text/plain": [
       "283309"
      ]
     },
     "execution_count": 51,
     "metadata": {},
     "output_type": "execute_result"
    }
   ],
   "source": [
    "df2['stm_fh_duur'][df2['stm_fh_duur']<= 30].count()"
   ]
  },
  {
   "cell_type": "code",
   "execution_count": 52,
   "metadata": {},
   "outputs": [
    {
     "data": {
      "text/html": [
       "<div>\n",
       "<style scoped>\n",
       "    .dataframe tbody tr th:only-of-type {\n",
       "        vertical-align: middle;\n",
       "    }\n",
       "\n",
       "    .dataframe tbody tr th {\n",
       "        vertical-align: top;\n",
       "    }\n",
       "\n",
       "    .dataframe thead th {\n",
       "        text-align: right;\n",
       "    }\n",
       "</style>\n",
       "<table border=\"1\" class=\"dataframe\">\n",
       "  <thead>\n",
       "    <tr style=\"text-align: right;\">\n",
       "      <th></th>\n",
       "      <th>counts</th>\n",
       "    </tr>\n",
       "    <tr>\n",
       "      <th>unique_values</th>\n",
       "      <th></th>\n",
       "    </tr>\n",
       "  </thead>\n",
       "  <tbody>\n",
       "    <tr>\n",
       "      <th>0.0</th>\n",
       "      <td>171713</td>\n",
       "    </tr>\n",
       "    <tr>\n",
       "      <th>1.0</th>\n",
       "      <td>2835</td>\n",
       "    </tr>\n",
       "    <tr>\n",
       "      <th>2.0</th>\n",
       "      <td>3558</td>\n",
       "    </tr>\n",
       "    <tr>\n",
       "      <th>3.0</th>\n",
       "      <td>6389</td>\n",
       "    </tr>\n",
       "    <tr>\n",
       "      <th>4.0</th>\n",
       "      <td>5241</td>\n",
       "    </tr>\n",
       "    <tr>\n",
       "      <th>...</th>\n",
       "      <td>...</td>\n",
       "    </tr>\n",
       "    <tr>\n",
       "      <th>525621.0</th>\n",
       "      <td>2</td>\n",
       "    </tr>\n",
       "    <tr>\n",
       "      <th>525660.0</th>\n",
       "      <td>2</td>\n",
       "    </tr>\n",
       "    <tr>\n",
       "      <th>525696.0</th>\n",
       "      <td>2</td>\n",
       "    </tr>\n",
       "    <tr>\n",
       "      <th>527176.0</th>\n",
       "      <td>2</td>\n",
       "    </tr>\n",
       "    <tr>\n",
       "      <th>528297.0</th>\n",
       "      <td>1</td>\n",
       "    </tr>\n",
       "  </tbody>\n",
       "</table>\n",
       "<p>16930 rows × 1 columns</p>\n",
       "</div>"
      ],
      "text/plain": [
       "               counts\n",
       "unique_values        \n",
       "0.0            171713\n",
       "1.0              2835\n",
       "2.0              3558\n",
       "3.0              6389\n",
       "4.0              5241\n",
       "...               ...\n",
       "525621.0            2\n",
       "525660.0            2\n",
       "525696.0            2\n",
       "527176.0            2\n",
       "528297.0            1\n",
       "\n",
       "[16930 rows x 1 columns]"
      ]
     },
     "execution_count": 52,
     "metadata": {},
     "output_type": "execute_result"
    }
   ],
   "source": [
    "df3 = df2['stm_fh_duur'].value_counts().rename_axis('unique_values').to_frame('counts')\n",
    "df3 = df3.sort_values(by=['unique_values'])\n",
    "df3"
   ]
  },
  {
   "cell_type": "markdown",
   "metadata": {},
   "source": [
    "Hoe vaak moet de tijd voorkomen om voorspeld?"
   ]
  },
  {
   "cell_type": "markdown",
   "metadata": {},
   "source": [
    "### Data Preparation "
   ]
  },
  {
   "cell_type": "code",
   "execution_count": 53,
   "metadata": {},
   "outputs": [],
   "source": [
    "# Alle Nan waardes verwijderen\n",
    "df2 = df2.dropna()\n",
    "df2 = df2[(df2['stm_oorz_code'].isin([33, 48,51, 999]))== False] # de rijen verwijderen waar oorzaak groep is gelijk aan 33, 48, 51 en 999"
   ]
  },
  {
   "cell_type": "code",
   "execution_count": 54,
   "metadata": {},
   "outputs": [
    {
     "data": {
      "text/plain": [
       "0"
      ]
     },
     "execution_count": 54,
     "metadata": {},
     "output_type": "execute_result"
    }
   ],
   "source": [
    "len(df2)- 844900 # bovenstaande code klopt"
   ]
  },
  {
   "cell_type": "code",
   "execution_count": 55,
   "metadata": {
    "scrolled": true
   },
   "outputs": [
    {
     "data": {
      "text/html": [
       "<div>\n",
       "<style scoped>\n",
       "    .dataframe tbody tr th:only-of-type {\n",
       "        vertical-align: middle;\n",
       "    }\n",
       "\n",
       "    .dataframe tbody tr th {\n",
       "        vertical-align: top;\n",
       "    }\n",
       "\n",
       "    .dataframe thead th {\n",
       "        text-align: right;\n",
       "    }\n",
       "</style>\n",
       "<table border=\"1\" class=\"dataframe\">\n",
       "  <thead>\n",
       "    <tr style=\"text-align: right;\">\n",
       "      <th></th>\n",
       "      <th>stm_oorz_code</th>\n",
       "      <th>stm_prioriteit</th>\n",
       "      <th>stm_fh_duur</th>\n",
       "      <th>stm_oorz_groep_ONR-DERD</th>\n",
       "      <th>stm_oorz_groep_ONR-RIB</th>\n",
       "      <th>stm_oorz_groep_TECHONV</th>\n",
       "      <th>stm_oorz_groep_WEER</th>\n",
       "    </tr>\n",
       "  </thead>\n",
       "  <tbody>\n",
       "    <tr>\n",
       "      <th>1</th>\n",
       "      <td>133.0</td>\n",
       "      <td>9.0</td>\n",
       "      <td>0.0</td>\n",
       "      <td>0</td>\n",
       "      <td>1</td>\n",
       "      <td>0</td>\n",
       "      <td>0</td>\n",
       "    </tr>\n",
       "    <tr>\n",
       "      <th>2</th>\n",
       "      <td>143.0</td>\n",
       "      <td>9.0</td>\n",
       "      <td>51.0</td>\n",
       "      <td>1</td>\n",
       "      <td>0</td>\n",
       "      <td>0</td>\n",
       "      <td>0</td>\n",
       "    </tr>\n",
       "    <tr>\n",
       "      <th>3</th>\n",
       "      <td>142.0</td>\n",
       "      <td>9.0</td>\n",
       "      <td>40.0</td>\n",
       "      <td>1</td>\n",
       "      <td>0</td>\n",
       "      <td>0</td>\n",
       "      <td>0</td>\n",
       "    </tr>\n",
       "    <tr>\n",
       "      <th>4</th>\n",
       "      <td>142.0</td>\n",
       "      <td>9.0</td>\n",
       "      <td>6.0</td>\n",
       "      <td>1</td>\n",
       "      <td>0</td>\n",
       "      <td>0</td>\n",
       "      <td>0</td>\n",
       "    </tr>\n",
       "    <tr>\n",
       "      <th>5</th>\n",
       "      <td>218.0</td>\n",
       "      <td>9.0</td>\n",
       "      <td>7.0</td>\n",
       "      <td>0</td>\n",
       "      <td>0</td>\n",
       "      <td>1</td>\n",
       "      <td>0</td>\n",
       "    </tr>\n",
       "    <tr>\n",
       "      <th>...</th>\n",
       "      <td>...</td>\n",
       "      <td>...</td>\n",
       "      <td>...</td>\n",
       "      <td>...</td>\n",
       "      <td>...</td>\n",
       "      <td>...</td>\n",
       "      <td>...</td>\n",
       "    </tr>\n",
       "    <tr>\n",
       "      <th>898521</th>\n",
       "      <td>215.0</td>\n",
       "      <td>5.0</td>\n",
       "      <td>83.0</td>\n",
       "      <td>0</td>\n",
       "      <td>0</td>\n",
       "      <td>1</td>\n",
       "      <td>0</td>\n",
       "    </tr>\n",
       "    <tr>\n",
       "      <th>898522</th>\n",
       "      <td>218.0</td>\n",
       "      <td>2.0</td>\n",
       "      <td>83.0</td>\n",
       "      <td>0</td>\n",
       "      <td>0</td>\n",
       "      <td>1</td>\n",
       "      <td>0</td>\n",
       "    </tr>\n",
       "    <tr>\n",
       "      <th>898523</th>\n",
       "      <td>218.0</td>\n",
       "      <td>2.0</td>\n",
       "      <td>83.0</td>\n",
       "      <td>0</td>\n",
       "      <td>0</td>\n",
       "      <td>1</td>\n",
       "      <td>0</td>\n",
       "    </tr>\n",
       "    <tr>\n",
       "      <th>898524</th>\n",
       "      <td>135.0</td>\n",
       "      <td>2.0</td>\n",
       "      <td>19.0</td>\n",
       "      <td>0</td>\n",
       "      <td>1</td>\n",
       "      <td>0</td>\n",
       "      <td>0</td>\n",
       "    </tr>\n",
       "    <tr>\n",
       "      <th>898525</th>\n",
       "      <td>143.0</td>\n",
       "      <td>2.0</td>\n",
       "      <td>19.0</td>\n",
       "      <td>1</td>\n",
       "      <td>0</td>\n",
       "      <td>0</td>\n",
       "      <td>0</td>\n",
       "    </tr>\n",
       "  </tbody>\n",
       "</table>\n",
       "<p>844900 rows × 7 columns</p>\n",
       "</div>"
      ],
      "text/plain": [
       "        stm_oorz_code  stm_prioriteit  stm_fh_duur  stm_oorz_groep_ONR-DERD  \\\n",
       "1               133.0             9.0          0.0                        0   \n",
       "2               143.0             9.0         51.0                        1   \n",
       "3               142.0             9.0         40.0                        1   \n",
       "4               142.0             9.0          6.0                        1   \n",
       "5               218.0             9.0          7.0                        0   \n",
       "...               ...             ...          ...                      ...   \n",
       "898521          215.0             5.0         83.0                        0   \n",
       "898522          218.0             2.0         83.0                        0   \n",
       "898523          218.0             2.0         83.0                        0   \n",
       "898524          135.0             2.0         19.0                        0   \n",
       "898525          143.0             2.0         19.0                        1   \n",
       "\n",
       "        stm_oorz_groep_ONR-RIB  stm_oorz_groep_TECHONV  stm_oorz_groep_WEER  \n",
       "1                            1                       0                    0  \n",
       "2                            0                       0                    0  \n",
       "3                            0                       0                    0  \n",
       "4                            0                       0                    0  \n",
       "5                            0                       1                    0  \n",
       "...                        ...                     ...                  ...  \n",
       "898521                       0                       1                    0  \n",
       "898522                       0                       1                    0  \n",
       "898523                       0                       1                    0  \n",
       "898524                       1                       0                    0  \n",
       "898525                       0                       0                    0  \n",
       "\n",
       "[844900 rows x 7 columns]"
      ]
     },
     "execution_count": 55,
     "metadata": {},
     "output_type": "execute_result"
    }
   ],
   "source": [
    "#df2['stm_oorz_groep_encode'] = pd.get_dummies(df2['stm_oorz_groep'])\n",
    "# Oorzaak groepen encoden naar numeric waardes mbv get_dummies . Explain one hote eencoding/get_Dummies\n",
    "df2  = pd.get_dummies(df2, columns=[\"stm_oorz_groep\"])\n",
    "df2"
   ]
  },
  {
   "cell_type": "code",
   "execution_count": 56,
   "metadata": {},
   "outputs": [
    {
     "data": {
      "text/html": [
       "<div>\n",
       "<style scoped>\n",
       "    .dataframe tbody tr th:only-of-type {\n",
       "        vertical-align: middle;\n",
       "    }\n",
       "\n",
       "    .dataframe tbody tr th {\n",
       "        vertical-align: top;\n",
       "    }\n",
       "\n",
       "    .dataframe thead th {\n",
       "        text-align: right;\n",
       "    }\n",
       "</style>\n",
       "<table border=\"1\" class=\"dataframe\">\n",
       "  <thead>\n",
       "    <tr style=\"text-align: right;\">\n",
       "      <th></th>\n",
       "      <th>stm_oorz_code</th>\n",
       "      <th>stm_prioriteit</th>\n",
       "      <th>stm_fh_duur</th>\n",
       "      <th>stm_oorz_groep_ONR-DERD</th>\n",
       "      <th>stm_oorz_groep_ONR-RIB</th>\n",
       "      <th>stm_oorz_groep_TECHONV</th>\n",
       "      <th>stm_oorz_groep_WEER</th>\n",
       "    </tr>\n",
       "  </thead>\n",
       "  <tbody>\n",
       "    <tr>\n",
       "      <th>count</th>\n",
       "      <td>844900.000000</td>\n",
       "      <td>844900.000000</td>\n",
       "      <td>844900.000000</td>\n",
       "      <td>844900.000000</td>\n",
       "      <td>844900.000000</td>\n",
       "      <td>844900.000000</td>\n",
       "      <td>844900.000000</td>\n",
       "    </tr>\n",
       "    <tr>\n",
       "      <th>mean</th>\n",
       "      <td>193.480992</td>\n",
       "      <td>4.554731</td>\n",
       "      <td>891.511049</td>\n",
       "      <td>0.284205</td>\n",
       "      <td>0.105930</td>\n",
       "      <td>0.558758</td>\n",
       "      <td>0.051107</td>\n",
       "    </tr>\n",
       "    <tr>\n",
       "      <th>std</th>\n",
       "      <td>47.493936</td>\n",
       "      <td>2.269166</td>\n",
       "      <td>6092.177891</td>\n",
       "      <td>0.451035</td>\n",
       "      <td>0.307748</td>\n",
       "      <td>0.496536</td>\n",
       "      <td>0.220215</td>\n",
       "    </tr>\n",
       "    <tr>\n",
       "      <th>min</th>\n",
       "      <td>130.000000</td>\n",
       "      <td>1.000000</td>\n",
       "      <td>0.000000</td>\n",
       "      <td>0.000000</td>\n",
       "      <td>0.000000</td>\n",
       "      <td>0.000000</td>\n",
       "      <td>0.000000</td>\n",
       "    </tr>\n",
       "    <tr>\n",
       "      <th>25%</th>\n",
       "      <td>144.000000</td>\n",
       "      <td>2.000000</td>\n",
       "      <td>18.000000</td>\n",
       "      <td>0.000000</td>\n",
       "      <td>0.000000</td>\n",
       "      <td>0.000000</td>\n",
       "      <td>0.000000</td>\n",
       "    </tr>\n",
       "    <tr>\n",
       "      <th>50%</th>\n",
       "      <td>213.000000</td>\n",
       "      <td>4.000000</td>\n",
       "      <td>89.000000</td>\n",
       "      <td>0.000000</td>\n",
       "      <td>0.000000</td>\n",
       "      <td>1.000000</td>\n",
       "      <td>0.000000</td>\n",
       "    </tr>\n",
       "    <tr>\n",
       "      <th>75%</th>\n",
       "      <td>221.000000</td>\n",
       "      <td>5.000000</td>\n",
       "      <td>268.000000</td>\n",
       "      <td>1.000000</td>\n",
       "      <td>0.000000</td>\n",
       "      <td>1.000000</td>\n",
       "      <td>0.000000</td>\n",
       "    </tr>\n",
       "    <tr>\n",
       "      <th>max</th>\n",
       "      <td>299.000000</td>\n",
       "      <td>9.000000</td>\n",
       "      <td>528297.000000</td>\n",
       "      <td>1.000000</td>\n",
       "      <td>1.000000</td>\n",
       "      <td>1.000000</td>\n",
       "      <td>1.000000</td>\n",
       "    </tr>\n",
       "  </tbody>\n",
       "</table>\n",
       "</div>"
      ],
      "text/plain": [
       "       stm_oorz_code  stm_prioriteit    stm_fh_duur  stm_oorz_groep_ONR-DERD  \\\n",
       "count  844900.000000   844900.000000  844900.000000            844900.000000   \n",
       "mean      193.480992        4.554731     891.511049                 0.284205   \n",
       "std        47.493936        2.269166    6092.177891                 0.451035   \n",
       "min       130.000000        1.000000       0.000000                 0.000000   \n",
       "25%       144.000000        2.000000      18.000000                 0.000000   \n",
       "50%       213.000000        4.000000      89.000000                 0.000000   \n",
       "75%       221.000000        5.000000     268.000000                 1.000000   \n",
       "max       299.000000        9.000000  528297.000000                 1.000000   \n",
       "\n",
       "       stm_oorz_groep_ONR-RIB  stm_oorz_groep_TECHONV  stm_oorz_groep_WEER  \n",
       "count           844900.000000           844900.000000        844900.000000  \n",
       "mean                 0.105930                0.558758             0.051107  \n",
       "std                  0.307748                0.496536             0.220215  \n",
       "min                  0.000000                0.000000             0.000000  \n",
       "25%                  0.000000                0.000000             0.000000  \n",
       "50%                  0.000000                1.000000             0.000000  \n",
       "75%                  0.000000                1.000000             0.000000  \n",
       "max                  1.000000                1.000000             1.000000  "
      ]
     },
     "execution_count": 56,
     "metadata": {},
     "output_type": "execute_result"
    }
   ],
   "source": [
    "df2.describe()"
   ]
  },
  {
   "cell_type": "markdown",
   "metadata": {},
   "source": [
    "## Nieuw Baseline Model "
   ]
  },
  {
   "cell_type": "code",
   "execution_count": 57,
   "metadata": {},
   "outputs": [],
   "source": [
    "# Data selectie is een range is van 15 en 480.\n",
    "df2 = df2[(df2['stm_fh_duur'] >= 15) & (df2['stm_fh_duur'] <=  480)]"
   ]
  },
  {
   "cell_type": "code",
   "execution_count": 58,
   "metadata": {},
   "outputs": [
    {
     "data": {
      "text/plain": [
       "<matplotlib.axes._subplots.AxesSubplot at 0x7fcc55a29f40>"
      ]
     },
     "execution_count": 58,
     "metadata": {},
     "output_type": "execute_result"
    },
    {
     "data": {
      "image/png": "[encoded data removed]",
      "text/plain": [
       "<Figure size 432x288 with 1 Axes>"
      ]
     },
     "metadata": {
      "needs_background": "light"
     },
     "output_type": "display_data"
    }
   ],
   "source": [
    "#Nieuwe baseline model maken op bas evan de opgeschone data.\n",
    "# kopie van de data voor zekerheid\n",
    "df2_baseline = df2.copy()\n",
    "df2['stm_fh_duur'].plot.box()"
   ]
  },
  {
   "cell_type": "code",
   "execution_count": 59,
   "metadata": {},
   "outputs": [],
   "source": [
    "df2_baseline['Median']=  df2_baseline['stm_fh_duur'].median()\n",
    "# De kwaliteit/score van de model bepalen mbh van RMSE\n",
    "basescore = np.sqrt(mean_squared_error(df2_baseline.loc[:,'stm_fh_duur'],df2_baseline.loc[:,'Median']))"
   ]
  },
  {
   "cell_type": "markdown",
   "metadata": {},
   "source": [
    "## Linear regression model "
   ]
  },
  {
   "cell_type": "code",
   "execution_count": 60,
   "metadata": {},
   "outputs": [],
   "source": [
    "#Om verder te werken aan de Data Preparation gaan we een data s\n",
    "# Beargumenteren van de grens:\n",
    "# Bovengrens (Business Understanding - ): 8 uur\n",
    "# Ondergrens (Business Understanding - ): \n",
    "# Welke ondergrens kunnen we kiezen dat er niks verandert in de dienstregeling ?\n",
    "# -> Business Understanding : kies een ondergrens en beargumenteer het. - aanname "
   ]
  },
  {
   "cell_type": "code",
   "execution_count": 61,
   "metadata": {},
   "outputs": [],
   "source": [
    "# definieer de 3 verschillende datasets voor onze model"
   ]
  },
  {
   "cell_type": "code",
   "execution_count": 62,
   "metadata": {},
   "outputs": [
    {
     "data": {
      "text/plain": [
       "<seaborn.axisgrid.PairGrid at 0x7fcc54bcda30>"
      ]
     },
     "execution_count": 62,
     "metadata": {},
     "output_type": "execute_result"
    },
    {
     "data": {
      "image/png": "[encoded data removed]",
      "text/plain": [
       "<Figure size 1080x180 with 6 Axes>"
      ]
     },
     "metadata": {
      "needs_background": "light"
     },
     "output_type": "display_data"
    }
   ],
   "source": [
    "# Split data in features en target variabelen\n",
    "import seaborn as sns\n",
    "sns.pairplot(df2, x_vars= ['stm_oorz_code', 'stm_prioriteit',\n",
    "       'stm_oorz_groep_ONR-DERD', 'stm_oorz_groep_ONR-RIB',\n",
    "       'stm_oorz_groep_TECHONV', 'stm_oorz_groep_WEER'], y_vars = 'stm_fh_duur')"
   ]
  },
  {
   "cell_type": "code",
   "execution_count": 63,
   "metadata": {},
   "outputs": [],
   "source": [
    "features = df2[['stm_oorz_code', 'stm_prioriteit',\n",
    "       'stm_oorz_groep_ONR-DERD', 'stm_oorz_groep_ONR-RIB',\n",
    "       'stm_oorz_groep_TECHONV', 'stm_oorz_groep_WEER']]\n",
    "target = df2['stm_fh_duur']\n",
    "\n",
    "from sklearn.model_selection import train_test_split\n",
    "x_train, x_test, y_train, y_test = train_test_split(features, target)"
   ]
  },
  {
   "cell_type": "code",
   "execution_count": 64,
   "metadata": {},
   "outputs": [
    {
     "name": "stdout",
     "output_type": "stream",
     "text": [
      "(365311, 6)\n",
      "(365311,)\n",
      "(121771, 6)\n",
      "(121771,)\n"
     ]
    }
   ],
   "source": [
    "# Geeft de dimensie van de opgesplitste datasets\n",
    "print(x_train.shape)\n",
    "print(y_train.shape)\n",
    "print(x_test.shape)\n",
    "print(y_test.shape)"
   ]
  },
  {
   "cell_type": "code",
   "execution_count": 65,
   "metadata": {},
   "outputs": [
    {
     "data": {
      "text/plain": [
       "LinearRegression()"
      ]
     },
     "execution_count": 65,
     "metadata": {},
     "output_type": "execute_result"
    }
   ],
   "source": [
    "# Maak model\n",
    "    \n",
    "# import model\n",
    "from sklearn.linear_model import LinearRegression\n",
    "\n",
    "linreg = LinearRegression()\n",
    "\n",
    "#fit model \n",
    "linreg.fit(x_train, y_train)\n"
   ]
  },
  {
   "cell_type": "code",
   "execution_count": 66,
   "metadata": {},
   "outputs": [],
   "source": [
    "# Make prediction\n",
    "y_pred = linreg.predict(x_test)"
   ]
  },
  {
   "cell_type": "code",
   "execution_count": 67,
   "metadata": {},
   "outputs": [],
   "source": [
    "#evaluate using RMSE\n",
    "from sklearn.metrics import mean_squared_error as mse\n",
    "lrscore = np.sqrt(mse(y_test, y_pred))"
   ]
  },
  {
   "cell_type": "code",
   "execution_count": 68,
   "metadata": {},
   "outputs": [],
   "source": [
    "# Probleem : baseline model maken voor elke data selectie ."
   ]
  },
  {
   "cell_type": "code",
   "execution_count": 69,
   "metadata": {},
   "outputs": [
    {
     "data": {
      "text/plain": [
       "8.68893825503075"
      ]
     },
     "execution_count": 69,
     "metadata": {},
     "output_type": "execute_result"
    }
   ],
   "source": [
    "((basescore - lrscore )/ basescore)*100 "
   ]
  },
  {
   "cell_type": "markdown",
   "metadata": {},
   "source": [
    "##### Conclusie:\n",
    "LR model < baseline model  . Er is een  verschil van ongeveer 9 % verbetert. Dit is niet zo'n groot verschil , dus we kunnen een betere model maken ."
   ]
  },
  {
   "cell_type": "markdown",
   "metadata": {},
   "source": [
    "#### TODO \n",
    "* Documentatie van de de data understanding tot modelling - Ama \n",
    "* Range van de reeparatie tijd beargumenteren/ documenteren.- Kai en Ama\n",
    "* Decision Tree Regression toepassen - https://www.saedsayad.com/decision_tree_reg.htm  - Quinn\n",
    "* AdviesRapport:- Kai \n",
    "    * Context uitwerken \n",
    "    * BPMN model / Worflow diagram \n",
    "* Dashboard - Quinn\n"
   ]
  },
  {
   "cell_type": "markdown",
   "metadata": {},
   "source": [
    "# Dashboard"
   ]
  },
  {
   "cell_type": "code",
   "execution_count": 70,
   "metadata": {},
   "outputs": [
    {
     "data": {
      "text/html": [
       "<div>\n",
       "<style scoped>\n",
       "    .dataframe tbody tr th:only-of-type {\n",
       "        vertical-align: middle;\n",
       "    }\n",
       "\n",
       "    .dataframe tbody tr th {\n",
       "        vertical-align: top;\n",
       "    }\n",
       "\n",
       "    .dataframe thead th {\n",
       "        text-align: right;\n",
       "    }\n",
       "</style>\n",
       "<table border=\"1\" class=\"dataframe\">\n",
       "  <thead>\n",
       "    <tr style=\"text-align: right;\">\n",
       "      <th></th>\n",
       "      <th>stm_oorz_groep_ONR-DERD</th>\n",
       "      <th>stm_oorz_groep_ONR-RIB</th>\n",
       "      <th>stm_oorz_groep_TECHONV</th>\n",
       "      <th>stm_oorz_groep_WEER</th>\n",
       "    </tr>\n",
       "  </thead>\n",
       "  <tbody>\n",
       "    <tr>\n",
       "      <th>2</th>\n",
       "      <td>1</td>\n",
       "      <td>0</td>\n",
       "      <td>0</td>\n",
       "      <td>0</td>\n",
       "    </tr>\n",
       "    <tr>\n",
       "      <th>3</th>\n",
       "      <td>1</td>\n",
       "      <td>0</td>\n",
       "      <td>0</td>\n",
       "      <td>0</td>\n",
       "    </tr>\n",
       "    <tr>\n",
       "      <th>7</th>\n",
       "      <td>1</td>\n",
       "      <td>0</td>\n",
       "      <td>0</td>\n",
       "      <td>0</td>\n",
       "    </tr>\n",
       "    <tr>\n",
       "      <th>8</th>\n",
       "      <td>1</td>\n",
       "      <td>0</td>\n",
       "      <td>0</td>\n",
       "      <td>0</td>\n",
       "    </tr>\n",
       "    <tr>\n",
       "      <th>11</th>\n",
       "      <td>1</td>\n",
       "      <td>0</td>\n",
       "      <td>0</td>\n",
       "      <td>0</td>\n",
       "    </tr>\n",
       "    <tr>\n",
       "      <th>...</th>\n",
       "      <td>...</td>\n",
       "      <td>...</td>\n",
       "      <td>...</td>\n",
       "      <td>...</td>\n",
       "    </tr>\n",
       "    <tr>\n",
       "      <th>898521</th>\n",
       "      <td>0</td>\n",
       "      <td>0</td>\n",
       "      <td>1</td>\n",
       "      <td>0</td>\n",
       "    </tr>\n",
       "    <tr>\n",
       "      <th>898522</th>\n",
       "      <td>0</td>\n",
       "      <td>0</td>\n",
       "      <td>1</td>\n",
       "      <td>0</td>\n",
       "    </tr>\n",
       "    <tr>\n",
       "      <th>898523</th>\n",
       "      <td>0</td>\n",
       "      <td>0</td>\n",
       "      <td>1</td>\n",
       "      <td>0</td>\n",
       "    </tr>\n",
       "    <tr>\n",
       "      <th>898524</th>\n",
       "      <td>0</td>\n",
       "      <td>1</td>\n",
       "      <td>0</td>\n",
       "      <td>0</td>\n",
       "    </tr>\n",
       "    <tr>\n",
       "      <th>898525</th>\n",
       "      <td>1</td>\n",
       "      <td>0</td>\n",
       "      <td>0</td>\n",
       "      <td>0</td>\n",
       "    </tr>\n",
       "  </tbody>\n",
       "</table>\n",
       "<p>487082 rows × 4 columns</p>\n",
       "</div>"
      ],
      "text/plain": [
       "        stm_oorz_groep_ONR-DERD  stm_oorz_groep_ONR-RIB  \\\n",
       "2                             1                       0   \n",
       "3                             1                       0   \n",
       "7                             1                       0   \n",
       "8                             1                       0   \n",
       "11                            1                       0   \n",
       "...                         ...                     ...   \n",
       "898521                        0                       0   \n",
       "898522                        0                       0   \n",
       "898523                        0                       0   \n",
       "898524                        0                       1   \n",
       "898525                        1                       0   \n",
       "\n",
       "        stm_oorz_groep_TECHONV  stm_oorz_groep_WEER  \n",
       "2                            0                    0  \n",
       "3                            0                    0  \n",
       "7                            0                    0  \n",
       "8                            0                    0  \n",
       "11                           0                    0  \n",
       "...                        ...                  ...  \n",
       "898521                       1                    0  \n",
       "898522                       1                    0  \n",
       "898523                       1                    0  \n",
       "898524                       0                    0  \n",
       "898525                       0                    0  \n",
       "\n",
       "[487082 rows x 4 columns]"
      ]
     },
     "execution_count": 70,
     "metadata": {},
     "output_type": "execute_result"
    }
   ],
   "source": [
    "pd.get_dummies(df2, 'ONR-RIB')[['stm_oorz_groep_ONR-DERD', 'stm_oorz_groep_ONR-RIB', 'stm_oorz_groep_TECHONV', 'stm_oorz_groep_WEER']]"
   ]
  },
  {
   "cell_type": "code",
   "execution_count": 71,
   "metadata": {},
   "outputs": [
    {
     "ename": "SyntaxError",
     "evalue": "Missing parentheses in call to 'print'. Did you mean print(iuhsdf)? (<ipython-input-71-06734bec72b8>, line 1)",
     "output_type": "error",
     "traceback": [
      "\u001b[0;36m  File \u001b[0;32m\"<ipython-input-71-06734bec72b8>\"\u001b[0;36m, line \u001b[0;32m1\u001b[0m\n\u001b[0;31m    print iuhsdf\u001b[0m\n\u001b[0m          ^\u001b[0m\n\u001b[0;31mSyntaxError\u001b[0m\u001b[0;31m:\u001b[0m Missing parentheses in call to 'print'. Did you mean print(iuhsdf)?\n"
     ]
    }
   ],
   "source": [
    "print iuhsdf\n",
    "# This is for your own good"
   ]
  },
  {
   "cell_type": "code",
   "execution_count": null,
   "metadata": {},
   "outputs": [],
   "source": [
    "print(linreg.predict(np.array([132, 1, 1, 0, 0, 0]).reshape(1, -1)))\n",
    "print(linreg.predict(np.array([132, 2, 1, 0, 0, 0]).reshape(1, -1)))\n",
    "print(linreg.predict(np.array([132, 3, 1, 0, 0, 0]).reshape(1, -1)))\n",
    "print(linreg.predict(np.array([132, 4, 1, 0, 0, 0]).reshape(1, -1)))\n",
    "print(linreg.predict(np.array([132, 5, 1, 0, 0, 0]).reshape(1, -1)))\n",
    "print(linreg.predict(np.array([132, 6, 1, 0, 0, 0]).reshape(1, -1)))\n",
    "print(linreg.predict(np.array([132, 7, 1, 0, 0, 0]).reshape(1, -1)))\n",
    "print(linreg.predict(np.array([132, 8, 1, 0, 0, 0]).reshape(1, -1)))\n",
    "print(linreg.predict(np.array([132, 9, 1, 0, 0, 0]).reshape(1, -1)))\n",
    "print(linreg.predict(np.array([132, 10, 1, 0, 0, 0]).reshape(1, -1)))"
   ]
  },
  {
   "cell_type": "code",
   "execution_count": null,
   "metadata": {},
   "outputs": [],
   "source": [
    "from tkinter import *\n",
    "from tkinter import ttk\n",
    "from datetime import datetime\n",
    "\n",
    "\n",
    "master = Tk()\n",
    "frame = Frame(master, background='red', borderwidth=4, relief='raised')\n",
    "Label(frame, text=\"Oorzaakscode\", width=12).grid(row=0)\n",
    "Label(frame, text=\"Oorzaaksgroep\", width=12).grid(row=1)\n",
    "Label(frame, text=\"Prioriteit\", width=12).grid(row=2)\n",
    "\n",
    "def get_predict(code, groep, prioriteit): #TODO\n",
    "    if groep == 'ONR-DERD':\n",
    "        result = str(linreg.predict(np.array([code, prioriteit, 1, 0, 0, 0]).reshape(1, -1)))\n",
    "        result = result.replace('[', '')\n",
    "        result = result.replace(']', '')\n",
    "        return float(result)\n",
    "    elif groep == 'ONR-RIB':\n",
    "        result = str(linreg.predict(np.array([code, prioriteit, 0, 1, 0, 0]).reshape(1, -1)))\n",
    "        result = result.replace('[', '')\n",
    "        result = result.replace(']', '')\n",
    "        return float(result)\n",
    "    elif groep == 'TECHONV':\n",
    "        result = str(linreg.predict(np.array([code, prioriteit, 0, 0, 1, 0]).reshape(1, -1)))\n",
    "        result = result.replace('[', '')\n",
    "        result = result.replace(']', '')\n",
    "        return float(result)\n",
    "    elif groep == 'WEER':\n",
    "        result = str(linreg.predict(np.array([code, prioriteit, 0, 0, 0, 1]).reshape(1, -1)))\n",
    "        result = result.replace('[', '')\n",
    "        result = result.replace(']', '')\n",
    "        return float(result)\n",
    "\n",
    "def get_accuracy(value): #TODO\n",
    "    return int(value)*10\n",
    "\n",
    "def get_color(percent):\n",
    "    if 0 < percent < 21:\n",
    "        return 'red'\n",
    "    elif 20 < percent < 41:\n",
    "        return 'orange'\n",
    "    elif 40 < percent < 61:\n",
    "        return 'yellow'\n",
    "    elif 60 < percent < 81:\n",
    "        return 'green yellow'\n",
    "    elif 80 < percent < 101:\n",
    "        return 'green2'\n",
    "    else:\n",
    "        return 'blue'\n",
    "\n",
    "def get_input():\n",
    "    code = e1.get()\n",
    "    groep = e2.get()\n",
    "    prioriteit = e3.get()\n",
    "    if code != \"\" and groep != \"\" and prioriteit != \"\":\n",
    "        prediction = get_predict(int(code), groep, int(prioriteit)) #TODO\n",
    "        accuracy = get_accuracy(prediction) #TODO\n",
    "        color = get_color(accuracy)\n",
    "        tree.insert(\"\", END, values=(code, groep, prioriteit, prediction, str(accuracy)+\"%\", datetime.now().strftime(\"%d-%m-%Y %H:%M\")), tags=color)\n",
    "        e1.set('')\n",
    "        e2.set('')\n",
    "        e3.set('')\n",
    "\n",
    "\n",
    "def remove():\n",
    "    if tree.selection():\n",
    "        tree.delete(tree.selection())\n",
    "\n",
    "\n",
    "def predict():\n",
    "    if tree.selection():\n",
    "        print(tree.item(tree.selection())[\"values\"])\n",
    "\n",
    "\n",
    "# e1 = Entry(master)\n",
    "# e2 = Entry(master)\n",
    "# e3 = Entry(master)\n",
    "\n",
    "e1 = ttk.Combobox(frame,\n",
    "                  state=\"readonly\",\n",
    "                  values=[130, 131, 132, 133, 134, 135, 136, 140, 141,\n",
    "                        142, 143, 144, 145, 146, 147, 148, 149, 150,\n",
    "                        151, 152, 153, 154, 181, 182, 183, 184, 185,\n",
    "                        186, 187, 188, 189, 201, 202, 203, 204, 205,\n",
    "                        206, 207, 208, 209, 210, 211, 212, 213, 214,\n",
    "                        215, 218, 219, 220, 221, 222, 223, 224, 225,\n",
    "                        226, 227, 228, 229, 230, 231, 233, 234, 235,\n",
    "                        239, 240, 241, 242, 250, 294, 298, 299])\n",
    "e2 = ttk.Combobox(frame, state=\"readonly\", values=['ONR-RIB', 'ONR-DERD', 'TECHONV', 'WEER'])\n",
    "e3 = ttk.Combobox(frame, state=\"readonly\", values=[1, 2, 3, 4, 5, 6, 7, 8, 9, 10])\n",
    "\n",
    "b = Button(frame, width=12, text=\"print\", command=get_input)\n",
    "# t = Text(master, height=10, width=50, font=(\"Calibri\", 16))\n",
    "tree = ttk.Treeview(master)\n",
    "\n",
    "btn = Button(master, text=\"delete\", command=remove)\n",
    "btn2 = Button(master, text=\"predict\", command=predict)\n",
    "\n",
    "\n",
    "def treeview_sort_column(tree, col, reverse):\n",
    "    l = [(tree.set(k, col), k) for k in tree.get_children('')]\n",
    "    l.sort(reverse=reverse)\n",
    "\n",
    "    # rearrange items in sorted positions\n",
    "    for index, (val, k) in enumerate(l):\n",
    "        tree.move(k, '', index)\n",
    "\n",
    "    # reverse sort next time\n",
    "    tree.heading(col, command=lambda _col=col: treeview_sort_column(tree, _col, not reverse))\n",
    "\n",
    "\n",
    "style = ttk.Style()\n",
    "style.configure(\"Treeview.Heading\", font=(None, 13))\n",
    "tree[\"columns\"] = [\"Oorzaakscode\", \"Oorzaaksgroep\", \"Prioriteit\", \"Voorspeltijd\", \"Accuracy\", \"Toevoegdatum\"]\n",
    "tree[\"show\"] = \"headings\"\n",
    "tree.heading(\"Oorzaakscode\", text=\"Oorzaakscode\", command=lambda col=\"Oorzaakscode\": treeview_sort_column(tree, col, False))\n",
    "tree.column(\"Oorzaakscode\", minwidth=0, width=100)\n",
    "tree.heading(\"Oorzaaksgroep\", text=\"Oorzaaksgroep\", command=lambda col=\"Oorzaaksgroep\": treeview_sort_column(tree, col, False))\n",
    "tree.column(\"Oorzaaksgroep\", minwidth=0, width=100)\n",
    "tree.heading(\"Prioriteit\", text=\"Prioriteit\", command=lambda col=\"Prioriteit\": treeview_sort_column(tree, col, False))\n",
    "tree.column(\"Prioriteit\", minwidth=0, width=100)\n",
    "tree.heading(\"Voorspeltijd\", text=\"Voorspeltijd\", command=lambda col=\"Voorspeltijd\": treeview_sort_column(tree, col, False))\n",
    "tree.column(\"Voorspeltijd\", minwidth=0, width=150)\n",
    "tree.heading(\"Accuracy\", text=\"Accuracy\", command=lambda col=\"Accuracy\": treeview_sort_column(tree, col, False))\n",
    "tree.column(\"Accuracy\", minwidth=0, width=100)\n",
    "tree.heading(\"Toevoegdatum\", text=\"Toevoegdatum\", command=lambda col=\"Toevoegdatum\": treeview_sort_column(tree, col, False))\n",
    "tree.column(\"Toevoegdatum\", minwidth=0, width=150)\n",
    "\n",
    "tree.tag_configure('red', background='red')\n",
    "tree.tag_configure('orange', background='orange')\n",
    "tree.tag_configure('yellow', background='yellow')\n",
    "tree.tag_configure('green yellow', background='green yellow')\n",
    "tree.tag_configure('green2', background='green2')\n",
    "tree.tag_configure('blue', background='blue')\n",
    "\n",
    "def handle_click(event):\n",
    "    if tree.identify_region(event.x, event.y) == \"separator\":\n",
    "        return \"break\"\n",
    "\n",
    "\n",
    "tree.bind('<Button-1>', handle_click)\n",
    "\n",
    "frame.grid(row=0, column=0, rowspan=8, columnspan=2, sticky=NSEW)\n",
    "\n",
    "# frame.grid_rowconfigure(0, weight=1)\n",
    "# frame.grid_columnconfigure(0, weight=1)\n",
    "\n",
    "e1.grid(row=0, column=1, padx=5, pady=5)\n",
    "e2.grid(row=1, column=1, padx=5, pady=5)\n",
    "e3.grid(row=2, column=1, padx=5, pady=5)\n",
    "b.grid(row=3, padx=5, pady=25)\n",
    "tree.grid(row=0, column=2, rowspan=8, columnspan=2)\n",
    "btn.grid(row=10, column=3)\n",
    "btn2.grid(row=10, column=2)\n",
    "# t.grid(row=0, column=2, rowspan= 8)\n",
    "\n",
    "# t.configure(state='disabled')\n",
    "master.geometry('1100x600')\n",
    "\n",
    "mainloop()"
   ]
  },
  {
   "cell_type": "code",
   "execution_count": null,
   "metadata": {},
   "outputs": [],
   "source": []
  }
 ],
 "metadata": {
  "kernelspec": {
   "display_name": "Python 3",
   "language": "python",
   "name": "python3"
  },
  "language_info": {
   "codemirror_mode": {
    "name": "ipython",
    "version": 3
   },
   "file_extension": ".py",
   "mimetype": "text/x-python",
   "name": "python",
   "nbconvert_exporter": "python",
   "pygments_lexer": "ipython3",
   "version": "3.8.3"
  }
 },
 "nbformat": 4,
 "nbformat_minor": 4
}
