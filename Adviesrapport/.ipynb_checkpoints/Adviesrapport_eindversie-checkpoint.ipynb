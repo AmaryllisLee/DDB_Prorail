{
 "cells": [
  {
   "cell_type": "markdown",
   "metadata": {},
   "source": [
    "# Adviesrapport"
   ]
  },
  {
   "cell_type": "markdown",
   "metadata": {},
   "source": [
    "## Inhoudsopgave\n",
    "\n",
    "* 1. Business Understanding \n",
    "    * 1. Overzicht van Stakeholders en Doelstellingen \n",
    "    * 2. Beschrijving huidige situatie\n",
    "    * 3. Beschrijving gewenste situatie\n",
    "* 2. Data Understanding \n",
    "    * 1. Data Collection\n",
    "    * 2. Describe data \n",
    "    * 3. Explore data\n",
    "* 3. Data Preparation\n",
    "    * 1. Select Data\n",
    "    * 2. Clean Data\n",
    "    * 3. Construct Data\n",
    "    * 4. Integrate Data\n",
    "    * 5. Format Data\n",
    "    * 6. Dataset Description\n",
    "* 4. Modelling \n",
    "    * 1. Select Modelling techniques\n",
    "    * 2. Generate Test Design\n",
    "    * 3. Build Model \n",
    "    * 4. Asses Model \n",
    "* 5. Evaluate\n",
    "    * 1. Evaluate Results\n",
    "    * 2. Review Proces\n",
    "* 6. Dashboard \n",
    "    * 1. Ontwerp en functionaliteit \n",
    "    * 2. Eisen zien van de opdrachtgever \n",
    "    * 3. Werking van de dashboard\n",
    "* 7. Conclusie\n",
    "**Hebben we doelstellingen van ProRail opgelost?**\n",
    "    "
   ]
  },
  {
   "cell_type": "markdown",
   "metadata": {},
   "source": [
    "## Context"
   ]
  },
  {
   "cell_type": "markdown",
   "metadata": {},
   "source": [
    "### Stakeholders en Doelstellingen van het project."
   ]
  },
  {
   "cell_type": "markdown",
   "metadata": {},
   "source": [
    " <img src=\"stakeholder_requirements.png\" > "
   ]
  },
  {
   "cell_type": "markdown",
   "metadata": {},
   "source": [
    "### Huidige situatie\n",
    "<img src=\"Huidige_situatie.png\">\n",
    "<br>\n",
    "De huidige situatie ziet er als volgt uit. Het probleem wordt gemeld bij Prorail. Er wordt een initiële indicatie gegeven van hoe lang het naar verwachting gaat duren voordat het probleem is opgelost en dit wordt doorgegeven aan de treinplanners. De reizigers worden ingelicht op basis van deze informatie plus de tijd dat het kost om de dienstregeling te herstarten.\n",
    "Als de monteur op locatie is, de oorzaak gevonden heeft en tot slot de verwachte, vaak veel te pessimistische, reparatietijd heeft doorgegeven aan de treinplanners. Dan beginnen de voorbereidingen van de planners pas om de dienstregeling daadwerkelijk te herstarten. Het grootste knelpunt hier is de prognose van de aannemer want die is vaak te pessimistisch waardoor de reparatie vaak eerder klaar is dan waar de planners op gerekend hebben. Hierdoor blijft het treinverkeer voor een lange tijd onnodig stil liggen. Een verbeter punt is dus de prognose, deze moet transparant en betrouwbaar zijn. Daarom willen wij een voorspelling van de verwachte reparatietijd toevoegen. Prorail kan dan een voorspelling maken op basis van de prognose en onze engine.\n",
    "\n",
    "\n",
    "### Gewenste situatie\n",
    "<img src=\"Gewenste_situatie.png\">\n",
    "<br>\n",
    "De doelstelling die behaald moet worden om bij deze gewenste situatie te komen is het ontwikkelen van een engine die een accurate voorspelling weergeeft en makkelijk te gebruiken is. Op deze manier              kunnen de treinplanners werken met accurate informatie.\n",
    "De eerste niet-functionele eis is dat de voorspelling objectief moet zijn. Als tweede moet de betrouwbaarheid van de voorspelling berekent worden. De eerste functionele requirement is dat de prognose en de features ingevoerd moeten kunnen worden. Ten tweede is het belangrijk dat er zo min mogelijk clicks zijn. Overzichtelijkheid is erg belangrijk want er is stres tijdens een storing. Daarom is de laatste functionele requirement, houd het simpel.\n",
    "De gewenste situatie ziet er als volgt uit, het probleem wordt gemeld bij Prorail. Daarna wordt een initiële indicatie gegeven van hoe lang het naar verwachting gaat duren voordat het probleem is opgelost. Deze informatie wordt door gegeven aan de treinplanners. Zij lichten dan de reizigers in op basis van deze informatie en de tijd dat het kost om de dienstregeling te herstarten erbij opgeteld. Als de monteur op locatie is en de oorzaak gevonden heeft kan hij de prognose en extra informatie doorgeven aan Prorail. Tot nu toe (oorzaak code, oorzaak groep en prioriteit). Dit is waar onze ICT-oplossing aan te pas komt en het knelpunt wordt opgelost. Prorail bekijkt dan de prognose en de objectieve voorspelling die de dashboard weergeeft en maakt een gecombineerde voorspelling. De treinplanners krijgen dan een betere voorspelling waardoor ze beginnen met de voorbereidingen.\n",
    "\n"
   ]
  },
  {
   "cell_type": "code",
   "execution_count": null,
   "metadata": {},
   "outputs": [],
   "source": []
  }
 ],
 "metadata": {
  "kernelspec": {
   "display_name": "Python 3",
   "language": "python",
   "name": "python3"
  },
  "language_info": {
   "codemirror_mode": {
    "name": "ipython",
    "version": 3
   },
   "file_extension": ".py",
   "mimetype": "text/x-python",
   "name": "python",
   "nbconvert_exporter": "python",
   "pygments_lexer": "ipython3",
   "version": "3.7.3"
  }
 },
 "nbformat": 4,
 "nbformat_minor": 2
}
